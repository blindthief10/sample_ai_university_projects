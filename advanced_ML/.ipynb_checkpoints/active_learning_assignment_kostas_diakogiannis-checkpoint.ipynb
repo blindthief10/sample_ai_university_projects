{
 "cells": [
  {
   "cell_type": "code",
   "execution_count": 1,
   "metadata": {
    "scrolled": true
   },
   "outputs": [],
   "source": [
    "import numpy as np\n",
    "from sklearn.datasets import fetch_openml\n",
    "import matplotlib.pyplot as plt\n",
    "from sklearn.ensemble import RandomForestClassifier\n",
    "from sklearn.neighbors import KNeighborsClassifier\n",
    "import pandas as pd\n",
    "from modAL.models import ActiveLearner, Committee\n",
    "from modAL.uncertainty import uncertainty_sampling, classifier_uncertainty"
   ]
  },
  {
   "cell_type": "code",
   "execution_count": 25,
   "metadata": {
    "scrolled": true
   },
   "outputs": [],
   "source": [
    "# Fetch the dataset and create the first subsets, load data, this could take 1 min or so\n",
    "\n",
    "mnist = fetch_openml('mnist_784')\n",
    "\n",
    "X_raw = mnist['data']\n",
    "y_raw = mnist['target']"
   ]
  },
  {
   "cell_type": "code",
   "execution_count": 26,
   "metadata": {
    "scrolled": true
   },
   "outputs": [],
   "source": [
    "# We create scaled, and plain copies show we don't make changes to initial sets if we need to re-run this cell\n",
    "\n",
    "scaled_X = X_raw.copy() / 255\n",
    "scaled_X['target'] = y_raw\n",
    "\n",
    "# We need to create a different copy for plain dataframe, since later we will make alteration \"inplace\" and it would be good\n",
    "# to be able to re-run everything in \"emergency\" case\n",
    "plain_X = X_raw.copy()\n",
    "plain_X['target'] = y_raw"
   ]
  },
  {
   "cell_type": "code",
   "execution_count": 27,
   "metadata": {
    "scrolled": true
   },
   "outputs": [],
   "source": [
    "'''\n",
    "We will pick the first 500 samples, but because we have no idea if they pictures are sorted in some way, we shuffle randomly\n",
    "In order to preserve same random shuffle for both X and Y, we merge them temporarily, after we have collected our samples\n",
    "we will split them again\n",
    "'''\n",
    "\n",
    "def prepare_split_data(initial_df):\n",
    "    # select a random sample of the given dataframe of 500 samples\n",
    "    shuffled_df = initial_df.sample(n=500, random_state=101).reset_index(drop=True)\n",
    "    \n",
    "    # Now split to 15 labelled data and the rest will remain unlabelled\n",
    "    digits_train = shuffled_df[0:15]\n",
    "    digits_set = shuffled_df[15:]\n",
    "\n",
    "    '''\n",
    "    Now before splitting to X and Y's, from digits_set, labels have to be completely removed, when from digits_train, they will\n",
    "    be preserved but splitted\n",
    "    '''\n",
    "\n",
    "    # yes, there is a reason why both X and Y splits have to be of \"Dataframe object\" type, so they are later modAL compatible \n",
    "    Y_train = pd.DataFrame(data=digits_train['target'], columns=['target'])\n",
    "    X_train = digits_train.drop(columns='target')\n",
    "    Y_pool = pd.DataFrame(data = digits_set['target'], columns=['target'])\n",
    "    X_pool = digits_set.drop(columns='target')\n",
    "    \n",
    "    # return a tuple with all 4 combinations a la sklearn train_test_split\n",
    "    return (Y_train, X_train, Y_pool, X_pool)\n",
    "\n",
    "def perform_manual_queries(q_idx, q_instance):\n",
    "    '''\n",
    "    This function will run only if an oracle is required, as you will see  below, the user will have the option, by setting a\n",
    "    boolean parameter, if he wants to give labels manually, by observing the images and typing the input, or if this will\n",
    "    happen automatically. If the first case is true (manual oracle), this function is what creates the images, shows it to\n",
    "    the oracle and the oracle gives answers back, one by one.\n",
    "    It takes a series of dataframe indexes and an instance, which is the queried dataframe itself. Each row should be queried\n",
    "    '''\n",
    "    oracle_labels = []\n",
    "    \n",
    "    \n",
    "    # Loop through all indexes  \n",
    "    for qdx in q_idx:\n",
    "        # grasp the row of that index that should be queried\n",
    "        instance = q_instance.loc[qdx]\n",
    "        # transform and show it to the user\n",
    "        np_example = np.array(instance, dtype=\"float\")\n",
    "        pixels = np_example.reshape(28, 28)\n",
    "        plt.imshow(pixels, cmap=\"gray\")\n",
    "        plt.show()\n",
    "        \n",
    "        # ask oracle for the label, store it and return it\n",
    "        print('Oracle oracle, which number do you see? Provide an integer between 0 and 9')\n",
    "        oracles_input = input()       \n",
    "        oracle_labels.append(oracles_input)\n",
    "    \n",
    "    return oracle_labels\n",
    "    \n",
    "def activate_learning_pool(model, dataset, query_rounds, per_round_instances, manual, is_commitee=False):\n",
    "    '''\n",
    "    The main function, it accepts model estimator, the corresponding initial set, how many query rounds, how many images\n",
    "    per round, if an oracle will be asked to provide labels for each round and instance or not, and if its a single model\n",
    "    or a committee of models. The method we are using here is pooling based. You can play with parameters as long as the\n",
    "    query_rounds * per_round_instances does not surpass the length of the dataset. Then there would be an out of range index\n",
    "    error. We use uncertainty sampling as a query strategy.\n",
    "    '''\n",
    "    # split the defined dataframe into labelled train and unlabelled pool, Initially we will have only 15 labelled instances.\n",
    "    Y_train, X_train, Y_pool, X_pool = prepare_split_data(dataset)\n",
    "        \n",
    "    performance_history = []\n",
    "    learner = None\n",
    "    \n",
    "    # train the learner, either single or commitee based on the flag\n",
    "    \n",
    "    learner = ActiveLearner(\n",
    "        estimator=model, \n",
    "        query_strategy=uncertainty_sampling, \n",
    "        X_training=X_train, \n",
    "        y_training=np.ravel(Y_train)\n",
    "    )\n",
    "\n",
    "    # we have trained the learner once, let's see the initial score, we will count this as first iteration\n",
    "    initial_score = learner.score(X_pool, Y_pool)\n",
    "    # append a dictionary, with the number of iterations and the accuracy rounded to 3 decimals, we will plot this later\n",
    "    performance_history.append({'1': round(initial_score, 3)})\n",
    "    \n",
    "    for query in range(2, query_rounds + 2):\n",
    "        # reset indexes, so the indexes from next query will be definitely found in axis later, this has to be done now\n",
    "        X_pool.reset_index(drop=True, inplace=True)\n",
    "        Y_pool.reset_index(drop=True, inplace=True)\n",
    "        \n",
    "        # make the query, we will pick n instances each time\n",
    "        query_index, query_instance = learner.query(X_pool, n_instances=per_round_instances)\n",
    "        \n",
    "        # create the labels placeholder, either what the oracles says if manual mode, otherwise we take the dataset's labels\n",
    "        labels = perform_manual_queries(query_index, query_instance) if manual else Y_pool.iloc[query_index]\n",
    "        \n",
    "        # learner.teach accepts only dataframe objects as parameters and no Series, numpy arrays nor lists. So we prepare the\n",
    "        # data in such way, in order to be taught\n",
    "    \n",
    "        x_frame = pd.DataFrame(data=X_pool.iloc[query_index], columns=X_pool.columns)\n",
    "        y_frame = pd.DataFrame(data=labels, columns=Y_pool.columns)\n",
    "        \n",
    "        # teach the model with the provided instances and labels\n",
    "       \n",
    "        learner.teach(X=x_frame, y=np.ravel(y_frame))\n",
    "\n",
    "        # delete it from the pool for both x and y\n",
    "        X_pool.drop(index=query_index, axis=0, inplace=True)    \n",
    "        Y_pool.drop(index=query_index, axis=0, inplace=True)\n",
    "\n",
    "        # calculate and store accuracy score for this iteration\n",
    "        model_accuracy = learner.score(X_pool, Y_pool) \n",
    "        performance_history.append({str(query): round(model_accuracy, 3)})\n",
    "        print('The accuracy after {} query rounds is: {}'.format(query, round(model_accuracy, 3)))\n",
    "    \n",
    "    return performance_history\n",
    "    "
   ]
  },
  {
   "cell_type": "code",
   "execution_count": 28,
   "metadata": {
    "scrolled": true
   },
   "outputs": [],
   "source": [
    "# Create the models. We will a knn and a random forest for example and see how they perform\n",
    "\n",
    "# We use only 3 since he have only 15 samples initially\n",
    "knn_model = KNeighborsClassifier(n_neighbors=3)\n",
    "rfc_model = RandomForestClassifier(random_state=303, n_estimators=300, max_depth=8)"
   ]
  },
  {
   "cell_type": "code",
   "execution_count": 29,
   "metadata": {
    "scrolled": true
   },
   "outputs": [
    {
     "name": "stdout",
     "output_type": "stream",
     "text": [
      "The accuracy after 2 query rounds is: 0.484\n",
      "The accuracy after 3 query rounds is: 0.539\n",
      "The accuracy after 4 query rounds is: 0.603\n",
      "The accuracy after 5 query rounds is: 0.638\n",
      "The accuracy after 6 query rounds is: 0.667\n",
      "The accuracy after 7 query rounds is: 0.682\n",
      "The accuracy after 8 query rounds is: 0.699\n",
      "The accuracy after 9 query rounds is: 0.708\n",
      "The accuracy after 10 query rounds is: 0.731\n",
      "The accuracy after 11 query rounds is: 0.775\n",
      "The accuracy after 12 query rounds is: 0.753\n",
      "The accuracy after 13 query rounds is: 0.787\n",
      "The accuracy after 14 query rounds is: 0.816\n",
      "The accuracy after 15 query rounds is: 0.818\n",
      "The accuracy after 16 query rounds is: 0.83\n",
      "The accuracy after 17 query rounds is: 0.835\n",
      "The accuracy after 18 query rounds is: 0.857\n",
      "The accuracy after 19 query rounds is: 0.88\n",
      "The accuracy after 20 query rounds is: 0.865\n"
     ]
    }
   ],
   "source": [
    "# Let' see random forest with auto labelled active learning mode, we will go for 20 iterations and 8 instances per iteration\n",
    "# this will makes us have 170 labelled instances at the end and 330 unlabelled. Something like 1/3 will be labelled.\n",
    "\n",
    "# Note: we use 19 since first query round is out of the loop. It lies within the body's main function. Automated query and learn \n",
    "rfc_performance = activate_learning_pool(rfc_model, plain_X, 19, 8, False)"
   ]
  },
  {
   "cell_type": "code",
   "execution_count": 30,
   "metadata": {
    "scrolled": true
   },
   "outputs": [],
   "source": [
    "# Let's plot the results\n",
    "\n",
    "def plot_accuracy_learner(data):\n",
    "    # we use the data dictionary that is passed at the end of the pool learner function and plot a line chart\n",
    "    iterations = [list(obj.keys())[0] for obj in data]\n",
    "    scores = [list(obj.values())[0] for obj in data]\n",
    "    \n",
    "    plt.plot(iterations, scores,color='red', marker='o')\n",
    "    plt.xlabel('Query Rounds')\n",
    "    plt.ylabel('Score accuracy')\n",
    "    plt.ylim(0, 1)\n",
    "    plt.show()"
   ]
  },
  {
   "cell_type": "code",
   "execution_count": 31,
   "metadata": {
    "scrolled": true
   },
   "outputs": [
    {
     "data": {
      "image/png": "[encoded data removed]",
      "text/plain": [
       "<Figure size 432x288 with 1 Axes>"
      ]
     },
     "metadata": {
      "needs_background": "light"
     },
     "output_type": "display_data"
    }
   ],
   "source": [
    "plot_accuracy_learner(rfc_performance)"
   ]
  },
  {
   "cell_type": "markdown",
   "metadata": {},
   "source": [
    "### Notes\n",
    "\n",
    "That seem really good, during penaltimum iteration we got also close to 88%, taking under consideration that we have 10 classes \n",
    "and that only the one third was labelled, that seems really good.\n",
    "\n",
    "Let's do the same now, and get ourselves into an oracle's position"
   ]
  },
  {
   "cell_type": "code",
   "execution_count": 32,
   "metadata": {
    "scrolled": false
   },
   "outputs": [
    {
     "data": {
      "image/png": "[encoded data removed]",
      "text/plain": [
       "<Figure size 432x288 with 1 Axes>"
      ]
     },
     "metadata": {
      "needs_background": "light"
     },
     "output_type": "display_data"
    },
    {
     "name": "stdout",
     "output_type": "stream",
     "text": [
      "Oracle oracle, which number do you see? Provide an integer between 0 and 9\n",
      "0\n"
     ]
    },
    {
     "data": {
      "image/png": "[encoded data removed]",
      "text/plain": [
       "<Figure size 432x288 with 1 Axes>"
      ]
     },
     "metadata": {
      "needs_background": "light"
     },
     "output_type": "display_data"
    },
    {
     "name": "stdout",
     "output_type": "stream",
     "text": [
      "Oracle oracle, which number do you see? Provide an integer between 0 and 9\n",
      "8\n"
     ]
    },
    {
     "data": {
      "image/png": "[encoded data removed]",
      "text/plain": [
       "<Figure size 432x288 with 1 Axes>"
      ]
     },
     "metadata": {
      "needs_background": "light"
     },
     "output_type": "display_data"
    },
    {
     "name": "stdout",
     "output_type": "stream",
     "text": [
      "Oracle oracle, which number do you see? Provide an integer between 0 and 9\n",
      "8\n"
     ]
    },
    {
     "data": {
      "image/png": "[encoded data removed]",
      "text/plain": [
       "<Figure size 432x288 with 1 Axes>"
      ]
     },
     "metadata": {
      "needs_background": "light"
     },
     "output_type": "display_data"
    },
    {
     "name": "stdout",
     "output_type": "stream",
     "text": [
      "Oracle oracle, which number do you see? Provide an integer between 0 and 9\n",
      "8\n"
     ]
    },
    {
     "data": {
      "image/png": "[encoded data removed]",
      "text/plain": [
       "<Figure size 432x288 with 1 Axes>"
      ]
     },
     "metadata": {
      "needs_background": "light"
     },
     "output_type": "display_data"
    },
    {
     "name": "stdout",
     "output_type": "stream",
     "text": [
      "Oracle oracle, which number do you see? Provide an integer between 0 and 9\n",
      "5\n",
      "The accuracy after 2 query rounds is: 0.375\n"
     ]
    },
    {
     "data": {
      "image/png": "[encoded data removed]",
      "text/plain": [
       "<Figure size 432x288 with 1 Axes>"
      ]
     },
     "metadata": {
      "needs_background": "light"
     },
     "output_type": "display_data"
    },
    {
     "name": "stdout",
     "output_type": "stream",
     "text": [
      "Oracle oracle, which number do you see? Provide an integer between 0 and 9\n",
      "3\n"
     ]
    },
    {
     "data": {
      "image/png": "[encoded data removed]",
      "text/plain": [
       "<Figure size 432x288 with 1 Axes>"
      ]
     },
     "metadata": {
      "needs_background": "light"
     },
     "output_type": "display_data"
    },
    {
     "name": "stdout",
     "output_type": "stream",
     "text": [
      "Oracle oracle, which number do you see? Provide an integer between 0 and 9\n",
      "2\n"
     ]
    },
    {
     "data": {
      "image/png": "[encoded data removed]",
      "text/plain": [
       "<Figure size 432x288 with 1 Axes>"
      ]
     },
     "metadata": {
      "needs_background": "light"
     },
     "output_type": "display_data"
    },
    {
     "name": "stdout",
     "output_type": "stream",
     "text": [
      "Oracle oracle, which number do you see? Provide an integer between 0 and 9\n",
      "6\n"
     ]
    },
    {
     "data": {
      "image/png": "[encoded data removed]",
      "text/plain": [
       "<Figure size 432x288 with 1 Axes>"
      ]
     },
     "metadata": {
      "needs_background": "light"
     },
     "output_type": "display_data"
    },
    {
     "name": "stdout",
     "output_type": "stream",
     "text": [
      "Oracle oracle, which number do you see? Provide an integer between 0 and 9\n",
      "3\n"
     ]
    },
    {
     "data": {
      "image/png": "[encoded data removed]",
      "text/plain": [
       "<Figure size 432x288 with 1 Axes>"
      ]
     },
     "metadata": {
      "needs_background": "light"
     },
     "output_type": "display_data"
    },
    {
     "name": "stdout",
     "output_type": "stream",
     "text": [
      "Oracle oracle, which number do you see? Provide an integer between 0 and 9\n",
      "5\n",
      "The accuracy after 3 query rounds is: 0.421\n"
     ]
    },
    {
     "data": {
      "image/png": "[encoded data removed]",
      "text/plain": [
       "<Figure size 432x288 with 1 Axes>"
      ]
     },
     "metadata": {
      "needs_background": "light"
     },
     "output_type": "display_data"
    },
    {
     "name": "stdout",
     "output_type": "stream",
     "text": [
      "Oracle oracle, which number do you see? Provide an integer between 0 and 9\n",
      "3\n"
     ]
    },
    {
     "data": {
      "image/png": "[encoded data removed]",
      "text/plain": [
       "<Figure size 432x288 with 1 Axes>"
      ]
     },
     "metadata": {
      "needs_background": "light"
     },
     "output_type": "display_data"
    },
    {
     "name": "stdout",
     "output_type": "stream",
     "text": [
      "Oracle oracle, which number do you see? Provide an integer between 0 and 9\n",
      "8\n"
     ]
    },
    {
     "data": {
      "image/png": "[encoded data removed]",
      "text/plain": [
       "<Figure size 432x288 with 1 Axes>"
      ]
     },
     "metadata": {
      "needs_background": "light"
     },
     "output_type": "display_data"
    },
    {
     "name": "stdout",
     "output_type": "stream",
     "text": [
      "Oracle oracle, which number do you see? Provide an integer between 0 and 9\n",
      "9\n"
     ]
    },
    {
     "data": {
      "image/png": "[encoded data removed]",
      "text/plain": [
       "<Figure size 432x288 with 1 Axes>"
      ]
     },
     "metadata": {
      "needs_background": "light"
     },
     "output_type": "display_data"
    },
    {
     "name": "stdout",
     "output_type": "stream",
     "text": [
      "Oracle oracle, which number do you see? Provide an integer between 0 and 9\n",
      "1\n"
     ]
    },
    {
     "data": {
      "image/png": "[encoded data removed]",
      "text/plain": [
       "<Figure size 432x288 with 1 Axes>"
      ]
     },
     "metadata": {
      "needs_background": "light"
     },
     "output_type": "display_data"
    },
    {
     "name": "stdout",
     "output_type": "stream",
     "text": [
      "Oracle oracle, which number do you see? Provide an integer between 0 and 9\n",
      "6\n",
      "The accuracy after 4 query rounds is: 0.447\n"
     ]
    },
    {
     "data": {
      "image/png": "[encoded data removed]",
      "text/plain": [
       "<Figure size 432x288 with 1 Axes>"
      ]
     },
     "metadata": {
      "needs_background": "light"
     },
     "output_type": "display_data"
    },
    {
     "name": "stdout",
     "output_type": "stream",
     "text": [
      "Oracle oracle, which number do you see? Provide an integer between 0 and 9\n",
      "5\n"
     ]
    },
    {
     "data": {
      "image/png": "[encoded data removed]",
      "text/plain": [
       "<Figure size 432x288 with 1 Axes>"
      ]
     },
     "metadata": {
      "needs_background": "light"
     },
     "output_type": "display_data"
    },
    {
     "name": "stdout",
     "output_type": "stream",
     "text": [
      "Oracle oracle, which number do you see? Provide an integer between 0 and 9\n",
      "5\n"
     ]
    },
    {
     "data": {
      "image/png": "[encoded data removed]",
      "text/plain": [
       "<Figure size 432x288 with 1 Axes>"
      ]
     },
     "metadata": {
      "needs_background": "light"
     },
     "output_type": "display_data"
    },
    {
     "name": "stdout",
     "output_type": "stream",
     "text": [
      "Oracle oracle, which number do you see? Provide an integer between 0 and 9\n",
      "4\n"
     ]
    },
    {
     "data": {
      "image/png": "[encoded data removed]",
      "text/plain": [
       "<Figure size 432x288 with 1 Axes>"
      ]
     },
     "metadata": {
      "needs_background": "light"
     },
     "output_type": "display_data"
    },
    {
     "name": "stdout",
     "output_type": "stream",
     "text": [
      "Oracle oracle, which number do you see? Provide an integer between 0 and 9\n",
      "0\n"
     ]
    },
    {
     "data": {
      "image/png": "[encoded data removed]",
      "text/plain": [
       "<Figure size 432x288 with 1 Axes>"
      ]
     },
     "metadata": {
      "needs_background": "light"
     },
     "output_type": "display_data"
    },
    {
     "name": "stdout",
     "output_type": "stream",
     "text": [
      "Oracle oracle, which number do you see? Provide an integer between 0 and 9\n",
      "2\n",
      "The accuracy after 5 query rounds is: 0.48\n"
     ]
    },
    {
     "data": {
      "image/png": "[encoded data removed]",
      "text/plain": [
       "<Figure size 432x288 with 1 Axes>"
      ]
     },
     "metadata": {
      "needs_background": "light"
     },
     "output_type": "display_data"
    },
    {
     "name": "stdout",
     "output_type": "stream",
     "text": [
      "Oracle oracle, which number do you see? Provide an integer between 0 and 9\n",
      "3\n"
     ]
    },
    {
     "data": {
      "image/png": "[encoded data removed]",
      "text/plain": [
       "<Figure size 432x288 with 1 Axes>"
      ]
     },
     "metadata": {
      "needs_background": "light"
     },
     "output_type": "display_data"
    },
    {
     "name": "stdout",
     "output_type": "stream",
     "text": [
      "Oracle oracle, which number do you see? Provide an integer between 0 and 9\n",
      "5\n"
     ]
    },
    {
     "data": {
      "image/png": "[encoded data removed]",
      "text/plain": [
       "<Figure size 432x288 with 1 Axes>"
      ]
     },
     "metadata": {
      "needs_background": "light"
     },
     "output_type": "display_data"
    },
    {
     "name": "stdout",
     "output_type": "stream",
     "text": [
      "Oracle oracle, which number do you see? Provide an integer between 0 and 9\n",
      "4\n"
     ]
    },
    {
     "data": {
      "image/png": "[encoded data removed]",
      "text/plain": [
       "<Figure size 432x288 with 1 Axes>"
      ]
     },
     "metadata": {
      "needs_background": "light"
     },
     "output_type": "display_data"
    },
    {
     "name": "stdout",
     "output_type": "stream",
     "text": [
      "Oracle oracle, which number do you see? Provide an integer between 0 and 9\n",
      "6\n"
     ]
    },
    {
     "data": {
      "image/png": "[encoded data removed]",
      "text/plain": [
       "<Figure size 432x288 with 1 Axes>"
      ]
     },
     "metadata": {
      "needs_background": "light"
     },
     "output_type": "display_data"
    },
    {
     "name": "stdout",
     "output_type": "stream",
     "text": [
      "Oracle oracle, which number do you see? Provide an integer between 0 and 9\n",
      "1\n",
      "The accuracy after 6 query rounds is: 0.461\n"
     ]
    },
    {
     "data": {
      "image/png": "[encoded data removed]",
      "text/plain": [
       "<Figure size 432x288 with 1 Axes>"
      ]
     },
     "metadata": {
      "needs_background": "light"
     },
     "output_type": "display_data"
    },
    {
     "name": "stdout",
     "output_type": "stream",
     "text": [
      "Oracle oracle, which number do you see? Provide an integer between 0 and 9\n",
      "7\n"
     ]
    },
    {
     "data": {
      "image/png": "[encoded data removed]",
      "text/plain": [
       "<Figure size 432x288 with 1 Axes>"
      ]
     },
     "metadata": {
      "needs_background": "light"
     },
     "output_type": "display_data"
    },
    {
     "name": "stdout",
     "output_type": "stream",
     "text": [
      "Oracle oracle, which number do you see? Provide an integer between 0 and 9\n",
      "2\n"
     ]
    },
    {
     "data": {
      "image/png": "[encoded data removed]",
      "text/plain": [
       "<Figure size 432x288 with 1 Axes>"
      ]
     },
     "metadata": {
      "needs_background": "light"
     },
     "output_type": "display_data"
    },
    {
     "name": "stdout",
     "output_type": "stream",
     "text": [
      "Oracle oracle, which number do you see? Provide an integer between 0 and 9\n",
      "3\n"
     ]
    },
    {
     "data": {
      "image/png": "[encoded data removed]",
      "text/plain": [
       "<Figure size 432x288 with 1 Axes>"
      ]
     },
     "metadata": {
      "needs_background": "light"
     },
     "output_type": "display_data"
    },
    {
     "name": "stdout",
     "output_type": "stream",
     "text": [
      "Oracle oracle, which number do you see? Provide an integer between 0 and 9\n",
      "9\n"
     ]
    },
    {
     "data": {
      "image/png": "[encoded data removed]",
      "text/plain": [
       "<Figure size 432x288 with 1 Axes>"
      ]
     },
     "metadata": {
      "needs_background": "light"
     },
     "output_type": "display_data"
    },
    {
     "name": "stdout",
     "output_type": "stream",
     "text": [
      "Oracle oracle, which number do you see? Provide an integer between 0 and 9\n",
      "7\n",
      "The accuracy after 7 query rounds is: 0.549\n"
     ]
    }
   ],
   "source": [
    "# we will also test shortly (not so many rounds, but feel free to change this) knn with manual labelling mode by oracle\n",
    "\n",
    "# We have 5 rounds, and 5 images per round, feel free to change this if you get bored\n",
    "knn_manual = activate_learning_pool(knn_model, scaled_X, 6, 5, True)"
   ]
  },
  {
   "cell_type": "code",
   "execution_count": 33,
   "metadata": {},
   "outputs": [
    {
     "name": "stdout",
     "output_type": "stream",
     "text": [
      "[{'1': 0.318}, {'2': 0.375}, {'3': 0.421}, {'4': 0.447}, {'5': 0.48}, {'6': 0.461}, {'7': 0.549}]\n"
     ]
    },
    {
     "data": {
      "image/png": "[encoded data removed]",
      "text/plain": [
       "<Figure size 432x288 with 1 Axes>"
      ]
     },
     "metadata": {
      "needs_background": "light"
     },
     "output_type": "display_data"
    }
   ],
   "source": [
    "# Well done, don't forget we can always print the results and have a look at each iteration\n",
    "\n",
    "print(knn_manual)\n",
    "\n",
    "# or plot it\n",
    "\n",
    "plot_accuracy_learner(knn_manual)"
   ]
  },
  {
   "cell_type": "markdown",
   "metadata": {},
   "source": [
    "### Notes:\n",
    "\n",
    "Well not such a big improvement, but we also didn't let it run that much in order to see where this goes.\n",
    "If you have patience and run it manually for 20 rounds for around 8 images, and if the oracle can provide accurate results\n",
    "we should have approx. the same scores as before."
   ]
  },
  {
   "cell_type": "code",
   "execution_count": 34,
   "metadata": {},
   "outputs": [],
   "source": [
    "# in this cell we have commented out some attempts feel free to uncomment any of them and run themm or create your own!\n",
    "# feel free to import new classifiers and play with them\n",
    "\n",
    "# first_model = activate_learning_pool(rfc_model, plain_X, 19, 10, True)\n",
    "# second_model = activate_learning_pool(knn_model, scaled_X, 19, 10, True)\n",
    "# third_model = activate_learning_pool(rfc_model, plain_X, 25, 7, False)\n",
    "\n",
    "# Don't forget to print their accuracy boxes and to plot them, you have access to both of these things just by their variables"
   ]
  },
  {
   "cell_type": "markdown",
   "metadata": {},
   "source": [
    "## Stream based Sampling\n",
    "\n",
    "Now that we have explored and parameterized pooling based sample, so that we can adjust it into our needs, let's have a look at\n",
    "a different strategy. The **stream based sampling** strategy where instead of getting a query of multiple instances to ask for\n",
    "labelling, we will take select a random single sample from the unlabelled dataset, the model will try to predict it, and based on the level of uncertainty, it will choose either to ask the oracle or do nothing. The process run sequentially.\n",
    "\n",
    "We repeat this process until either one of the following occurences:\n",
    "\n",
    "1. We achieve some desired level of accuracy and we don't need anymore\n",
    "2. We have surpassed the query limit, for example we don't want to exceed 150 or 200 queries (queries are now single samples)\n",
    "3. We have repeateadly failed to find a sample of which the model ish highly uncertain. There is a specific uncertainty_threshold parameter which we can define, and if the model is more uncertain than that can ask the oracle, or get the label automatically based on the \"mode\" again. \n",
    "\n",
    "For now the threshold for repeated failed guesses, will be set to 1/5 of the remaining dataset of the pool. So for the beginning we will be very tolerant until we find an sample we are trully uncertain. As the samples are almost 500, we can continue checking for 100 repeated failed guesses. Then as the pool comes smaller and smaller, the tolerance also shrinks.\n",
    "\n",
    "Other than that, the process still resembles a lot the pool based sampling function we previously saw."
   ]
  },
  {
   "cell_type": "code",
   "execution_count": 35,
   "metadata": {
    "scrolled": true
   },
   "outputs": [],
   "source": [
    "def activate_learning_sample(model, dataset, manual, accuracy_threshold, uncertainty_threshold, queries_limit=150):\n",
    "    # first rows exactly like pooling based function        \n",
    "    Y_train, X_train, Y_pool, X_pool = prepare_split_data(dataset)\n",
    "    performance_history = []    \n",
    "    learner = ActiveLearner(estimator=model, query_strategy=uncertainty_sampling, X_training=X_train, y_training=np.ravel(Y_train))\n",
    "    initial_score = learner.score(X_pool, Y_pool)\n",
    "    performance_history.append({'1': round(initial_score, 3)})\n",
    "    \n",
    "    # We need to count the queries and the consecutive failed guesses to find an uncertain sample so we exit the loop in time\n",
    "    query_successes = 0\n",
    "    failed_guesses = 0\n",
    "    \n",
    "    # as long as we havn't surpassed query limit, and the accuracy of last iteration is no bigger than our desired accuracy\n",
    "    while query_successes <= queries_limit and list(performance_history[-1].values())[0] <= accuracy_threshold:\n",
    "        # select a random sample from pool and observe it\n",
    "        random_generated_idx = np.random.randint(low=1, high=X_pool.shape[0])\n",
    "        selected_sample = X_pool.iloc[random_generated_idx]\n",
    "        \n",
    "        # we check if the random sample surpasses our defined uncertainty threshold, function requires numpy array here\n",
    "        if classifier_uncertainty(learner, np.array(selected_sample).reshape(1, -1)) >= uncertainty_threshold:         \n",
    "            # we found a suitable query and follow the same process by teaching and removing the sample from further use\n",
    "            sample_to_df = pd.DataFrame(data = np.array(selected_sample).reshape(1, -1), index=[random_generated_idx], columns=X_pool.columns)\n",
    "            labels = perform_manual_queries([random_generated_idx], sample_to_df) if manual else list(Y_pool.iloc[random_generated_idx])\n",
    "  \n",
    "            x_frame = pd.DataFrame(data=np.array(selected_sample).reshape(1, -1), columns=X_pool.columns)\n",
    "            y_frame = pd.DataFrame(data=labels, columns=Y_pool.columns)\n",
    "            \n",
    "            learner.teach(X=x_frame, y=np.ravel(y_frame))\n",
    "        \n",
    "            X_pool.drop(index=random_generated_idx, axis=0, inplace=True)    \n",
    "            Y_pool.drop(index=random_generated_idx, axis=0, inplace=True)\n",
    "            \n",
    "            X_pool.reset_index(drop=True, inplace=True)\n",
    "            Y_pool.reset_index(drop=True, inplace=True)\n",
    "\n",
    "            model_accuracy = learner.score(X_pool, Y_pool) \n",
    "            performance_history.append({str(query_successes + 2): round(model_accuracy, 3)})\n",
    "            \n",
    "            # a succesful query occured, consecutive failed guesses must be set again to 0\n",
    "            failed_guesses = 0\n",
    "            query_successes += 1\n",
    "            print('Query_successes: {}'.format(query_successes))\n",
    "            print('current accuracy:{}'.format(list(performance_history[-1].values())[0]))\n",
    "            \n",
    "        else:\n",
    "            # discard the sample for now, find something more suitable, and more uncertain\n",
    "            failed_guesses += 1\n",
    "            print('failed_guesses: {}'.format(failed_guesses))\n",
    "            if failed_guesses > X_pool.shape[0] / 5:\n",
    "                break\n",
    "            continue\n",
    "    \n",
    "    return performance_history"
   ]
  },
  {
   "cell_type": "code",
   "execution_count": 36,
   "metadata": {
    "scrolled": false
   },
   "outputs": [
    {
     "name": "stdout",
     "output_type": "stream",
     "text": [
      "Query_successes: 1\n",
      "current accuracy:0.308\n",
      "Query_successes: 2\n",
      "current accuracy:0.306\n",
      "failed_guesses: 1\n",
      "Query_successes: 3\n",
      "current accuracy:0.328\n",
      "Query_successes: 4\n",
      "current accuracy:0.407\n",
      "failed_guesses: 1\n",
      "Query_successes: 5\n",
      "current accuracy:0.406\n",
      "Query_successes: 6\n",
      "current accuracy:0.441\n",
      "Query_successes: 7\n",
      "current accuracy:0.485\n",
      "failed_guesses: 1\n",
      "Query_successes: 8\n",
      "current accuracy:0.488\n",
      "failed_guesses: 1\n",
      "Query_successes: 9\n",
      "current accuracy:0.5\n",
      "Query_successes: 10\n",
      "current accuracy:0.497\n",
      "Query_successes: 11\n",
      "current accuracy:0.506\n",
      "failed_guesses: 1\n",
      "failed_guesses: 2\n",
      "Query_successes: 12\n",
      "current accuracy:0.505\n",
      "failed_guesses: 1\n",
      "Query_successes: 13\n",
      "current accuracy:0.5\n",
      "Query_successes: 14\n",
      "current accuracy:0.512\n",
      "Query_successes: 15\n",
      "current accuracy:0.498\n",
      "Query_successes: 16\n",
      "current accuracy:0.501\n",
      "failed_guesses: 1\n",
      "failed_guesses: 2\n",
      "failed_guesses: 3\n",
      "Query_successes: 17\n",
      "current accuracy:0.517\n",
      "Query_successes: 18\n",
      "current accuracy:0.535\n",
      "failed_guesses: 1\n",
      "failed_guesses: 2\n",
      "Query_successes: 19\n",
      "current accuracy:0.539\n",
      "Query_successes: 20\n",
      "current accuracy:0.581\n",
      "failed_guesses: 1\n",
      "failed_guesses: 2\n",
      "failed_guesses: 3\n",
      "failed_guesses: 4\n",
      "failed_guesses: 5\n",
      "failed_guesses: 6\n",
      "Query_successes: 21\n",
      "current accuracy:0.588\n",
      "Query_successes: 22\n",
      "current accuracy:0.594\n",
      "failed_guesses: 1\n",
      "Query_successes: 23\n",
      "current accuracy:0.589\n",
      "failed_guesses: 1\n",
      "failed_guesses: 2\n",
      "failed_guesses: 3\n",
      "failed_guesses: 4\n",
      "failed_guesses: 5\n",
      "failed_guesses: 6\n",
      "failed_guesses: 7\n",
      "failed_guesses: 8\n",
      "failed_guesses: 9\n",
      "failed_guesses: 10\n",
      "failed_guesses: 11\n",
      "failed_guesses: 12\n",
      "Query_successes: 24\n",
      "current accuracy:0.603\n",
      "failed_guesses: 1\n",
      "failed_guesses: 2\n",
      "failed_guesses: 3\n",
      "failed_guesses: 4\n",
      "Query_successes: 25\n",
      "current accuracy:0.617\n",
      "failed_guesses: 1\n",
      "failed_guesses: 2\n",
      "Query_successes: 26\n",
      "current accuracy:0.621\n",
      "failed_guesses: 1\n",
      "failed_guesses: 2\n",
      "failed_guesses: 3\n",
      "failed_guesses: 4\n",
      "failed_guesses: 5\n",
      "failed_guesses: 6\n",
      "failed_guesses: 7\n",
      "Query_successes: 27\n",
      "current accuracy:0.62\n",
      "failed_guesses: 1\n",
      "Query_successes: 28\n",
      "current accuracy:0.628\n",
      "failed_guesses: 1\n",
      "failed_guesses: 2\n",
      "failed_guesses: 3\n",
      "failed_guesses: 4\n",
      "failed_guesses: 5\n",
      "Query_successes: 29\n",
      "current accuracy:0.618\n",
      "failed_guesses: 1\n",
      "failed_guesses: 2\n",
      "failed_guesses: 3\n",
      "failed_guesses: 4\n",
      "failed_guesses: 5\n",
      "failed_guesses: 6\n",
      "failed_guesses: 7\n",
      "failed_guesses: 8\n",
      "failed_guesses: 9\n",
      "failed_guesses: 10\n",
      "failed_guesses: 11\n",
      "failed_guesses: 12\n",
      "failed_guesses: 13\n",
      "failed_guesses: 14\n",
      "failed_guesses: 15\n",
      "failed_guesses: 16\n",
      "Query_successes: 30\n",
      "current accuracy:0.633\n",
      "failed_guesses: 1\n",
      "failed_guesses: 2\n",
      "failed_guesses: 3\n",
      "Query_successes: 31\n",
      "current accuracy:0.634\n",
      "failed_guesses: 1\n",
      "failed_guesses: 2\n",
      "failed_guesses: 3\n",
      "failed_guesses: 4\n",
      "failed_guesses: 5\n",
      "failed_guesses: 6\n",
      "failed_guesses: 7\n",
      "Query_successes: 32\n",
      "current accuracy:0.642\n",
      "failed_guesses: 1\n",
      "failed_guesses: 2\n",
      "Query_successes: 33\n",
      "current accuracy:0.644\n",
      "failed_guesses: 1\n",
      "failed_guesses: 2\n",
      "Query_successes: 34\n",
      "current accuracy:0.645\n",
      "failed_guesses: 1\n",
      "failed_guesses: 2\n",
      "failed_guesses: 3\n",
      "failed_guesses: 4\n",
      "Query_successes: 35\n",
      "current accuracy:0.653\n",
      "failed_guesses: 1\n",
      "failed_guesses: 2\n",
      "Query_successes: 36\n",
      "current accuracy:0.657\n",
      "Query_successes: 37\n",
      "current accuracy:0.661\n",
      "failed_guesses: 1\n",
      "failed_guesses: 2\n",
      "failed_guesses: 3\n",
      "failed_guesses: 4\n",
      "failed_guesses: 5\n",
      "failed_guesses: 6\n",
      "failed_guesses: 7\n",
      "failed_guesses: 8\n",
      "failed_guesses: 9\n",
      "failed_guesses: 10\n",
      "failed_guesses: 11\n",
      "failed_guesses: 12\n",
      "failed_guesses: 13\n",
      "failed_guesses: 14\n",
      "failed_guesses: 15\n",
      "failed_guesses: 16\n",
      "failed_guesses: 17\n",
      "failed_guesses: 18\n",
      "failed_guesses: 19\n",
      "failed_guesses: 20\n",
      "failed_guesses: 21\n",
      "failed_guesses: 22\n",
      "failed_guesses: 23\n",
      "failed_guesses: 24\n",
      "failed_guesses: 25\n",
      "failed_guesses: 26\n",
      "Query_successes: 38\n",
      "current accuracy:0.66\n",
      "failed_guesses: 1\n",
      "failed_guesses: 2\n",
      "failed_guesses: 3\n",
      "failed_guesses: 4\n",
      "failed_guesses: 5\n",
      "Query_successes: 39\n",
      "current accuracy:0.666\n",
      "failed_guesses: 1\n",
      "failed_guesses: 2\n",
      "failed_guesses: 3\n",
      "failed_guesses: 4\n",
      "Query_successes: 40\n",
      "current accuracy:0.661\n",
      "failed_guesses: 1\n",
      "failed_guesses: 2\n",
      "Query_successes: 41\n",
      "current accuracy:0.664\n",
      "failed_guesses: 1\n",
      "failed_guesses: 2\n",
      "failed_guesses: 3\n",
      "failed_guesses: 4\n",
      "Query_successes: 42\n",
      "current accuracy:0.664\n",
      "failed_guesses: 1\n",
      "failed_guesses: 2\n",
      "failed_guesses: 3\n",
      "failed_guesses: 4\n",
      "Query_successes: 43\n",
      "current accuracy:0.656\n",
      "failed_guesses: 1\n",
      "failed_guesses: 2\n",
      "failed_guesses: 3\n",
      "failed_guesses: 4\n",
      "failed_guesses: 5\n",
      "Query_successes: 44\n",
      "current accuracy:0.653\n",
      "failed_guesses: 1\n",
      "failed_guesses: 2\n",
      "failed_guesses: 3\n",
      "failed_guesses: 4\n",
      "failed_guesses: 5\n",
      "failed_guesses: 6\n",
      "failed_guesses: 7\n",
      "failed_guesses: 8\n",
      "failed_guesses: 9\n",
      "failed_guesses: 10\n",
      "failed_guesses: 11\n",
      "failed_guesses: 12\n",
      "failed_guesses: 13\n",
      "failed_guesses: 14\n",
      "failed_guesses: 15\n",
      "failed_guesses: 16\n",
      "failed_guesses: 17\n",
      "Query_successes: 45\n",
      "current accuracy:0.655\n",
      "failed_guesses: 1\n",
      "Query_successes: 46\n",
      "current accuracy:0.656\n",
      "failed_guesses: 1\n",
      "failed_guesses: 2\n",
      "Query_successes: 47\n",
      "current accuracy:0.66\n",
      "failed_guesses: 1\n",
      "failed_guesses: 2\n",
      "Query_successes: 48\n",
      "current accuracy:0.666\n",
      "Query_successes: 49\n",
      "current accuracy:0.677\n",
      "Query_successes: 50\n",
      "current accuracy:0.678\n",
      "failed_guesses: 1\n",
      "failed_guesses: 2\n",
      "failed_guesses: 3\n",
      "failed_guesses: 4\n",
      "failed_guesses: 5\n",
      "failed_guesses: 6\n",
      "failed_guesses: 7\n",
      "failed_guesses: 8\n",
      "failed_guesses: 9\n",
      "failed_guesses: 10\n",
      "failed_guesses: 11\n",
      "failed_guesses: 12\n",
      "Query_successes: 51\n",
      "current accuracy:0.68\n",
      "failed_guesses: 1\n",
      "failed_guesses: 2\n",
      "failed_guesses: 3\n",
      "Query_successes: 52\n",
      "current accuracy:0.674\n",
      "failed_guesses: 1\n",
      "failed_guesses: 2\n",
      "failed_guesses: 3\n",
      "Query_successes: 53\n",
      "current accuracy:0.674\n",
      "failed_guesses: 1\n",
      "failed_guesses: 2\n",
      "failed_guesses: 3\n",
      "failed_guesses: 4\n",
      "failed_guesses: 5\n",
      "Query_successes: 54\n",
      "current accuracy:0.668\n",
      "failed_guesses: 1\n",
      "failed_guesses: 2\n",
      "failed_guesses: 3\n",
      "failed_guesses: 4\n",
      "failed_guesses: 5\n",
      "Query_successes: 55\n",
      "current accuracy:0.665\n",
      "failed_guesses: 1\n",
      "failed_guesses: 2\n",
      "failed_guesses: 3\n",
      "failed_guesses: 4\n",
      "failed_guesses: 5\n",
      "failed_guesses: 6\n",
      "failed_guesses: 7\n",
      "failed_guesses: 8\n",
      "Query_successes: 56\n",
      "current accuracy:0.667\n",
      "failed_guesses: 1\n",
      "failed_guesses: 2\n",
      "failed_guesses: 3\n",
      "failed_guesses: 4\n",
      "failed_guesses: 5\n",
      "Query_successes: 57\n",
      "current accuracy:0.671\n",
      "failed_guesses: 1\n",
      "failed_guesses: 2\n",
      "failed_guesses: 3\n",
      "failed_guesses: 4\n",
      "failed_guesses: 5\n",
      "failed_guesses: 6\n",
      "failed_guesses: 7\n",
      "failed_guesses: 8\n",
      "failed_guesses: 9\n",
      "failed_guesses: 10\n",
      "failed_guesses: 11\n",
      "failed_guesses: 12\n",
      "failed_guesses: 13\n",
      "failed_guesses: 14\n",
      "failed_guesses: 15\n",
      "failed_guesses: 16\n",
      "failed_guesses: 17\n",
      "Query_successes: 58\n",
      "current accuracy:0.67\n",
      "failed_guesses: 1\n",
      "Query_successes: 59\n",
      "current accuracy:0.664\n",
      "failed_guesses: 1\n",
      "failed_guesses: 2\n",
      "failed_guesses: 3\n",
      "failed_guesses: 4\n",
      "failed_guesses: 5\n",
      "failed_guesses: 6\n",
      "Query_successes: 60\n",
      "current accuracy:0.668\n",
      "failed_guesses: 1\n",
      "failed_guesses: 2\n",
      "failed_guesses: 3\n",
      "failed_guesses: 4\n",
      "failed_guesses: 5\n",
      "failed_guesses: 6\n",
      "Query_successes: 61\n",
      "current accuracy:0.672\n",
      "failed_guesses: 1\n",
      "failed_guesses: 2\n",
      "failed_guesses: 3\n",
      "failed_guesses: 4\n",
      "failed_guesses: 5\n",
      "failed_guesses: 6\n",
      "failed_guesses: 7\n",
      "failed_guesses: 8\n",
      "failed_guesses: 9\n",
      "failed_guesses: 10\n",
      "failed_guesses: 11\n",
      "Query_successes: 62\n",
      "current accuracy:0.676\n",
      "failed_guesses: 1\n",
      "Query_successes: 63\n",
      "current accuracy:0.678\n",
      "Query_successes: 64\n",
      "current accuracy:0.679\n",
      "failed_guesses: 1\n",
      "failed_guesses: 2\n",
      "Query_successes: 65\n",
      "current accuracy:0.686\n",
      "failed_guesses: 1\n",
      "failed_guesses: 2\n",
      "failed_guesses: 3\n",
      "failed_guesses: 4\n",
      "failed_guesses: 5\n",
      "failed_guesses: 6\n",
      "failed_guesses: 7\n",
      "Query_successes: 66\n",
      "current accuracy:0.69\n",
      "failed_guesses: 1\n",
      "failed_guesses: 2\n",
      "failed_guesses: 3\n",
      "failed_guesses: 4\n",
      "failed_guesses: 5\n",
      "failed_guesses: 6\n",
      "failed_guesses: 7\n",
      "failed_guesses: 8\n",
      "Query_successes: 67\n",
      "current accuracy:0.689\n",
      "failed_guesses: 1\n",
      "failed_guesses: 2\n",
      "failed_guesses: 3\n",
      "failed_guesses: 4\n",
      "Query_successes: 68\n",
      "current accuracy:0.7\n",
      "failed_guesses: 1\n",
      "Query_successes: 69\n",
      "current accuracy:0.697\n",
      "Query_successes: 70\n",
      "current accuracy:0.704\n",
      "failed_guesses: 1\n",
      "failed_guesses: 2\n",
      "failed_guesses: 3\n",
      "failed_guesses: 4\n",
      "failed_guesses: 5\n",
      "Query_successes: 71\n",
      "current accuracy:0.708\n",
      "failed_guesses: 1\n",
      "failed_guesses: 2\n",
      "failed_guesses: 3\n",
      "failed_guesses: 4\n",
      "failed_guesses: 5\n",
      "failed_guesses: 6\n",
      "failed_guesses: 7\n",
      "failed_guesses: 8\n",
      "failed_guesses: 9\n",
      "failed_guesses: 10\n",
      "failed_guesses: 11\n",
      "failed_guesses: 12\n",
      "Query_successes: 72\n",
      "current accuracy:0.714\n",
      "failed_guesses: 1\n",
      "failed_guesses: 2\n"
     ]
    },
    {
     "name": "stdout",
     "output_type": "stream",
     "text": [
      "Query_successes: 73\n",
      "current accuracy:0.721\n",
      "failed_guesses: 1\n",
      "failed_guesses: 2\n",
      "failed_guesses: 3\n",
      "failed_guesses: 4\n",
      "failed_guesses: 5\n",
      "failed_guesses: 6\n",
      "failed_guesses: 7\n",
      "failed_guesses: 8\n",
      "failed_guesses: 9\n",
      "failed_guesses: 10\n",
      "failed_guesses: 11\n",
      "failed_guesses: 12\n",
      "failed_guesses: 13\n",
      "failed_guesses: 14\n",
      "failed_guesses: 15\n",
      "failed_guesses: 16\n",
      "failed_guesses: 17\n",
      "failed_guesses: 18\n",
      "failed_guesses: 19\n",
      "failed_guesses: 20\n",
      "failed_guesses: 21\n",
      "failed_guesses: 22\n",
      "failed_guesses: 23\n",
      "Query_successes: 74\n",
      "current accuracy:0.723\n",
      "failed_guesses: 1\n",
      "failed_guesses: 2\n",
      "failed_guesses: 3\n",
      "failed_guesses: 4\n",
      "failed_guesses: 5\n",
      "failed_guesses: 6\n",
      "Query_successes: 75\n",
      "current accuracy:0.722\n",
      "failed_guesses: 1\n",
      "failed_guesses: 2\n",
      "Query_successes: 76\n",
      "current accuracy:0.724\n",
      "failed_guesses: 1\n",
      "failed_guesses: 2\n",
      "failed_guesses: 3\n",
      "failed_guesses: 4\n",
      "failed_guesses: 5\n",
      "failed_guesses: 6\n",
      "failed_guesses: 7\n",
      "failed_guesses: 8\n",
      "Query_successes: 77\n",
      "current accuracy:0.725\n",
      "failed_guesses: 1\n",
      "failed_guesses: 2\n",
      "failed_guesses: 3\n",
      "failed_guesses: 4\n",
      "failed_guesses: 5\n",
      "failed_guesses: 6\n",
      "Query_successes: 78\n",
      "current accuracy:0.73\n",
      "failed_guesses: 1\n",
      "Query_successes: 79\n",
      "current accuracy:0.729\n",
      "failed_guesses: 1\n",
      "failed_guesses: 2\n",
      "failed_guesses: 3\n",
      "failed_guesses: 4\n",
      "Query_successes: 80\n",
      "current accuracy:0.728\n",
      "failed_guesses: 1\n",
      "failed_guesses: 2\n",
      "failed_guesses: 3\n",
      "failed_guesses: 4\n",
      "failed_guesses: 5\n",
      "failed_guesses: 6\n",
      "failed_guesses: 7\n",
      "failed_guesses: 8\n",
      "failed_guesses: 9\n",
      "failed_guesses: 10\n",
      "failed_guesses: 11\n",
      "failed_guesses: 12\n",
      "failed_guesses: 13\n",
      "failed_guesses: 14\n",
      "failed_guesses: 15\n",
      "failed_guesses: 16\n",
      "failed_guesses: 17\n",
      "failed_guesses: 18\n",
      "failed_guesses: 19\n",
      "failed_guesses: 20\n",
      "failed_guesses: 21\n",
      "failed_guesses: 22\n",
      "failed_guesses: 23\n",
      "failed_guesses: 24\n",
      "Query_successes: 81\n",
      "current accuracy:0.725\n",
      "failed_guesses: 1\n",
      "failed_guesses: 2\n",
      "failed_guesses: 3\n",
      "failed_guesses: 4\n",
      "failed_guesses: 5\n",
      "failed_guesses: 6\n",
      "Query_successes: 82\n",
      "current accuracy:0.727\n",
      "failed_guesses: 1\n",
      "failed_guesses: 2\n",
      "failed_guesses: 3\n",
      "failed_guesses: 4\n",
      "failed_guesses: 5\n",
      "failed_guesses: 6\n",
      "failed_guesses: 7\n",
      "failed_guesses: 8\n",
      "failed_guesses: 9\n",
      "failed_guesses: 10\n",
      "Query_successes: 83\n",
      "current accuracy:0.726\n",
      "failed_guesses: 1\n",
      "failed_guesses: 2\n",
      "failed_guesses: 3\n",
      "failed_guesses: 4\n",
      "failed_guesses: 5\n",
      "failed_guesses: 6\n",
      "failed_guesses: 7\n",
      "Query_successes: 84\n",
      "current accuracy:0.721\n",
      "Query_successes: 85\n",
      "current accuracy:0.715\n",
      "failed_guesses: 1\n",
      "failed_guesses: 2\n",
      "failed_guesses: 3\n",
      "failed_guesses: 4\n",
      "failed_guesses: 5\n",
      "failed_guesses: 6\n",
      "failed_guesses: 7\n",
      "Query_successes: 86\n",
      "current accuracy:0.717\n",
      "failed_guesses: 1\n",
      "failed_guesses: 2\n",
      "failed_guesses: 3\n",
      "failed_guesses: 4\n",
      "failed_guesses: 5\n",
      "failed_guesses: 6\n",
      "failed_guesses: 7\n",
      "Query_successes: 87\n",
      "current accuracy:0.719\n",
      "Query_successes: 88\n",
      "current accuracy:0.72\n",
      "failed_guesses: 1\n",
      "failed_guesses: 2\n",
      "failed_guesses: 3\n",
      "Query_successes: 89\n",
      "current accuracy:0.72\n",
      "failed_guesses: 1\n",
      "failed_guesses: 2\n",
      "failed_guesses: 3\n",
      "failed_guesses: 4\n",
      "failed_guesses: 5\n",
      "failed_guesses: 6\n",
      "failed_guesses: 7\n",
      "failed_guesses: 8\n",
      "failed_guesses: 9\n",
      "failed_guesses: 10\n",
      "failed_guesses: 11\n",
      "failed_guesses: 12\n",
      "failed_guesses: 13\n",
      "failed_guesses: 14\n",
      "failed_guesses: 15\n",
      "failed_guesses: 16\n",
      "failed_guesses: 17\n",
      "failed_guesses: 18\n",
      "Query_successes: 90\n",
      "current accuracy:0.722\n",
      "failed_guesses: 1\n",
      "failed_guesses: 2\n",
      "failed_guesses: 3\n",
      "failed_guesses: 4\n",
      "failed_guesses: 5\n",
      "failed_guesses: 6\n",
      "failed_guesses: 7\n",
      "failed_guesses: 8\n",
      "failed_guesses: 9\n",
      "Query_successes: 91\n",
      "current accuracy:0.726\n",
      "failed_guesses: 1\n",
      "Query_successes: 92\n",
      "current accuracy:0.71\n",
      "failed_guesses: 1\n",
      "failed_guesses: 2\n",
      "failed_guesses: 3\n",
      "Query_successes: 93\n",
      "current accuracy:0.714\n",
      "failed_guesses: 1\n",
      "failed_guesses: 2\n",
      "failed_guesses: 3\n",
      "failed_guesses: 4\n",
      "failed_guesses: 5\n",
      "failed_guesses: 6\n",
      "failed_guesses: 7\n",
      "failed_guesses: 8\n",
      "failed_guesses: 9\n",
      "failed_guesses: 10\n",
      "Query_successes: 94\n",
      "current accuracy:0.716\n",
      "failed_guesses: 1\n",
      "failed_guesses: 2\n",
      "failed_guesses: 3\n",
      "failed_guesses: 4\n",
      "failed_guesses: 5\n",
      "failed_guesses: 6\n",
      "failed_guesses: 7\n",
      "failed_guesses: 8\n",
      "failed_guesses: 9\n",
      "failed_guesses: 10\n",
      "Query_successes: 95\n",
      "current accuracy:0.721\n",
      "Query_successes: 96\n",
      "current accuracy:0.725\n",
      "failed_guesses: 1\n",
      "failed_guesses: 2\n",
      "failed_guesses: 3\n",
      "failed_guesses: 4\n",
      "failed_guesses: 5\n",
      "failed_guesses: 6\n",
      "failed_guesses: 7\n",
      "failed_guesses: 8\n",
      "failed_guesses: 9\n",
      "failed_guesses: 10\n",
      "failed_guesses: 11\n",
      "failed_guesses: 12\n",
      "failed_guesses: 13\n",
      "failed_guesses: 14\n",
      "failed_guesses: 15\n",
      "failed_guesses: 16\n",
      "failed_guesses: 17\n",
      "failed_guesses: 18\n",
      "failed_guesses: 19\n",
      "Query_successes: 97\n",
      "current accuracy:0.727\n",
      "failed_guesses: 1\n",
      "failed_guesses: 2\n",
      "failed_guesses: 3\n",
      "failed_guesses: 4\n",
      "Query_successes: 98\n",
      "current accuracy:0.729\n",
      "failed_guesses: 1\n",
      "Query_successes: 99\n",
      "current accuracy:0.725\n",
      "failed_guesses: 1\n",
      "failed_guesses: 2\n",
      "failed_guesses: 3\n",
      "Query_successes: 100\n",
      "current accuracy:0.722\n",
      "Query_successes: 101\n",
      "current accuracy:0.719\n",
      "failed_guesses: 1\n",
      "failed_guesses: 2\n",
      "failed_guesses: 3\n",
      "failed_guesses: 4\n",
      "failed_guesses: 5\n",
      "failed_guesses: 6\n",
      "failed_guesses: 7\n",
      "Query_successes: 102\n",
      "current accuracy:0.715\n",
      "failed_guesses: 1\n",
      "failed_guesses: 2\n",
      "failed_guesses: 3\n",
      "failed_guesses: 4\n",
      "failed_guesses: 5\n",
      "failed_guesses: 6\n",
      "failed_guesses: 7\n",
      "failed_guesses: 8\n",
      "Query_successes: 103\n",
      "current accuracy:0.715\n",
      "failed_guesses: 1\n",
      "failed_guesses: 2\n",
      "failed_guesses: 3\n",
      "failed_guesses: 4\n",
      "failed_guesses: 5\n",
      "failed_guesses: 6\n",
      "failed_guesses: 7\n",
      "failed_guesses: 8\n",
      "failed_guesses: 9\n",
      "failed_guesses: 10\n",
      "failed_guesses: 11\n",
      "failed_guesses: 12\n",
      "failed_guesses: 13\n",
      "Query_successes: 104\n",
      "current accuracy:0.717\n",
      "failed_guesses: 1\n",
      "failed_guesses: 2\n",
      "Query_successes: 105\n",
      "current accuracy:0.724\n",
      "Query_successes: 106\n",
      "current accuracy:0.723\n",
      "failed_guesses: 1\n",
      "failed_guesses: 2\n",
      "Query_successes: 107\n",
      "current accuracy:0.722\n",
      "failed_guesses: 1\n",
      "failed_guesses: 2\n",
      "failed_guesses: 3\n",
      "failed_guesses: 4\n",
      "failed_guesses: 5\n",
      "failed_guesses: 6\n",
      "failed_guesses: 7\n",
      "failed_guesses: 8\n",
      "failed_guesses: 9\n",
      "failed_guesses: 10\n",
      "failed_guesses: 11\n",
      "failed_guesses: 12\n",
      "failed_guesses: 13\n",
      "failed_guesses: 14\n",
      "failed_guesses: 15\n",
      "failed_guesses: 16\n",
      "failed_guesses: 17\n",
      "failed_guesses: 18\n",
      "failed_guesses: 19\n",
      "failed_guesses: 20\n",
      "failed_guesses: 21\n",
      "failed_guesses: 22\n",
      "failed_guesses: 23\n",
      "failed_guesses: 24\n",
      "failed_guesses: 25\n",
      "failed_guesses: 26\n",
      "failed_guesses: 27\n",
      "failed_guesses: 28\n",
      "failed_guesses: 29\n",
      "failed_guesses: 30\n",
      "failed_guesses: 31\n",
      "failed_guesses: 32\n",
      "failed_guesses: 33\n",
      "failed_guesses: 34\n",
      "failed_guesses: 35\n",
      "failed_guesses: 36\n",
      "Query_successes: 108\n",
      "current accuracy:0.727\n",
      "failed_guesses: 1\n",
      "failed_guesses: 2\n",
      "failed_guesses: 3\n",
      "failed_guesses: 4\n",
      "failed_guesses: 5\n",
      "failed_guesses: 6\n",
      "Query_successes: 109\n",
      "current accuracy:0.726\n",
      "failed_guesses: 1\n",
      "failed_guesses: 2\n",
      "failed_guesses: 3\n",
      "failed_guesses: 4\n",
      "failed_guesses: 5\n",
      "failed_guesses: 6\n",
      "Query_successes: 110\n",
      "current accuracy:0.728\n",
      "failed_guesses: 1\n",
      "failed_guesses: 2\n",
      "failed_guesses: 3\n",
      "failed_guesses: 4\n",
      "failed_guesses: 5\n",
      "failed_guesses: 6\n",
      "failed_guesses: 7\n",
      "failed_guesses: 8\n",
      "failed_guesses: 9\n",
      "failed_guesses: 10\n",
      "failed_guesses: 11\n",
      "failed_guesses: 12\n",
      "failed_guesses: 13\n",
      "failed_guesses: 14\n",
      "failed_guesses: 15\n",
      "failed_guesses: 16\n",
      "failed_guesses: 17\n",
      "failed_guesses: 18\n",
      "failed_guesses: 19\n",
      "failed_guesses: 20\n",
      "failed_guesses: 21\n",
      "failed_guesses: 22\n",
      "failed_guesses: 23\n",
      "failed_guesses: 24\n",
      "Query_successes: 111\n",
      "current accuracy:0.73\n",
      "failed_guesses: 1\n",
      "failed_guesses: 2\n",
      "failed_guesses: 3\n",
      "failed_guesses: 4\n",
      "failed_guesses: 5\n",
      "failed_guesses: 6\n",
      "failed_guesses: 7\n",
      "failed_guesses: 8\n",
      "failed_guesses: 9\n",
      "failed_guesses: 10\n",
      "failed_guesses: 11\n",
      "failed_guesses: 12\n",
      "Query_successes: 112\n",
      "current accuracy:0.745\n",
      "failed_guesses: 1\n",
      "failed_guesses: 2\n",
      "failed_guesses: 3\n",
      "failed_guesses: 4\n",
      "failed_guesses: 5\n",
      "failed_guesses: 6\n",
      "failed_guesses: 7\n",
      "failed_guesses: 8\n",
      "failed_guesses: 9\n",
      "failed_guesses: 10\n",
      "failed_guesses: 11\n",
      "failed_guesses: 12\n",
      "failed_guesses: 13\n",
      "failed_guesses: 14\n",
      "failed_guesses: 15\n",
      "failed_guesses: 16\n",
      "failed_guesses: 17\n",
      "failed_guesses: 18\n",
      "failed_guesses: 19\n",
      "failed_guesses: 20\n",
      "failed_guesses: 21\n",
      "failed_guesses: 22\n",
      "failed_guesses: 23\n",
      "failed_guesses: 24\n",
      "failed_guesses: 25\n",
      "failed_guesses: 26\n",
      "failed_guesses: 27\n",
      "failed_guesses: 28\n",
      "failed_guesses: 29\n",
      "failed_guesses: 30\n",
      "failed_guesses: 31\n",
      "failed_guesses: 32\n",
      "failed_guesses: 33\n",
      "failed_guesses: 34\n",
      "failed_guesses: 35\n",
      "failed_guesses: 36\n",
      "failed_guesses: 37\n",
      "failed_guesses: 38\n",
      "failed_guesses: 39\n",
      "failed_guesses: 40\n",
      "failed_guesses: 41\n",
      "failed_guesses: 42\n",
      "failed_guesses: 43\n",
      "failed_guesses: 44\n",
      "failed_guesses: 45\n",
      "failed_guesses: 46\n"
     ]
    },
    {
     "name": "stdout",
     "output_type": "stream",
     "text": [
      "Query_successes: 113\n",
      "current accuracy:0.745\n",
      "failed_guesses: 1\n",
      "failed_guesses: 2\n",
      "failed_guesses: 3\n",
      "failed_guesses: 4\n",
      "failed_guesses: 5\n",
      "failed_guesses: 6\n",
      "failed_guesses: 7\n",
      "failed_guesses: 8\n",
      "failed_guesses: 9\n",
      "failed_guesses: 10\n",
      "failed_guesses: 11\n",
      "failed_guesses: 12\n",
      "failed_guesses: 13\n",
      "failed_guesses: 14\n",
      "failed_guesses: 15\n",
      "failed_guesses: 16\n",
      "failed_guesses: 17\n",
      "failed_guesses: 18\n",
      "failed_guesses: 19\n",
      "failed_guesses: 20\n",
      "failed_guesses: 21\n",
      "failed_guesses: 22\n",
      "failed_guesses: 23\n",
      "Query_successes: 114\n",
      "current accuracy:0.747\n",
      "failed_guesses: 1\n",
      "failed_guesses: 2\n",
      "failed_guesses: 3\n",
      "failed_guesses: 4\n",
      "failed_guesses: 5\n",
      "failed_guesses: 6\n",
      "failed_guesses: 7\n",
      "Query_successes: 115\n",
      "current accuracy:0.746\n",
      "failed_guesses: 1\n",
      "failed_guesses: 2\n",
      "failed_guesses: 3\n",
      "failed_guesses: 4\n",
      "failed_guesses: 5\n",
      "failed_guesses: 6\n",
      "failed_guesses: 7\n",
      "failed_guesses: 8\n",
      "failed_guesses: 9\n",
      "failed_guesses: 10\n",
      "failed_guesses: 11\n",
      "failed_guesses: 12\n",
      "failed_guesses: 13\n",
      "failed_guesses: 14\n",
      "failed_guesses: 15\n",
      "failed_guesses: 16\n",
      "failed_guesses: 17\n",
      "Query_successes: 116\n",
      "current accuracy:0.745\n",
      "failed_guesses: 1\n",
      "failed_guesses: 2\n",
      "failed_guesses: 3\n",
      "failed_guesses: 4\n",
      "failed_guesses: 5\n",
      "failed_guesses: 6\n",
      "failed_guesses: 7\n",
      "failed_guesses: 8\n",
      "failed_guesses: 9\n",
      "failed_guesses: 10\n",
      "failed_guesses: 11\n",
      "failed_guesses: 12\n",
      "failed_guesses: 13\n",
      "failed_guesses: 14\n",
      "failed_guesses: 15\n",
      "failed_guesses: 16\n",
      "failed_guesses: 17\n",
      "failed_guesses: 18\n",
      "failed_guesses: 19\n",
      "failed_guesses: 20\n",
      "failed_guesses: 21\n",
      "failed_guesses: 22\n",
      "failed_guesses: 23\n",
      "failed_guesses: 24\n",
      "failed_guesses: 25\n",
      "failed_guesses: 26\n",
      "failed_guesses: 27\n",
      "failed_guesses: 28\n",
      "failed_guesses: 29\n",
      "failed_guesses: 30\n",
      "failed_guesses: 31\n",
      "failed_guesses: 32\n",
      "failed_guesses: 33\n",
      "failed_guesses: 34\n",
      "failed_guesses: 35\n",
      "failed_guesses: 36\n",
      "failed_guesses: 37\n",
      "failed_guesses: 38\n",
      "failed_guesses: 39\n",
      "failed_guesses: 40\n",
      "failed_guesses: 41\n",
      "failed_guesses: 42\n",
      "failed_guesses: 43\n",
      "failed_guesses: 44\n",
      "failed_guesses: 45\n",
      "failed_guesses: 46\n",
      "failed_guesses: 47\n",
      "failed_guesses: 48\n",
      "failed_guesses: 49\n",
      "failed_guesses: 50\n",
      "failed_guesses: 51\n",
      "failed_guesses: 52\n",
      "failed_guesses: 53\n",
      "failed_guesses: 54\n",
      "failed_guesses: 55\n",
      "failed_guesses: 56\n",
      "failed_guesses: 57\n",
      "failed_guesses: 58\n",
      "failed_guesses: 59\n",
      "failed_guesses: 60\n",
      "failed_guesses: 61\n",
      "failed_guesses: 62\n",
      "failed_guesses: 63\n",
      "failed_guesses: 64\n",
      "failed_guesses: 65\n",
      "Query_successes: 117\n",
      "current accuracy:0.75\n",
      "Query_successes: 118\n",
      "current accuracy:0.752\n",
      "failed_guesses: 1\n",
      "failed_guesses: 2\n",
      "failed_guesses: 3\n",
      "failed_guesses: 4\n",
      "failed_guesses: 5\n",
      "failed_guesses: 6\n",
      "failed_guesses: 7\n",
      "failed_guesses: 8\n",
      "failed_guesses: 9\n",
      "failed_guesses: 10\n",
      "failed_guesses: 11\n",
      "failed_guesses: 12\n",
      "failed_guesses: 13\n",
      "failed_guesses: 14\n",
      "failed_guesses: 15\n",
      "failed_guesses: 16\n",
      "failed_guesses: 17\n",
      "failed_guesses: 18\n",
      "failed_guesses: 19\n",
      "failed_guesses: 20\n",
      "failed_guesses: 21\n",
      "failed_guesses: 22\n",
      "failed_guesses: 23\n",
      "failed_guesses: 24\n",
      "failed_guesses: 25\n",
      "failed_guesses: 26\n",
      "failed_guesses: 27\n",
      "failed_guesses: 28\n",
      "failed_guesses: 29\n",
      "failed_guesses: 30\n",
      "failed_guesses: 31\n",
      "Query_successes: 119\n",
      "current accuracy:0.754\n",
      "failed_guesses: 1\n",
      "failed_guesses: 2\n",
      "failed_guesses: 3\n",
      "failed_guesses: 4\n",
      "failed_guesses: 5\n",
      "failed_guesses: 6\n",
      "failed_guesses: 7\n",
      "failed_guesses: 8\n",
      "failed_guesses: 9\n",
      "Query_successes: 120\n",
      "current accuracy:0.759\n",
      "failed_guesses: 1\n",
      "failed_guesses: 2\n",
      "failed_guesses: 3\n",
      "Query_successes: 121\n",
      "current accuracy:0.761\n",
      "failed_guesses: 1\n",
      "failed_guesses: 2\n",
      "failed_guesses: 3\n",
      "failed_guesses: 4\n",
      "failed_guesses: 5\n",
      "failed_guesses: 6\n",
      "failed_guesses: 7\n",
      "failed_guesses: 8\n",
      "failed_guesses: 9\n",
      "failed_guesses: 10\n",
      "Query_successes: 122\n",
      "current accuracy:0.763\n",
      "failed_guesses: 1\n",
      "failed_guesses: 2\n",
      "failed_guesses: 3\n",
      "failed_guesses: 4\n",
      "failed_guesses: 5\n",
      "failed_guesses: 6\n",
      "failed_guesses: 7\n",
      "failed_guesses: 8\n",
      "failed_guesses: 9\n",
      "failed_guesses: 10\n",
      "failed_guesses: 11\n",
      "failed_guesses: 12\n",
      "failed_guesses: 13\n",
      "failed_guesses: 14\n",
      "Query_successes: 123\n",
      "current accuracy:0.757\n",
      "failed_guesses: 1\n",
      "failed_guesses: 2\n",
      "failed_guesses: 3\n",
      "failed_guesses: 4\n",
      "failed_guesses: 5\n",
      "failed_guesses: 6\n",
      "failed_guesses: 7\n",
      "Query_successes: 124\n",
      "current accuracy:0.762\n",
      "failed_guesses: 1\n",
      "failed_guesses: 2\n",
      "failed_guesses: 3\n",
      "failed_guesses: 4\n",
      "failed_guesses: 5\n",
      "failed_guesses: 6\n",
      "failed_guesses: 7\n",
      "failed_guesses: 8\n",
      "failed_guesses: 9\n",
      "failed_guesses: 10\n",
      "failed_guesses: 11\n",
      "failed_guesses: 12\n",
      "failed_guesses: 13\n",
      "failed_guesses: 14\n",
      "Query_successes: 125\n",
      "current accuracy:0.767\n",
      "failed_guesses: 1\n",
      "failed_guesses: 2\n",
      "failed_guesses: 3\n",
      "failed_guesses: 4\n",
      "failed_guesses: 5\n",
      "failed_guesses: 6\n",
      "failed_guesses: 7\n",
      "failed_guesses: 8\n",
      "failed_guesses: 9\n",
      "failed_guesses: 10\n",
      "failed_guesses: 11\n",
      "failed_guesses: 12\n",
      "failed_guesses: 13\n",
      "failed_guesses: 14\n",
      "failed_guesses: 15\n",
      "failed_guesses: 16\n",
      "failed_guesses: 17\n",
      "failed_guesses: 18\n",
      "failed_guesses: 19\n",
      "failed_guesses: 20\n",
      "failed_guesses: 21\n",
      "Query_successes: 126\n",
      "current accuracy:0.769\n",
      "failed_guesses: 1\n",
      "failed_guesses: 2\n",
      "failed_guesses: 3\n",
      "failed_guesses: 4\n",
      "failed_guesses: 5\n",
      "failed_guesses: 6\n",
      "failed_guesses: 7\n",
      "failed_guesses: 8\n",
      "failed_guesses: 9\n",
      "failed_guesses: 10\n",
      "failed_guesses: 11\n",
      "failed_guesses: 12\n",
      "Query_successes: 127\n",
      "current accuracy:0.771\n",
      "failed_guesses: 1\n",
      "failed_guesses: 2\n",
      "failed_guesses: 3\n",
      "failed_guesses: 4\n",
      "failed_guesses: 5\n",
      "failed_guesses: 6\n",
      "failed_guesses: 7\n",
      "failed_guesses: 8\n",
      "failed_guesses: 9\n",
      "failed_guesses: 10\n",
      "failed_guesses: 11\n",
      "failed_guesses: 12\n",
      "failed_guesses: 13\n",
      "failed_guesses: 14\n",
      "failed_guesses: 15\n",
      "failed_guesses: 16\n",
      "failed_guesses: 17\n",
      "failed_guesses: 18\n",
      "failed_guesses: 19\n",
      "failed_guesses: 20\n",
      "failed_guesses: 21\n",
      "failed_guesses: 22\n",
      "failed_guesses: 23\n",
      "failed_guesses: 24\n",
      "failed_guesses: 25\n",
      "Query_successes: 128\n",
      "current accuracy:0.77\n",
      "failed_guesses: 1\n",
      "failed_guesses: 2\n",
      "failed_guesses: 3\n",
      "failed_guesses: 4\n",
      "failed_guesses: 5\n",
      "failed_guesses: 6\n",
      "failed_guesses: 7\n",
      "failed_guesses: 8\n",
      "failed_guesses: 9\n",
      "failed_guesses: 10\n",
      "failed_guesses: 11\n",
      "Query_successes: 129\n",
      "current accuracy:0.778\n",
      "failed_guesses: 1\n",
      "failed_guesses: 2\n",
      "failed_guesses: 3\n",
      "failed_guesses: 4\n",
      "failed_guesses: 5\n",
      "failed_guesses: 6\n",
      "failed_guesses: 7\n",
      "failed_guesses: 8\n",
      "failed_guesses: 9\n",
      "failed_guesses: 10\n",
      "failed_guesses: 11\n",
      "failed_guesses: 12\n",
      "failed_guesses: 13\n",
      "failed_guesses: 14\n",
      "failed_guesses: 15\n",
      "failed_guesses: 16\n",
      "Query_successes: 130\n",
      "current accuracy:0.78\n",
      "failed_guesses: 1\n",
      "failed_guesses: 2\n",
      "failed_guesses: 3\n",
      "failed_guesses: 4\n",
      "failed_guesses: 5\n",
      "failed_guesses: 6\n",
      "failed_guesses: 7\n",
      "failed_guesses: 8\n",
      "failed_guesses: 9\n",
      "failed_guesses: 10\n",
      "failed_guesses: 11\n",
      "failed_guesses: 12\n",
      "failed_guesses: 13\n",
      "failed_guesses: 14\n",
      "failed_guesses: 15\n",
      "failed_guesses: 16\n",
      "failed_guesses: 17\n",
      "failed_guesses: 18\n",
      "failed_guesses: 19\n",
      "failed_guesses: 20\n",
      "failed_guesses: 21\n",
      "failed_guesses: 22\n",
      "failed_guesses: 23\n",
      "failed_guesses: 24\n",
      "failed_guesses: 25\n",
      "failed_guesses: 26\n",
      "failed_guesses: 27\n",
      "failed_guesses: 28\n",
      "failed_guesses: 29\n",
      "failed_guesses: 30\n",
      "failed_guesses: 31\n",
      "failed_guesses: 32\n",
      "failed_guesses: 33\n",
      "failed_guesses: 34\n",
      "failed_guesses: 35\n",
      "failed_guesses: 36\n",
      "failed_guesses: 37\n",
      "failed_guesses: 38\n",
      "failed_guesses: 39\n",
      "failed_guesses: 40\n",
      "failed_guesses: 41\n",
      "failed_guesses: 42\n",
      "failed_guesses: 43\n",
      "failed_guesses: 44\n",
      "failed_guesses: 45\n",
      "failed_guesses: 46\n",
      "Query_successes: 131\n",
      "current accuracy:0.791\n",
      "failed_guesses: 1\n",
      "failed_guesses: 2\n",
      "failed_guesses: 3\n",
      "failed_guesses: 4\n",
      "failed_guesses: 5\n",
      "failed_guesses: 6\n",
      "failed_guesses: 7\n",
      "failed_guesses: 8\n",
      "Query_successes: 132\n",
      "current accuracy:0.793\n",
      "failed_guesses: 1\n",
      "failed_guesses: 2\n",
      "failed_guesses: 3\n",
      "failed_guesses: 4\n",
      "failed_guesses: 5\n",
      "failed_guesses: 6\n",
      "failed_guesses: 7\n",
      "Query_successes: 133\n",
      "current accuracy:0.798\n",
      "failed_guesses: 1\n",
      "failed_guesses: 2\n",
      "failed_guesses: 3\n",
      "failed_guesses: 4\n",
      "failed_guesses: 5\n",
      "failed_guesses: 6\n",
      "failed_guesses: 7\n",
      "failed_guesses: 8\n",
      "failed_guesses: 9\n",
      "failed_guesses: 10\n",
      "failed_guesses: 11\n",
      "failed_guesses: 12\n",
      "failed_guesses: 13\n",
      "failed_guesses: 14\n",
      "failed_guesses: 15\n",
      "failed_guesses: 16\n",
      "failed_guesses: 17\n",
      "failed_guesses: 18\n",
      "failed_guesses: 19\n",
      "failed_guesses: 20\n",
      "failed_guesses: 21\n",
      "failed_guesses: 22\n",
      "failed_guesses: 23\n",
      "failed_guesses: 24\n",
      "failed_guesses: 25\n",
      "failed_guesses: 26\n",
      "failed_guesses: 27\n",
      "failed_guesses: 28\n",
      "failed_guesses: 29\n",
      "failed_guesses: 30\n",
      "failed_guesses: 31\n",
      "failed_guesses: 32\n",
      "failed_guesses: 33\n",
      "failed_guesses: 34\n",
      "failed_guesses: 35\n",
      "failed_guesses: 36\n",
      "failed_guesses: 37\n",
      "failed_guesses: 38\n",
      "failed_guesses: 39\n",
      "failed_guesses: 40\n",
      "failed_guesses: 41\n",
      "failed_guesses: 42\n",
      "failed_guesses: 43\n",
      "failed_guesses: 44\n",
      "failed_guesses: 45\n",
      "failed_guesses: 46\n",
      "failed_guesses: 47\n",
      "failed_guesses: 48\n",
      "failed_guesses: 49\n",
      "failed_guesses: 50\n",
      "failed_guesses: 51\n",
      "failed_guesses: 52\n"
     ]
    },
    {
     "name": "stdout",
     "output_type": "stream",
     "text": [
      "failed_guesses: 53\n",
      "failed_guesses: 54\n",
      "failed_guesses: 55\n",
      "failed_guesses: 56\n",
      "failed_guesses: 57\n",
      "failed_guesses: 58\n",
      "failed_guesses: 59\n",
      "failed_guesses: 60\n",
      "failed_guesses: 61\n",
      "failed_guesses: 62\n",
      "failed_guesses: 63\n",
      "Query_successes: 134\n",
      "current accuracy:0.801\n",
      "failed_guesses: 1\n",
      "failed_guesses: 2\n",
      "failed_guesses: 3\n",
      "failed_guesses: 4\n",
      "failed_guesses: 5\n",
      "failed_guesses: 6\n",
      "failed_guesses: 7\n",
      "failed_guesses: 8\n",
      "failed_guesses: 9\n",
      "failed_guesses: 10\n",
      "failed_guesses: 11\n",
      "failed_guesses: 12\n",
      "failed_guesses: 13\n",
      "failed_guesses: 14\n",
      "failed_guesses: 15\n",
      "failed_guesses: 16\n",
      "failed_guesses: 17\n",
      "failed_guesses: 18\n",
      "failed_guesses: 19\n",
      "failed_guesses: 20\n",
      "Query_successes: 135\n",
      "current accuracy:0.806\n",
      "failed_guesses: 1\n",
      "failed_guesses: 2\n",
      "failed_guesses: 3\n",
      "failed_guesses: 4\n",
      "failed_guesses: 5\n",
      "failed_guesses: 6\n",
      "failed_guesses: 7\n",
      "failed_guesses: 8\n",
      "failed_guesses: 9\n",
      "failed_guesses: 10\n",
      "failed_guesses: 11\n",
      "failed_guesses: 12\n",
      "failed_guesses: 13\n",
      "failed_guesses: 14\n",
      "failed_guesses: 15\n",
      "failed_guesses: 16\n",
      "failed_guesses: 17\n",
      "failed_guesses: 18\n",
      "failed_guesses: 19\n",
      "failed_guesses: 20\n",
      "failed_guesses: 21\n",
      "failed_guesses: 22\n",
      "failed_guesses: 23\n",
      "failed_guesses: 24\n",
      "failed_guesses: 25\n",
      "failed_guesses: 26\n",
      "failed_guesses: 27\n",
      "failed_guesses: 28\n",
      "failed_guesses: 29\n",
      "failed_guesses: 30\n",
      "failed_guesses: 31\n",
      "failed_guesses: 32\n",
      "failed_guesses: 33\n",
      "failed_guesses: 34\n",
      "failed_guesses: 35\n",
      "failed_guesses: 36\n",
      "failed_guesses: 37\n",
      "failed_guesses: 38\n",
      "failed_guesses: 39\n",
      "failed_guesses: 40\n",
      "failed_guesses: 41\n",
      "failed_guesses: 42\n",
      "failed_guesses: 43\n",
      "failed_guesses: 44\n",
      "failed_guesses: 45\n",
      "failed_guesses: 46\n",
      "failed_guesses: 47\n",
      "failed_guesses: 48\n",
      "failed_guesses: 49\n",
      "failed_guesses: 50\n",
      "Query_successes: 136\n",
      "current accuracy:0.811\n",
      "failed_guesses: 1\n",
      "failed_guesses: 2\n",
      "failed_guesses: 3\n",
      "failed_guesses: 4\n",
      "failed_guesses: 5\n",
      "failed_guesses: 6\n",
      "failed_guesses: 7\n",
      "failed_guesses: 8\n",
      "failed_guesses: 9\n",
      "failed_guesses: 10\n",
      "failed_guesses: 11\n",
      "failed_guesses: 12\n",
      "failed_guesses: 13\n",
      "failed_guesses: 14\n",
      "failed_guesses: 15\n",
      "failed_guesses: 16\n",
      "failed_guesses: 17\n",
      "failed_guesses: 18\n",
      "failed_guesses: 19\n",
      "failed_guesses: 20\n",
      "failed_guesses: 21\n",
      "failed_guesses: 22\n",
      "failed_guesses: 23\n",
      "failed_guesses: 24\n",
      "failed_guesses: 25\n",
      "failed_guesses: 26\n",
      "failed_guesses: 27\n",
      "failed_guesses: 28\n",
      "failed_guesses: 29\n",
      "failed_guesses: 30\n",
      "failed_guesses: 31\n",
      "failed_guesses: 32\n",
      "failed_guesses: 33\n",
      "failed_guesses: 34\n",
      "failed_guesses: 35\n",
      "failed_guesses: 36\n",
      "failed_guesses: 37\n",
      "failed_guesses: 38\n",
      "failed_guesses: 39\n",
      "failed_guesses: 40\n",
      "failed_guesses: 41\n",
      "failed_guesses: 42\n",
      "failed_guesses: 43\n",
      "failed_guesses: 44\n",
      "failed_guesses: 45\n",
      "failed_guesses: 46\n",
      "failed_guesses: 47\n",
      "failed_guesses: 48\n",
      "failed_guesses: 49\n",
      "failed_guesses: 50\n",
      "failed_guesses: 51\n",
      "failed_guesses: 52\n",
      "failed_guesses: 53\n",
      "failed_guesses: 54\n",
      "failed_guesses: 55\n",
      "failed_guesses: 56\n",
      "failed_guesses: 57\n",
      "failed_guesses: 58\n",
      "failed_guesses: 59\n",
      "failed_guesses: 60\n",
      "failed_guesses: 61\n",
      "failed_guesses: 62\n",
      "failed_guesses: 63\n",
      "failed_guesses: 64\n",
      "failed_guesses: 65\n",
      "failed_guesses: 66\n",
      "failed_guesses: 67\n",
      "failed_guesses: 68\n",
      "failed_guesses: 69\n",
      "failed_guesses: 70\n"
     ]
    }
   ],
   "source": [
    "# We follow the same process as before, but now we set the limit, uncertainty threshold and desired accuracy\n",
    "\n",
    "# bear in mind that we now print also the failed guesses and the query successes in case someone wants to examine the validity\n",
    "# of the function. But in the variable we store the final dictionary as before so you can print and plot it.\n",
    "\n",
    "knn_sample = activate_learning_sample(knn_model, scaled_X, False, 0.9, 0.5, queries_limit = 150)"
   ]
  },
  {
   "cell_type": "code",
   "execution_count": 37,
   "metadata": {},
   "outputs": [
    {
     "name": "stdout",
     "output_type": "stream",
     "text": [
      "[{'1': 0.318}, {'2': 0.308}, {'3': 0.306}, {'4': 0.328}, {'5': 0.407}, {'6': 0.406}, {'7': 0.441}, {'8': 0.485}, {'9': 0.488}, {'10': 0.5}, {'11': 0.497}, {'12': 0.506}, {'13': 0.505}, {'14': 0.5}, {'15': 0.512}, {'16': 0.498}, {'17': 0.501}, {'18': 0.517}, {'19': 0.535}, {'20': 0.539}, {'21': 0.581}, {'22': 0.588}, {'23': 0.594}, {'24': 0.589}, {'25': 0.603}, {'26': 0.617}, {'27': 0.621}, {'28': 0.62}, {'29': 0.628}, {'30': 0.618}, {'31': 0.633}, {'32': 0.634}, {'33': 0.642}, {'34': 0.644}, {'35': 0.645}, {'36': 0.653}, {'37': 0.657}, {'38': 0.661}, {'39': 0.66}, {'40': 0.666}, {'41': 0.661}, {'42': 0.664}, {'43': 0.664}, {'44': 0.656}, {'45': 0.653}, {'46': 0.655}, {'47': 0.656}, {'48': 0.66}, {'49': 0.666}, {'50': 0.677}, {'51': 0.678}, {'52': 0.68}, {'53': 0.674}, {'54': 0.674}, {'55': 0.668}, {'56': 0.665}, {'57': 0.667}, {'58': 0.671}, {'59': 0.67}, {'60': 0.664}, {'61': 0.668}, {'62': 0.672}, {'63': 0.676}, {'64': 0.678}, {'65': 0.679}, {'66': 0.686}, {'67': 0.69}, {'68': 0.689}, {'69': 0.7}, {'70': 0.697}, {'71': 0.704}, {'72': 0.708}, {'73': 0.714}, {'74': 0.721}, {'75': 0.723}, {'76': 0.722}, {'77': 0.724}, {'78': 0.725}, {'79': 0.73}, {'80': 0.729}, {'81': 0.728}, {'82': 0.725}, {'83': 0.727}, {'84': 0.726}, {'85': 0.721}, {'86': 0.715}, {'87': 0.717}, {'88': 0.719}, {'89': 0.72}, {'90': 0.72}, {'91': 0.722}, {'92': 0.726}, {'93': 0.71}, {'94': 0.714}, {'95': 0.716}, {'96': 0.721}, {'97': 0.725}, {'98': 0.727}, {'99': 0.729}, {'100': 0.725}, {'101': 0.722}, {'102': 0.719}, {'103': 0.715}, {'104': 0.715}, {'105': 0.717}, {'106': 0.724}, {'107': 0.723}, {'108': 0.722}, {'109': 0.727}, {'110': 0.726}, {'111': 0.728}, {'112': 0.73}, {'113': 0.745}, {'114': 0.745}, {'115': 0.747}, {'116': 0.746}, {'117': 0.745}, {'118': 0.75}, {'119': 0.752}, {'120': 0.754}, {'121': 0.759}, {'122': 0.761}, {'123': 0.763}, {'124': 0.757}, {'125': 0.762}, {'126': 0.767}, {'127': 0.769}, {'128': 0.771}, {'129': 0.77}, {'130': 0.778}, {'131': 0.78}, {'132': 0.791}, {'133': 0.793}, {'134': 0.798}, {'135': 0.801}, {'136': 0.806}, {'137': 0.811}]\n"
     ]
    },
    {
     "data": {
      "image/png": "[encoded data removed]",
      "text/plain": [
       "<Figure size 432x288 with 1 Axes>"
      ]
     },
     "metadata": {
      "needs_background": "light"
     },
     "output_type": "display_data"
    }
   ],
   "source": [
    "print(knn_sample)\n",
    "plot_accuracy_learner(knn_sample)"
   ]
  },
  {
   "cell_type": "markdown",
   "metadata": {},
   "source": [
    "### Notes:\n",
    "\n",
    "For our previous model, we stopped because we surpassed the failed guesses, so after the iteration `137` we couldn't find any suitable match, that the model was highly uncertain of. \n",
    "\n",
    "You can freely experiment with the function and set your own thresholds for uncertainty, desired accuracy, query limits and more.\n",
    "\n",
    "We will see on more thing though, for sure, before leaving the **sample based** world. The **oracle** part of it follows. \n",
    "\n",
    "**Attention**. We set the query limits to 5, just so it doesn't get boring enough, and to prove that works, but feel free to change it if yoiu have more nerves."
   ]
  },
  {
   "cell_type": "code",
   "execution_count": 38,
   "metadata": {
    "scrolled": false
   },
   "outputs": [
    {
     "data": {
      "image/png": "[encoded data removed]",
      "text/plain": [
       "<Figure size 432x288 with 1 Axes>"
      ]
     },
     "metadata": {
      "needs_background": "light"
     },
     "output_type": "display_data"
    },
    {
     "name": "stdout",
     "output_type": "stream",
     "text": [
      "Oracle oracle, which number do you see? Provide an integer between 0 and 9\n",
      "7\n",
      "Query_successes: 1\n",
      "current accuracy:0.405\n"
     ]
    },
    {
     "data": {
      "image/png": "[encoded data removed]",
      "text/plain": [
       "<Figure size 432x288 with 1 Axes>"
      ]
     },
     "metadata": {
      "needs_background": "light"
     },
     "output_type": "display_data"
    },
    {
     "name": "stdout",
     "output_type": "stream",
     "text": [
      "Oracle oracle, which number do you see? Provide an integer between 0 and 9\n",
      "1\n",
      "Query_successes: 2\n",
      "current accuracy:0.379\n"
     ]
    },
    {
     "data": {
      "image/png": "[encoded data removed]",
      "text/plain": [
       "<Figure size 432x288 with 1 Axes>"
      ]
     },
     "metadata": {
      "needs_background": "light"
     },
     "output_type": "display_data"
    },
    {
     "name": "stdout",
     "output_type": "stream",
     "text": [
      "Oracle oracle, which number do you see? Provide an integer between 0 and 9\n",
      "3\n",
      "Query_successes: 3\n",
      "current accuracy:0.388\n"
     ]
    },
    {
     "data": {
      "image/png": "[encoded data removed]",
      "text/plain": [
       "<Figure size 432x288 with 1 Axes>"
      ]
     },
     "metadata": {
      "needs_background": "light"
     },
     "output_type": "display_data"
    },
    {
     "name": "stdout",
     "output_type": "stream",
     "text": [
      "Oracle oracle, which number do you see? Provide an integer between 0 and 9\n",
      "6\n",
      "Query_successes: 4\n",
      "current accuracy:0.416\n"
     ]
    },
    {
     "data": {
      "image/png": "[encoded data removed]",
      "text/plain": [
       "<Figure size 432x288 with 1 Axes>"
      ]
     },
     "metadata": {
      "needs_background": "light"
     },
     "output_type": "display_data"
    },
    {
     "name": "stdout",
     "output_type": "stream",
     "text": [
      "Oracle oracle, which number do you see? Provide an integer between 0 and 9\n",
      "6\n",
      "Query_successes: 5\n",
      "current accuracy:0.433\n"
     ]
    },
    {
     "data": {
      "image/png": "[encoded data removed]",
      "text/plain": [
       "<Figure size 432x288 with 1 Axes>"
      ]
     },
     "metadata": {
      "needs_background": "light"
     },
     "output_type": "display_data"
    },
    {
     "name": "stdout",
     "output_type": "stream",
     "text": [
      "Oracle oracle, which number do you see? Provide an integer between 0 and 9\n",
      "4\n",
      "Query_successes: 6\n",
      "current accuracy:0.418\n"
     ]
    }
   ],
   "source": [
    "# Oracles stuff, we set manual mode to True, and kind of change the thresholds for fan, only 5 samples.\n",
    "# The model is a random forest ensemble, so we make no used of our standard scaled frame\n",
    "\n",
    "rf_sample = activate_learning_sample(rfc_model, plain_X, True, 0.8, 0.4, queries_limit=5)"
   ]
  },
  {
   "cell_type": "code",
   "execution_count": 39,
   "metadata": {},
   "outputs": [
    {
     "name": "stdout",
     "output_type": "stream",
     "text": [
      "[{'1': 0.386}, {'2': 0.405}, {'3': 0.379}, {'4': 0.388}, {'5': 0.416}, {'6': 0.433}, {'7': 0.418}]\n"
     ]
    },
    {
     "data": {
      "image/png": "[encoded data removed]",
      "text/plain": [
       "<Figure size 432x288 with 1 Axes>"
      ]
     },
     "metadata": {
      "needs_background": "light"
     },
     "output_type": "display_data"
    }
   ],
   "source": [
    "print(rf_sample)\n",
    "plot_accuracy_learner(rf_sample)"
   ]
  },
  {
   "cell_type": "markdown",
   "metadata": {},
   "source": [
    "## Query By commitee attempt\n",
    "\n",
    "Since we saw recently in the course, the voting and stacking classifiers, and the assembling of a committee, I tried out also to create a bunch of committee, as it is shown below. Unfortunately I couldn't debug on time, why this is failed.\n",
    "\n",
    "It seems, that something is going wrong, on committe assemble function, but not sure exactly what, and couldn't find any relevant documentation to solve this. \n",
    "\n",
    "The try out and the attempt is shown below. I followed the [modAL Documentation for committee](https://modal-python.readthedocs.io/en/latest/content/examples/query_by_committee.html)"
   ]
  },
  {
   "cell_type": "code",
   "execution_count": 40,
   "metadata": {
    "scrolled": true
   },
   "outputs": [],
   "source": [
    "#Query by commitee\n",
    "\n",
    "def create_comitee(initial_frame, n_samples):\n",
    "    learner_list = []\n",
    "    refined_frame = initial_frame.sample(n=500, random_state=101).reset_index(drop=True)\n",
    "    \n",
    "    for model in range(3):\n",
    "        samples_df = refined_frame.sample(n=n_samples, random_state=330, replace=False)\n",
    "        \n",
    "        # remove these samples from refined_frame\n",
    "        refined_frame.drop(index=list(samples_df.index), axis=0, inplace=True)\n",
    "        refined_frame.reset_index(drop=True, inplace=True)\n",
    "        \n",
    "        copied_frame = refined_frame.copy()\n",
    "        \n",
    "        train_y = copied_frame['target']\n",
    "        train_X = copied_frame.drop(columns='target')\n",
    "        \n",
    "        current_learner = ActiveLearner(estimator=KNeighborsClassifier(n_neighbors=1), X_training=train_X, y_training=train_y)\n",
    "        learner_list.append(current_learner)\n",
    "        \n",
    "    return (learner_list, refined_frame)    "
   ]
  },
  {
   "cell_type": "code",
   "execution_count": 41,
   "metadata": {
    "scrolled": true
   },
   "outputs": [
    {
     "ename": "TypeError",
     "evalue": "The axis argument to unique is not supported for dtype object",
     "output_type": "error",
     "traceback": [
      "\u001b[1;31m---------------------------------------------------------------------------\u001b[0m",
      "\u001b[1;31mTypeError\u001b[0m                                 Traceback (most recent call last)",
      "\u001b[1;32m~\\Anaconda3\\lib\\site-packages\\numpy\\lib\\arraysetops.py\u001b[0m in \u001b[0;36munique\u001b[1;34m(ar, return_index, return_inverse, return_counts, axis)\u001b[0m\n\u001b[0;32m    283\u001b[0m         \u001b[1;32mif\u001b[0m \u001b[0mar\u001b[0m\u001b[1;33m.\u001b[0m\u001b[0mshape\u001b[0m\u001b[1;33m[\u001b[0m\u001b[1;36m1\u001b[0m\u001b[1;33m]\u001b[0m \u001b[1;33m>\u001b[0m \u001b[1;36m0\u001b[0m\u001b[1;33m:\u001b[0m\u001b[1;33m\u001b[0m\u001b[1;33m\u001b[0m\u001b[0m\n\u001b[1;32m--> 284\u001b[1;33m             \u001b[0mconsolidated\u001b[0m \u001b[1;33m=\u001b[0m \u001b[0mar\u001b[0m\u001b[1;33m.\u001b[0m\u001b[0mview\u001b[0m\u001b[1;33m(\u001b[0m\u001b[0mdtype\u001b[0m\u001b[1;33m)\u001b[0m\u001b[1;33m\u001b[0m\u001b[1;33m\u001b[0m\u001b[0m\n\u001b[0m\u001b[0;32m    285\u001b[0m         \u001b[1;32melse\u001b[0m\u001b[1;33m:\u001b[0m\u001b[1;33m\u001b[0m\u001b[1;33m\u001b[0m\u001b[0m\n",
      "\u001b[1;32m~\\Anaconda3\\lib\\site-packages\\numpy\\core\\_internal.py\u001b[0m in \u001b[0;36m_view_is_safe\u001b[1;34m(oldtype, newtype)\u001b[0m\n\u001b[0;32m    458\u001b[0m     \u001b[1;32mif\u001b[0m \u001b[0mnewtype\u001b[0m\u001b[1;33m.\u001b[0m\u001b[0mhasobject\u001b[0m \u001b[1;32mor\u001b[0m \u001b[0moldtype\u001b[0m\u001b[1;33m.\u001b[0m\u001b[0mhasobject\u001b[0m\u001b[1;33m:\u001b[0m\u001b[1;33m\u001b[0m\u001b[1;33m\u001b[0m\u001b[0m\n\u001b[1;32m--> 459\u001b[1;33m         \u001b[1;32mraise\u001b[0m \u001b[0mTypeError\u001b[0m\u001b[1;33m(\u001b[0m\u001b[1;34m\"Cannot change data-type for object array.\"\u001b[0m\u001b[1;33m)\u001b[0m\u001b[1;33m\u001b[0m\u001b[1;33m\u001b[0m\u001b[0m\n\u001b[0m\u001b[0;32m    460\u001b[0m     \u001b[1;32mreturn\u001b[0m\u001b[1;33m\u001b[0m\u001b[1;33m\u001b[0m\u001b[0m\n",
      "\u001b[1;31mTypeError\u001b[0m: Cannot change data-type for object array.",
      "\nThe above exception was the direct cause of the following exception:\n",
      "\u001b[1;31mTypeError\u001b[0m                                 Traceback (most recent call last)",
      "\u001b[1;32m<ipython-input-41-af72881ed821>\u001b[0m in \u001b[0;36m<module>\u001b[1;34m\u001b[0m\n\u001b[0;32m      4\u001b[0m \u001b[1;33m\u001b[0m\u001b[0m\n\u001b[0;32m      5\u001b[0m \u001b[1;31m# Here is the bum thing, we don't seem to be able to create our committee of active learners\u001b[0m\u001b[1;33m\u001b[0m\u001b[1;33m\u001b[0m\u001b[1;33m\u001b[0m\u001b[0m\n\u001b[1;32m----> 6\u001b[1;33m \u001b[0mcommittee\u001b[0m \u001b[1;33m=\u001b[0m \u001b[0mCommittee\u001b[0m\u001b[1;33m(\u001b[0m\u001b[0mlearner_list\u001b[0m\u001b[1;33m=\u001b[0m\u001b[0mlearner_commitee\u001b[0m\u001b[1;33m)\u001b[0m\u001b[1;33m\u001b[0m\u001b[1;33m\u001b[0m\u001b[0m\n\u001b[0m",
      "\u001b[1;32m~\\Anaconda3\\lib\\site-packages\\modAL\\models\\learners.py\u001b[0m in \u001b[0;36m__init__\u001b[1;34m(self, learner_list, query_strategy, on_transformed)\u001b[0m\n\u001b[0;32m    294\u001b[0m                  on_transformed: bool = False) -> None:\n\u001b[0;32m    295\u001b[0m         \u001b[0msuper\u001b[0m\u001b[1;33m(\u001b[0m\u001b[1;33m)\u001b[0m\u001b[1;33m.\u001b[0m\u001b[0m__init__\u001b[0m\u001b[1;33m(\u001b[0m\u001b[0mlearner_list\u001b[0m\u001b[1;33m,\u001b[0m \u001b[0mquery_strategy\u001b[0m\u001b[1;33m,\u001b[0m \u001b[0mon_transformed\u001b[0m\u001b[1;33m)\u001b[0m\u001b[1;33m\u001b[0m\u001b[1;33m\u001b[0m\u001b[0m\n\u001b[1;32m--> 296\u001b[1;33m         \u001b[0mself\u001b[0m\u001b[1;33m.\u001b[0m\u001b[0m_set_classes\u001b[0m\u001b[1;33m(\u001b[0m\u001b[1;33m)\u001b[0m\u001b[1;33m\u001b[0m\u001b[1;33m\u001b[0m\u001b[0m\n\u001b[0m\u001b[0;32m    297\u001b[0m \u001b[1;33m\u001b[0m\u001b[0m\n\u001b[0;32m    298\u001b[0m     \u001b[1;32mdef\u001b[0m \u001b[0m_set_classes\u001b[0m\u001b[1;33m(\u001b[0m\u001b[0mself\u001b[0m\u001b[1;33m)\u001b[0m\u001b[1;33m:\u001b[0m\u001b[1;33m\u001b[0m\u001b[1;33m\u001b[0m\u001b[0m\n",
      "\u001b[1;32m~\\Anaconda3\\lib\\site-packages\\modAL\\models\\learners.py\u001b[0m in \u001b[0;36m_set_classes\u001b[1;34m(self)\u001b[0m\n\u001b[0;32m    313\u001b[0m         self.classes_ = np.unique(\n\u001b[0;32m    314\u001b[0m             \u001b[0mnp\u001b[0m\u001b[1;33m.\u001b[0m\u001b[0mconcatenate\u001b[0m\u001b[1;33m(\u001b[0m\u001b[0mknown_classes\u001b[0m\u001b[1;33m,\u001b[0m \u001b[0maxis\u001b[0m\u001b[1;33m=\u001b[0m\u001b[1;36m0\u001b[0m\u001b[1;33m)\u001b[0m\u001b[1;33m,\u001b[0m\u001b[1;33m\u001b[0m\u001b[1;33m\u001b[0m\u001b[0m\n\u001b[1;32m--> 315\u001b[1;33m             \u001b[0maxis\u001b[0m\u001b[1;33m=\u001b[0m\u001b[1;36m0\u001b[0m\u001b[1;33m\u001b[0m\u001b[1;33m\u001b[0m\u001b[0m\n\u001b[0m\u001b[0;32m    316\u001b[0m         )\n\u001b[0;32m    317\u001b[0m         \u001b[0mself\u001b[0m\u001b[1;33m.\u001b[0m\u001b[0mn_classes_\u001b[0m \u001b[1;33m=\u001b[0m \u001b[0mlen\u001b[0m\u001b[1;33m(\u001b[0m\u001b[0mself\u001b[0m\u001b[1;33m.\u001b[0m\u001b[0mclasses_\u001b[0m\u001b[1;33m)\u001b[0m\u001b[1;33m\u001b[0m\u001b[1;33m\u001b[0m\u001b[0m\n",
      "\u001b[1;32m<__array_function__ internals>\u001b[0m in \u001b[0;36munique\u001b[1;34m(*args, **kwargs)\u001b[0m\n",
      "\u001b[1;32m~\\Anaconda3\\lib\\site-packages\\numpy\\lib\\arraysetops.py\u001b[0m in \u001b[0;36munique\u001b[1;34m(ar, return_index, return_inverse, return_counts, axis)\u001b[0m\n\u001b[0;32m    293\u001b[0m         \u001b[1;31m# There's no good way to do this for object arrays, etc...\u001b[0m\u001b[1;33m\u001b[0m\u001b[1;33m\u001b[0m\u001b[1;33m\u001b[0m\u001b[0m\n\u001b[0;32m    294\u001b[0m         \u001b[0mmsg\u001b[0m \u001b[1;33m=\u001b[0m \u001b[1;34m'The axis argument to unique is not supported for dtype {dt}'\u001b[0m\u001b[1;33m\u001b[0m\u001b[1;33m\u001b[0m\u001b[0m\n\u001b[1;32m--> 295\u001b[1;33m         \u001b[1;32mraise\u001b[0m \u001b[0mTypeError\u001b[0m\u001b[1;33m(\u001b[0m\u001b[0mmsg\u001b[0m\u001b[1;33m.\u001b[0m\u001b[0mformat\u001b[0m\u001b[1;33m(\u001b[0m\u001b[0mdt\u001b[0m\u001b[1;33m=\u001b[0m\u001b[0mar\u001b[0m\u001b[1;33m.\u001b[0m\u001b[0mdtype\u001b[0m\u001b[1;33m)\u001b[0m\u001b[1;33m)\u001b[0m \u001b[1;32mfrom\u001b[0m \u001b[0me\u001b[0m\u001b[1;33m\u001b[0m\u001b[1;33m\u001b[0m\u001b[0m\n\u001b[0m\u001b[0;32m    296\u001b[0m \u001b[1;33m\u001b[0m\u001b[0m\n\u001b[0;32m    297\u001b[0m     \u001b[1;32mdef\u001b[0m \u001b[0mreshape_uniq\u001b[0m\u001b[1;33m(\u001b[0m\u001b[0muniq\u001b[0m\u001b[1;33m)\u001b[0m\u001b[1;33m:\u001b[0m\u001b[1;33m\u001b[0m\u001b[1;33m\u001b[0m\u001b[0m\n",
      "\u001b[1;31mTypeError\u001b[0m: The axis argument to unique is not supported for dtype object"
     ]
    }
   ],
   "source": [
    "# let's have 3 knn estimators, with 4 samples for each learner, and therefore 3 nearest neighbors strategy\n",
    "\n",
    "learner_commitee, commitee_frame = create_comitee(scaled_X, 5)\n",
    "\n",
    "# Here is the bum thing, we don't seem to be able to create our committee of active learners\n",
    "committee = Committee(learner_list=learner_commitee)"
   ]
  }
 ],
 "metadata": {
  "kernelspec": {
   "display_name": "Python 3",
   "language": "python",
   "name": "python3"
  },
  "language_info": {
   "codemirror_mode": {
    "name": "ipython",
    "version": 3
   },
   "file_extension": ".py",
   "mimetype": "text/x-python",
   "name": "python",
   "nbconvert_exporter": "python",
   "pygments_lexer": "ipython3",
   "version": "3.7.3"
  }
 },
 "nbformat": 4,
 "nbformat_minor": 2
}
