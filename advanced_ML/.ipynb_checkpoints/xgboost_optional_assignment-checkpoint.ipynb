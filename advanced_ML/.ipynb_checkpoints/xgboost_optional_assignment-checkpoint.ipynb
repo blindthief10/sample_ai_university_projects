{
 "cells": [
  {
   "cell_type": "code",
   "execution_count": 1,
   "metadata": {},
   "outputs": [],
   "source": [
    "import xgboost as xgb\n",
    "from numpy import asarray, argmax\n",
    "import pandas as pd\n",
    "from sklearn.model_selection import train_test_split\n",
    "from sklearn.metrics import accuracy_score"
   ]
  },
  {
   "cell_type": "code",
   "execution_count": 2,
   "metadata": {},
   "outputs": [],
   "source": [
    "# Create the set\n",
    "diabetes = pd.read_csv('diabetes_data_upload.csv')\n",
    "\n",
    "# Apply label encoding /1 for diabetes set\n",
    "\n",
    "diabetes_cat_cols = [x for x in diabetes.columns if x not in ['Age', 'Gender', 'class']]\n",
    "\n",
    "for cat_col in diabetes_cat_cols:\n",
    "    diabetes[cat_col] = diabetes[cat_col].apply(lambda x: 0 if x == 'No' else 1)\n",
    "    \n",
    "# finally we do the same for gender and class\n",
    "\n",
    "diabetes['Gender'] = diabetes['Gender'].apply(lambda x: 0 if x == 'Male' else 1)\n",
    "diabetes['class'] = diabetes['class'].apply(lambda x: 0 if x == 'Negative' else 1)\n",
    "\n",
    "# drop the class column\n",
    "\n",
    "diabetes_target = diabetes['class']\n",
    "diabetes.drop(columns='class', inplace=True)"
   ]
  },
  {
   "cell_type": "code",
   "execution_count": 3,
   "metadata": {},
   "outputs": [],
   "source": [
    "# We do a train/test split for all of our three datasets\n",
    "\n",
    "diabetes_train_X, diabetes_test_X, diabetes_train_Y,  diabetes_test_Y = train_test_split(diabetes, diabetes_target, test_size=0.2)"
   ]
  },
  {
   "cell_type": "code",
   "execution_count": 4,
   "metadata": {},
   "outputs": [
    {
     "name": "stderr",
     "output_type": "stream",
     "text": [
      "C:\\Users\\jake\\Anaconda3\\lib\\site-packages\\xgboost\\core.py:587: FutureWarning: Series.base is deprecated and will be removed in a future version\n",
      "  if getattr(data, 'base', None) is not None and \\\n"
     ]
    }
   ],
   "source": [
    "# Let's try and prepare our sets for the xboost\n",
    "\n",
    "# We will convert our sets into DMatrix so xgboost works well with our data\n",
    "\n",
    "D_diabetes_train = xgb.DMatrix(diabetes_train_X, label=diabetes_train_Y)\n",
    "D_diabetes_test = xgb.DMatrix(diabetes_test_X, label=diabetes_test_Y)"
   ]
  },
  {
   "cell_type": "code",
   "execution_count": 5,
   "metadata": {},
   "outputs": [],
   "source": [
    "params={'objective': 'binary:logistic', 'max-depth': 4, 'eta': 0.3}\n",
    "steps = 40\n",
    "\n",
    "xgb_model = xgb.train(params, D_diabetes_train, steps)"
   ]
  },
  {
   "cell_type": "code",
   "execution_count": 6,
   "metadata": {},
   "outputs": [
    {
     "name": "stdout",
     "output_type": "stream",
     "text": [
      "0.981\n"
     ]
    }
   ],
   "source": [
    "preds = xgb_model.predict(D_diabetes_test)\n",
    "# The following line was kinda intuitive after printing the preds, so not sure if it is correct, still didn't find docu\n",
    "predictions = asarray([1 if line > 0.5 else 0 for line in preds])\n",
    "\n",
    "print(round(accuracy_score(diabetes_test_Y, predictions), 3))"
   ]
  },
  {
   "cell_type": "markdown",
   "metadata": {},
   "source": [
    "SoI had a loot of problems, and I had to do a loot of tuning, but in the end, at least we have something that works :-)\n",
    "\n",
    "Originally, the goal was to perform some grid search, and have at least a regression set (I had originially loaded the boston houses toy set from sklearn) but I goofed up the DMatrix stuff, and spent couple of hours tuning these things. \n",
    "\n",
    "### Last Note\n",
    "\n",
    "Since it's one of the few assignments that I ended up with more questions than answers, I noticed my models don't work when the **early_stopping_rounds** parameter is set, we actually get a `index out of range` type of error. Unexplainably, this vanishes, when we remove this parameter. "
   ]
  }
 ],
 "metadata": {
  "kernelspec": {
   "display_name": "Python 3",
   "language": "python",
   "name": "python3"
  },
  "language_info": {
   "codemirror_mode": {
    "name": "ipython",
    "version": 3
   },
   "file_extension": ".py",
   "mimetype": "text/x-python",
   "name": "python",
   "nbconvert_exporter": "python",
   "pygments_lexer": "ipython3",
   "version": "3.7.3"
  }
 },
 "nbformat": 4,
 "nbformat_minor": 2
}
