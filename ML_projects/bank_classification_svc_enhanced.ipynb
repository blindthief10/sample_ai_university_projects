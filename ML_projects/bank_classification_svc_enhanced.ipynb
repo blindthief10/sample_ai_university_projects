{
 "cells": [
  {
   "cell_type": "code",
   "execution_count": 1,
   "metadata": {},
   "outputs": [],
   "source": [
    "# Import things we are going to use\n",
    "\n",
    "from numpy import mean, linspace\n",
    "import pandas as pd\n",
    "import matplotlib.pyplot as plt\n",
    "import seaborn as sns\n",
    "from sklearn.preprocessing import MinMaxScaler, StandardScaler\n",
    "from sklearn.model_selection import cross_validate\n",
    "from sklearn.metrics import accuracy_score, roc_auc_score\n",
    "from sklearn.linear_model import LogisticRegression\n",
    "from sklearn.neighbors import KNeighborsClassifier\n",
    "from sklearn.model_selection import GridSearchCV\n",
    "from sklearn.ensemble import RandomForestClassifier\n",
    "from sklearn.naive_bayes import GaussianNB\n",
    "from sklearn.svm import SVC"
   ]
  },
  {
   "cell_type": "markdown",
   "metadata": {},
   "source": [
    "# Analysis Plan\n",
    "\n",
    "### Steps we will follow throughout this notebook\n",
    "\n",
    "1. Import and load dataset\n",
    "2. Perform basic exploratory analysis. Identify patterns, trends, gain some insight of the data\n",
    "3. Manipulate data, preprocess. Cut and slice. Create sets of data for later purposes.\n",
    "4. Use random forest as benchmark accuracy score without any preprocessing or feature selection\n",
    "5. Find out how other algorithms work\n",
    "6. Optimize and compare"
   ]
  },
  {
   "cell_type": "code",
   "execution_count": 2,
   "metadata": {},
   "outputs": [
    {
     "data": {
      "text/html": [
       "<div>\n",
       "<style scoped>\n",
       "    .dataframe tbody tr th:only-of-type {\n",
       "        vertical-align: middle;\n",
       "    }\n",
       "\n",
       "    .dataframe tbody tr th {\n",
       "        vertical-align: top;\n",
       "    }\n",
       "\n",
       "    .dataframe thead th {\n",
       "        text-align: right;\n",
       "    }\n",
       "</style>\n",
       "<table border=\"1\" class=\"dataframe\">\n",
       "  <thead>\n",
       "    <tr style=\"text-align: right;\">\n",
       "      <th></th>\n",
       "      <th>ID</th>\n",
       "      <th>LIMIT_BAL</th>\n",
       "      <th>SEX</th>\n",
       "      <th>EDUCATION</th>\n",
       "      <th>MARRIAGE</th>\n",
       "      <th>AGE</th>\n",
       "      <th>PAY_0</th>\n",
       "      <th>PAY_2</th>\n",
       "      <th>PAY_3</th>\n",
       "      <th>PAY_4</th>\n",
       "      <th>...</th>\n",
       "      <th>BILL_AMT4</th>\n",
       "      <th>BILL_AMT5</th>\n",
       "      <th>BILL_AMT6</th>\n",
       "      <th>PAY_AMT1</th>\n",
       "      <th>PAY_AMT2</th>\n",
       "      <th>PAY_AMT3</th>\n",
       "      <th>PAY_AMT4</th>\n",
       "      <th>PAY_AMT5</th>\n",
       "      <th>PAY_AMT6</th>\n",
       "      <th>default payment next month</th>\n",
       "    </tr>\n",
       "  </thead>\n",
       "  <tbody>\n",
       "    <tr>\n",
       "      <th>1</th>\n",
       "      <td>1</td>\n",
       "      <td>20000</td>\n",
       "      <td>2</td>\n",
       "      <td>2</td>\n",
       "      <td>1</td>\n",
       "      <td>24</td>\n",
       "      <td>2</td>\n",
       "      <td>2</td>\n",
       "      <td>-1</td>\n",
       "      <td>-1</td>\n",
       "      <td>...</td>\n",
       "      <td>0</td>\n",
       "      <td>0</td>\n",
       "      <td>0</td>\n",
       "      <td>0</td>\n",
       "      <td>689</td>\n",
       "      <td>0</td>\n",
       "      <td>0</td>\n",
       "      <td>0</td>\n",
       "      <td>0</td>\n",
       "      <td>1</td>\n",
       "    </tr>\n",
       "    <tr>\n",
       "      <th>2</th>\n",
       "      <td>2</td>\n",
       "      <td>120000</td>\n",
       "      <td>2</td>\n",
       "      <td>2</td>\n",
       "      <td>2</td>\n",
       "      <td>26</td>\n",
       "      <td>-1</td>\n",
       "      <td>2</td>\n",
       "      <td>0</td>\n",
       "      <td>0</td>\n",
       "      <td>...</td>\n",
       "      <td>3272</td>\n",
       "      <td>3455</td>\n",
       "      <td>3261</td>\n",
       "      <td>0</td>\n",
       "      <td>1000</td>\n",
       "      <td>1000</td>\n",
       "      <td>1000</td>\n",
       "      <td>0</td>\n",
       "      <td>2000</td>\n",
       "      <td>1</td>\n",
       "    </tr>\n",
       "    <tr>\n",
       "      <th>3</th>\n",
       "      <td>3</td>\n",
       "      <td>90000</td>\n",
       "      <td>2</td>\n",
       "      <td>2</td>\n",
       "      <td>2</td>\n",
       "      <td>34</td>\n",
       "      <td>0</td>\n",
       "      <td>0</td>\n",
       "      <td>0</td>\n",
       "      <td>0</td>\n",
       "      <td>...</td>\n",
       "      <td>14331</td>\n",
       "      <td>14948</td>\n",
       "      <td>15549</td>\n",
       "      <td>1518</td>\n",
       "      <td>1500</td>\n",
       "      <td>1000</td>\n",
       "      <td>1000</td>\n",
       "      <td>1000</td>\n",
       "      <td>5000</td>\n",
       "      <td>0</td>\n",
       "    </tr>\n",
       "    <tr>\n",
       "      <th>4</th>\n",
       "      <td>4</td>\n",
       "      <td>50000</td>\n",
       "      <td>2</td>\n",
       "      <td>2</td>\n",
       "      <td>1</td>\n",
       "      <td>37</td>\n",
       "      <td>0</td>\n",
       "      <td>0</td>\n",
       "      <td>0</td>\n",
       "      <td>0</td>\n",
       "      <td>...</td>\n",
       "      <td>28314</td>\n",
       "      <td>28959</td>\n",
       "      <td>29547</td>\n",
       "      <td>2000</td>\n",
       "      <td>2019</td>\n",
       "      <td>1200</td>\n",
       "      <td>1100</td>\n",
       "      <td>1069</td>\n",
       "      <td>1000</td>\n",
       "      <td>0</td>\n",
       "    </tr>\n",
       "    <tr>\n",
       "      <th>5</th>\n",
       "      <td>5</td>\n",
       "      <td>50000</td>\n",
       "      <td>1</td>\n",
       "      <td>2</td>\n",
       "      <td>1</td>\n",
       "      <td>57</td>\n",
       "      <td>-1</td>\n",
       "      <td>0</td>\n",
       "      <td>-1</td>\n",
       "      <td>0</td>\n",
       "      <td>...</td>\n",
       "      <td>20940</td>\n",
       "      <td>19146</td>\n",
       "      <td>19131</td>\n",
       "      <td>2000</td>\n",
       "      <td>36681</td>\n",
       "      <td>10000</td>\n",
       "      <td>9000</td>\n",
       "      <td>689</td>\n",
       "      <td>679</td>\n",
       "      <td>0</td>\n",
       "    </tr>\n",
       "  </tbody>\n",
       "</table>\n",
       "<p>5 rows × 25 columns</p>\n",
       "</div>"
      ],
      "text/plain": [
       "  ID LIMIT_BAL SEX EDUCATION MARRIAGE AGE PAY_0 PAY_2 PAY_3 PAY_4  ...  \\\n",
       "1  1     20000   2         2        1  24     2     2    -1    -1  ...   \n",
       "2  2    120000   2         2        2  26    -1     2     0     0  ...   \n",
       "3  3     90000   2         2        2  34     0     0     0     0  ...   \n",
       "4  4     50000   2         2        1  37     0     0     0     0  ...   \n",
       "5  5     50000   1         2        1  57    -1     0    -1     0  ...   \n",
       "\n",
       "  BILL_AMT4 BILL_AMT5 BILL_AMT6 PAY_AMT1 PAY_AMT2 PAY_AMT3 PAY_AMT4 PAY_AMT5  \\\n",
       "1         0         0         0        0      689        0        0        0   \n",
       "2      3272      3455      3261        0     1000     1000     1000        0   \n",
       "3     14331     14948     15549     1518     1500     1000     1000     1000   \n",
       "4     28314     28959     29547     2000     2019     1200     1100     1069   \n",
       "5     20940     19146     19131     2000    36681    10000     9000      689   \n",
       "\n",
       "  PAY_AMT6 default payment next month  \n",
       "1        0                          1  \n",
       "2     2000                          1  \n",
       "3     5000                          0  \n",
       "4     1000                          0  \n",
       "5      679                          0  \n",
       "\n",
       "[5 rows x 25 columns]"
      ]
     },
     "execution_count": 2,
     "metadata": {},
     "output_type": "execute_result"
    }
   ],
   "source": [
    "# load dataset print first 5 lines\n",
    "\n",
    "raw_set = pd.read_excel('credit_cleaned.xls')\n",
    "\n",
    "# rename the columns of the dataframe as it seems that they are on the first row. Then remove the first row\n",
    "\n",
    "raw_set.columns = [raw_set[column][0] for column in raw_set.columns]\n",
    "\n",
    "# Remove first row\n",
    "\n",
    "raw_set.drop(raw_set.index[0], inplace=True)\n",
    "\n",
    "raw_set.head(5)"
   ]
  },
  {
   "cell_type": "code",
   "execution_count": 3,
   "metadata": {},
   "outputs": [
    {
     "name": "stdout",
     "output_type": "stream",
     "text": [
      "ID                            object\n",
      "LIMIT_BAL                     object\n",
      "SEX                           object\n",
      "EDUCATION                     object\n",
      "MARRIAGE                      object\n",
      "AGE                           object\n",
      "PAY_0                         object\n",
      "PAY_2                         object\n",
      "PAY_3                         object\n",
      "PAY_4                         object\n",
      "PAY_5                         object\n",
      "PAY_6                         object\n",
      "BILL_AMT1                     object\n",
      "BILL_AMT2                     object\n",
      "BILL_AMT3                     object\n",
      "BILL_AMT4                     object\n",
      "BILL_AMT5                     object\n",
      "BILL_AMT6                     object\n",
      "PAY_AMT1                      object\n",
      "PAY_AMT2                      object\n",
      "PAY_AMT3                      object\n",
      "PAY_AMT4                      object\n",
      "PAY_AMT5                      object\n",
      "PAY_AMT6                      object\n",
      "default payment next month    object\n",
      "dtype: object\n",
      "ID                            int32\n",
      "LIMIT_BAL                     int32\n",
      "SEX                           int32\n",
      "EDUCATION                     int32\n",
      "MARRIAGE                      int32\n",
      "AGE                           int32\n",
      "PAY_0                         int32\n",
      "PAY_2                         int32\n",
      "PAY_3                         int32\n",
      "PAY_4                         int32\n",
      "PAY_5                         int32\n",
      "PAY_6                         int32\n",
      "BILL_AMT1                     int32\n",
      "BILL_AMT2                     int32\n",
      "BILL_AMT3                     int32\n",
      "BILL_AMT4                     int32\n",
      "BILL_AMT5                     int32\n",
      "BILL_AMT6                     int32\n",
      "PAY_AMT1                      int32\n",
      "PAY_AMT2                      int32\n",
      "PAY_AMT3                      int32\n",
      "PAY_AMT4                      int32\n",
      "PAY_AMT5                      int32\n",
      "PAY_AMT6                      int32\n",
      "default payment next month    int32\n",
      "dtype: object\n"
     ]
    }
   ],
   "source": [
    "# Check out the types and convert all of them to integers. This will be necessary for correlation analysis later on\n",
    "print(raw_set.dtypes)\n",
    "\n",
    "for col in raw_set.columns:\n",
    "    raw_set[col] = raw_set[col].astype('int')\n",
    "    \n",
    "print(raw_set.dtypes)"
   ]
  },
  {
   "cell_type": "markdown",
   "metadata": {},
   "source": [
    "### Start with some basic exploratory analysis \n",
    "\n",
    "#### Relevant questions and steps:\n",
    "\n",
    "1. Is it binary classification or multi-class?\n",
    "2. Are the classes balanced or imbalanced?\n",
    "3. Are there any categorical variables that need treatment?\n",
    "4. Prepare data for future models, such as scaling and/or feature extraction"
   ]
  },
  {
   "cell_type": "code",
   "execution_count": 4,
   "metadata": {},
   "outputs": [
    {
     "name": "stdout",
     "output_type": "stream",
     "text": [
      "[1 0]\n",
      "0    23364\n",
      "1     6636\n",
      "Name: default payment next month, dtype: int64\n"
     ]
    }
   ],
   "source": [
    "# Let's see how many different values our target variable is comprised of, and how are they distributed\n",
    "\n",
    "target = raw_set['default payment next month']\n",
    "print(target.unique())\n",
    "print(target.value_counts())"
   ]
  },
  {
   "cell_type": "code",
   "execution_count": 5,
   "metadata": {},
   "outputs": [
    {
     "data": {
      "text/plain": [
       "<matplotlib.axes._subplots.AxesSubplot at 0x16ba83f56a0>"
      ]
     },
     "execution_count": 5,
     "metadata": {},
     "output_type": "execute_result"
    },
    {
     "data": {
      "image/png": "[encoded data removed]",
      "text/plain": [
       "<Figure size 432x360 with 1 Axes>"
      ]
     },
     "metadata": {},
     "output_type": "display_data"
    }
   ],
   "source": [
    "# Let's visualize the target label distribution \n",
    "\n",
    "sns.set_style(style='darkgrid')\n",
    "sns.set(rc={'figure.figsize':(6, 5)})\n",
    "sns.countplot(x=\"default payment next month\", data=raw_set)"
   ]
  },
  {
   "cell_type": "markdown",
   "metadata": {},
   "source": [
    "### We can see that target class is not balanced\n",
    "\n",
    "Class `0` in fact seems to appear as 5 times as often as class `1`. This is something we should consider for two particular reasons:\n",
    "\n",
    "1. Due to this imbalance, **accuracy** is not a reliable metric to describe model's success. So we will use **roc area under the curve** as our main metric of concern. We will keep also accuracy for monitoring as a secondary, more naive metric though.\n",
    "2. The specific proportion between class `0` and `1` will be probably helpful later with logistic regression, as we can adjust classes' weights either manually or with the help of grid search."
   ]
  },
  {
   "cell_type": "code",
   "execution_count": 6,
   "metadata": {},
   "outputs": [
    {
     "name": "stdout",
     "output_type": "stream",
     "text": [
      "First gender is 40.0% of the population. Second gender is 60.0% of the population\n"
     ]
    },
    {
     "data": {
      "image/png": "[encoded data removed]",
      "text/plain": [
       "<Figure size 648x576 with 1 Axes>"
      ]
     },
     "metadata": {},
     "output_type": "display_data"
    }
   ],
   "source": [
    "# Let's examine if gender plays some role to the outcome. Let's see how many different gender values exist, find distribution.\n",
    "\n",
    "gender_dist = raw_set['SEX'].value_counts()\n",
    "second_gender, first_gender = gender_dist\n",
    "\n",
    "# As we see gender is not evenly distributed, as the second gender contains 60% of the population \n",
    "\n",
    "first_proportion = round(first_gender / raw_set['SEX'].shape[0], 2) * 100\n",
    "second_proportion = round(100 - first_proportion, 2)\n",
    "\n",
    "print('First gender is {}% of the population. Second gender is {}% of the population'. format(first_proportion, second_proportion))\n",
    "\n",
    "# let's have a plot and visualize the difference on the outcome if there is one\n",
    "\n",
    "sns.set_style(style='darkgrid')\n",
    "sns.set(rc={'figure.figsize':(9, 8)})\n",
    "ax = sns.countplot(x='default payment next month', hue='SEX', data=raw_set)\n",
    "plt.show()"
   ]
  },
  {
   "cell_type": "markdown",
   "metadata": {},
   "source": [
    "#### No Effect?\n",
    "\n",
    "So at a first glance it does not seem that gender gives you a bigger likelihood to belong to either class, at least significantly.\n",
    "\n",
    "Bear in mind that gender with class \"2\", the orange one as depicted in the graph, appears **1.5** times as frequently as gender\n",
    "with class \"1\".\n",
    "\n",
    "This proportion seems to be preserved in both outcomes, with some variation of course. Pay attention that on the left side\n",
    "the proportion is way more recognizable than on the right side where the samples are smaller.\n",
    "\n",
    "#### What else could we do?\n",
    "\n",
    "In such cases and if we want make ourselves sure, we could perform a hypothesis testing and suggest as alternative hypothesis\n",
    "that the gender observed values are way different than the expected ones (always proportionally). A chi-square test would be\n",
    "very helpful to see, if such a claim stands, and the difference between expected and observed values, is not likely to happen by chance. \n",
    "\n",
    "#### Hot take\n",
    "\n",
    "For now we will trust our vision and we will check again later. One thing we will do for sure is since gender is categorical \n",
    "variable, we will have to treat as it so. Same with `education` and `marriage` types. We will create categorical variables for them as well and if they also don't seem to provide a strong correlation with target label feature, they could be extracted or removed potentially."
   ]
  },
  {
   "cell_type": "code",
   "execution_count": 7,
   "metadata": {},
   "outputs": [
    {
     "data": {
      "text/html": [
       "<div>\n",
       "<style scoped>\n",
       "    .dataframe tbody tr th:only-of-type {\n",
       "        vertical-align: middle;\n",
       "    }\n",
       "\n",
       "    .dataframe tbody tr th {\n",
       "        vertical-align: top;\n",
       "    }\n",
       "\n",
       "    .dataframe thead th {\n",
       "        text-align: right;\n",
       "    }\n",
       "</style>\n",
       "<table border=\"1\" class=\"dataframe\">\n",
       "  <thead>\n",
       "    <tr style=\"text-align: right;\">\n",
       "      <th></th>\n",
       "      <th>ID</th>\n",
       "      <th>LIMIT_BAL</th>\n",
       "      <th>SEX</th>\n",
       "      <th>EDUCATION</th>\n",
       "      <th>MARRIAGE</th>\n",
       "      <th>AGE</th>\n",
       "      <th>PAY_0</th>\n",
       "      <th>PAY_2</th>\n",
       "      <th>PAY_3</th>\n",
       "      <th>PAY_4</th>\n",
       "      <th>...</th>\n",
       "      <th>BILL_AMT3</th>\n",
       "      <th>BILL_AMT4</th>\n",
       "      <th>BILL_AMT5</th>\n",
       "      <th>BILL_AMT6</th>\n",
       "      <th>PAY_AMT1</th>\n",
       "      <th>PAY_AMT2</th>\n",
       "      <th>PAY_AMT3</th>\n",
       "      <th>PAY_AMT4</th>\n",
       "      <th>PAY_AMT5</th>\n",
       "      <th>PAY_AMT6</th>\n",
       "    </tr>\n",
       "  </thead>\n",
       "  <tbody>\n",
       "    <tr>\n",
       "      <th>1</th>\n",
       "      <td>1</td>\n",
       "      <td>20000</td>\n",
       "      <td>2</td>\n",
       "      <td>2</td>\n",
       "      <td>1</td>\n",
       "      <td>24</td>\n",
       "      <td>2</td>\n",
       "      <td>2</td>\n",
       "      <td>-1</td>\n",
       "      <td>-1</td>\n",
       "      <td>...</td>\n",
       "      <td>689</td>\n",
       "      <td>0</td>\n",
       "      <td>0</td>\n",
       "      <td>0</td>\n",
       "      <td>0</td>\n",
       "      <td>689</td>\n",
       "      <td>0</td>\n",
       "      <td>0</td>\n",
       "      <td>0</td>\n",
       "      <td>0</td>\n",
       "    </tr>\n",
       "    <tr>\n",
       "      <th>2</th>\n",
       "      <td>2</td>\n",
       "      <td>120000</td>\n",
       "      <td>2</td>\n",
       "      <td>2</td>\n",
       "      <td>2</td>\n",
       "      <td>26</td>\n",
       "      <td>-1</td>\n",
       "      <td>2</td>\n",
       "      <td>0</td>\n",
       "      <td>0</td>\n",
       "      <td>...</td>\n",
       "      <td>2682</td>\n",
       "      <td>3272</td>\n",
       "      <td>3455</td>\n",
       "      <td>3261</td>\n",
       "      <td>0</td>\n",
       "      <td>1000</td>\n",
       "      <td>1000</td>\n",
       "      <td>1000</td>\n",
       "      <td>0</td>\n",
       "      <td>2000</td>\n",
       "    </tr>\n",
       "    <tr>\n",
       "      <th>3</th>\n",
       "      <td>3</td>\n",
       "      <td>90000</td>\n",
       "      <td>2</td>\n",
       "      <td>2</td>\n",
       "      <td>2</td>\n",
       "      <td>34</td>\n",
       "      <td>0</td>\n",
       "      <td>0</td>\n",
       "      <td>0</td>\n",
       "      <td>0</td>\n",
       "      <td>...</td>\n",
       "      <td>13559</td>\n",
       "      <td>14331</td>\n",
       "      <td>14948</td>\n",
       "      <td>15549</td>\n",
       "      <td>1518</td>\n",
       "      <td>1500</td>\n",
       "      <td>1000</td>\n",
       "      <td>1000</td>\n",
       "      <td>1000</td>\n",
       "      <td>5000</td>\n",
       "    </tr>\n",
       "    <tr>\n",
       "      <th>4</th>\n",
       "      <td>4</td>\n",
       "      <td>50000</td>\n",
       "      <td>2</td>\n",
       "      <td>2</td>\n",
       "      <td>1</td>\n",
       "      <td>37</td>\n",
       "      <td>0</td>\n",
       "      <td>0</td>\n",
       "      <td>0</td>\n",
       "      <td>0</td>\n",
       "      <td>...</td>\n",
       "      <td>49291</td>\n",
       "      <td>28314</td>\n",
       "      <td>28959</td>\n",
       "      <td>29547</td>\n",
       "      <td>2000</td>\n",
       "      <td>2019</td>\n",
       "      <td>1200</td>\n",
       "      <td>1100</td>\n",
       "      <td>1069</td>\n",
       "      <td>1000</td>\n",
       "    </tr>\n",
       "    <tr>\n",
       "      <th>5</th>\n",
       "      <td>5</td>\n",
       "      <td>50000</td>\n",
       "      <td>1</td>\n",
       "      <td>2</td>\n",
       "      <td>1</td>\n",
       "      <td>57</td>\n",
       "      <td>-1</td>\n",
       "      <td>0</td>\n",
       "      <td>-1</td>\n",
       "      <td>0</td>\n",
       "      <td>...</td>\n",
       "      <td>35835</td>\n",
       "      <td>20940</td>\n",
       "      <td>19146</td>\n",
       "      <td>19131</td>\n",
       "      <td>2000</td>\n",
       "      <td>36681</td>\n",
       "      <td>10000</td>\n",
       "      <td>9000</td>\n",
       "      <td>689</td>\n",
       "      <td>679</td>\n",
       "    </tr>\n",
       "  </tbody>\n",
       "</table>\n",
       "<p>5 rows × 24 columns</p>\n",
       "</div>"
      ],
      "text/plain": [
       "   ID  LIMIT_BAL  SEX  EDUCATION  MARRIAGE  AGE  PAY_0  PAY_2  PAY_3  PAY_4  \\\n",
       "1   1      20000    2          2         1   24      2      2     -1     -1   \n",
       "2   2     120000    2          2         2   26     -1      2      0      0   \n",
       "3   3      90000    2          2         2   34      0      0      0      0   \n",
       "4   4      50000    2          2         1   37      0      0      0      0   \n",
       "5   5      50000    1          2         1   57     -1      0     -1      0   \n",
       "\n",
       "   ...  BILL_AMT3  BILL_AMT4  BILL_AMT5  BILL_AMT6  PAY_AMT1  PAY_AMT2  \\\n",
       "1  ...        689          0          0          0         0       689   \n",
       "2  ...       2682       3272       3455       3261         0      1000   \n",
       "3  ...      13559      14331      14948      15549      1518      1500   \n",
       "4  ...      49291      28314      28959      29547      2000      2019   \n",
       "5  ...      35835      20940      19146      19131      2000     36681   \n",
       "\n",
       "   PAY_AMT3  PAY_AMT4  PAY_AMT5  PAY_AMT6  \n",
       "1         0         0         0         0  \n",
       "2      1000      1000         0      2000  \n",
       "3      1000      1000      1000      5000  \n",
       "4      1200      1100      1069      1000  \n",
       "5     10000      9000       689       679  \n",
       "\n",
       "[5 rows x 24 columns]"
      ]
     },
     "execution_count": 7,
     "metadata": {},
     "output_type": "execute_result"
    }
   ],
   "source": [
    "# This is the raw dataset of all X columns, no preprocessing or feature selection. We will use this for our models later on\n",
    "\n",
    "raw_features = raw_set.drop(columns = 'default payment next month')\n",
    "\n",
    "raw_features.head(5)"
   ]
  },
  {
   "cell_type": "markdown",
   "metadata": {},
   "source": [
    "### One hot encode\n",
    "\n",
    "As we see below we will use `one hot encode` to create two categorical columns that correspond to each gender. We do this to prevent any numerical disambiguation that could arise from interpreting these categories as numbers. Is `2` category double than `1` category or what is the actual relationship there? \n",
    "\n",
    "We will proceed with **Marriage** and **Education** categories as well."
   ]
  },
  {
   "cell_type": "code",
   "execution_count": 8,
   "metadata": {
    "scrolled": true
   },
   "outputs": [
    {
     "name": "stdout",
     "output_type": "stream",
     "text": [
      "[2 1]\n",
      "[2 1 3 5 4 6 0]\n",
      "[1 2 3 0]\n"
     ]
    },
    {
     "data": {
      "text/html": [
       "<div>\n",
       "<style scoped>\n",
       "    .dataframe tbody tr th:only-of-type {\n",
       "        vertical-align: middle;\n",
       "    }\n",
       "\n",
       "    .dataframe tbody tr th {\n",
       "        vertical-align: top;\n",
       "    }\n",
       "\n",
       "    .dataframe thead th {\n",
       "        text-align: right;\n",
       "    }\n",
       "</style>\n",
       "<table border=\"1\" class=\"dataframe\">\n",
       "  <thead>\n",
       "    <tr style=\"text-align: right;\">\n",
       "      <th></th>\n",
       "      <th>ID</th>\n",
       "      <th>LIMIT_BAL</th>\n",
       "      <th>AGE</th>\n",
       "      <th>PAY_0</th>\n",
       "      <th>PAY_2</th>\n",
       "      <th>PAY_3</th>\n",
       "      <th>PAY_4</th>\n",
       "      <th>PAY_5</th>\n",
       "      <th>PAY_6</th>\n",
       "      <th>BILL_AMT1</th>\n",
       "      <th>...</th>\n",
       "      <th>SEX_1</th>\n",
       "      <th>EDUCATION_0</th>\n",
       "      <th>EDUCATION_1</th>\n",
       "      <th>EDUCATION_2</th>\n",
       "      <th>EDUCATION_3</th>\n",
       "      <th>EDUCATION_4</th>\n",
       "      <th>EDUCATION_5</th>\n",
       "      <th>MARRIAGE_0</th>\n",
       "      <th>MARRIAGE_1</th>\n",
       "      <th>MARRIAGE_2</th>\n",
       "    </tr>\n",
       "  </thead>\n",
       "  <tbody>\n",
       "    <tr>\n",
       "      <th>1</th>\n",
       "      <td>1</td>\n",
       "      <td>20000</td>\n",
       "      <td>24</td>\n",
       "      <td>2</td>\n",
       "      <td>2</td>\n",
       "      <td>-1</td>\n",
       "      <td>-1</td>\n",
       "      <td>-2</td>\n",
       "      <td>-2</td>\n",
       "      <td>3913</td>\n",
       "      <td>...</td>\n",
       "      <td>0</td>\n",
       "      <td>0</td>\n",
       "      <td>0</td>\n",
       "      <td>1</td>\n",
       "      <td>0</td>\n",
       "      <td>0</td>\n",
       "      <td>0</td>\n",
       "      <td>0</td>\n",
       "      <td>1</td>\n",
       "      <td>0</td>\n",
       "    </tr>\n",
       "    <tr>\n",
       "      <th>2</th>\n",
       "      <td>2</td>\n",
       "      <td>120000</td>\n",
       "      <td>26</td>\n",
       "      <td>-1</td>\n",
       "      <td>2</td>\n",
       "      <td>0</td>\n",
       "      <td>0</td>\n",
       "      <td>0</td>\n",
       "      <td>2</td>\n",
       "      <td>2682</td>\n",
       "      <td>...</td>\n",
       "      <td>0</td>\n",
       "      <td>0</td>\n",
       "      <td>0</td>\n",
       "      <td>1</td>\n",
       "      <td>0</td>\n",
       "      <td>0</td>\n",
       "      <td>0</td>\n",
       "      <td>0</td>\n",
       "      <td>0</td>\n",
       "      <td>1</td>\n",
       "    </tr>\n",
       "    <tr>\n",
       "      <th>3</th>\n",
       "      <td>3</td>\n",
       "      <td>90000</td>\n",
       "      <td>34</td>\n",
       "      <td>0</td>\n",
       "      <td>0</td>\n",
       "      <td>0</td>\n",
       "      <td>0</td>\n",
       "      <td>0</td>\n",
       "      <td>0</td>\n",
       "      <td>29239</td>\n",
       "      <td>...</td>\n",
       "      <td>0</td>\n",
       "      <td>0</td>\n",
       "      <td>0</td>\n",
       "      <td>1</td>\n",
       "      <td>0</td>\n",
       "      <td>0</td>\n",
       "      <td>0</td>\n",
       "      <td>0</td>\n",
       "      <td>0</td>\n",
       "      <td>1</td>\n",
       "    </tr>\n",
       "    <tr>\n",
       "      <th>4</th>\n",
       "      <td>4</td>\n",
       "      <td>50000</td>\n",
       "      <td>37</td>\n",
       "      <td>0</td>\n",
       "      <td>0</td>\n",
       "      <td>0</td>\n",
       "      <td>0</td>\n",
       "      <td>0</td>\n",
       "      <td>0</td>\n",
       "      <td>46990</td>\n",
       "      <td>...</td>\n",
       "      <td>0</td>\n",
       "      <td>0</td>\n",
       "      <td>0</td>\n",
       "      <td>1</td>\n",
       "      <td>0</td>\n",
       "      <td>0</td>\n",
       "      <td>0</td>\n",
       "      <td>0</td>\n",
       "      <td>1</td>\n",
       "      <td>0</td>\n",
       "    </tr>\n",
       "    <tr>\n",
       "      <th>5</th>\n",
       "      <td>5</td>\n",
       "      <td>50000</td>\n",
       "      <td>57</td>\n",
       "      <td>-1</td>\n",
       "      <td>0</td>\n",
       "      <td>-1</td>\n",
       "      <td>0</td>\n",
       "      <td>0</td>\n",
       "      <td>0</td>\n",
       "      <td>8617</td>\n",
       "      <td>...</td>\n",
       "      <td>1</td>\n",
       "      <td>0</td>\n",
       "      <td>0</td>\n",
       "      <td>1</td>\n",
       "      <td>0</td>\n",
       "      <td>0</td>\n",
       "      <td>0</td>\n",
       "      <td>0</td>\n",
       "      <td>1</td>\n",
       "      <td>0</td>\n",
       "    </tr>\n",
       "  </tbody>\n",
       "</table>\n",
       "<p>5 rows × 31 columns</p>\n",
       "</div>"
      ],
      "text/plain": [
       "   ID  LIMIT_BAL  AGE  PAY_0  PAY_2  PAY_3  PAY_4  PAY_5  PAY_6  BILL_AMT1  \\\n",
       "1   1      20000   24      2      2     -1     -1     -2     -2       3913   \n",
       "2   2     120000   26     -1      2      0      0      0      2       2682   \n",
       "3   3      90000   34      0      0      0      0      0      0      29239   \n",
       "4   4      50000   37      0      0      0      0      0      0      46990   \n",
       "5   5      50000   57     -1      0     -1      0      0      0       8617   \n",
       "\n",
       "   ...  SEX_1  EDUCATION_0  EDUCATION_1  EDUCATION_2  EDUCATION_3  \\\n",
       "1  ...      0            0            0            1            0   \n",
       "2  ...      0            0            0            1            0   \n",
       "3  ...      0            0            0            1            0   \n",
       "4  ...      0            0            0            1            0   \n",
       "5  ...      1            0            0            1            0   \n",
       "\n",
       "   EDUCATION_4  EDUCATION_5  MARRIAGE_0  MARRIAGE_1  MARRIAGE_2  \n",
       "1            0            0           0           1           0  \n",
       "2            0            0           0           0           1  \n",
       "3            0            0           0           0           1  \n",
       "4            0            0           0           1           0  \n",
       "5            0            0           0           1           0  \n",
       "\n",
       "[5 rows x 31 columns]"
      ]
     },
     "execution_count": 8,
     "metadata": {},
     "output_type": "execute_result"
    }
   ],
   "source": [
    "# Create the categorical variables for 'sex', 'education' and 'marriage' categories.\n",
    "\n",
    "#first check how many different genders are there\n",
    "\n",
    "num_genders = raw_features['SEX'].unique()\n",
    "\n",
    "print(num_genders)\n",
    "\n",
    "# There is 7 education categories and 4 marriage categories\n",
    "\n",
    "education_categories = raw_features['EDUCATION'].unique()\n",
    "marriage_categories = raw_features['MARRIAGE'].unique()\n",
    "\n",
    "print(education_categories)\n",
    "print(marriage_categories)\n",
    "\n",
    "# So now let's create categorical 'dummy' variables for these and 'sex' category and save it to a new dataframe.\n",
    "\n",
    "raw_categorical = pd.get_dummies(raw_features, columns=['SEX', 'EDUCATION', 'MARRIAGE'])\n",
    "\n",
    "# remove at least one column, whose value can be inferred from other columns' values. See degrees of freedom below\n",
    "raw_categorical.drop(columns = ['SEX_2', 'EDUCATION_6', 'MARRIAGE_3'], inplace=True)\n",
    "\n",
    "raw_categorical.head(5)"
   ]
  },
  {
   "cell_type": "markdown",
   "metadata": {},
   "source": [
    "## Degrees of what?\n",
    "\n",
    "Let's examine a math concept that will help us optimize our categorical columns here. We will take for example the `EDUCATION` \n",
    "category and we will use it's perspective. We have 6 education categories, but each data point (each row) can belong only to one. Thus being part of a specific category automatically excludes this data point from the rest. \n",
    "\n",
    "When having such relationship, the last categorical column of this category does not provide any information gain. Since it's value can be inferred from examining the rest of the columns. For example if all previous columns of **education** from 1 to 5 have all value of `0`, then we know that the last category must always contain value of `1`. \n",
    "\n",
    "That's because in such situtation we may have 6 variables, but only 5 of them are **free to vary**. This statistical concept is known as [Degrees of freedom](https://en.wikipedia.org/wiki/Degrees_of_freedom_(statistics). Thus we can get rid of each last \n",
    "column of categories such as `education`, `marriage` and `sex`. In fact we can remove any column (not only the last one), but strictly **only one**."
   ]
  },
  {
   "cell_type": "code",
   "execution_count": 9,
   "metadata": {},
   "outputs": [
    {
     "name": "stdout",
     "output_type": "stream",
     "text": [
      "[ 2 -1  0 -2  1  3  4  8  7  5  6]\n",
      "[ 2  0 -1 -2  3  5  7  4  1  6  8]\n",
      "[-1  0  2 -2  3  4  6  7  1  5  8]\n",
      "[-1  0 -2  2  3  4  5  7  6  1  8]\n",
      "[-2  0 -1  2  3  5  4  7  8  6]\n",
      "[-2  2  0 -1  3  6  4  7  8  5]\n"
     ]
    }
   ],
   "source": [
    "# Let's check these pay columns again and see what they are made of\n",
    "\n",
    "raw_features.columns = ['PAY_1' if column == 'PAY_0' else column for column in raw_features.columns]\n",
    "\n",
    "for i in range (1, 7):\n",
    "    print(raw_features['PAY_' + str(i)].unique())\n",
    "    \n",
    "# For now we don't know if these are categories, continues or discrete values, like how many days after the deadline the payment\n",
    "# mode. Temporarily we will treat them as discrete values."
   ]
  },
  {
   "cell_type": "code",
   "execution_count": 10,
   "metadata": {},
   "outputs": [
    {
     "name": "stderr",
     "output_type": "stream",
     "text": [
      "C:\\Users\\jake\\Anaconda3\\lib\\site-packages\\sklearn\\preprocessing\\data.py:334: DataConversionWarning: Data with input dtype uint8, int32 were all converted to float64 by MinMaxScaler.\n",
      "  return self.partial_fit(X, y)\n"
     ]
    },
    {
     "data": {
      "text/html": [
       "<div>\n",
       "<style scoped>\n",
       "    .dataframe tbody tr th:only-of-type {\n",
       "        vertical-align: middle;\n",
       "    }\n",
       "\n",
       "    .dataframe tbody tr th {\n",
       "        vertical-align: top;\n",
       "    }\n",
       "\n",
       "    .dataframe thead th {\n",
       "        text-align: right;\n",
       "    }\n",
       "</style>\n",
       "<table border=\"1\" class=\"dataframe\">\n",
       "  <thead>\n",
       "    <tr style=\"text-align: right;\">\n",
       "      <th></th>\n",
       "      <th>ID</th>\n",
       "      <th>LIMIT_BAL</th>\n",
       "      <th>AGE</th>\n",
       "      <th>PAY_0</th>\n",
       "      <th>PAY_2</th>\n",
       "      <th>PAY_3</th>\n",
       "      <th>PAY_4</th>\n",
       "      <th>PAY_5</th>\n",
       "      <th>PAY_6</th>\n",
       "      <th>BILL_AMT1</th>\n",
       "      <th>...</th>\n",
       "      <th>SEX_1</th>\n",
       "      <th>EDUCATION_0</th>\n",
       "      <th>EDUCATION_1</th>\n",
       "      <th>EDUCATION_2</th>\n",
       "      <th>EDUCATION_3</th>\n",
       "      <th>EDUCATION_4</th>\n",
       "      <th>EDUCATION_5</th>\n",
       "      <th>MARRIAGE_0</th>\n",
       "      <th>MARRIAGE_1</th>\n",
       "      <th>MARRIAGE_2</th>\n",
       "    </tr>\n",
       "  </thead>\n",
       "  <tbody>\n",
       "    <tr>\n",
       "      <th>0</th>\n",
       "      <td>0.000000</td>\n",
       "      <td>0.010101</td>\n",
       "      <td>0.051724</td>\n",
       "      <td>0.4</td>\n",
       "      <td>0.4</td>\n",
       "      <td>0.1</td>\n",
       "      <td>0.1</td>\n",
       "      <td>0.0</td>\n",
       "      <td>0.0</td>\n",
       "      <td>0.149982</td>\n",
       "      <td>...</td>\n",
       "      <td>0.0</td>\n",
       "      <td>0.0</td>\n",
       "      <td>0.0</td>\n",
       "      <td>1.0</td>\n",
       "      <td>0.0</td>\n",
       "      <td>0.0</td>\n",
       "      <td>0.0</td>\n",
       "      <td>0.0</td>\n",
       "      <td>1.0</td>\n",
       "      <td>0.0</td>\n",
       "    </tr>\n",
       "    <tr>\n",
       "      <th>1</th>\n",
       "      <td>0.000033</td>\n",
       "      <td>0.111111</td>\n",
       "      <td>0.086207</td>\n",
       "      <td>0.1</td>\n",
       "      <td>0.4</td>\n",
       "      <td>0.2</td>\n",
       "      <td>0.2</td>\n",
       "      <td>0.2</td>\n",
       "      <td>0.4</td>\n",
       "      <td>0.148892</td>\n",
       "      <td>...</td>\n",
       "      <td>0.0</td>\n",
       "      <td>0.0</td>\n",
       "      <td>0.0</td>\n",
       "      <td>1.0</td>\n",
       "      <td>0.0</td>\n",
       "      <td>0.0</td>\n",
       "      <td>0.0</td>\n",
       "      <td>0.0</td>\n",
       "      <td>0.0</td>\n",
       "      <td>1.0</td>\n",
       "    </tr>\n",
       "    <tr>\n",
       "      <th>2</th>\n",
       "      <td>0.000067</td>\n",
       "      <td>0.080808</td>\n",
       "      <td>0.224138</td>\n",
       "      <td>0.2</td>\n",
       "      <td>0.2</td>\n",
       "      <td>0.2</td>\n",
       "      <td>0.2</td>\n",
       "      <td>0.2</td>\n",
       "      <td>0.2</td>\n",
       "      <td>0.172392</td>\n",
       "      <td>...</td>\n",
       "      <td>0.0</td>\n",
       "      <td>0.0</td>\n",
       "      <td>0.0</td>\n",
       "      <td>1.0</td>\n",
       "      <td>0.0</td>\n",
       "      <td>0.0</td>\n",
       "      <td>0.0</td>\n",
       "      <td>0.0</td>\n",
       "      <td>0.0</td>\n",
       "      <td>1.0</td>\n",
       "    </tr>\n",
       "    <tr>\n",
       "      <th>3</th>\n",
       "      <td>0.000100</td>\n",
       "      <td>0.040404</td>\n",
       "      <td>0.275862</td>\n",
       "      <td>0.2</td>\n",
       "      <td>0.2</td>\n",
       "      <td>0.2</td>\n",
       "      <td>0.2</td>\n",
       "      <td>0.2</td>\n",
       "      <td>0.2</td>\n",
       "      <td>0.188100</td>\n",
       "      <td>...</td>\n",
       "      <td>0.0</td>\n",
       "      <td>0.0</td>\n",
       "      <td>0.0</td>\n",
       "      <td>1.0</td>\n",
       "      <td>0.0</td>\n",
       "      <td>0.0</td>\n",
       "      <td>0.0</td>\n",
       "      <td>0.0</td>\n",
       "      <td>1.0</td>\n",
       "      <td>0.0</td>\n",
       "    </tr>\n",
       "    <tr>\n",
       "      <th>4</th>\n",
       "      <td>0.000133</td>\n",
       "      <td>0.040404</td>\n",
       "      <td>0.620690</td>\n",
       "      <td>0.1</td>\n",
       "      <td>0.2</td>\n",
       "      <td>0.1</td>\n",
       "      <td>0.2</td>\n",
       "      <td>0.2</td>\n",
       "      <td>0.2</td>\n",
       "      <td>0.154144</td>\n",
       "      <td>...</td>\n",
       "      <td>1.0</td>\n",
       "      <td>0.0</td>\n",
       "      <td>0.0</td>\n",
       "      <td>1.0</td>\n",
       "      <td>0.0</td>\n",
       "      <td>0.0</td>\n",
       "      <td>0.0</td>\n",
       "      <td>0.0</td>\n",
       "      <td>1.0</td>\n",
       "      <td>0.0</td>\n",
       "    </tr>\n",
       "  </tbody>\n",
       "</table>\n",
       "<p>5 rows × 31 columns</p>\n",
       "</div>"
      ],
      "text/plain": [
       "         ID  LIMIT_BAL       AGE  PAY_0  PAY_2  PAY_3  PAY_4  PAY_5  PAY_6  \\\n",
       "0  0.000000   0.010101  0.051724    0.4    0.4    0.1    0.1    0.0    0.0   \n",
       "1  0.000033   0.111111  0.086207    0.1    0.4    0.2    0.2    0.2    0.4   \n",
       "2  0.000067   0.080808  0.224138    0.2    0.2    0.2    0.2    0.2    0.2   \n",
       "3  0.000100   0.040404  0.275862    0.2    0.2    0.2    0.2    0.2    0.2   \n",
       "4  0.000133   0.040404  0.620690    0.1    0.2    0.1    0.2    0.2    0.2   \n",
       "\n",
       "   BILL_AMT1  ...  SEX_1  EDUCATION_0  EDUCATION_1  EDUCATION_2  EDUCATION_3  \\\n",
       "0   0.149982  ...    0.0          0.0          0.0          1.0          0.0   \n",
       "1   0.148892  ...    0.0          0.0          0.0          1.0          0.0   \n",
       "2   0.172392  ...    0.0          0.0          0.0          1.0          0.0   \n",
       "3   0.188100  ...    0.0          0.0          0.0          1.0          0.0   \n",
       "4   0.154144  ...    1.0          0.0          0.0          1.0          0.0   \n",
       "\n",
       "   EDUCATION_4  EDUCATION_5  MARRIAGE_0  MARRIAGE_1  MARRIAGE_2  \n",
       "0          0.0          0.0         0.0         1.0         0.0  \n",
       "1          0.0          0.0         0.0         0.0         1.0  \n",
       "2          0.0          0.0         0.0         0.0         1.0  \n",
       "3          0.0          0.0         0.0         1.0         0.0  \n",
       "4          0.0          0.0         0.0         1.0         0.0  \n",
       "\n",
       "[5 rows x 31 columns]"
      ]
     },
     "execution_count": 10,
     "metadata": {},
     "output_type": "execute_result"
    }
   ],
   "source": [
    "# scale data using minmax scaler, this is helpful later for KNN boosting and some other models. Store results in new DF\n",
    "\n",
    "min_max_scaler = MinMaxScaler()\n",
    "scaled_X = min_max_scaler.fit_transform(raw_categorical)\n",
    "scaled_features = pd.DataFrame(scaled_X, columns=raw_categorical.columns)\n",
    "\n",
    "scaled_features.head(5)"
   ]
  },
  {
   "cell_type": "code",
   "execution_count": 11,
   "metadata": {},
   "outputs": [
    {
     "name": "stderr",
     "output_type": "stream",
     "text": [
      "C:\\Users\\jake\\Anaconda3\\lib\\site-packages\\sklearn\\preprocessing\\data.py:645: DataConversionWarning: Data with input dtype uint8, int32 were all converted to float64 by StandardScaler.\n",
      "  return self.partial_fit(X, y)\n",
      "C:\\Users\\jake\\Anaconda3\\lib\\site-packages\\sklearn\\base.py:464: DataConversionWarning: Data with input dtype uint8, int32 were all converted to float64 by StandardScaler.\n",
      "  return self.fit(X, **fit_params).transform(X)\n"
     ]
    },
    {
     "data": {
      "text/html": [
       "<div>\n",
       "<style scoped>\n",
       "    .dataframe tbody tr th:only-of-type {\n",
       "        vertical-align: middle;\n",
       "    }\n",
       "\n",
       "    .dataframe tbody tr th {\n",
       "        vertical-align: top;\n",
       "    }\n",
       "\n",
       "    .dataframe thead th {\n",
       "        text-align: right;\n",
       "    }\n",
       "</style>\n",
       "<table border=\"1\" class=\"dataframe\">\n",
       "  <thead>\n",
       "    <tr style=\"text-align: right;\">\n",
       "      <th></th>\n",
       "      <th>ID</th>\n",
       "      <th>LIMIT_BAL</th>\n",
       "      <th>AGE</th>\n",
       "      <th>PAY_0</th>\n",
       "      <th>PAY_2</th>\n",
       "      <th>PAY_3</th>\n",
       "      <th>PAY_4</th>\n",
       "      <th>PAY_5</th>\n",
       "      <th>PAY_6</th>\n",
       "      <th>BILL_AMT1</th>\n",
       "      <th>...</th>\n",
       "      <th>SEX_1</th>\n",
       "      <th>EDUCATION_0</th>\n",
       "      <th>EDUCATION_1</th>\n",
       "      <th>EDUCATION_2</th>\n",
       "      <th>EDUCATION_3</th>\n",
       "      <th>EDUCATION_4</th>\n",
       "      <th>EDUCATION_5</th>\n",
       "      <th>MARRIAGE_0</th>\n",
       "      <th>MARRIAGE_1</th>\n",
       "      <th>MARRIAGE_2</th>\n",
       "    </tr>\n",
       "  </thead>\n",
       "  <tbody>\n",
       "    <tr>\n",
       "      <th>0</th>\n",
       "      <td>-1.731993</td>\n",
       "      <td>-1.136720</td>\n",
       "      <td>-1.246020</td>\n",
       "      <td>1.794564</td>\n",
       "      <td>1.782348</td>\n",
       "      <td>-0.696663</td>\n",
       "      <td>-0.666599</td>\n",
       "      <td>-1.530046</td>\n",
       "      <td>-1.486041</td>\n",
       "      <td>-0.642501</td>\n",
       "      <td>...</td>\n",
       "      <td>-0.810161</td>\n",
       "      <td>-0.021608</td>\n",
       "      <td>-0.738375</td>\n",
       "      <td>1.0669</td>\n",
       "      <td>-0.442752</td>\n",
       "      <td>-0.064163</td>\n",
       "      <td>-0.097063</td>\n",
       "      <td>-0.042465</td>\n",
       "      <td>1.093780</td>\n",
       "      <td>-1.066471</td>\n",
       "    </tr>\n",
       "    <tr>\n",
       "      <th>1</th>\n",
       "      <td>-1.731878</td>\n",
       "      <td>-0.365981</td>\n",
       "      <td>-1.029047</td>\n",
       "      <td>-0.874991</td>\n",
       "      <td>1.782348</td>\n",
       "      <td>0.138865</td>\n",
       "      <td>0.188746</td>\n",
       "      <td>0.234917</td>\n",
       "      <td>1.992316</td>\n",
       "      <td>-0.659219</td>\n",
       "      <td>...</td>\n",
       "      <td>-0.810161</td>\n",
       "      <td>-0.021608</td>\n",
       "      <td>-0.738375</td>\n",
       "      <td>1.0669</td>\n",
       "      <td>-0.442752</td>\n",
       "      <td>-0.064163</td>\n",
       "      <td>-0.097063</td>\n",
       "      <td>-0.042465</td>\n",
       "      <td>-0.914261</td>\n",
       "      <td>0.937672</td>\n",
       "    </tr>\n",
       "    <tr>\n",
       "      <th>2</th>\n",
       "      <td>-1.731762</td>\n",
       "      <td>-0.597202</td>\n",
       "      <td>-0.161156</td>\n",
       "      <td>0.014861</td>\n",
       "      <td>0.111736</td>\n",
       "      <td>0.138865</td>\n",
       "      <td>0.188746</td>\n",
       "      <td>0.234917</td>\n",
       "      <td>0.253137</td>\n",
       "      <td>-0.298560</td>\n",
       "      <td>...</td>\n",
       "      <td>-0.810161</td>\n",
       "      <td>-0.021608</td>\n",
       "      <td>-0.738375</td>\n",
       "      <td>1.0669</td>\n",
       "      <td>-0.442752</td>\n",
       "      <td>-0.064163</td>\n",
       "      <td>-0.097063</td>\n",
       "      <td>-0.042465</td>\n",
       "      <td>-0.914261</td>\n",
       "      <td>0.937672</td>\n",
       "    </tr>\n",
       "    <tr>\n",
       "      <th>3</th>\n",
       "      <td>-1.731647</td>\n",
       "      <td>-0.905498</td>\n",
       "      <td>0.164303</td>\n",
       "      <td>0.014861</td>\n",
       "      <td>0.111736</td>\n",
       "      <td>0.138865</td>\n",
       "      <td>0.188746</td>\n",
       "      <td>0.234917</td>\n",
       "      <td>0.253137</td>\n",
       "      <td>-0.057491</td>\n",
       "      <td>...</td>\n",
       "      <td>-0.810161</td>\n",
       "      <td>-0.021608</td>\n",
       "      <td>-0.738375</td>\n",
       "      <td>1.0669</td>\n",
       "      <td>-0.442752</td>\n",
       "      <td>-0.064163</td>\n",
       "      <td>-0.097063</td>\n",
       "      <td>-0.042465</td>\n",
       "      <td>1.093780</td>\n",
       "      <td>-1.066471</td>\n",
       "    </tr>\n",
       "    <tr>\n",
       "      <th>4</th>\n",
       "      <td>-1.731531</td>\n",
       "      <td>-0.905498</td>\n",
       "      <td>2.334029</td>\n",
       "      <td>-0.874991</td>\n",
       "      <td>0.111736</td>\n",
       "      <td>-0.696663</td>\n",
       "      <td>0.188746</td>\n",
       "      <td>0.234917</td>\n",
       "      <td>0.253137</td>\n",
       "      <td>-0.578618</td>\n",
       "      <td>...</td>\n",
       "      <td>1.234323</td>\n",
       "      <td>-0.021608</td>\n",
       "      <td>-0.738375</td>\n",
       "      <td>1.0669</td>\n",
       "      <td>-0.442752</td>\n",
       "      <td>-0.064163</td>\n",
       "      <td>-0.097063</td>\n",
       "      <td>-0.042465</td>\n",
       "      <td>1.093780</td>\n",
       "      <td>-1.066471</td>\n",
       "    </tr>\n",
       "  </tbody>\n",
       "</table>\n",
       "<p>5 rows × 31 columns</p>\n",
       "</div>"
      ],
      "text/plain": [
       "         ID  LIMIT_BAL       AGE     PAY_0     PAY_2     PAY_3     PAY_4  \\\n",
       "0 -1.731993  -1.136720 -1.246020  1.794564  1.782348 -0.696663 -0.666599   \n",
       "1 -1.731878  -0.365981 -1.029047 -0.874991  1.782348  0.138865  0.188746   \n",
       "2 -1.731762  -0.597202 -0.161156  0.014861  0.111736  0.138865  0.188746   \n",
       "3 -1.731647  -0.905498  0.164303  0.014861  0.111736  0.138865  0.188746   \n",
       "4 -1.731531  -0.905498  2.334029 -0.874991  0.111736 -0.696663  0.188746   \n",
       "\n",
       "      PAY_5     PAY_6  BILL_AMT1  ...     SEX_1  EDUCATION_0  EDUCATION_1  \\\n",
       "0 -1.530046 -1.486041  -0.642501  ... -0.810161    -0.021608    -0.738375   \n",
       "1  0.234917  1.992316  -0.659219  ... -0.810161    -0.021608    -0.738375   \n",
       "2  0.234917  0.253137  -0.298560  ... -0.810161    -0.021608    -0.738375   \n",
       "3  0.234917  0.253137  -0.057491  ... -0.810161    -0.021608    -0.738375   \n",
       "4  0.234917  0.253137  -0.578618  ...  1.234323    -0.021608    -0.738375   \n",
       "\n",
       "   EDUCATION_2  EDUCATION_3  EDUCATION_4  EDUCATION_5  MARRIAGE_0  MARRIAGE_1  \\\n",
       "0       1.0669    -0.442752    -0.064163    -0.097063   -0.042465    1.093780   \n",
       "1       1.0669    -0.442752    -0.064163    -0.097063   -0.042465   -0.914261   \n",
       "2       1.0669    -0.442752    -0.064163    -0.097063   -0.042465   -0.914261   \n",
       "3       1.0669    -0.442752    -0.064163    -0.097063   -0.042465    1.093780   \n",
       "4       1.0669    -0.442752    -0.064163    -0.097063   -0.042465    1.093780   \n",
       "\n",
       "   MARRIAGE_2  \n",
       "0   -1.066471  \n",
       "1    0.937672  \n",
       "2    0.937672  \n",
       "3   -1.066471  \n",
       "4   -1.066471  \n",
       "\n",
       "[5 rows x 31 columns]"
      ]
     },
     "execution_count": 11,
     "metadata": {},
     "output_type": "execute_result"
    }
   ],
   "source": [
    "# scale per z-score standard scaler. This could be helpful for logistic regression or Gaussian Naive Bayes later. Store in DF\n",
    "\n",
    "standard_scaler = StandardScaler()\n",
    "standard_scaled_X = standard_scaler.fit_transform(raw_categorical)\n",
    "standard_scaled_features = pd.DataFrame(standard_scaled_X, columns=raw_categorical.columns)\n",
    "\n",
    "standard_scaled_features.head(5)"
   ]
  },
  {
   "cell_type": "markdown",
   "metadata": {},
   "source": [
    "### Correlation Analysis\n",
    "\n",
    "Then we will remove the features, whose `pearson R` value is between **-0.15** and **0.15**, as they tend to add noise rather\n",
    "than info. We will keep of course in existing dataframes all features, so we can compare and see if there is an actual difference between same models."
   ]
  },
  {
   "cell_type": "code",
   "execution_count": 12,
   "metadata": {
    "scrolled": true
   },
   "outputs": [
    {
     "data": {
      "text/html": [
       "<div>\n",
       "<style scoped>\n",
       "    .dataframe tbody tr th:only-of-type {\n",
       "        vertical-align: middle;\n",
       "    }\n",
       "\n",
       "    .dataframe tbody tr th {\n",
       "        vertical-align: top;\n",
       "    }\n",
       "\n",
       "    .dataframe thead th {\n",
       "        text-align: right;\n",
       "    }\n",
       "</style>\n",
       "<table border=\"1\" class=\"dataframe\">\n",
       "  <thead>\n",
       "    <tr style=\"text-align: right;\">\n",
       "      <th></th>\n",
       "      <th>ID</th>\n",
       "      <th>LIMIT_BAL</th>\n",
       "      <th>SEX</th>\n",
       "      <th>EDUCATION</th>\n",
       "      <th>MARRIAGE</th>\n",
       "      <th>AGE</th>\n",
       "      <th>PAY_0</th>\n",
       "      <th>PAY_2</th>\n",
       "      <th>PAY_3</th>\n",
       "      <th>PAY_4</th>\n",
       "      <th>...</th>\n",
       "      <th>BILL_AMT4</th>\n",
       "      <th>BILL_AMT5</th>\n",
       "      <th>BILL_AMT6</th>\n",
       "      <th>PAY_AMT1</th>\n",
       "      <th>PAY_AMT2</th>\n",
       "      <th>PAY_AMT3</th>\n",
       "      <th>PAY_AMT4</th>\n",
       "      <th>PAY_AMT5</th>\n",
       "      <th>PAY_AMT6</th>\n",
       "      <th>default payment next month</th>\n",
       "    </tr>\n",
       "  </thead>\n",
       "  <tbody>\n",
       "    <tr>\n",
       "      <th>ID</th>\n",
       "      <td>1.000000</td>\n",
       "      <td>0.026179</td>\n",
       "      <td>0.018497</td>\n",
       "      <td>0.039177</td>\n",
       "      <td>-0.029079</td>\n",
       "      <td>0.018678</td>\n",
       "      <td>-0.030575</td>\n",
       "      <td>-0.011215</td>\n",
       "      <td>-0.018494</td>\n",
       "      <td>-0.002735</td>\n",
       "      <td>...</td>\n",
       "      <td>0.040351</td>\n",
       "      <td>0.016705</td>\n",
       "      <td>0.016730</td>\n",
       "      <td>0.009742</td>\n",
       "      <td>0.008406</td>\n",
       "      <td>0.039151</td>\n",
       "      <td>0.007793</td>\n",
       "      <td>0.000652</td>\n",
       "      <td>0.003000</td>\n",
       "      <td>-0.013952</td>\n",
       "    </tr>\n",
       "    <tr>\n",
       "      <th>LIMIT_BAL</th>\n",
       "      <td>0.026179</td>\n",
       "      <td>1.000000</td>\n",
       "      <td>0.024755</td>\n",
       "      <td>-0.219161</td>\n",
       "      <td>-0.108139</td>\n",
       "      <td>0.144713</td>\n",
       "      <td>-0.271214</td>\n",
       "      <td>-0.296382</td>\n",
       "      <td>-0.286123</td>\n",
       "      <td>-0.267460</td>\n",
       "      <td>...</td>\n",
       "      <td>0.293988</td>\n",
       "      <td>0.295562</td>\n",
       "      <td>0.290389</td>\n",
       "      <td>0.195236</td>\n",
       "      <td>0.178408</td>\n",
       "      <td>0.210167</td>\n",
       "      <td>0.203242</td>\n",
       "      <td>0.217202</td>\n",
       "      <td>0.219595</td>\n",
       "      <td>-0.153520</td>\n",
       "    </tr>\n",
       "    <tr>\n",
       "      <th>SEX</th>\n",
       "      <td>0.018497</td>\n",
       "      <td>0.024755</td>\n",
       "      <td>1.000000</td>\n",
       "      <td>0.014232</td>\n",
       "      <td>-0.031389</td>\n",
       "      <td>-0.090874</td>\n",
       "      <td>-0.057643</td>\n",
       "      <td>-0.070771</td>\n",
       "      <td>-0.066096</td>\n",
       "      <td>-0.060173</td>\n",
       "      <td>...</td>\n",
       "      <td>-0.021880</td>\n",
       "      <td>-0.017005</td>\n",
       "      <td>-0.016733</td>\n",
       "      <td>-0.000242</td>\n",
       "      <td>-0.001391</td>\n",
       "      <td>-0.008597</td>\n",
       "      <td>-0.002229</td>\n",
       "      <td>-0.001667</td>\n",
       "      <td>-0.002766</td>\n",
       "      <td>-0.039961</td>\n",
       "    </tr>\n",
       "    <tr>\n",
       "      <th>EDUCATION</th>\n",
       "      <td>0.039177</td>\n",
       "      <td>-0.219161</td>\n",
       "      <td>0.014232</td>\n",
       "      <td>1.000000</td>\n",
       "      <td>-0.143464</td>\n",
       "      <td>0.175061</td>\n",
       "      <td>0.105364</td>\n",
       "      <td>0.121566</td>\n",
       "      <td>0.114025</td>\n",
       "      <td>0.108793</td>\n",
       "      <td>...</td>\n",
       "      <td>-0.000451</td>\n",
       "      <td>-0.007567</td>\n",
       "      <td>-0.009099</td>\n",
       "      <td>-0.037456</td>\n",
       "      <td>-0.030038</td>\n",
       "      <td>-0.039943</td>\n",
       "      <td>-0.038218</td>\n",
       "      <td>-0.040358</td>\n",
       "      <td>-0.037200</td>\n",
       "      <td>0.028006</td>\n",
       "    </tr>\n",
       "    <tr>\n",
       "      <th>MARRIAGE</th>\n",
       "      <td>-0.029079</td>\n",
       "      <td>-0.108139</td>\n",
       "      <td>-0.031389</td>\n",
       "      <td>-0.143464</td>\n",
       "      <td>1.000000</td>\n",
       "      <td>-0.414170</td>\n",
       "      <td>0.019917</td>\n",
       "      <td>0.024199</td>\n",
       "      <td>0.032688</td>\n",
       "      <td>0.033122</td>\n",
       "      <td>...</td>\n",
       "      <td>-0.023344</td>\n",
       "      <td>-0.025393</td>\n",
       "      <td>-0.021207</td>\n",
       "      <td>-0.005979</td>\n",
       "      <td>-0.008093</td>\n",
       "      <td>-0.003541</td>\n",
       "      <td>-0.012659</td>\n",
       "      <td>-0.001205</td>\n",
       "      <td>-0.006641</td>\n",
       "      <td>-0.024339</td>\n",
       "    </tr>\n",
       "    <tr>\n",
       "      <th>AGE</th>\n",
       "      <td>0.018678</td>\n",
       "      <td>0.144713</td>\n",
       "      <td>-0.090874</td>\n",
       "      <td>0.175061</td>\n",
       "      <td>-0.414170</td>\n",
       "      <td>1.000000</td>\n",
       "      <td>-0.039447</td>\n",
       "      <td>-0.050148</td>\n",
       "      <td>-0.053048</td>\n",
       "      <td>-0.049722</td>\n",
       "      <td>...</td>\n",
       "      <td>0.051353</td>\n",
       "      <td>0.049345</td>\n",
       "      <td>0.047613</td>\n",
       "      <td>0.026147</td>\n",
       "      <td>0.021785</td>\n",
       "      <td>0.029247</td>\n",
       "      <td>0.021379</td>\n",
       "      <td>0.022850</td>\n",
       "      <td>0.019478</td>\n",
       "      <td>0.013890</td>\n",
       "    </tr>\n",
       "    <tr>\n",
       "      <th>PAY_0</th>\n",
       "      <td>-0.030575</td>\n",
       "      <td>-0.271214</td>\n",
       "      <td>-0.057643</td>\n",
       "      <td>0.105364</td>\n",
       "      <td>0.019917</td>\n",
       "      <td>-0.039447</td>\n",
       "      <td>1.000000</td>\n",
       "      <td>0.672164</td>\n",
       "      <td>0.574245</td>\n",
       "      <td>0.538841</td>\n",
       "      <td>...</td>\n",
       "      <td>0.179125</td>\n",
       "      <td>0.180635</td>\n",
       "      <td>0.176980</td>\n",
       "      <td>-0.079269</td>\n",
       "      <td>-0.070101</td>\n",
       "      <td>-0.070561</td>\n",
       "      <td>-0.064005</td>\n",
       "      <td>-0.058190</td>\n",
       "      <td>-0.058673</td>\n",
       "      <td>0.324794</td>\n",
       "    </tr>\n",
       "    <tr>\n",
       "      <th>PAY_2</th>\n",
       "      <td>-0.011215</td>\n",
       "      <td>-0.296382</td>\n",
       "      <td>-0.070771</td>\n",
       "      <td>0.121566</td>\n",
       "      <td>0.024199</td>\n",
       "      <td>-0.050148</td>\n",
       "      <td>0.672164</td>\n",
       "      <td>1.000000</td>\n",
       "      <td>0.766552</td>\n",
       "      <td>0.662067</td>\n",
       "      <td>...</td>\n",
       "      <td>0.222237</td>\n",
       "      <td>0.221348</td>\n",
       "      <td>0.219403</td>\n",
       "      <td>-0.080701</td>\n",
       "      <td>-0.058990</td>\n",
       "      <td>-0.055901</td>\n",
       "      <td>-0.046858</td>\n",
       "      <td>-0.037093</td>\n",
       "      <td>-0.036500</td>\n",
       "      <td>0.263551</td>\n",
       "    </tr>\n",
       "    <tr>\n",
       "      <th>PAY_3</th>\n",
       "      <td>-0.018494</td>\n",
       "      <td>-0.286123</td>\n",
       "      <td>-0.066096</td>\n",
       "      <td>0.114025</td>\n",
       "      <td>0.032688</td>\n",
       "      <td>-0.053048</td>\n",
       "      <td>0.574245</td>\n",
       "      <td>0.766552</td>\n",
       "      <td>1.000000</td>\n",
       "      <td>0.777359</td>\n",
       "      <td>...</td>\n",
       "      <td>0.227202</td>\n",
       "      <td>0.225145</td>\n",
       "      <td>0.222327</td>\n",
       "      <td>0.001295</td>\n",
       "      <td>-0.066793</td>\n",
       "      <td>-0.053311</td>\n",
       "      <td>-0.046067</td>\n",
       "      <td>-0.035863</td>\n",
       "      <td>-0.035861</td>\n",
       "      <td>0.235253</td>\n",
       "    </tr>\n",
       "    <tr>\n",
       "      <th>PAY_4</th>\n",
       "      <td>-0.002735</td>\n",
       "      <td>-0.267460</td>\n",
       "      <td>-0.060173</td>\n",
       "      <td>0.108793</td>\n",
       "      <td>0.033122</td>\n",
       "      <td>-0.049722</td>\n",
       "      <td>0.538841</td>\n",
       "      <td>0.662067</td>\n",
       "      <td>0.777359</td>\n",
       "      <td>1.000000</td>\n",
       "      <td>...</td>\n",
       "      <td>0.245917</td>\n",
       "      <td>0.242902</td>\n",
       "      <td>0.239154</td>\n",
       "      <td>-0.009362</td>\n",
       "      <td>-0.001944</td>\n",
       "      <td>-0.069235</td>\n",
       "      <td>-0.043461</td>\n",
       "      <td>-0.033590</td>\n",
       "      <td>-0.026565</td>\n",
       "      <td>0.216614</td>\n",
       "    </tr>\n",
       "    <tr>\n",
       "      <th>PAY_5</th>\n",
       "      <td>-0.022199</td>\n",
       "      <td>-0.249411</td>\n",
       "      <td>-0.055064</td>\n",
       "      <td>0.097520</td>\n",
       "      <td>0.035629</td>\n",
       "      <td>-0.053826</td>\n",
       "      <td>0.509426</td>\n",
       "      <td>0.622780</td>\n",
       "      <td>0.686775</td>\n",
       "      <td>0.819835</td>\n",
       "      <td>...</td>\n",
       "      <td>0.271915</td>\n",
       "      <td>0.269783</td>\n",
       "      <td>0.262509</td>\n",
       "      <td>-0.006089</td>\n",
       "      <td>-0.003191</td>\n",
       "      <td>0.009062</td>\n",
       "      <td>-0.058299</td>\n",
       "      <td>-0.033337</td>\n",
       "      <td>-0.023027</td>\n",
       "      <td>0.204149</td>\n",
       "    </tr>\n",
       "    <tr>\n",
       "      <th>PAY_6</th>\n",
       "      <td>-0.020270</td>\n",
       "      <td>-0.235195</td>\n",
       "      <td>-0.044008</td>\n",
       "      <td>0.082316</td>\n",
       "      <td>0.034345</td>\n",
       "      <td>-0.048773</td>\n",
       "      <td>0.474553</td>\n",
       "      <td>0.575501</td>\n",
       "      <td>0.632684</td>\n",
       "      <td>0.716449</td>\n",
       "      <td>...</td>\n",
       "      <td>0.266356</td>\n",
       "      <td>0.290894</td>\n",
       "      <td>0.285091</td>\n",
       "      <td>-0.001496</td>\n",
       "      <td>-0.005223</td>\n",
       "      <td>0.005834</td>\n",
       "      <td>0.019018</td>\n",
       "      <td>-0.046434</td>\n",
       "      <td>-0.025299</td>\n",
       "      <td>0.186866</td>\n",
       "    </tr>\n",
       "    <tr>\n",
       "      <th>BILL_AMT1</th>\n",
       "      <td>0.019389</td>\n",
       "      <td>0.285430</td>\n",
       "      <td>-0.033642</td>\n",
       "      <td>0.023581</td>\n",
       "      <td>-0.023472</td>\n",
       "      <td>0.056239</td>\n",
       "      <td>0.187068</td>\n",
       "      <td>0.234887</td>\n",
       "      <td>0.208473</td>\n",
       "      <td>0.202812</td>\n",
       "      <td>...</td>\n",
       "      <td>0.860272</td>\n",
       "      <td>0.829779</td>\n",
       "      <td>0.802650</td>\n",
       "      <td>0.140277</td>\n",
       "      <td>0.099355</td>\n",
       "      <td>0.156887</td>\n",
       "      <td>0.158303</td>\n",
       "      <td>0.167026</td>\n",
       "      <td>0.179341</td>\n",
       "      <td>-0.019644</td>\n",
       "    </tr>\n",
       "    <tr>\n",
       "      <th>BILL_AMT2</th>\n",
       "      <td>0.017982</td>\n",
       "      <td>0.278314</td>\n",
       "      <td>-0.031183</td>\n",
       "      <td>0.018749</td>\n",
       "      <td>-0.021602</td>\n",
       "      <td>0.054283</td>\n",
       "      <td>0.189859</td>\n",
       "      <td>0.235257</td>\n",
       "      <td>0.237295</td>\n",
       "      <td>0.225816</td>\n",
       "      <td>...</td>\n",
       "      <td>0.892482</td>\n",
       "      <td>0.859778</td>\n",
       "      <td>0.831594</td>\n",
       "      <td>0.280365</td>\n",
       "      <td>0.100851</td>\n",
       "      <td>0.150718</td>\n",
       "      <td>0.147398</td>\n",
       "      <td>0.157957</td>\n",
       "      <td>0.174256</td>\n",
       "      <td>-0.014193</td>\n",
       "    </tr>\n",
       "    <tr>\n",
       "      <th>BILL_AMT3</th>\n",
       "      <td>0.024354</td>\n",
       "      <td>0.283236</td>\n",
       "      <td>-0.024563</td>\n",
       "      <td>0.013002</td>\n",
       "      <td>-0.024909</td>\n",
       "      <td>0.053710</td>\n",
       "      <td>0.179785</td>\n",
       "      <td>0.224146</td>\n",
       "      <td>0.227494</td>\n",
       "      <td>0.244983</td>\n",
       "      <td>...</td>\n",
       "      <td>0.923969</td>\n",
       "      <td>0.883910</td>\n",
       "      <td>0.853320</td>\n",
       "      <td>0.244335</td>\n",
       "      <td>0.316936</td>\n",
       "      <td>0.130011</td>\n",
       "      <td>0.143405</td>\n",
       "      <td>0.179712</td>\n",
       "      <td>0.182326</td>\n",
       "      <td>-0.014076</td>\n",
       "    </tr>\n",
       "    <tr>\n",
       "      <th>BILL_AMT4</th>\n",
       "      <td>0.040351</td>\n",
       "      <td>0.293988</td>\n",
       "      <td>-0.021880</td>\n",
       "      <td>-0.000451</td>\n",
       "      <td>-0.023344</td>\n",
       "      <td>0.051353</td>\n",
       "      <td>0.179125</td>\n",
       "      <td>0.222237</td>\n",
       "      <td>0.227202</td>\n",
       "      <td>0.245917</td>\n",
       "      <td>...</td>\n",
       "      <td>1.000000</td>\n",
       "      <td>0.940134</td>\n",
       "      <td>0.900941</td>\n",
       "      <td>0.233012</td>\n",
       "      <td>0.207564</td>\n",
       "      <td>0.300023</td>\n",
       "      <td>0.130191</td>\n",
       "      <td>0.160433</td>\n",
       "      <td>0.177637</td>\n",
       "      <td>-0.010156</td>\n",
       "    </tr>\n",
       "    <tr>\n",
       "      <th>BILL_AMT5</th>\n",
       "      <td>0.016705</td>\n",
       "      <td>0.295562</td>\n",
       "      <td>-0.017005</td>\n",
       "      <td>-0.007567</td>\n",
       "      <td>-0.025393</td>\n",
       "      <td>0.049345</td>\n",
       "      <td>0.180635</td>\n",
       "      <td>0.221348</td>\n",
       "      <td>0.225145</td>\n",
       "      <td>0.242902</td>\n",
       "      <td>...</td>\n",
       "      <td>0.940134</td>\n",
       "      <td>1.000000</td>\n",
       "      <td>0.946197</td>\n",
       "      <td>0.217031</td>\n",
       "      <td>0.181246</td>\n",
       "      <td>0.252305</td>\n",
       "      <td>0.293118</td>\n",
       "      <td>0.141574</td>\n",
       "      <td>0.164184</td>\n",
       "      <td>-0.006760</td>\n",
       "    </tr>\n",
       "    <tr>\n",
       "      <th>BILL_AMT6</th>\n",
       "      <td>0.016730</td>\n",
       "      <td>0.290389</td>\n",
       "      <td>-0.016733</td>\n",
       "      <td>-0.009099</td>\n",
       "      <td>-0.021207</td>\n",
       "      <td>0.047613</td>\n",
       "      <td>0.176980</td>\n",
       "      <td>0.219403</td>\n",
       "      <td>0.222327</td>\n",
       "      <td>0.239154</td>\n",
       "      <td>...</td>\n",
       "      <td>0.900941</td>\n",
       "      <td>0.946197</td>\n",
       "      <td>1.000000</td>\n",
       "      <td>0.199965</td>\n",
       "      <td>0.172663</td>\n",
       "      <td>0.233770</td>\n",
       "      <td>0.250237</td>\n",
       "      <td>0.307729</td>\n",
       "      <td>0.115494</td>\n",
       "      <td>-0.005372</td>\n",
       "    </tr>\n",
       "    <tr>\n",
       "      <th>PAY_AMT1</th>\n",
       "      <td>0.009742</td>\n",
       "      <td>0.195236</td>\n",
       "      <td>-0.000242</td>\n",
       "      <td>-0.037456</td>\n",
       "      <td>-0.005979</td>\n",
       "      <td>0.026147</td>\n",
       "      <td>-0.079269</td>\n",
       "      <td>-0.080701</td>\n",
       "      <td>0.001295</td>\n",
       "      <td>-0.009362</td>\n",
       "      <td>...</td>\n",
       "      <td>0.233012</td>\n",
       "      <td>0.217031</td>\n",
       "      <td>0.199965</td>\n",
       "      <td>1.000000</td>\n",
       "      <td>0.285576</td>\n",
       "      <td>0.252191</td>\n",
       "      <td>0.199558</td>\n",
       "      <td>0.148459</td>\n",
       "      <td>0.185735</td>\n",
       "      <td>-0.072929</td>\n",
       "    </tr>\n",
       "    <tr>\n",
       "      <th>PAY_AMT2</th>\n",
       "      <td>0.008406</td>\n",
       "      <td>0.178408</td>\n",
       "      <td>-0.001391</td>\n",
       "      <td>-0.030038</td>\n",
       "      <td>-0.008093</td>\n",
       "      <td>0.021785</td>\n",
       "      <td>-0.070101</td>\n",
       "      <td>-0.058990</td>\n",
       "      <td>-0.066793</td>\n",
       "      <td>-0.001944</td>\n",
       "      <td>...</td>\n",
       "      <td>0.207564</td>\n",
       "      <td>0.181246</td>\n",
       "      <td>0.172663</td>\n",
       "      <td>0.285576</td>\n",
       "      <td>1.000000</td>\n",
       "      <td>0.244770</td>\n",
       "      <td>0.180107</td>\n",
       "      <td>0.180908</td>\n",
       "      <td>0.157634</td>\n",
       "      <td>-0.058579</td>\n",
       "    </tr>\n",
       "    <tr>\n",
       "      <th>PAY_AMT3</th>\n",
       "      <td>0.039151</td>\n",
       "      <td>0.210167</td>\n",
       "      <td>-0.008597</td>\n",
       "      <td>-0.039943</td>\n",
       "      <td>-0.003541</td>\n",
       "      <td>0.029247</td>\n",
       "      <td>-0.070561</td>\n",
       "      <td>-0.055901</td>\n",
       "      <td>-0.053311</td>\n",
       "      <td>-0.069235</td>\n",
       "      <td>...</td>\n",
       "      <td>0.300023</td>\n",
       "      <td>0.252305</td>\n",
       "      <td>0.233770</td>\n",
       "      <td>0.252191</td>\n",
       "      <td>0.244770</td>\n",
       "      <td>1.000000</td>\n",
       "      <td>0.216325</td>\n",
       "      <td>0.159214</td>\n",
       "      <td>0.162740</td>\n",
       "      <td>-0.056250</td>\n",
       "    </tr>\n",
       "    <tr>\n",
       "      <th>PAY_AMT4</th>\n",
       "      <td>0.007793</td>\n",
       "      <td>0.203242</td>\n",
       "      <td>-0.002229</td>\n",
       "      <td>-0.038218</td>\n",
       "      <td>-0.012659</td>\n",
       "      <td>0.021379</td>\n",
       "      <td>-0.064005</td>\n",
       "      <td>-0.046858</td>\n",
       "      <td>-0.046067</td>\n",
       "      <td>-0.043461</td>\n",
       "      <td>...</td>\n",
       "      <td>0.130191</td>\n",
       "      <td>0.293118</td>\n",
       "      <td>0.250237</td>\n",
       "      <td>0.199558</td>\n",
       "      <td>0.180107</td>\n",
       "      <td>0.216325</td>\n",
       "      <td>1.000000</td>\n",
       "      <td>0.151830</td>\n",
       "      <td>0.157834</td>\n",
       "      <td>-0.056827</td>\n",
       "    </tr>\n",
       "    <tr>\n",
       "      <th>PAY_AMT5</th>\n",
       "      <td>0.000652</td>\n",
       "      <td>0.217202</td>\n",
       "      <td>-0.001667</td>\n",
       "      <td>-0.040358</td>\n",
       "      <td>-0.001205</td>\n",
       "      <td>0.022850</td>\n",
       "      <td>-0.058190</td>\n",
       "      <td>-0.037093</td>\n",
       "      <td>-0.035863</td>\n",
       "      <td>-0.033590</td>\n",
       "      <td>...</td>\n",
       "      <td>0.160433</td>\n",
       "      <td>0.141574</td>\n",
       "      <td>0.307729</td>\n",
       "      <td>0.148459</td>\n",
       "      <td>0.180908</td>\n",
       "      <td>0.159214</td>\n",
       "      <td>0.151830</td>\n",
       "      <td>1.000000</td>\n",
       "      <td>0.154896</td>\n",
       "      <td>-0.055124</td>\n",
       "    </tr>\n",
       "    <tr>\n",
       "      <th>PAY_AMT6</th>\n",
       "      <td>0.003000</td>\n",
       "      <td>0.219595</td>\n",
       "      <td>-0.002766</td>\n",
       "      <td>-0.037200</td>\n",
       "      <td>-0.006641</td>\n",
       "      <td>0.019478</td>\n",
       "      <td>-0.058673</td>\n",
       "      <td>-0.036500</td>\n",
       "      <td>-0.035861</td>\n",
       "      <td>-0.026565</td>\n",
       "      <td>...</td>\n",
       "      <td>0.177637</td>\n",
       "      <td>0.164184</td>\n",
       "      <td>0.115494</td>\n",
       "      <td>0.185735</td>\n",
       "      <td>0.157634</td>\n",
       "      <td>0.162740</td>\n",
       "      <td>0.157834</td>\n",
       "      <td>0.154896</td>\n",
       "      <td>1.000000</td>\n",
       "      <td>-0.053183</td>\n",
       "    </tr>\n",
       "    <tr>\n",
       "      <th>default payment next month</th>\n",
       "      <td>-0.013952</td>\n",
       "      <td>-0.153520</td>\n",
       "      <td>-0.039961</td>\n",
       "      <td>0.028006</td>\n",
       "      <td>-0.024339</td>\n",
       "      <td>0.013890</td>\n",
       "      <td>0.324794</td>\n",
       "      <td>0.263551</td>\n",
       "      <td>0.235253</td>\n",
       "      <td>0.216614</td>\n",
       "      <td>...</td>\n",
       "      <td>-0.010156</td>\n",
       "      <td>-0.006760</td>\n",
       "      <td>-0.005372</td>\n",
       "      <td>-0.072929</td>\n",
       "      <td>-0.058579</td>\n",
       "      <td>-0.056250</td>\n",
       "      <td>-0.056827</td>\n",
       "      <td>-0.055124</td>\n",
       "      <td>-0.053183</td>\n",
       "      <td>1.000000</td>\n",
       "    </tr>\n",
       "  </tbody>\n",
       "</table>\n",
       "<p>25 rows × 25 columns</p>\n",
       "</div>"
      ],
      "text/plain": [
       "                                  ID  LIMIT_BAL       SEX  EDUCATION  \\\n",
       "ID                          1.000000   0.026179  0.018497   0.039177   \n",
       "LIMIT_BAL                   0.026179   1.000000  0.024755  -0.219161   \n",
       "SEX                         0.018497   0.024755  1.000000   0.014232   \n",
       "EDUCATION                   0.039177  -0.219161  0.014232   1.000000   \n",
       "MARRIAGE                   -0.029079  -0.108139 -0.031389  -0.143464   \n",
       "AGE                         0.018678   0.144713 -0.090874   0.175061   \n",
       "PAY_0                      -0.030575  -0.271214 -0.057643   0.105364   \n",
       "PAY_2                      -0.011215  -0.296382 -0.070771   0.121566   \n",
       "PAY_3                      -0.018494  -0.286123 -0.066096   0.114025   \n",
       "PAY_4                      -0.002735  -0.267460 -0.060173   0.108793   \n",
       "PAY_5                      -0.022199  -0.249411 -0.055064   0.097520   \n",
       "PAY_6                      -0.020270  -0.235195 -0.044008   0.082316   \n",
       "BILL_AMT1                   0.019389   0.285430 -0.033642   0.023581   \n",
       "BILL_AMT2                   0.017982   0.278314 -0.031183   0.018749   \n",
       "BILL_AMT3                   0.024354   0.283236 -0.024563   0.013002   \n",
       "BILL_AMT4                   0.040351   0.293988 -0.021880  -0.000451   \n",
       "BILL_AMT5                   0.016705   0.295562 -0.017005  -0.007567   \n",
       "BILL_AMT6                   0.016730   0.290389 -0.016733  -0.009099   \n",
       "PAY_AMT1                    0.009742   0.195236 -0.000242  -0.037456   \n",
       "PAY_AMT2                    0.008406   0.178408 -0.001391  -0.030038   \n",
       "PAY_AMT3                    0.039151   0.210167 -0.008597  -0.039943   \n",
       "PAY_AMT4                    0.007793   0.203242 -0.002229  -0.038218   \n",
       "PAY_AMT5                    0.000652   0.217202 -0.001667  -0.040358   \n",
       "PAY_AMT6                    0.003000   0.219595 -0.002766  -0.037200   \n",
       "default payment next month -0.013952  -0.153520 -0.039961   0.028006   \n",
       "\n",
       "                            MARRIAGE       AGE     PAY_0     PAY_2     PAY_3  \\\n",
       "ID                         -0.029079  0.018678 -0.030575 -0.011215 -0.018494   \n",
       "LIMIT_BAL                  -0.108139  0.144713 -0.271214 -0.296382 -0.286123   \n",
       "SEX                        -0.031389 -0.090874 -0.057643 -0.070771 -0.066096   \n",
       "EDUCATION                  -0.143464  0.175061  0.105364  0.121566  0.114025   \n",
       "MARRIAGE                    1.000000 -0.414170  0.019917  0.024199  0.032688   \n",
       "AGE                        -0.414170  1.000000 -0.039447 -0.050148 -0.053048   \n",
       "PAY_0                       0.019917 -0.039447  1.000000  0.672164  0.574245   \n",
       "PAY_2                       0.024199 -0.050148  0.672164  1.000000  0.766552   \n",
       "PAY_3                       0.032688 -0.053048  0.574245  0.766552  1.000000   \n",
       "PAY_4                       0.033122 -0.049722  0.538841  0.662067  0.777359   \n",
       "PAY_5                       0.035629 -0.053826  0.509426  0.622780  0.686775   \n",
       "PAY_6                       0.034345 -0.048773  0.474553  0.575501  0.632684   \n",
       "BILL_AMT1                  -0.023472  0.056239  0.187068  0.234887  0.208473   \n",
       "BILL_AMT2                  -0.021602  0.054283  0.189859  0.235257  0.237295   \n",
       "BILL_AMT3                  -0.024909  0.053710  0.179785  0.224146  0.227494   \n",
       "BILL_AMT4                  -0.023344  0.051353  0.179125  0.222237  0.227202   \n",
       "BILL_AMT5                  -0.025393  0.049345  0.180635  0.221348  0.225145   \n",
       "BILL_AMT6                  -0.021207  0.047613  0.176980  0.219403  0.222327   \n",
       "PAY_AMT1                   -0.005979  0.026147 -0.079269 -0.080701  0.001295   \n",
       "PAY_AMT2                   -0.008093  0.021785 -0.070101 -0.058990 -0.066793   \n",
       "PAY_AMT3                   -0.003541  0.029247 -0.070561 -0.055901 -0.053311   \n",
       "PAY_AMT4                   -0.012659  0.021379 -0.064005 -0.046858 -0.046067   \n",
       "PAY_AMT5                   -0.001205  0.022850 -0.058190 -0.037093 -0.035863   \n",
       "PAY_AMT6                   -0.006641  0.019478 -0.058673 -0.036500 -0.035861   \n",
       "default payment next month -0.024339  0.013890  0.324794  0.263551  0.235253   \n",
       "\n",
       "                               PAY_4  ...  BILL_AMT4  BILL_AMT5  BILL_AMT6  \\\n",
       "ID                         -0.002735  ...   0.040351   0.016705   0.016730   \n",
       "LIMIT_BAL                  -0.267460  ...   0.293988   0.295562   0.290389   \n",
       "SEX                        -0.060173  ...  -0.021880  -0.017005  -0.016733   \n",
       "EDUCATION                   0.108793  ...  -0.000451  -0.007567  -0.009099   \n",
       "MARRIAGE                    0.033122  ...  -0.023344  -0.025393  -0.021207   \n",
       "AGE                        -0.049722  ...   0.051353   0.049345   0.047613   \n",
       "PAY_0                       0.538841  ...   0.179125   0.180635   0.176980   \n",
       "PAY_2                       0.662067  ...   0.222237   0.221348   0.219403   \n",
       "PAY_3                       0.777359  ...   0.227202   0.225145   0.222327   \n",
       "PAY_4                       1.000000  ...   0.245917   0.242902   0.239154   \n",
       "PAY_5                       0.819835  ...   0.271915   0.269783   0.262509   \n",
       "PAY_6                       0.716449  ...   0.266356   0.290894   0.285091   \n",
       "BILL_AMT1                   0.202812  ...   0.860272   0.829779   0.802650   \n",
       "BILL_AMT2                   0.225816  ...   0.892482   0.859778   0.831594   \n",
       "BILL_AMT3                   0.244983  ...   0.923969   0.883910   0.853320   \n",
       "BILL_AMT4                   0.245917  ...   1.000000   0.940134   0.900941   \n",
       "BILL_AMT5                   0.242902  ...   0.940134   1.000000   0.946197   \n",
       "BILL_AMT6                   0.239154  ...   0.900941   0.946197   1.000000   \n",
       "PAY_AMT1                   -0.009362  ...   0.233012   0.217031   0.199965   \n",
       "PAY_AMT2                   -0.001944  ...   0.207564   0.181246   0.172663   \n",
       "PAY_AMT3                   -0.069235  ...   0.300023   0.252305   0.233770   \n",
       "PAY_AMT4                   -0.043461  ...   0.130191   0.293118   0.250237   \n",
       "PAY_AMT5                   -0.033590  ...   0.160433   0.141574   0.307729   \n",
       "PAY_AMT6                   -0.026565  ...   0.177637   0.164184   0.115494   \n",
       "default payment next month  0.216614  ...  -0.010156  -0.006760  -0.005372   \n",
       "\n",
       "                            PAY_AMT1  PAY_AMT2  PAY_AMT3  PAY_AMT4  PAY_AMT5  \\\n",
       "ID                          0.009742  0.008406  0.039151  0.007793  0.000652   \n",
       "LIMIT_BAL                   0.195236  0.178408  0.210167  0.203242  0.217202   \n",
       "SEX                        -0.000242 -0.001391 -0.008597 -0.002229 -0.001667   \n",
       "EDUCATION                  -0.037456 -0.030038 -0.039943 -0.038218 -0.040358   \n",
       "MARRIAGE                   -0.005979 -0.008093 -0.003541 -0.012659 -0.001205   \n",
       "AGE                         0.026147  0.021785  0.029247  0.021379  0.022850   \n",
       "PAY_0                      -0.079269 -0.070101 -0.070561 -0.064005 -0.058190   \n",
       "PAY_2                      -0.080701 -0.058990 -0.055901 -0.046858 -0.037093   \n",
       "PAY_3                       0.001295 -0.066793 -0.053311 -0.046067 -0.035863   \n",
       "PAY_4                      -0.009362 -0.001944 -0.069235 -0.043461 -0.033590   \n",
       "PAY_5                      -0.006089 -0.003191  0.009062 -0.058299 -0.033337   \n",
       "PAY_6                      -0.001496 -0.005223  0.005834  0.019018 -0.046434   \n",
       "BILL_AMT1                   0.140277  0.099355  0.156887  0.158303  0.167026   \n",
       "BILL_AMT2                   0.280365  0.100851  0.150718  0.147398  0.157957   \n",
       "BILL_AMT3                   0.244335  0.316936  0.130011  0.143405  0.179712   \n",
       "BILL_AMT4                   0.233012  0.207564  0.300023  0.130191  0.160433   \n",
       "BILL_AMT5                   0.217031  0.181246  0.252305  0.293118  0.141574   \n",
       "BILL_AMT6                   0.199965  0.172663  0.233770  0.250237  0.307729   \n",
       "PAY_AMT1                    1.000000  0.285576  0.252191  0.199558  0.148459   \n",
       "PAY_AMT2                    0.285576  1.000000  0.244770  0.180107  0.180908   \n",
       "PAY_AMT3                    0.252191  0.244770  1.000000  0.216325  0.159214   \n",
       "PAY_AMT4                    0.199558  0.180107  0.216325  1.000000  0.151830   \n",
       "PAY_AMT5                    0.148459  0.180908  0.159214  0.151830  1.000000   \n",
       "PAY_AMT6                    0.185735  0.157634  0.162740  0.157834  0.154896   \n",
       "default payment next month -0.072929 -0.058579 -0.056250 -0.056827 -0.055124   \n",
       "\n",
       "                            PAY_AMT6  default payment next month  \n",
       "ID                          0.003000                   -0.013952  \n",
       "LIMIT_BAL                   0.219595                   -0.153520  \n",
       "SEX                        -0.002766                   -0.039961  \n",
       "EDUCATION                  -0.037200                    0.028006  \n",
       "MARRIAGE                   -0.006641                   -0.024339  \n",
       "AGE                         0.019478                    0.013890  \n",
       "PAY_0                      -0.058673                    0.324794  \n",
       "PAY_2                      -0.036500                    0.263551  \n",
       "PAY_3                      -0.035861                    0.235253  \n",
       "PAY_4                      -0.026565                    0.216614  \n",
       "PAY_5                      -0.023027                    0.204149  \n",
       "PAY_6                      -0.025299                    0.186866  \n",
       "BILL_AMT1                   0.179341                   -0.019644  \n",
       "BILL_AMT2                   0.174256                   -0.014193  \n",
       "BILL_AMT3                   0.182326                   -0.014076  \n",
       "BILL_AMT4                   0.177637                   -0.010156  \n",
       "BILL_AMT5                   0.164184                   -0.006760  \n",
       "BILL_AMT6                   0.115494                   -0.005372  \n",
       "PAY_AMT1                    0.185735                   -0.072929  \n",
       "PAY_AMT2                    0.157634                   -0.058579  \n",
       "PAY_AMT3                    0.162740                   -0.056250  \n",
       "PAY_AMT4                    0.157834                   -0.056827  \n",
       "PAY_AMT5                    0.154896                   -0.055124  \n",
       "PAY_AMT6                    1.000000                   -0.053183  \n",
       "default payment next month -0.053183                    1.000000  \n",
       "\n",
       "[25 rows x 25 columns]"
      ]
     },
     "execution_count": 12,
     "metadata": {},
     "output_type": "execute_result"
    }
   ],
   "source": [
    "correlation_matrix = raw_set.corr()\n",
    "\n",
    "correlation_matrix"
   ]
  },
  {
   "cell_type": "code",
   "execution_count": 13,
   "metadata": {},
   "outputs": [
    {
     "data": {
      "text/plain": [
       "<matplotlib.axes._subplots.AxesSubplot at 0x16ba56b1400>"
      ]
     },
     "execution_count": 13,
     "metadata": {},
     "output_type": "execute_result"
    },
    {
     "data": {
      "image/png": "[encoded data removed]",
      "text/plain": [
       "<Figure size 648x576 with 2 Axes>"
      ]
     },
     "metadata": {},
     "output_type": "display_data"
    }
   ],
   "source": [
    "# Let's plot a heatmap and have a better look. The columns to the far right, is what we are mostly interested in\n",
    "\n",
    "sns.heatmap(correlation_matrix, cmap='vlag', vmax=1, vmin=-1)"
   ]
  },
  {
   "cell_type": "markdown",
   "metadata": {},
   "source": [
    "At a first glance we can conclude that only the `pay_number` type of columns (plus `LIMIT_BAL`) have something to do with the variable we are trying to predict.  \n",
    "\n",
    "This makes sense also if we think about it. The consistency of how well the customer pays up each month, should be a good overview of what follows\n",
    "\n",
    "##### We have to be careful though as these columns also seem to be highly correlated with each another (co-influencing each other)\n",
    "\n",
    "So we will keep all options open, and store the different variations of columns selections in different dataframes. Then we can compare how do they work, when applied on our models."
   ]
  },
  {
   "cell_type": "code",
   "execution_count": 14,
   "metadata": {},
   "outputs": [
    {
     "name": "stdout",
     "output_type": "stream",
     "text": [
      "   PAY_0  PAY_2  PAY_3  PAY_4  PAY_5  PAY_6  LIMIT_BAL\n",
      "1      2      2     -1     -1     -2     -2      20000\n",
      "2     -1      2      0      0      0      2     120000\n",
      "3      0      0      0      0      0      0      90000\n",
      "4      0      0      0      0      0      0      50000\n",
      "5     -1      0     -1      0      0      0      50000\n",
      "\n",
      "\n",
      "   PAY_0  PAY_2  PAY_3  PAY_4  PAY_5  PAY_6  LIMIT_BAL\n",
      "0    0.4    0.4    0.1    0.1    0.0    0.0   0.010101\n",
      "1    0.1    0.4    0.2    0.2    0.2    0.4   0.111111\n",
      "2    0.2    0.2    0.2    0.2    0.2    0.2   0.080808\n",
      "3    0.2    0.2    0.2    0.2    0.2    0.2   0.040404\n",
      "4    0.1    0.2    0.1    0.2    0.2    0.2   0.040404\n",
      "\n",
      "\n",
      "      PAY_0     PAY_2     PAY_3     PAY_4     PAY_5     PAY_6  LIMIT_BAL\n",
      "0  1.794564  1.782348 -0.696663 -0.666599 -1.530046 -1.486041  -1.136720\n",
      "1 -0.874991  1.782348  0.138865  0.188746  0.234917  1.992316  -0.365981\n",
      "2  0.014861  0.111736  0.138865  0.188746  0.234917  0.253137  -0.597202\n",
      "3  0.014861  0.111736  0.138865  0.188746  0.234917  0.253137  -0.905498\n",
      "4 -0.874991  0.111736 -0.696663  0.188746  0.234917  0.253137  -0.905498\n"
     ]
    }
   ],
   "source": [
    "# select features here, slice in order to remove Pay_amt columns, and add LIMIT_BAL column alongside PAY_0, ... PAY_6\n",
    "\n",
    "all_pay_columns = [col for col in raw_set if 'PAY' in col][0:6]\n",
    "all_pay_columns.append('LIMIT_BAL')\n",
    "\n",
    "# in the end we have 3 new dataframes, all equipped with only 'high profile' columns. One with no scale, one minmax, one z-score\n",
    "\n",
    "select_raw_features = raw_categorical.filter(all_pay_columns, axis = 1)\n",
    "select_standard_features = standard_scaled_features.filter(all_pay_columns, axis = 1)\n",
    "select_scaled_features = scaled_features.filter(all_pay_columns, axis=1)\n",
    "\n",
    "print(select_raw_features.head(5))\n",
    "print('\\n')\n",
    "print(select_scaled_features.head(5))\n",
    "print('\\n')\n",
    "print(select_standard_features.head(5))"
   ]
  },
  {
   "cell_type": "markdown",
   "metadata": {},
   "source": [
    "### Now we should have at our disposal the following datasets to work with:\n",
    "\n",
    "1. Raw dataset with all features and target variable included as they are. **raw_set**\n",
    "2. Same as *raw_set*, just target variable is excluded. **raw_features**\n",
    "3. Categorical values with dummy variables. **raw_categorical**\n",
    "4. Scale according to min-max scaler. Mostly for KNN. **scaled_features**\n",
    "5. Scale according to z-score standard scaler. Mostly for logistic regression. **standard_scaled_features**\n",
    "6. Select features with higher correlation without any scaling. **select_raw_features**\n",
    "7. Select features, scaled min-max. **select_scaled_features**\n",
    "8. Select features, scaled by standard scaler. **select_standard_features**\n",
    "\n",
    "Hopefully now we have couple of sets, to test and see if there is some significant boost with a specific approach or not."
   ]
  },
  {
   "cell_type": "markdown",
   "metadata": {},
   "source": [
    "### Possbile takes \n",
    "\n",
    "1. We can see we are dealing with two possible values, thus a binary classification problem.\n",
    "2. We can also extract that class '0' appears way more frequently. So our data is imbalanced.\n",
    "as a more reliable metric system than plain accuracy score. "
   ]
  },
  {
   "cell_type": "markdown",
   "metadata": {},
   "source": [
    "## Set Performance Benchmark\n",
    "\n",
    "Apply without any exploration or preprocessing, a benchmark performance metric with random forest, in order to assess the\n",
    "complexity of the data and how much can be explained from the features with a first glance.\n",
    "\n",
    "##### Procedure\n",
    "\n",
    "1. Random Forest classifier on a 5 Fold cross validation\n",
    "2. Print and measure the average accuracy and/or roc area under the curve since we have binary classification"
   ]
  },
  {
   "cell_type": "code",
   "execution_count": 15,
   "metadata": {},
   "outputs": [],
   "source": [
    "# generic function, we pass the model as first param, X_features and target column. Applies 5 Fold Cross Validation with metrics\n",
    "# accuracy and auc score. After each run prints the average of these metrics (mean of 5 folds), and returns a dictionary \n",
    "\n",
    "def run_model(model, feature_set, target_label):\n",
    "    cross_score = cross_validate(model, feature_set, target_label, scoring = ['accuracy', 'roc_auc'], cv = 5, n_jobs=-1)\n",
    "    mean_accuracy, mean_roc_auc = [round(mean(cross_score['test_accuracy']), 3), round(mean(cross_score['test_roc_auc']), 3)]\n",
    "    print('The model has average accuracy {} and average area under the curve {}'.format(mean_accuracy, mean_roc_auc))\n",
    "    return {'accuracy': mean_accuracy, 'auc': mean_roc_auc}"
   ]
  },
  {
   "cell_type": "code",
   "execution_count": 16,
   "metadata": {},
   "outputs": [
    {
     "name": "stdout",
     "output_type": "stream",
     "text": [
      "The model has average accuracy 0.813 and average area under the curve 0.75\n"
     ]
    },
    {
     "data": {
      "text/plain": [
       "{'accuracy': 0.813, 'auc': 0.75}"
      ]
     },
     "execution_count": 16,
     "metadata": {},
     "output_type": "execute_result"
    }
   ],
   "source": [
    "# We will use always a specific random state in order to preserve consistency, even if we have cross validation (which we do),\n",
    "# we want to be sure that features will be applied the same across our different runs of our model and have same results\n",
    "\n",
    "rfc_model = RandomForestClassifier(random_state = 101, max_depth = 2, n_estimators = 100)\n",
    "run_model(rfc_model, select_raw_features, target)"
   ]
  },
  {
   "cell_type": "markdown",
   "metadata": {},
   "source": [
    "## Benchmark outcome\n",
    "\n",
    "### First raw initial benchmarks:\n",
    "\n",
    "1. Accuracy: **0.813**\n",
    "2. Roc AUC area: **0.75**\n",
    "\n",
    "Now from now on we will try to approximate or surpass this performance with other algorithms and models by using scaling, feature selection and hyperparameters tunin in some cases."
   ]
  },
  {
   "cell_type": "code",
   "execution_count": 64,
   "metadata": {},
   "outputs": [],
   "source": [
    "# KNN time. Function that starts and measures for a number of neighbors on given interval. Returns results for optimization\n",
    "\n",
    "def knn_repeater(start_neighbors, stop_neighbors, X, y):\n",
    "    neighbors_placeholder = [] # holds the number of neighbors used\n",
    "    all_accuracies = [] # holds the accuracy achieved with that neighbor\n",
    "    all_auc = [] # more importantly hold auc score with that number of neighbors\n",
    "\n",
    "    for i in range (start_neighbors, stop_neighbors, 5):\n",
    "        knn_model = KNeighborsClassifier(n_neighbors=i)\n",
    "        neighbors_placeholder.append('n_' + str(i))\n",
    "        metrics = run_model(knn_model, X, y)\n",
    "        all_accuracies.append(metrics['accuracy'])\n",
    "        all_auc.append(metrics['auc'])\n",
    "        \n",
    "    return {'neighbors_collection': neighbors_placeholder, 'accuracy_collection': all_accuracies, 'auc_collection': all_auc}"
   ]
  },
  {
   "cell_type": "markdown",
   "metadata": {},
   "source": [
    "## Attention!\n",
    "\n",
    "The next **3** code blocks contain attempts, regarding the best number of nearest neighbors, as well as examining the\n",
    "potential impact of scaling the data (minmax in this case) and/or feature selection performance. \n",
    "\n",
    "### This will take a lot of time running! Luckily you can skip!\n",
    "\n",
    "We have run these blocks for you and hardcoded the actual values that come from these functions, after these blocks. The results are depicted on the line charts below (after these 3 blocks always). \n",
    "\n",
    "If for any reason you would like to execute them, feel free. Each block takes approximatelly **5-6 mins** to run so get yourself a coffee!\n",
    "\n",
    "## Next recommended step:\n",
    "\n",
    "Run the block with the three dictionaries after reading this line. There is a big `HERE!` comment on top of it."
   ]
  },
  {
   "cell_type": "code",
   "execution_count": 65,
   "metadata": {},
   "outputs": [
    {
     "name": "stdout",
     "output_type": "stream",
     "text": [
      "The model has average accuracy 0.747 and average area under the curve 0.594\n",
      "The model has average accuracy 0.769 and average area under the curve 0.62\n",
      "The model has average accuracy 0.768 and average area under the curve 0.632\n",
      "The model has average accuracy 0.774 and average area under the curve 0.637\n",
      "The model has average accuracy 0.773 and average area under the curve 0.643\n"
     ]
    },
    {
     "data": {
      "text/plain": [
       "{'neighbors_collection': ['n_5', 'n_10', 'n_15', 'n_20', 'n_25'],\n",
       " 'accuracy_collection': [0.747, 0.769, 0.768, 0.774, 0.773],\n",
       " 'auc_collection': [0.594, 0.62, 0.632, 0.637, 0.643]}"
      ]
     },
     "execution_count": 65,
     "metadata": {},
     "output_type": "execute_result"
    }
   ],
   "source": [
    "# Feel free to skip, this block will take quite some time. KNN multiply neighbors with values: 5, 10, 15, 20, 25. Raw features\n",
    "\n",
    "knn_scores = knn_repeater(5, 26, raw_features, target)\n",
    "knn_scores"
   ]
  },
  {
   "cell_type": "code",
   "execution_count": 66,
   "metadata": {},
   "outputs": [
    {
     "name": "stdout",
     "output_type": "stream",
     "text": [
      "The model has average accuracy 0.787 and average area under the curve 0.677\n",
      "The model has average accuracy 0.801 and average area under the curve 0.697\n",
      "The model has average accuracy 0.804 and average area under the curve 0.704\n",
      "The model has average accuracy 0.803 and average area under the curve 0.708\n",
      "The model has average accuracy 0.804 and average area under the curve 0.711\n"
     ]
    },
    {
     "data": {
      "text/plain": [
       "{'neighbors_collection': ['n_5', 'n_10', 'n_15', 'n_20', 'n_25'],\n",
       " 'accuracy_collection': [0.787, 0.801, 0.804, 0.803, 0.804],\n",
       " 'auc_collection': [0.677, 0.697, 0.704, 0.708, 0.711]}"
      ]
     },
     "execution_count": 66,
     "metadata": {},
     "output_type": "execute_result"
    }
   ],
   "source": [
    "# Skip if you like. Same as before. Features are scaled by minmax\n",
    "\n",
    "knn_scaled_scores = knn_repeater(5, 26, scaled_features, target)\n",
    "knn_scaled_scores"
   ]
  },
  {
   "cell_type": "code",
   "execution_count": 67,
   "metadata": {},
   "outputs": [
    {
     "name": "stdout",
     "output_type": "stream",
     "text": [
      "The model has average accuracy 0.799 and average area under the curve 0.7\n",
      "The model has average accuracy 0.811 and average area under the curve 0.727\n",
      "The model has average accuracy 0.813 and average area under the curve 0.736\n",
      "The model has average accuracy 0.815 and average area under the curve 0.742\n",
      "The model has average accuracy 0.816 and average area under the curve 0.743\n"
     ]
    },
    {
     "data": {
      "text/plain": [
       "{'neighbors_collection': ['n_5', 'n_10', 'n_15', 'n_20', 'n_25'],\n",
       " 'accuracy_collection': [0.799, 0.811, 0.813, 0.815, 0.816],\n",
       " 'auc_collection': [0.7, 0.727, 0.736, 0.742, 0.743]}"
      ]
     },
     "execution_count": 67,
     "metadata": {},
     "output_type": "execute_result"
    }
   ],
   "source": [
    "# skip if you like, same. Data is scaled, and top-primed features are selected\n",
    "\n",
    "knn_selected_scores = knn_repeater(5, 26, select_scaled_features, target)\n",
    "knn_selected_scores"
   ]
  },
  {
   "cell_type": "code",
   "execution_count": 68,
   "metadata": {},
   "outputs": [],
   "source": [
    "# HERE!!!\n",
    "# immitate block in case you skipped three above. These will be the actual results if you run above blocks.\n",
    "\n",
    "# score collection observed from running above models with non-scaled, all-columns data as features\n",
    "knn_scores_fake = {\n",
    "    'neighbors_collection': ['n_5', 'n_10', 'n_15', 'n_20', 'n_25'],\n",
    "    'accuracies_collection': [0.747, 0.769, 0.768, 0.774, 0.773],\n",
    "    'auc_collection': [0.594, 0.62, 0.632, 0.637, 0.643]\n",
    "}\n",
    "\n",
    "# score collection observed from running above models with minmax scaled data, all columns data as features\n",
    "knn_scaled_scores_fake = {\n",
    "    'neighbors_collection': ['n_5', 'n_10', 'n_15', 'n_20', 'n_25'],\n",
    "    'accuracies_collection': [0.787, 0.801, 0.804, 0.803, 0.804],\n",
    "    'auc_collection': [0.677, 0.697, 0.704, 0.708, 0.711]\n",
    "}\n",
    "\n",
    "# score collection observed from running above models with minmax scaled data and featured columns\n",
    "knn_selected_fake = {\n",
    "    'neighbors_collection': ['n_5', 'n_10', 'n_15', 'n_20', 'n_25'],\n",
    "    'accuracies_collection': [0.799, 0.811, 0.813, 0.815, 0.816],\n",
    "    'auc_collection': [0.7, 0.727, 0.736, 0.742, 0.743]\n",
    "}"
   ]
  },
  {
   "cell_type": "code",
   "execution_count": 69,
   "metadata": {},
   "outputs": [
    {
     "data": {
      "image/png": "[encoded data removed]",
      "text/plain": [
       "<Figure size 720x360 with 1 Axes>"
      ]
     },
     "metadata": {},
     "output_type": "display_data"
    }
   ],
   "source": [
    "# Let's try and plot the differences \n",
    "\n",
    "plt.figure(num = 3, figsize=(10, 5))\n",
    "plt.title('Differences between configurations based on plain accuracy')\n",
    "plt.plot(knn_scores_fake['neighbors_collection'], knn_scores_fake['accuracies_collection'], color='blue', marker='o')\n",
    "plt.plot(knn_scores_fake['neighbors_collection'], knn_scaled_scores_fake['accuracies_collection'], color='green', marker='o')\n",
    "plt.plot(knn_scores_fake['neighbors_collection'], knn_selected_fake['accuracies_collection'], color='red', marker='o')\n",
    "\n",
    "plt.legend(['Raw', 'Scale', 'Scale and features selection'])\n",
    "\n",
    "plt.show()"
   ]
  },
  {
   "cell_type": "code",
   "execution_count": 70,
   "metadata": {},
   "outputs": [
    {
     "data": {
      "image/png": "[encoded data removed]",
      "text/plain": [
       "<Figure size 720x360 with 1 Axes>"
      ]
     },
     "metadata": {},
     "output_type": "display_data"
    }
   ],
   "source": [
    "# Let's try and plot these differences with auc metric now\n",
    "\n",
    "plt.figure(num = 3, figsize=(10, 5))\n",
    "plt.title('Differences between configurations based on area under the curve')\n",
    "plt.plot(knn_scores_fake['neighbors_collection'], knn_scores_fake['auc_collection'], color='blue', marker='o')\n",
    "plt.plot(knn_scores_fake['neighbors_collection'], knn_scaled_scores_fake['auc_collection'], color='green', marker='o')\n",
    "plt.plot(knn_scores_fake['neighbors_collection'], knn_selected_fake['auc_collection'], color='red', marker='o')\n",
    "\n",
    "plt.legend(['Raw', 'Scale', 'Scale and features selection'])\n",
    "\n",
    "plt.show()"
   ]
  },
  {
   "cell_type": "markdown",
   "metadata": {},
   "source": [
    "## Plot overview\n",
    "\n",
    "As we can see from the plots above, scaling does indeed have an immediate impact on both metrics (and in roc area under the curve, which is our primary metric, even more significantly).\n",
    "\n",
    "The feature selection at this point it seems that it helps in both metrics slightly but also consistently. Thus we can take for KNN the *scaled and pruned features version* as basis and search for the optimal number of **N Neighbors**. \n",
    "\n",
    "After a lot of tuning and some binary search, we end up with best knn fit for test set, the one with **200 nearest neighbors**. See below for more but all in all:\n",
    "\n",
    "#### KNN Benchmark with 200 nearest neighbors:\n",
    "\n",
    "1. accuracy: **0.816**\n",
    "2. Roc Auc score: **0.761**"
   ]
  },
  {
   "cell_type": "code",
   "execution_count": 71,
   "metadata": {},
   "outputs": [
    {
     "name": "stdout",
     "output_type": "stream",
     "text": [
      "The model has average accuracy 0.816 and average area under the curve 0.761\n"
     ]
    },
    {
     "data": {
      "text/plain": [
       "{'accuracy': 0.816, 'auc': 0.761}"
      ]
     },
     "execution_count": 71,
     "metadata": {},
     "output_type": "execute_result"
    }
   ],
   "source": [
    "# Let' see this in action\n",
    "\n",
    "knn_model = KNeighborsClassifier(n_neighbors=200)\n",
    "run_model(knn_model, select_scaled_features, target)"
   ]
  },
  {
   "cell_type": "markdown",
   "metadata": {},
   "source": [
    "## Logistic regression tryouts\n",
    "\n",
    "In the following blocks, we will try to optimize the best logistic regression fit. We will try up:\n",
    "\n",
    "1. Raw features and non preprocessed data\n",
    "2. Standard scaled data\n",
    "3. Find the best class_weight balance params to optimize both accuracy and auc score\n",
    "\n",
    "**Note**: The last part is derived from the fact that our classes are not evenly distributed, thus we will try out some different values for `class_weight` parameters. In the end, we will apply a grid search to find the best params by these metrics programmatically."
   ]
  },
  {
   "cell_type": "code",
   "execution_count": 72,
   "metadata": {},
   "outputs": [],
   "source": [
    "# Logistic regression, we set random state to achieve consistent results also here\n",
    "lg_model = LogisticRegression(random_state=101, max_iter=300)"
   ]
  },
  {
   "cell_type": "code",
   "execution_count": 73,
   "metadata": {},
   "outputs": [
    {
     "name": "stdout",
     "output_type": "stream",
     "text": [
      "The model has average accuracy 0.779 and average area under the curve 0.662\n"
     ]
    },
    {
     "data": {
      "text/plain": [
       "{'accuracy': 0.779, 'auc': 0.662}"
      ]
     },
     "execution_count": 73,
     "metadata": {},
     "output_type": "execute_result"
    }
   ],
   "source": [
    "# all features, no preprocessing, first try\n",
    "\n",
    "run_model(lg_model, raw_features, target)"
   ]
  },
  {
   "cell_type": "code",
   "execution_count": 74,
   "metadata": {},
   "outputs": [
    {
     "name": "stdout",
     "output_type": "stream",
     "text": [
      "The model has average accuracy 0.81 and average area under the curve 0.723\n"
     ]
    },
    {
     "data": {
      "text/plain": [
       "{'accuracy': 0.81, 'auc': 0.723}"
      ]
     },
     "execution_count": 74,
     "metadata": {},
     "output_type": "execute_result"
    }
   ],
   "source": [
    "# Select the z-score standardized features and see if there is a significance impact. All features here are selected\n",
    "\n",
    "run_model(lg_model, standard_scaled_features, target)"
   ]
  },
  {
   "cell_type": "code",
   "execution_count": 75,
   "metadata": {},
   "outputs": [
    {
     "name": "stdout",
     "output_type": "stream",
     "text": [
      "The model has average accuracy 0.782 and average area under the curve 0.723\n"
     ]
    },
    {
     "data": {
      "text/plain": [
       "{'accuracy': 0.782, 'auc': 0.723}"
      ]
     },
     "execution_count": 75,
     "metadata": {},
     "output_type": "execute_result"
    }
   ],
   "source": [
    "# try out some custom weights and see how it goes.We will try the actual proportions of our predicted variable\n",
    "\n",
    "lg_model = LogisticRegression(random_state=101, max_iter=300, class_weight={0: 0.78, 1: 0.22})\n",
    "run_model(lg_model, standard_scaled_features, target)"
   ]
  },
  {
   "cell_type": "code",
   "execution_count": 76,
   "metadata": {},
   "outputs": [
    {
     "name": "stdout",
     "output_type": "stream",
     "text": [
      "The model has average accuracy 0.675 and average area under the curve 0.715\n"
     ]
    },
    {
     "data": {
      "text/plain": [
       "{'accuracy': 0.675, 'auc': 0.715}"
      ]
     },
     "execution_count": 76,
     "metadata": {},
     "output_type": "execute_result"
    }
   ],
   "source": [
    "# try out balanced weights\n",
    "\n",
    "lg_model = LogisticRegression(random_state=101, max_iter=300, class_weight='balanced')\n",
    "run_model(lg_model, select_scaled_features, target)"
   ]
  },
  {
   "cell_type": "markdown",
   "metadata": {},
   "source": [
    "### Class weight take out\n",
    "\n",
    "At a first glance, looks like the *balanced* `class_weight` failed miserably, but actually provided the best area under the curve (with a weak, nearly non-existent margin of course).\n",
    "\n",
    "#### Let's try to find the best params programmatically instead of manually. \n",
    "\n",
    "Let's do some grid search here."
   ]
  },
  {
   "cell_type": "code",
   "execution_count": 77,
   "metadata": {},
   "outputs": [],
   "source": [
    "# Let's find best parameters by applying grid search, we will try to optimize class_weight by both accuracy and roc_auc score\n",
    "\n",
    "weights = linspace(0.05, 0.95, 20) # split into 20 pieces of 0.05 distance each\n",
    "\n",
    "def find_grid_search_best(model, weight_list, scoring, folds, X, y):\n",
    "    grid_search = GridSearchCV(\n",
    "        estimator=model, \n",
    "        param_grid={'class_weight': [{0: x, 1: 1.0 - x} for x in weight_list]},\n",
    "        scoring = scoring,\n",
    "        cv = folds\n",
    "        )\n",
    "\n",
    "    grid_result = grid_search.fit(X, y)\n",
    "    best_params = grid_result.best_params_\n",
    "    print(best_params['class_weight'])\n",
    "    return best_params['class_weight']"
   ]
  },
  {
   "cell_type": "code",
   "execution_count": 81,
   "metadata": {},
   "outputs": [
    {
     "name": "stdout",
     "output_type": "stream",
     "text": [
      "{0: 0.4289473684210526, 1: 0.5710526315789475}\n"
     ]
    }
   ],
   "source": [
    "# ATTENTION! this could take couple of minutes, but worth the shot\n",
    "\n",
    "# define standard model to find best grid params for\n",
    "lg_model = LogisticRegression(random_state=101, max_iter=300, solver='lbfgs')\n",
    "\n",
    "# find best params as above but with auc score in mind\n",
    "lg_roc_best = find_grid_search_best(lg_model, weights, 'roc_auc', 5, select_scaled_features, target)"
   ]
  },
  {
   "cell_type": "code",
   "execution_count": 82,
   "metadata": {},
   "outputs": [],
   "source": [
    "# tune both models with their respective params and see the outcome\n",
    "\n",
    "lg_tuned_auc = LogisticRegression(random_state=101, max_iter=300, solver='lbfgs', class_weight=lg_roc_best)"
   ]
  },
  {
   "cell_type": "code",
   "execution_count": 83,
   "metadata": {},
   "outputs": [
    {
     "name": "stdout",
     "output_type": "stream",
     "text": [
      "The model has average accuracy 0.816 and average area under the curve 0.723\n"
     ]
    },
    {
     "data": {
      "text/plain": [
       "{'accuracy': 0.816, 'auc': 0.723}"
      ]
     },
     "execution_count": 83,
     "metadata": {},
     "output_type": "execute_result"
    }
   ],
   "source": [
    "run_model(lg_tuned_auc, standard_scaled_features, target)"
   ]
  },
  {
   "cell_type": "markdown",
   "metadata": {},
   "source": [
    "## Logistic regression takeaways\n",
    "\n",
    "As we see after performing grid search,auc best tuning parameters affect accuracy negatively and by a lot. But since our current data is heavily imbalanced, we care more about how we classify the `non-dominating` predicting class.\n",
    "\n",
    "Having said that we will take as our *logistic regression champion* the model `lg_tuned_accuracy` since we take a look at both metrics and auc performance difference is almost non-detectable."
   ]
  },
  {
   "cell_type": "code",
   "execution_count": 84,
   "metadata": {},
   "outputs": [],
   "source": [
    "# Let's create a gaussian naive model\n",
    "naive_model = GaussianNB(class)"
   ]
  },
  {
   "cell_type": "code",
   "execution_count": 85,
   "metadata": {},
   "outputs": [],
   "source": [
    "# Let's try out the naive bayes, since it runs fast we will cross-check all  possible data we have created\n",
    "\n",
    "possible_features = {\n",
    "    'raw_features': raw_features, # no scale, no preprocessing, X features as they come from dataset\n",
    "    'with_dummy': raw_categorical, # dummy variables for categorical columns\n",
    "    'prime_raw': select_raw_features, # top 7 features, no scale\n",
    "    'scaled_raw': standard_scaled_features, # z-score scaling, no feature selection\n",
    "    'scaled_prime_features': select_scaled_features # top 7 features, z-score scaled\n",
    " }\n",
    "\n",
    "# run a model with multiple different X_features, return the scores as a list of dictionaries, it should be quick to run.\n",
    "\n",
    "def run_bayes_models(model, X_info, y):\n",
    "    feature_list_scores = []\n",
    "    for (feature_desc, feature_set) in possible_features.items():\n",
    "        scoring = run_model(model, feature_set, y)\n",
    "        feature_list_scores.append({feature_desc: scoring})\n",
    "    print(feature_list_scores)\n",
    "    return feature_list_scores"
   ]
  },
  {
   "cell_type": "code",
   "execution_count": 86,
   "metadata": {},
   "outputs": [
    {
     "name": "stdout",
     "output_type": "stream",
     "text": [
      "The model has average accuracy 0.384 and average area under the curve 0.672\n",
      "The model has average accuracy 0.384 and average area under the curve 0.672\n",
      "The model has average accuracy 0.78 and average area under the curve 0.684\n",
      "The model has average accuracy 0.279 and average area under the curve 0.736\n",
      "The model has average accuracy 0.802 and average area under the curve 0.737\n",
      "[{'raw_features': {'accuracy': 0.384, 'auc': 0.672}}, {'with_dummy': {'accuracy': 0.384, 'auc': 0.672}}, {'prime_raw': {'accuracy': 0.78, 'auc': 0.684}}, {'scaled_raw': {'accuracy': 0.279, 'auc': 0.736}}, {'scaled_prime_features': {'accuracy': 0.802, 'auc': 0.737}}]\n"
     ]
    }
   ],
   "source": [
    "# Let's have a look inside all possible scenarios, also gather stats to depict later on\n",
    "\n",
    "naive_model_summary_scores = run_bayes_models(naive_model, possible_features, target)"
   ]
  },
  {
   "cell_type": "code",
   "execution_count": 87,
   "metadata": {},
   "outputs": [
    {
     "name": "stdout",
     "output_type": "stream",
     "text": [
      "['raw_features', 'with_dummy', 'prime_raw', 'scaled_raw', 'scaled_prime_features']\n",
      "[0.384, 0.384, 0.78, 0.279, 0.802]\n",
      "[0.672, 0.672, 0.684, 0.736, 0.737]\n"
     ]
    },
    {
     "data": {
      "image/png": "[encoded data removed]",
      "text/plain": [
       "<Figure size 1008x432 with 1 Axes>"
      ]
     },
     "metadata": {},
     "output_type": "display_data"
    },
    {
     "data": {
      "image/png": "[encoded data removed]",
      "text/plain": [
       "<Figure size 1008x432 with 1 Axes>"
      ]
     },
     "metadata": {},
     "output_type": "display_data"
    }
   ],
   "source": [
    "features_descriptions = list(possible_features.keys())\n",
    "naive_accuracies = [list(score.values())[0]['accuracy'] for score in naive_model_summary_scores] # get all accuracy scores\n",
    "naive_auc_scores = [list(score.values())[0]['auc'] for score in naive_model_summary_scores] # get auc scores at once\n",
    "\n",
    "print(features_descriptions)\n",
    "print(naive_accuracies)\n",
    "print(naive_auc_scores)\n",
    "\n",
    "# Let's plot and find the best set for our naive bayes classifier\n",
    "\n",
    "color_palette = ['cyan', 'pink', 'orange', 'lightgreen', 'purple']\n",
    "fig = (14, 6)\n",
    "\n",
    "plt.figure(figsize= fig)\n",
    "plt.title('Accuracy score by each naive subset')\n",
    "plt.bar(features_descriptions, naive_accuracies, color= color_palette)\n",
    "\n",
    "plt.figure(figsize= fig)\n",
    "plt.title('Area under the curve for each subset')\n",
    "plt.ylim(0.5, 0.8)\n",
    "plt.bar(features_descriptions, naive_auc_scores, color= color_palette)\n",
    "\n",
    "plt.show()"
   ]
  },
  {
   "cell_type": "markdown",
   "metadata": {},
   "source": [
    "## Naive Bayes takes\n",
    "\n",
    "As plot suggests, selecting only relevant features seems to have a significant impact in accuracy, but they also slightly help when the metric is **auc**, which is our main metric. Scaling helps also in both cases so we will take this one out of the bag, to represent **naive bayes** into comparison with the rest of algorithms.\n",
    "\n",
    "#### Note:\n",
    "\n",
    "Because some datasets contain negative values, we couldn't use a **Multinomial Naive Bayes** classifier out of the box. We could scale our dataset in **min-max** scale, and then run of course.\n",
    "\n",
    "Instead we used **Gaussian Bayes** classifier, which assumes normal distribution on values. This can work for raw negative values on datasets, but also very well with **z-score** scale. Both classifiers provide almost identical results in our case though. "
   ]
  },
  {
   "cell_type": "markdown",
   "metadata": {},
   "source": [
    "## Last Attempt, Beat the House!\n",
    "\n",
    "Closing, we will try to beat the competition and apply some grid search in our random forest model and see where this goes, since they only shot we gave to a random forest was without real tuning or pre-processing.\n",
    "\n",
    "### Attention! Next block will take some time. \n",
    "\n",
    "Results will be faked at the next block as well. **Feel free, to skip** "
   ]
  },
  {
   "cell_type": "code",
   "execution_count": 89,
   "metadata": {},
   "outputs": [
    {
     "data": {
      "text/plain": [
       "{'criterion': 'entropy', 'max_depth': 8, 'n_estimators': 200}"
      ]
     },
     "execution_count": 89,
     "metadata": {},
     "output_type": "execute_result"
    }
   ],
   "source": [
    "# applying grid search for random forest, This could take a while. Feel free to skip, you can find the results on later blocks\n",
    "\n",
    "grid_search_forest = GridSearchCV(\n",
    "    estimator = RandomForestClassifier(random_state=101),\n",
    "    param_grid = {\n",
    "        'n_estimators': [200, 500],\n",
    "        'max_depth': [3, 4, 5, 6, 7, 8],\n",
    "        'criterion': ['gini', 'entropy']\n",
    "    },\n",
    "    scoring = 'roc_auc',\n",
    "    cv = 5\n",
    ")\n",
    "\n",
    "grid_result = grid_search_forest.fit(select_raw_features, target)\n",
    "grid_result.best_params_"
   ]
  },
  {
   "cell_type": "code",
   "execution_count": 90,
   "metadata": {},
   "outputs": [],
   "source": [
    "# These parameters come from the grid search we applied at the above block\n",
    "rfc_model = RandomForestClassifier(random_state=101, max_depth=8, n_estimators=200, criterion='entropy')"
   ]
  },
  {
   "cell_type": "code",
   "execution_count": 91,
   "metadata": {},
   "outputs": [
    {
     "name": "stdout",
     "output_type": "stream",
     "text": [
      "The model has average accuracy 0.82 and average area under the curve 0.766\n"
     ]
    },
    {
     "data": {
      "text/plain": [
       "{'accuracy': 0.82, 'auc': 0.766}"
      ]
     },
     "execution_count": 91,
     "metadata": {},
     "output_type": "execute_result"
    }
   ],
   "source": [
    "run_model(rfc_model, select_raw_features, target)"
   ]
  },
  {
   "cell_type": "markdown",
   "metadata": {},
   "source": [
    "## New Support Vector Machine Update Part\n",
    "\n",
    "During the following blocks we will use couple of support vector classifiers and see how they perform in our circumstance.\n",
    "We will use sequentially:\n",
    "\n",
    "1. Linear support vector classifier\n",
    "2. Polynomial kernel\n",
    "3. Radial basis function\n",
    "\n",
    "We will try to optimize and tweak some parameters either by applying some kind of cross validation search (either `random` or `grid` we will find out), or by following some best tips and practices from [sci-kit learn](https://scikit-learn.org/stable/modules/svm.html#tips-on-practical-use) when working with support vector machines.\n",
    "\n",
    "To mention the most fundamentals.\n",
    "\n",
    "1. we will use the scaled data for all try outs since it is highly recommended and gives better performance\n",
    "2. We will adjust the class weight and set it to **balanced** since we deal with imbalanced dataset"
   ]
  },
  {
   "cell_type": "code",
   "execution_count": 18,
   "metadata": {},
   "outputs": [
    {
     "name": "stdout",
     "output_type": "stream",
     "text": [
      "The model has average accuracy 0.804 and average area under the curve 0.693\n"
     ]
    },
    {
     "data": {
      "text/plain": [
       "{'accuracy': 0.804, 'auc': 0.693}"
      ]
     },
     "execution_count": 18,
     "metadata": {},
     "output_type": "execute_result"
    }
   ],
   "source": [
    "# Have a look at linear classifier, it should run faster, we will use standard C value here, scaled data and prime features\n",
    "# We havn't applied balanced weights on classes yet\n",
    "\n",
    "svc_model = SVC(kernel='linear', C=1.0)\n",
    "run_model(svc_model, select_scaled_features, target)"
   ]
  },
  {
   "cell_type": "code",
   "execution_count": 19,
   "metadata": {},
   "outputs": [
    {
     "name": "stdout",
     "output_type": "stream",
     "text": [
      "The model has average accuracy 0.789 and average area under the curve 0.712\n"
     ]
    },
    {
     "data": {
      "text/plain": [
       "{'accuracy': 0.789, 'auc': 0.712}"
      ]
     },
     "execution_count": 19,
     "metadata": {},
     "output_type": "execute_result"
    }
   ],
   "source": [
    "# Let's tweak the class weight here and see if there is an improvement from previous result\n",
    "\n",
    "svc_model = SVC(kernel='linear', C=1.0, class_weight='balanced')\n",
    "run_model(svc_model, select_scaled_features, target)"
   ]
  },
  {
   "cell_type": "markdown",
   "metadata": {},
   "source": [
    "**Hooray!!**. It seems there was some slight improvement (approximately 2%), so we will adopt from now on the class weight\n",
    "attribute as balanced. We take this as our **linear champ** with `roc_auc` score around **0.712** into our svm comparison in the end.\n",
    "\n",
    "Let's proceed with polynomials and radial kernels. Next blocks are going to take approx. 5-6 mins each to run, so feel free to skip them. Results will be hardcoded at the end of them. (You can still examine the parameters tweaking and so on of course)."
   ]
  },
  {
   "cell_type": "code",
   "execution_count": 20,
   "metadata": {},
   "outputs": [
    {
     "name": "stdout",
     "output_type": "stream",
     "text": [
      "The model has average accuracy 0.774 and average area under the curve 0.734\n"
     ]
    },
    {
     "data": {
      "text/plain": [
       "{'accuracy': 0.774, 'auc': 0.734}"
      ]
     },
     "execution_count": 20,
     "metadata": {},
     "output_type": "execute_result"
    }
   ],
   "source": [
    "#After some tweaking and more try outs I ended up with the following params for polynomial model. 3rd degree polynomial with\n",
    "# following properties\n",
    "\n",
    "random_polynomial_model = SVC(kernel='poly', class_weight='balanced', gamma=2.0, C=1, coef0=0.5)\n",
    "run_model(random_polynomial_model, select_scaled_features, target)\n",
    "\n",
    "# Gives auc: 0.734"
   ]
  },
  {
   "cell_type": "code",
   "execution_count": 21,
   "metadata": {},
   "outputs": [
    {
     "name": "stdout",
     "output_type": "stream",
     "text": [
      "The model has average accuracy 0.772 and average area under the curve 0.724\n"
     ]
    },
    {
     "data": {
      "text/plain": [
       "{'accuracy': 0.772, 'auc': 0.724}"
      ]
     },
     "execution_count": 21,
     "metadata": {},
     "output_type": "execute_result"
    }
   ],
   "source": [
    "# Let's see how it behaves on a higher degree for the sake of experimentation with same params, out of curisioty\n",
    "\n",
    "random_polynomial_model = SVC(kernel='poly', class_weight='balanced', gamma=2.0, degree=4, C=1, coef0=0.5)\n",
    "run_model(random_polynomial_model, select_scaled_features, target)\n",
    "\n",
    "# Gives auc: 0.724 so it is a slight decline. But we have a good grasp of what the order of magnitude result a polynomial gives"
   ]
  },
  {
   "cell_type": "markdown",
   "metadata": {},
   "source": [
    "### Polynomials vantage point\n",
    "\n",
    "So as we saw polynomials tend to be a bit more performant than linear support vector machines. That is to be expected though\n",
    "since our data should have a serious overlap effect regarding our classes and observations. \n",
    "\n",
    "That is why, an assumption that a radial kernel would provide more accurate results, it is considerable. Let's see also if it's\n",
    "true."
   ]
  },
  {
   "cell_type": "code",
   "execution_count": 45,
   "metadata": {},
   "outputs": [
    {
     "data": {
      "text/plain": [
       "{'C': 1, 'gamma': 2.0}"
      ]
     },
     "execution_count": 45,
     "metadata": {},
     "output_type": "execute_result"
    }
   ],
   "source": [
    "# ATTENTION! It is probable that this block will run for couple of hours, depending on your PC Performance, we try to find\n",
    "# the best optimization params for a radial kernel svc. Results in the comments after function. Feel free to examine the code\n",
    "# and skip though.\n",
    "\n",
    "grid_search_rbf = GridSearchCV(\n",
    "    estimator = SVC(kernel='rbf', class_weight='balanced'),\n",
    "    param_grid = {\n",
    "        'C': [0.1, 0.5, 1],\n",
    "        'gamma': [0.1, 0.5, 1.0, 2.0]\n",
    "    },\n",
    "    scoring = 'roc_auc',\n",
    "    cv = 5\n",
    ")\n",
    "\n",
    "grid_rbf_result = grid_search_rbf.fit(select_scaled_features, target)\n",
    "grid_rbf_result.best_params_\n",
    "\n",
    "# Best params is C:1 and gamma: 2.0 Let's see how it behaves and if it's more performant than our polynomial champ."
   ]
  },
  {
   "cell_type": "code",
   "execution_count": 23,
   "metadata": {},
   "outputs": [
    {
     "name": "stdout",
     "output_type": "stream",
     "text": [
      "The model has average accuracy 0.774 and average area under the curve 0.739\n"
     ]
    },
    {
     "data": {
      "text/plain": [
       "{'accuracy': 0.774, 'auc': 0.739}"
      ]
     },
     "execution_count": 23,
     "metadata": {},
     "output_type": "execute_result"
    }
   ],
   "source": [
    "# apply changes from grid search with C = 1 and gamma = 2.0\n",
    "\n",
    "best_rbf_grid_model = SVC(kernel='rbf', class_weight='balanced', C=1, gamma=2.0)\n",
    "run_model(best_rbf_grid_model, select_scaled_features, target)"
   ]
  },
  {
   "cell_type": "markdown",
   "metadata": {},
   "source": [
    "Since the biggest possible gamma is selected, it leaves an implication that we havn't found the optimal gamma and it could be actually bigger than 2. Trying out some parameters it shows that this is atually the case! As we can see in the following code after some try outs, we get a better `auc` score for gamma equal to **3.0**"
   ]
  },
  {
   "cell_type": "code",
   "execution_count": 24,
   "metadata": {},
   "outputs": [
    {
     "name": "stdout",
     "output_type": "stream",
     "text": [
      "The model has average accuracy 0.775 and average area under the curve 0.744\n"
     ]
    },
    {
     "data": {
      "text/plain": [
       "{'accuracy': 0.775, 'auc': 0.744}"
      ]
     },
     "execution_count": 24,
     "metadata": {},
     "output_type": "execute_result"
    }
   ],
   "source": [
    "# Apply gamma equal to 3.0\n",
    "\n",
    "bigger_gamma_model = SVC(kernel='rbf', class_weight='balanced', C=1, gamma=3.0)\n",
    "run_model(bigger_gamma_model, select_scaled_features, target)"
   ]
  },
  {
   "cell_type": "code",
   "execution_count": 26,
   "metadata": {},
   "outputs": [
    {
     "data": {
      "image/png": "[encoded data removed]",
      "text/plain": [
       "<Figure size 864x360 with 1 Axes>"
      ]
     },
     "metadata": {},
     "output_type": "display_data"
    }
   ],
   "source": [
    "# Let's have some support vector machine champs comparison!\n",
    "\n",
    "kernels= ['linear', 'polynomial', 'radial']\n",
    "svc_auc_scores = [0.712, 0.734, 0.744]\n",
    "\n",
    "fig = (12, 5)\n",
    "color_palette = ['lightgreen', 'orange', 'cyan']\n",
    "\n",
    "plt.figure(figsize= fig)\n",
    "plt.title('Area under the curve')\n",
    "plt.ylim(0.5, 0.85)\n",
    "plt.bar(kernels, svc_auc_scores, color= color_palette)\n",
    "\n",
    "plt.show()"
   ]
  },
  {
   "cell_type": "markdown",
   "metadata": {},
   "source": [
    "Seems the radial kernel has a slight advantage in our main metric and will be selected to represent support vector machines into our final model comparison!"
   ]
  },
  {
   "cell_type": "code",
   "execution_count": 28,
   "metadata": {},
   "outputs": [
    {
     "data": {
      "image/png": "[encoded data removed]",
      "text/plain": [
       "<Figure size 1008x360 with 1 Axes>"
      ]
     },
     "metadata": {},
     "output_type": "display_data"
    },
    {
     "data": {
      "image/png": "[encoded data removed]",
      "text/plain": [
       "<Figure size 1008x360 with 1 Axes>"
      ]
     },
     "metadata": {},
     "output_type": "display_data"
    }
   ],
   "source": [
    "# Faking all three models scores. These are the actual best scores that come for both metrics, if we run all blocks above\n",
    "# We didn't take the scores programmatically due to significant amount of time need to run all models\n",
    "\n",
    "models = ['random forest', 'knn', 'logistic regression', 'naive bayes', 'SVM']\n",
    "accuracies = [0.82, 0.816, 0.816, 0.802, 0.775]\n",
    "auc_scores = [0.766, 0.761, 0.723, 0.737, 0.744]\n",
    "\n",
    "fig = (14, 5)\n",
    "color_palette = ['lightgreen', 'pink', 'orange', 'cyan', 'red']\n",
    "\n",
    "plt.figure(figsize= fig)\n",
    "plt.title('Accuracy score by each model')\n",
    "plt.ylim(0.6, 0.9)\n",
    "plt.bar(models, accuracies, color= color_palette)\n",
    "\n",
    "plt.figure(figsize= fig)\n",
    "plt.title('Area under the curve')\n",
    "plt.ylim(0.5, 0.85)\n",
    "plt.bar(models, auc_scores, color= color_palette)\n",
    "\n",
    "plt.show()"
   ]
  },
  {
   "cell_type": "markdown",
   "metadata": {},
   "source": [
    "### Quick note on SVC:\n",
    "\n",
    "It seems to fall behind in accuracy, but that makes sense since we didn't optimize for that metric and it doesn't really bother us at this point.\n",
    "\n",
    "It stays competitive and has a slight edge on `logistic regression` and `naive bayes` in this case, but still is a bit lower than a random forest and a good knn. That is a bit odd since the **support vector radial basis function** works as a weighted knn classifier. Not sure why this is happening. Maybe for the existing dataset is more preferable to apply **democracy knn** and every neighbor to have the same importance, but it's a nice food for thaught and experimentation."
   ]
  },
  {
   "cell_type": "markdown",
   "metadata": {},
   "source": [
    "# Conclusion\n",
    "\n",
    "We can safely express that there is no significant difference in evaluating performance between our random forest, knn and logistic regression models when it comes to accuracy. Take note that both plots are *zoomed* in order to make differences a bit more obviously.\n",
    "\n",
    "This is something we can tell from the actual numbers without visualization at all, since all scores tend to gather around\n",
    "**0.80 - 0.83**. Always when it comes to plain accuracy.\n",
    "\n",
    "However, since our classes are not evenly distributed, a look at the **area under the curve** would be a more reliable metric. There we found candidate models to fall in range of **0.72 - 0.77** and thus there is some slight edge that favors specific models in our particular set.\n",
    "\n",
    "If we want to be accurate, **random forest with grid search best parameters** seem to produce slightly better **accuracy** and **auc**. \n",
    "\n",
    "While **KNN with 200 nearest neighbors, with 7 main features, all scaled between 0 and 1**, seem to be right up there with both metrics.\n",
    "\n",
    "**Logistic regression best params** give a competitive mark on accuracy field, but feels like **falling a bit behind** when **auc** score comes into play in comparison to the previous two models. \n",
    "\n",
    "**Naive Bayes** slightly behind best models in both metrics.\n",
    "\n",
    "### Last Note:\n",
    "\n",
    "We used for all models a **5 fold cross validation**, primarily our metric score was **area under the curve** due to imbalanced data we've been dealt with, and least **accuracy**. Of course more metrics such as **f1 score** were considered, but we chose AUC as *one metric to rule them all* situation. \n",
    "\n",
    "All scores for both metrics are **averages** of each K-fold cross validation process and **not the max** or the best score, as we strive for consistent results and not results that will vary depending on random data selection (which also explains why we used specific *random states* in almost all models, whenever possible)."
   ]
  }
 ],
 "metadata": {
  "kernelspec": {
   "display_name": "Python 3",
   "language": "python",
   "name": "python3"
  },
  "language_info": {
   "codemirror_mode": {
    "name": "ipython",
    "version": 3
   },
   "file_extension": ".py",
   "mimetype": "text/x-python",
   "name": "python",
   "nbconvert_exporter": "python",
   "pygments_lexer": "ipython3",
   "version": "3.7.3"
  }
 },
 "nbformat": 4,
 "nbformat_minor": 2
}
