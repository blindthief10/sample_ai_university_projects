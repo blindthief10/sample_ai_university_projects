{
 "cells": [
  {
   "cell_type": "code",
   "execution_count": 2,
   "metadata": {},
   "outputs": [
    {
     "name": "stdout",
     "output_type": "stream",
     "text": [
      "Collecting gensim==3.8.3\n",
      "  Downloading https://files.pythonhosted.org/packages/0b/66/04faeedb98bfa5f241d0399d0102456886179cabac0355475f23a2978847/gensim-3.8.3-cp37-cp37m-win_amd64.whl (24.2MB)\n",
      "Collecting smart-open>=1.8.1 (from gensim==3.8.3)\n",
      "  Using cached https://files.pythonhosted.org/packages/e9/90/6ca525991e281ecdf204c5c1de854da6334068e44121c384b68c6a838e14/smart_open-5.1.0-py3-none-any.whl\n",
      "Collecting Cython==0.29.14 (from gensim==3.8.3)\n",
      "  Downloading https://files.pythonhosted.org/packages/1f/be/b14be5c3ad1ff73096b518be1538282f053ec34faaca60a8753d975d7e93/Cython-0.29.14-cp37-cp37m-win_amd64.whl (1.7MB)\n",
      "Collecting scipy>=0.18.1 (from gensim==3.8.3)\n",
      "  Downloading https://files.pythonhosted.org/packages/45/42/fc32b88f0dd6e9dad2850766b7a35024ee5df6a99c5f0836f9d5455d1fde/scipy-1.7.0-cp37-cp37m-win_amd64.whl (33.6MB)\n",
      "Collecting six>=1.5.0 (from gensim==3.8.3)\n",
      "  Downloading https://files.pythonhosted.org/packages/d9/5a/e7c31adbe875f2abbb91bd84cf2dc52d792b5a01506781dbcf25c91daf11/six-1.16.0-py2.py3-none-any.whl\n",
      "Collecting numpy>=1.11.3 (from gensim==3.8.3)\n",
      "  Downloading https://files.pythonhosted.org/packages/eb/a9/1e4215043cac5ffc6a5ab1f2e0e58a680fc8fd19e28eb28c01e90aeace3e/numpy-1.21.1-cp37-cp37m-win_amd64.whl (14.0MB)\n",
      "Installing collected packages: smart-open, Cython, numpy, scipy, six, gensim\n",
      "  Found existing installation: smart-open 5.1.0\n",
      "    Uninstalling smart-open-5.1.0:\n",
      "      Successfully uninstalled smart-open-5.1.0\n",
      "  Found existing installation: Cython 0.29.21\n",
      "    Uninstalling Cython-0.29.21:\n",
      "      Successfully uninstalled Cython-0.29.21\n",
      "  Found existing installation: numpy 1.20.2\n",
      "    Uninstalling numpy-1.20.2:\n",
      "      Successfully uninstalled numpy-1.20.2\n",
      "  Found existing installation: scipy 1.2.1\n",
      "    Uninstalling scipy-1.2.1:\n",
      "      Successfully uninstalled scipy-1.2.1\n",
      "  Found existing installation: six 1.12.0\n",
      "    Uninstalling six-1.12.0:\n",
      "      Successfully uninstalled six-1.12.0\n",
      "  Found existing installation: gensim 4.0.1\n",
      "    Uninstalling gensim-4.0.1:\n",
      "      Successfully uninstalled gensim-4.0.1\n",
      "Successfully installed Cython-0.29.14 gensim-3.8.3 numpy-1.21.1 scipy-1.7.0 six-1.16.0 smart-open-5.1.0\n"
     ]
    },
    {
     "name": "stderr",
     "output_type": "stream",
     "text": [
      "tensorflow 1.14.0 requires google-pasta>=0.1.6, which is not installed.\n",
      "tables 3.5.1 requires mock>=2.0, which is not installed.\n",
      "astroid 2.2.5 requires typed-ast>=1.3.0; implementation_name == \"cpython\", which is not installed.\n",
      "tensorboard 1.14.0 has requirement setuptools>=41.0.0, but you'll have setuptools 40.8.0 which is incompatible.\n",
      "automat 20.2.0 has requirement attrs>=19.2.0, but you'll have attrs 19.1.0 which is incompatible.\n"
     ]
    }
   ],
   "source": [
    "# this exact downgraded version is very important, as we will use the summarize module, that no longer exists in newer versions\n",
    "\n",
    "!pip install gensim==3.8.3 --force-reinstall"
   ]
  },
  {
   "cell_type": "code",
   "execution_count": 4,
   "metadata": {},
   "outputs": [],
   "source": [
    "import gensim\n",
    "from gensim.summarization import summarize\n",
    "import re"
   ]
  },
  {
   "cell_type": "markdown",
   "metadata": {},
   "source": [
    "## Quick Note\n",
    "\n",
    "From the text file we import below, first introductory pages that contain meta information and information about the structure of the book has been removed. Only the chapters have been remained. This could have been done also programmatically, but later we split either way the page into \"Chapter\" word, for each chapter and remove the first one (the one that includes nothing), so it doesn't make any difference."
   ]
  },
  {
   "cell_type": "code",
   "execution_count": 44,
   "metadata": {},
   "outputs": [],
   "source": [
    "# import text \n",
    "\n",
    "f = open('gutenberg.txt', encoding='utf-8')\n",
    "txt = f.read()\n",
    "f.close()\n",
    "\n",
    "# clean text and remove \\n and trailing spaces\n",
    "\n",
    "\n",
    "\n",
    "newlines = txt.splitlines()\n",
    "\n",
    "clean_text = ' '.join(newlines)\n",
    "\n",
    "clean_text = clean_text.strip()\n",
    "print(clean_text[0:100])\n",
    "\n",
    "clean_text = re.sub(r\"\\s+\", \" \", clean_text)"
   ]
  },
  {
   "cell_type": "code",
   "execution_count": 55,
   "metadata": {},
   "outputs": [
    {
     "data": {
      "text/plain": [
       "62"
      ]
     },
     "execution_count": 55,
     "metadata": {},
     "output_type": "execute_result"
    }
   ],
   "source": [
    "# split all 61 chapters, find out how many occurencies of chapters there are\n",
    "\n",
    "print(clean_text.count('Chapter'))\n",
    "\n",
    "chapters = clean_text.split('Chapter')\n",
    "\n",
    "print(len(chapters))"
   ]
  },
  {
   "cell_type": "code",
   "execution_count": 59,
   "metadata": {},
   "outputs": [
    {
     "name": "stdout",
     "output_type": "stream",
     "text": [
      "61\n"
     ]
    }
   ],
   "source": [
    "# we remove the first chapter which is an empty string \n",
    "\n",
    "chapters.pop(0)\n",
    "print(len(chapters))"
   ]
  },
  {
   "cell_type": "code",
   "execution_count": 63,
   "metadata": {},
   "outputs": [],
   "source": [
    "for i in range(len(chapters)):\n",
    "    if i < 9: # if single digit chapters 1-9\n",
    "        letters_to_remove = 3\n",
    "    else:\n",
    "        letters_to_remove = 4\n",
    "        \n",
    "    chapters[i] = chapters[i][letters_to_remove:]"
   ]
  },
  {
   "cell_type": "code",
   "execution_count": 68,
   "metadata": {},
   "outputs": [
    {
     "data": {
      "text/plain": [
       "'Mrs. Gardiner’s caution to Elizabeth was punctually and kindly given on the first favourable opportunity of speaking to her alone; after honestly telling her what she thought, she thus went on: “You are too sensible a girl, Lizzy, to fall in love merely because you are warned against it; and, therefore, I am not afraid of speaking openly. Seriously, I would have you be on your guard. Do not involve yourself or endeavour to involve him in an affection which the want of fortune would make so very imprudent. I have nothing to say against _him_; he is a most interesting young man; and if he had the fortune he ought to have, I should think you could not do better. But as it is, you must not let your fancy run away with you. You have sense, and we all expect you to use it. Your father would depend on _your_ resolution and good conduct, I am sure. You must not disappoint your father.” “My dear aunt, this is being serious indeed.” “Yes, and I hope to engage you to be serious likewise.” “Well, then, you need not be under any alarm. I will take care of myself, and of Mr. Wickham too. He shall not be in love with me, if I can prevent it.” “Elizabeth, you are not serious now.” “I beg your pardon, I will try again. At present I am not in love with Mr. Wickham; no, I certainly am not. But he is, beyond all comparison, the most agreeable man I ever saw—and if he becomes really attached to me—I believe it will be better that he should not. I see the imprudence of it. Oh! _that_ abominable Mr. Darcy! My father’s opinion of me does me the greatest honour, and I should be miserable to forfeit it. My father, however, is partial to Mr. Wickham. In short, my dear aunt, I should be very sorry to be the means of making any of you unhappy; but since we see every day that where there is affection, young people are seldom withheld by immediate want of fortune from entering into engagements with each other, how can I promise to be wiser than so many of my fellow-creatures if I am tempted, or how am I even to know that it would be wisdom to resist? All that I can promise you, therefore, is not to be in a hurry. I will not be in a hurry to believe myself his first object. When I am in company with him, I will not be wishing. In short, I will do my best.” “Perhaps it will be as well if you discourage his coming here so very often. At least, you should not _remind_ your mother of inviting him.” “As I did the other day,” said Elizabeth with a conscious smile: “very true, it will be wise in me to refrain from _that_. But do not imagine that he is always here so often. It is on your account that he has been so frequently invited this week. You know my mother’s ideas as to the necessity of constant company for her friends. But really, and upon my honour, I will try to do what I think to be the wisest; and now I hope you are satisfied.” Her aunt assured her that she was, and Elizabeth having thanked her for the kindness of her hints, they parted; a wonderful instance of advice being given on such a point, without being resented. Mr. Collins returned into Hertfordshire soon after it had been quitted by the Gardiners and Jane; but as he took up his abode with the Lucases, his arrival was no great inconvenience to Mrs. Bennet. His marriage was now fast approaching, and she was at length so far resigned as to think it inevitable, and even repeatedly to say, in an ill-natured tone, that she “_wished_ they might be happy.” Thursday was to be the wedding day, and on Wednesday Miss Lucas paid her farewell visit; and when she rose to take leave, Elizabeth, ashamed of her mother’s ungracious and reluctant good wishes, and sincerely affected herself, accompanied her out of the room. As they went downstairs together, Charlotte said: “I shall depend on hearing from you very often, Eliza.” “_That_ you certainly shall.” “And I have another favour to ask you. Will you come and see me?” “We shall often meet, I hope, in Hertfordshire.” “I am not likely to leave Kent for some time. Promise me, therefore, to come to Hunsford.” Elizabeth could not refuse, though she foresaw little pleasure in the visit. “My father and Maria are coming to me in March,” added Charlotte, “and I hope you will consent to be of the party. Indeed, Eliza, you will be as welcome as either of them.” The wedding took place; the bride and bridegroom set off for Kent from the church door, and everybody had as much to say, or to hear, on the subject as usual. Elizabeth soon heard from her friend; and their correspondence was as regular and frequent as it had ever been; that it should be equally unreserved was impossible. Elizabeth could never address her without feeling that all the comfort of intimacy was over, and though determined not to slacken as a correspondent, it was for the sake of what had been, rather than what was. Charlotte’s first letters were received with a good deal of eagerness; there could not but be curiosity to know how she would speak of her new home, how she would like Lady Catherine, and how happy she would dare pronounce herself to be; though, when the letters were read, Elizabeth felt that Charlotte expressed herself on every point exactly as she might have foreseen. She wrote cheerfully, seemed surrounded with comforts, and mentioned nothing which she could not praise. The house, furniture, neighbourhood, and roads, were all to her taste, and Lady Catherine’s behaviour was most friendly and obliging. It was Mr. Collins’s picture of Hunsford and Rosings rationally softened; and Elizabeth perceived that she must wait for her own visit there to know the rest. Jane had already written a few lines to her sister to announce their safe arrival in London; and when she wrote again, Elizabeth hoped it would be in her power to say something of the Bingleys. Her impatience for this second letter was as well rewarded as impatience generally is. Jane had been a week in town without either seeing or hearing from Caroline. She accounted for it, however, by supposing that her last letter to her friend from Longbourn had by some accident been lost. “My aunt,” she continued, “is going to-morrow into that part of the town, and I shall take the opportunity of calling in Grosvenor Street.” She wrote again when the visit was paid, and she had seen Miss Bingley. “I did not think Caroline in spirits,” were her words, “but she was very glad to see me, and reproached me for giving her no notice of my coming to London. I was right, therefore, my last letter had never reached her. I enquired after their brother, of course. He was well, but so much engaged with Mr. Darcy that they scarcely ever saw him. I found that Miss Darcy was expected to dinner. I wish I could see her. My visit was not long, as Caroline and Mrs. Hurst were going out. I dare say I shall see them soon here.” Elizabeth shook her head over this letter. It convinced her that accident only could discover to Mr. Bingley her sister’s being in town. Four weeks passed away, and Jane saw nothing of him. She endeavoured to persuade herself that she did not regret it; but she could no longer be blind to Miss Bingley’s inattention. After waiting at home every morning for a fortnight, and inventing every evening a fresh excuse for her, the visitor did at last appear; but the shortness of her stay, and yet more, the alteration of her manner would allow Jane to deceive herself no longer. The letter which she wrote on this occasion to her sister will prove what she felt. “My dearest Lizzy will, I am sure, be incapable of triumphing in her better judgement, at my expense, when I confess myself to have been entirely deceived in Miss Bingley’s regard for me. But, my dear sister, though the event has proved you right, do not think me obstinate if I still assert that, considering what her behaviour was, my confidence was as natural as your suspicion. I do not at all comprehend her reason for wishing to be intimate with me; but if the same circumstances were to happen again, I am sure I should be deceived again. Caroline did not return my visit till yesterday; and not a note, not a line, did I receive in the meantime. When she did come, it was very evident that she had no pleasure in it; she made a slight, formal apology, for not calling before, said not a word of wishing to see me again, and was in every respect so altered a creature, that when she went away I was perfectly resolved to continue the acquaintance no longer. I pity, though I cannot help blaming her. She was very wrong in singling me out as she did; I can safely say that every advance to intimacy began on her side. But I pity her, because she must feel that she has been acting wrong, and because I am very sure that anxiety for her brother is the cause of it. I need not explain myself farther; and though _we_ know this anxiety to be quite needless, yet if she feels it, it will easily account for her behaviour to me; and so deservedly dear as he is to his sister, whatever anxiety she must feel on his behalf is natural and amiable. I cannot but wonder, however, at her having any such fears now, because, if he had at all cared about me, we must have met, long ago. He knows of my being in town, I am certain, from something she said herself; and yet it would seem, by her manner of talking, as if she wanted to persuade herself that he is really partial to Miss Darcy. I cannot understand it. If I were not afraid of judging harshly, I should be almost tempted to say that there is a strong appearance of duplicity in all this. But I will endeavour to banish every painful thought, and think only of what will make me happy—your affection, and the invariable kindness of my dear uncle and aunt. Let me hear from you very soon. Miss Bingley said something of his never returning to Netherfield again, of giving up the house, but not with any certainty. We had better not mention it. I am extremely glad that you have such pleasant accounts from our friends at Hunsford. Pray go to see them, with Sir William and Maria. I am sure you will be very comfortable there.—Yours, etc.” This letter gave Elizabeth some pain; but her spirits returned as she considered that Jane would no longer be duped, by the sister at least. All expectation from the brother was now absolutely over. She would not even wish for a renewal of his attentions. His character sunk on every review of it; and as a punishment for him, as well as a possible advantage to Jane, she seriously hoped he might really soon marry Mr. Darcy’s sister, as by Wickham’s account, she would make him abundantly regret what he had thrown away. Mrs. Gardiner about this time reminded Elizabeth of her promise concerning that gentleman, and required information; and Elizabeth had such to send as might rather give contentment to her aunt than to herself. His apparent partiality had subsided, his attentions were over, he was the admirer of some one else. Elizabeth was watchful enough to see it all, but she could see it and write of it without material pain. Her heart had been but slightly touched, and her vanity was satisfied with believing that _she_ would have been his only choice, had fortune permitted it. The sudden acquisition of ten thousand pounds was the most remarkable charm of the young lady to whom he was now rendering himself agreeable; but Elizabeth, less clear-sighted perhaps in this case than in Charlotte’s, did not quarrel with him for his wish of independence. Nothing, on the contrary, could be more natural; and while able to suppose that it cost him a few struggles to relinquish her, she was ready to allow it a wise and desirable measure for both, and could very sincerely wish him happy. All this was acknowledged to Mrs. Gardiner; and after relating the circumstances, she thus went on: “I am now convinced, my dear aunt, that I have never been much in love; for had I really experienced that pure and elevating passion, I should at present detest his very name, and wish him all manner of evil. But my feelings are not only cordial towards _him_; they are even impartial towards Miss King. I cannot find out that I hate her at all, or that I am in the least unwilling to think her a very good sort of girl. There can be no love in all this. My watchfulness has been effectual; and though I certainly should be a more interesting object to all my acquaintances were I distractedly in love with him, I cannot say that I regret my comparative insignificance. Importance may sometimes be purchased too dearly. Kitty and Lydia take his defection much more to heart than I do. They are young in the ways of the world, and not yet open to the mortifying conviction that handsome young men must have something to live on as well as the plain.” '"
      ]
     },
     "execution_count": 68,
     "metadata": {},
     "output_type": "execute_result"
    }
   ],
   "source": [
    "chapters[25]"
   ]
  },
  {
   "cell_type": "markdown",
   "metadata": {},
   "source": [
    "## Let's summarize!\n",
    "\n",
    "We will use the gensim library which is based on the textrank algorithm to provide the summaries first. Later we might go on\n",
    "with alternative approaches."
   ]
  },
  {
   "cell_type": "code",
   "execution_count": 72,
   "metadata": {},
   "outputs": [
    {
     "name": "stdout",
     "output_type": "stream",
     "text": [
      "Mrs. Gardiner’s caution to Elizabeth was punctually and kindly given on the first favourable opportunity of speaking to her alone; after honestly telling her what she thought, she thus went on: “You are too sensible a girl, Lizzy, to fall in love merely because you are warned against it; and, therefore, I am not afraid of speaking openly.\n",
      "In short, my dear aunt, I should be very sorry to be the means of making any of you unhappy; but since we see every day that where there is affection, young people are seldom withheld by immediate want of fortune from entering into engagements with each other, how can I promise to be wiser than so many of my fellow-creatures if I am tempted, or how am I even to know that it would be wisdom to resist?\n",
      "But really, and upon my honour, I will try to do what I think to be the wisest; and now I hope you are satisfied.” Her aunt assured her that she was, and Elizabeth having thanked her for the kindness of her hints, they parted; a wonderful instance of advice being given on such a point, without being resented.\n",
      "His marriage was now fast approaching, and she was at length so far resigned as to think it inevitable, and even repeatedly to say, in an ill-natured tone, that she “_wished_ they might be happy.” Thursday was to be the wedding day, and on Wednesday Miss Lucas paid her farewell visit; and when she rose to take leave, Elizabeth, ashamed of her mother’s ungracious and reluctant good wishes, and sincerely affected herself, accompanied her out of the room.\n",
      "Jane had already written a few lines to her sister to announce their safe arrival in London; and when she wrote again, Elizabeth hoped it would be in her power to say something of the Bingleys.\n",
      "“My aunt,” she continued, “is going to-morrow into that part of the town, and I shall take the opportunity of calling in Grosvenor Street.” She wrote again when the visit was paid, and she had seen Miss Bingley.\n",
      "He knows of my being in town, I am certain, from something she said herself; and yet it would seem, by her manner of talking, as if she wanted to persuade herself that he is really partial to Miss Darcy.\n",
      "I am sure you will be very comfortable there.—Yours, etc.” This letter gave Elizabeth some pain; but her spirits returned as she considered that Jane would no longer be duped, by the sister at least.\n",
      "All this was acknowledged to Mrs. Gardiner; and after relating the circumstances, she thus went on: “I am now convinced, my dear aunt, that I have never been much in love; for had I really experienced that pure and elevating passion, I should at present detest his very name, and wish him all manner of evil.\n"
     ]
    }
   ],
   "source": [
    "# print summary for chapter 26 for example\n",
    "\n",
    "summary = summarize(chapters[25], ratio=0.1)\n",
    "print(summary)"
   ]
  },
  {
   "cell_type": "code",
   "execution_count": 73,
   "metadata": {},
   "outputs": [],
   "source": [
    "# looks good, let's do it for each chapter now\n",
    "\n",
    "chap_summaries = [summarize(chap, ratio=0.1) for chap in chapters]"
   ]
  },
  {
   "cell_type": "code",
   "execution_count": 74,
   "metadata": {},
   "outputs": [
    {
     "data": {
      "text/plain": [
       "'It is a truth universally acknowledged, that a single man in possession of a good fortune, must be in want of a wife.\\n“Why, my dear, you must know, Mrs. Long says that Netherfield is taken by a young man of large fortune from the north of England; that he came down on Monday in a chaise and four to see the place, and was so much delighted with it, that he agreed with Mr. Morris immediately; that he is to take possession before Michaelmas, and some of his servants are to be in the house by the end of next week.” “What is his name?” “Bingley.” “Is he married or single?” “Oh!\\nI dare say Mr. Bingley will be very glad to see you; and I will send a few lines by you to assure him of my hearty consent to his marrying whichever he chooses of the girls; though I must throw in a good word for my little Lizzy.” “I desire you will do no such thing.'"
      ]
     },
     "execution_count": 74,
     "metadata": {},
     "output_type": "execute_result"
    }
   ],
   "source": [
    "chap_summaries[0]"
   ]
  },
  {
   "cell_type": "code",
   "execution_count": 75,
   "metadata": {},
   "outputs": [
    {
     "name": "stdout",
     "output_type": "stream",
     "text": [
      "847\n",
      "904\n",
      "1864\n",
      "1410\n",
      "616\n",
      "2831\n",
      "2328\n",
      "2335\n",
      "1810\n",
      "2575\n",
      "1811\n",
      "618\n",
      "2871\n",
      "982\n",
      "1579\n",
      "3820\n",
      "1217\n",
      "6402\n",
      "2710\n",
      "1625\n",
      "1884\n",
      "1829\n",
      "1795\n",
      "2592\n",
      "1601\n",
      "2631\n",
      "974\n",
      "1379\n",
      "2290\n",
      "1437\n",
      "1591\n",
      "1419\n",
      "2383\n",
      "2544\n",
      "3007\n",
      "2434\n",
      "1422\n",
      "955\n",
      "1991\n",
      "1556\n",
      "2405\n",
      "2090\n",
      "4505\n",
      "1610\n",
      "773\n",
      "2844\n",
      "4792\n",
      "2262\n",
      "2735\n",
      "1883\n",
      "1793\n",
      "2442\n",
      "2367\n",
      "1260\n",
      "1996\n",
      "3111\n",
      "1451\n",
      "2591\n",
      "2822\n",
      "2172\n",
      "3670\n"
     ]
    }
   ],
   "source": [
    "for chap_sum in chap_summaries:\n",
    "    print(len(chap_sum))"
   ]
  },
  {
   "cell_type": "markdown",
   "metadata": {},
   "source": [
    "## conclusion\n",
    "\n",
    "As we can see some summaries are much bigger than others, due to the different size of the chapters themselves, but at least summaries seem to be readable portions of the original texts, and they do seem indeed to make sense when read by human eye. \n",
    "\n",
    "Let's see if we have a better chance with some unsupervised learning technique like Latent semantic analysis or some generative transformers."
   ]
  },
  {
   "cell_type": "code",
   "execution_count": 76,
   "metadata": {
    "scrolled": true
   },
   "outputs": [
    {
     "name": "stdout",
     "output_type": "stream",
     "text": [
      "Collecting sumy\n",
      "  Downloading https://files.pythonhosted.org/packages/61/20/8abf92617ec80a2ebaec8dc1646a790fc9656a4a4377ddb9f0cc90bc9326/sumy-0.8.1-py2.py3-none-any.whl (83kB)\n",
      "Requirement already satisfied: nltk>=3.0.2 in c:\\users\\jake\\anaconda3\\lib\\site-packages (from sumy) (3.4)\n",
      "Collecting breadability>=0.1.20 (from sumy)\n",
      "  Downloading https://files.pythonhosted.org/packages/ad/2d/bb6c9b381e6b6a432aa2ffa8f4afdb2204f1ff97cfcc0766a5b7683fec43/breadability-0.1.20.tar.gz\n",
      "Requirement already satisfied: requests>=2.7.0 in c:\\users\\jake\\anaconda3\\lib\\site-packages (from sumy) (2.21.0)\n",
      "Collecting pycountry>=18.2.23 (from sumy)\n",
      "  Downloading https://files.pythonhosted.org/packages/76/73/6f1a412f14f68c273feea29a6ea9b9f1e268177d32e0e69ad6790d306312/pycountry-20.7.3.tar.gz (10.1MB)\n",
      "Collecting docopt<0.7,>=0.6.1 (from sumy)\n",
      "  Downloading https://files.pythonhosted.org/packages/a2/55/8f8cab2afd404cf578136ef2cc5dfb50baa1761b68c9da1fb1e4eed343c9/docopt-0.6.2.tar.gz\n",
      "Requirement already satisfied: six in c:\\users\\jake\\anaconda3\\lib\\site-packages (from nltk>=3.0.2->sumy) (1.16.0)\n",
      "Requirement already satisfied: singledispatch in c:\\users\\jake\\anaconda3\\lib\\site-packages (from nltk>=3.0.2->sumy) (3.4.0.3)\n",
      "Requirement already satisfied: chardet in c:\\users\\jake\\anaconda3\\lib\\site-packages (from breadability>=0.1.20->sumy) (3.0.4)\n",
      "Requirement already satisfied: lxml>=2.0 in c:\\users\\jake\\anaconda3\\lib\\site-packages (from breadability>=0.1.20->sumy) (4.3.2)\n",
      "Requirement already satisfied: urllib3<1.25,>=1.21.1 in c:\\users\\jake\\anaconda3\\lib\\site-packages (from requests>=2.7.0->sumy) (1.24.1)\n",
      "Requirement already satisfied: idna<2.9,>=2.5 in c:\\users\\jake\\anaconda3\\lib\\site-packages (from requests>=2.7.0->sumy) (2.8)\n",
      "Requirement already satisfied: certifi>=2017.4.17 in c:\\users\\jake\\anaconda3\\lib\\site-packages (from requests>=2.7.0->sumy) (2020.12.5)\n",
      "Building wheels for collected packages: breadability, pycountry, docopt\n",
      "  Building wheel for breadability (setup.py): started\n",
      "  Building wheel for breadability (setup.py): finished with status 'done'\n",
      "  Stored in directory: C:\\Users\\jake\\AppData\\Local\\pip\\Cache\\wheels\\5a\\4d\\a1\\510b12c5e65e0b2b3ce539b2af66da0fc57571e528924f4a52\n",
      "  Building wheel for pycountry (setup.py): started\n",
      "  Building wheel for pycountry (setup.py): finished with status 'done'\n",
      "  Stored in directory: C:\\Users\\jake\\AppData\\Local\\pip\\Cache\\wheels\\33\\4e\\a6\\be297e6b83567e537bed9df4a93f8590ec01c1acfbcd405348\n",
      "  Building wheel for docopt (setup.py): started\n",
      "  Building wheel for docopt (setup.py): finished with status 'done'\n",
      "  Stored in directory: C:\\Users\\jake\\AppData\\Local\\pip\\Cache\\wheels\\9b\\04\\dd\\7daf4150b6d9b12949298737de9431a324d4b797ffd63f526e\n",
      "Successfully built breadability pycountry docopt\n",
      "Installing collected packages: docopt, breadability, pycountry, sumy\n",
      "Successfully installed breadability-0.1.20 docopt-0.6.2 pycountry-20.7.3 sumy-0.8.1\n"
     ]
    }
   ],
   "source": [
    "!pip install sumy"
   ]
  },
  {
   "cell_type": "code",
   "execution_count": 77,
   "metadata": {},
   "outputs": [],
   "source": [
    "import sumy"
   ]
  },
  {
   "cell_type": "code",
   "execution_count": 78,
   "metadata": {},
   "outputs": [],
   "source": [
    "from sumy.summarizers.lsa import LsaSummarizer\n",
    "from sumy.nlp.tokenizers import Tokenizer\n",
    "from sumy.parsers.plaintext import PlaintextParser"
   ]
  },
  {
   "cell_type": "code",
   "execution_count": 80,
   "metadata": {},
   "outputs": [],
   "source": [
    "# we use the first chapter as a guidance\n",
    "\n",
    "parser = PlaintextParser(chapters[0], Tokenizer('English'))"
   ]
  },
  {
   "cell_type": "code",
   "execution_count": 81,
   "metadata": {},
   "outputs": [],
   "source": [
    "# latent semantic analysis\n",
    "\n",
    "lsa_summarizer = LsaSummarizer()\n",
    "lsa_summary = lsa_summarizer(parser.document, 7) # let's stick to 7 sentences"
   ]
  },
  {
   "cell_type": "code",
   "execution_count": 82,
   "metadata": {},
   "outputs": [
    {
     "name": "stdout",
     "output_type": "stream",
     "text": [
      "“Do you not want to know who has taken it?” cried his wife impatiently.\n",
      "“Why, my dear, you must know, Mrs. Long says that Netherfield is taken by a young man of large fortune from the north of England; that he came down on Monday in a chaise and four to see the place, and was so much delighted with it, that he agreed with Mr. Morris immediately; that he is to take possession before Michaelmas, and some of his servants are to be in the house by the end of next week.” “What is his name?” “Bingley.” “Is he married or single?” “Oh!\n",
      "But it is very likely that he _may_ fall in love with one of them, and therefore you must visit him as soon as he comes.” “I see no occasion for that.\n",
      "When a woman has five grown-up daughters, she ought to give over thinking of her own beauty.” “In such cases, a woman has not often much beauty to think of.” “But, my dear, you must indeed go and see Mr. Bingley when he comes into the neighbourhood.” “It is more than I engage for, I assure you.” “But consider your daughters.\n",
      "Sir William and Lady Lucas are determined to go, merely on that account, for in general, you know, they visit no newcomers.\n",
      "But you are always giving _her_ the preference.” “They have none of them much to recommend them,” replied he; “they are all silly and ignorant like other girls; but Lizzy has something more of quickness than her sisters.” “Mr.\n",
      "I have heard you mention them with consideration these last twenty years at least.” “Ah, you do not know what I suffer.” “But I hope you will get over it, and live to see many young men of four thousand a year come into the neighbourhood.” “It will be no use to us, if twenty such should come, since you will not visit them.” “Depend upon it, my dear, that when there are twenty, I will visit them all.” Mr. Bennet was so odd a mixture of quick parts, sarcastic humour, reserve, and caprice, that the experience of three-and-twenty years had been insufficient to make his wife understand his character.\n"
     ]
    }
   ],
   "source": [
    "for sentence in lsa_summary:\n",
    "    print(sentence)"
   ]
  },
  {
   "cell_type": "markdown",
   "metadata": {},
   "source": [
    "### Notes\n",
    "\n",
    "Maybe is the latent semantic analysis, or maybe the 7 sentences we choose which gives us a significanlty shorter summary, but it seems quite different than the previous one. LSA is an unsupervised learning algorithm, and the procedure could alter the outcome and the summarized portion of text. \n",
    "\n",
    "\n",
    "Anyway, let's do the same for all chapters so anyone can grasp and examine any chapter."
   ]
  },
  {
   "cell_type": "code",
   "execution_count": 83,
   "metadata": {},
   "outputs": [],
   "source": [
    "lsa_summaries = []\n",
    "\n",
    "for chap in chapters:\n",
    "    parser = PlaintextParser(chap, Tokenizer('English'))\n",
    "    lsa_summarizer = LsaSummarizer()\n",
    "    lsa_summary = lsa_summarizer(parser.document, 7)\n",
    "    lsa_summaries.append(lsa_summary)"
   ]
  },
  {
   "cell_type": "code",
   "execution_count": 85,
   "metadata": {},
   "outputs": [
    {
     "name": "stdout",
     "output_type": "stream",
     "text": [
      "61\n"
     ]
    }
   ],
   "source": [
    "print(len(lsa_summaries))"
   ]
  },
  {
   "cell_type": "markdown",
   "metadata": {},
   "source": [
    "Worth the shot to see something different. Let's take a look to transformers and specifically a generic GPT-2 form OpenAI"
   ]
  },
  {
   "cell_type": "code",
   "execution_count": 87,
   "metadata": {},
   "outputs": [
    {
     "name": "stdout",
     "output_type": "stream",
     "text": [
      "Collecting transformers\n",
      "  Downloading https://files.pythonhosted.org/packages/3e/54/e8987cb687c29e6a48547aec10599127c6ff7bb8663382d12f8cea555c62/transformers-4.9.0-py3-none-any.whl (2.6MB)\n",
      "Collecting sacremoses (from transformers)\n",
      "  Downloading https://files.pythonhosted.org/packages/75/ee/67241dc87f266093c533a2d4d3d69438e57d7a90abb216fa076e7d475d4a/sacremoses-0.0.45-py3-none-any.whl (895kB)\n",
      "Requirement already satisfied: importlib-metadata; python_version < \"3.8\" in c:\\users\\jake\\anaconda3\\lib\\site-packages (from transformers) (0.0.0)\n",
      "Requirement already satisfied: packaging in c:\\users\\jake\\anaconda3\\lib\\site-packages (from transformers) (21.0)\n",
      "Requirement already satisfied: filelock in c:\\users\\jake\\anaconda3\\lib\\site-packages (from transformers) (3.0.10)\n",
      "Collecting tokenizers<0.11,>=0.10.1 (from transformers)\n",
      "  Downloading https://files.pythonhosted.org/packages/98/58/b092e16beb8cc360025f8cd26e2f4deb1492e43a22de0cb499793d71ea30/tokenizers-0.10.3-cp37-cp37m-win_amd64.whl (2.0MB)\n",
      "Requirement already satisfied: pyyaml>=5.1 in c:\\users\\jake\\anaconda3\\lib\\site-packages (from transformers) (5.1)\n",
      "Requirement already satisfied: numpy>=1.17 in c:\\users\\jake\\anaconda3\\lib\\site-packages (from transformers) (1.21.1)\n",
      "Requirement already satisfied: requests in c:\\users\\jake\\anaconda3\\lib\\site-packages (from transformers) (2.21.0)\n",
      "Collecting huggingface-hub==0.0.12 (from transformers)\n",
      "  Downloading https://files.pythonhosted.org/packages/2f/ee/97e253668fda9b17e968b3f97b2f8e53aa0127e8807d24a547687423fe0b/huggingface_hub-0.0.12-py3-none-any.whl\n",
      "Requirement already satisfied: tqdm>=4.27 in c:\\users\\jake\\anaconda3\\lib\\site-packages (from transformers) (4.61.2)\n",
      "Collecting regex!=2019.12.17 (from transformers)\n",
      "  Downloading https://files.pythonhosted.org/packages/50/1a/190dc2527e9c14dc9d07f0bc5be0f530af5c307a6aa2343926161dc9da3b/regex-2021.7.6-cp37-cp37m-win_amd64.whl (270kB)\n",
      "Requirement already satisfied: click in c:\\users\\jake\\anaconda3\\lib\\site-packages (from sacremoses->transformers) (7.1.2)\n",
      "Requirement already satisfied: six in c:\\users\\jake\\anaconda3\\lib\\site-packages (from sacremoses->transformers) (1.16.0)\n",
      "Requirement already satisfied: joblib in c:\\users\\jake\\anaconda3\\lib\\site-packages (from sacremoses->transformers) (1.0.0)\n",
      "Requirement already satisfied: zipp>=0.3.2 in c:\\users\\jake\\anaconda3\\lib\\site-packages (from importlib-metadata; python_version < \"3.8\"->transformers) (3.5.0)\n",
      "Requirement already satisfied: pyparsing>=2.0.2 in c:\\users\\jake\\anaconda3\\lib\\site-packages (from packaging->transformers) (2.3.1)\n",
      "Requirement already satisfied: chardet<3.1.0,>=3.0.2 in c:\\users\\jake\\anaconda3\\lib\\site-packages (from requests->transformers) (3.0.4)\n",
      "Requirement already satisfied: urllib3<1.25,>=1.21.1 in c:\\users\\jake\\anaconda3\\lib\\site-packages (from requests->transformers) (1.24.1)\n",
      "Requirement already satisfied: idna<2.9,>=2.5 in c:\\users\\jake\\anaconda3\\lib\\site-packages (from requests->transformers) (2.8)\n",
      "Requirement already satisfied: certifi>=2017.4.17 in c:\\users\\jake\\anaconda3\\lib\\site-packages (from requests->transformers) (2020.12.5)\n",
      "Requirement already satisfied: typing-extensions in c:\\users\\jake\\anaconda3\\lib\\site-packages (from huggingface-hub==0.0.12->transformers) (3.10.0.0)\n",
      "Requirement already satisfied: colorama; platform_system == \"Windows\" in c:\\users\\jake\\anaconda3\\lib\\site-packages (from tqdm>=4.27->transformers) (0.4.1)\n",
      "Installing collected packages: regex, sacremoses, tokenizers, huggingface-hub, transformers\n",
      "Successfully installed huggingface-hub-0.0.12 regex-2021.7.6 sacremoses-0.0.45 tokenizers-0.10.3 transformers-4.9.0\n"
     ]
    }
   ],
   "source": [
    "!pip install transformers"
   ]
  },
  {
   "cell_type": "code",
   "execution_count": 94,
   "metadata": {},
   "outputs": [],
   "source": [
    "from transformers import GPT2Tokenizer,GPT2LMHeadModel"
   ]
  },
  {
   "cell_type": "code",
   "execution_count": 93,
   "metadata": {},
   "outputs": [
    {
     "name": "stdout",
     "output_type": "stream",
     "text": [
      "Looking in links: https://download.pytorch.org/whl/torch_stable.html\n",
      "Collecting torch==1.9.0+cu102\n",
      "  Using cached https://download.pytorch.org/whl/cu102/torch-1.9.0%2Bcu102-cp37-cp37m-win_amd64.whl\n",
      "Collecting torchvision==0.10.0+cu102\n",
      "  Using cached https://download.pytorch.org/whl/cu102/torchvision-0.10.0%2Bcu102-cp37-cp37m-win_amd64.whl\n",
      "Collecting torchaudio===0.9.0\n",
      "  Using cached https://files.pythonhosted.org/packages/99/37/e8d1825039effd92c81e65c1c737db659bf443b5d0ce141d3fc78b5e1eaf/torchaudio-0.9.0-cp37-cp37m-win_amd64.whl\n",
      "Requirement already satisfied: typing-extensions in c:\\users\\jake\\anaconda3\\lib\\site-packages (from torch==1.9.0+cu102) (3.10.0.0)\n",
      "Requirement already satisfied: numpy in c:\\users\\jake\\anaconda3\\lib\\site-packages (from torchvision==0.10.0+cu102) (1.21.1)\n",
      "Requirement already satisfied: pillow>=5.3.0 in c:\\users\\jake\\anaconda3\\lib\\site-packages (from torchvision==0.10.0+cu102) (5.4.1)\n",
      "Installing collected packages: torch, torchvision, torchaudio\n",
      "Successfully installed torch-1.9.0+cu102 torchaudio-0.9.0 torchvision-0.10.0+cu102\n"
     ]
    }
   ],
   "source": [
    "!pip install torch==1.9.0+cu102 torchvision==0.10.0+cu102 torchaudio===0.9.0 -f https://download.pytorch.org/whl/torch_stable.html"
   ]
  },
  {
   "cell_type": "code",
   "execution_count": 95,
   "metadata": {},
   "outputs": [
    {
     "ename": "ImportError",
     "evalue": "\nGPT2LMHeadModel requires the PyTorch library but it was not found in your environment. Checkout the instructions on the\ninstallation page: https://pytorch.org/get-started/locally/ and follow the ones that match your environment.\n",
     "output_type": "error",
     "traceback": [
      "\u001b[1;31m---------------------------------------------------------------------------\u001b[0m",
      "\u001b[1;31mImportError\u001b[0m                               Traceback (most recent call last)",
      "\u001b[1;32m<ipython-input-95-4e5abe618d2f>\u001b[0m in \u001b[0;36m<module>\u001b[1;34m\u001b[0m\n\u001b[0;32m      1\u001b[0m \u001b[0mtokenizer\u001b[0m\u001b[1;33m=\u001b[0m\u001b[0mGPT2Tokenizer\u001b[0m\u001b[1;33m.\u001b[0m\u001b[0mfrom_pretrained\u001b[0m\u001b[1;33m(\u001b[0m\u001b[1;34m'gpt2'\u001b[0m\u001b[1;33m)\u001b[0m\u001b[1;33m\u001b[0m\u001b[1;33m\u001b[0m\u001b[0m\n\u001b[1;32m----> 2\u001b[1;33m \u001b[0mmodel\u001b[0m\u001b[1;33m=\u001b[0m\u001b[0mGPT2LMHeadModel\u001b[0m\u001b[1;33m.\u001b[0m\u001b[0mfrom_pretrained\u001b[0m\u001b[1;33m(\u001b[0m\u001b[1;34m'gpt2'\u001b[0m\u001b[1;33m)\u001b[0m\u001b[1;33m\u001b[0m\u001b[1;33m\u001b[0m\u001b[0m\n\u001b[0m",
      "\u001b[1;32m~\\Anaconda3\\lib\\site-packages\\transformers\\utils\\dummy_pt_objects.py\u001b[0m in \u001b[0;36mfrom_pretrained\u001b[1;34m(cls, *args, **kwargs)\u001b[0m\n\u001b[0;32m   1753\u001b[0m     \u001b[1;33m@\u001b[0m\u001b[0mclassmethod\u001b[0m\u001b[1;33m\u001b[0m\u001b[1;33m\u001b[0m\u001b[0m\n\u001b[0;32m   1754\u001b[0m     \u001b[1;32mdef\u001b[0m \u001b[0mfrom_pretrained\u001b[0m\u001b[1;33m(\u001b[0m\u001b[0mcls\u001b[0m\u001b[1;33m,\u001b[0m \u001b[1;33m*\u001b[0m\u001b[0margs\u001b[0m\u001b[1;33m,\u001b[0m \u001b[1;33m**\u001b[0m\u001b[0mkwargs\u001b[0m\u001b[1;33m)\u001b[0m\u001b[1;33m:\u001b[0m\u001b[1;33m\u001b[0m\u001b[1;33m\u001b[0m\u001b[0m\n\u001b[1;32m-> 1755\u001b[1;33m         \u001b[0mrequires_backends\u001b[0m\u001b[1;33m(\u001b[0m\u001b[0mcls\u001b[0m\u001b[1;33m,\u001b[0m \u001b[1;33m[\u001b[0m\u001b[1;34m\"torch\"\u001b[0m\u001b[1;33m]\u001b[0m\u001b[1;33m)\u001b[0m\u001b[1;33m\u001b[0m\u001b[1;33m\u001b[0m\u001b[0m\n\u001b[0m\u001b[0;32m   1756\u001b[0m \u001b[1;33m\u001b[0m\u001b[0m\n\u001b[0;32m   1757\u001b[0m \u001b[1;33m\u001b[0m\u001b[0m\n",
      "\u001b[1;32m~\\Anaconda3\\lib\\site-packages\\transformers\\file_utils.py\u001b[0m in \u001b[0;36mrequires_backends\u001b[1;34m(obj, backends)\u001b[0m\n\u001b[0;32m    644\u001b[0m     \u001b[0mname\u001b[0m \u001b[1;33m=\u001b[0m \u001b[0mobj\u001b[0m\u001b[1;33m.\u001b[0m\u001b[0m__name__\u001b[0m \u001b[1;32mif\u001b[0m \u001b[0mhasattr\u001b[0m\u001b[1;33m(\u001b[0m\u001b[0mobj\u001b[0m\u001b[1;33m,\u001b[0m \u001b[1;34m\"__name__\"\u001b[0m\u001b[1;33m)\u001b[0m \u001b[1;32melse\u001b[0m \u001b[0mobj\u001b[0m\u001b[1;33m.\u001b[0m\u001b[0m__class__\u001b[0m\u001b[1;33m.\u001b[0m\u001b[0m__name__\u001b[0m\u001b[1;33m\u001b[0m\u001b[1;33m\u001b[0m\u001b[0m\n\u001b[0;32m    645\u001b[0m     \u001b[1;32mif\u001b[0m \u001b[1;32mnot\u001b[0m \u001b[0mall\u001b[0m\u001b[1;33m(\u001b[0m\u001b[0mBACKENDS_MAPPING\u001b[0m\u001b[1;33m[\u001b[0m\u001b[0mbackend\u001b[0m\u001b[1;33m]\u001b[0m\u001b[1;33m[\u001b[0m\u001b[1;36m0\u001b[0m\u001b[1;33m]\u001b[0m\u001b[1;33m(\u001b[0m\u001b[1;33m)\u001b[0m \u001b[1;32mfor\u001b[0m \u001b[0mbackend\u001b[0m \u001b[1;32min\u001b[0m \u001b[0mbackends\u001b[0m\u001b[1;33m)\u001b[0m\u001b[1;33m:\u001b[0m\u001b[1;33m\u001b[0m\u001b[1;33m\u001b[0m\u001b[0m\n\u001b[1;32m--> 646\u001b[1;33m         \u001b[1;32mraise\u001b[0m \u001b[0mImportError\u001b[0m\u001b[1;33m(\u001b[0m\u001b[1;34m\"\"\u001b[0m\u001b[1;33m.\u001b[0m\u001b[0mjoin\u001b[0m\u001b[1;33m(\u001b[0m\u001b[1;33m[\u001b[0m\u001b[0mBACKENDS_MAPPING\u001b[0m\u001b[1;33m[\u001b[0m\u001b[0mbackend\u001b[0m\u001b[1;33m]\u001b[0m\u001b[1;33m[\u001b[0m\u001b[1;36m1\u001b[0m\u001b[1;33m]\u001b[0m\u001b[1;33m.\u001b[0m\u001b[0mformat\u001b[0m\u001b[1;33m(\u001b[0m\u001b[0mname\u001b[0m\u001b[1;33m)\u001b[0m \u001b[1;32mfor\u001b[0m \u001b[0mbackend\u001b[0m \u001b[1;32min\u001b[0m \u001b[0mbackends\u001b[0m\u001b[1;33m]\u001b[0m\u001b[1;33m)\u001b[0m\u001b[1;33m)\u001b[0m\u001b[1;33m\u001b[0m\u001b[1;33m\u001b[0m\u001b[0m\n\u001b[0m\u001b[0;32m    647\u001b[0m \u001b[1;33m\u001b[0m\u001b[0m\n\u001b[0;32m    648\u001b[0m \u001b[1;33m\u001b[0m\u001b[0m\n",
      "\u001b[1;31mImportError\u001b[0m: \nGPT2LMHeadModel requires the PyTorch library but it was not found in your environment. Checkout the instructions on the\ninstallation page: https://pytorch.org/get-started/locally/ and follow the ones that match your environment.\n"
     ]
    }
   ],
   "source": [
    "tokenizer=GPT2Tokenizer.from_pretrained('gpt2')\n",
    "model=GPT2LMHeadModel.from_pretrained('gpt2')"
   ]
  },
  {
   "cell_type": "markdown",
   "metadata": {},
   "source": [
    "## Important notes\n",
    "\n",
    "It seems the models are not available because the pytorch library is not installed correctly. I run the installation command above but I have no space on my computer, so I will write the code for getting summaries from gpt2 transformer models, and hopefully it will work on your pc if you have all dependencies installed.\n",
    "\n",
    "## Attention:\n",
    "\n",
    "None of the code below has been run on my pc. This is what I had in mind to do. Hopefully it runs."
   ]
  },
  {
   "cell_type": "code",
   "execution_count": null,
   "metadata": {},
   "outputs": [],
   "source": [
    "# let's encode text first, we will try with the first chapter again\n",
    "\n",
    "inputs=tokenizer.batch_encode_plus([chapters[0]],return_tensors='pt',max_length=512)\n",
    "\n",
    "# early stopping true, if after some consecutive rounds no significant improvement has been made\n",
    "summary_ids=model.generate(inputs['input_ids'],early_stopping=True)\n",
    "\n",
    "# decode and print summary\n",
    "\n",
    "transformer_summary=tokenizer.decode(summary_ids[0],skip_special_tokens=True)\n",
    "print(transformer_summary)\n",
    "\n",
    "#fingers crossed, I hope you see something"
   ]
  }
 ],
 "metadata": {
  "kernelspec": {
   "display_name": "Python 3",
   "language": "python",
   "name": "python3"
  },
  "language_info": {
   "codemirror_mode": {
    "name": "ipython",
    "version": 3
   },
   "file_extension": ".py",
   "mimetype": "text/x-python",
   "name": "python",
   "nbconvert_exporter": "python",
   "pygments_lexer": "ipython3",
   "version": "3.7.3"
  }
 },
 "nbformat": 4,
 "nbformat_minor": 2
}
