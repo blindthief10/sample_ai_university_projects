{
  "cells": [
    {
      "cell_type": "code",
      "source": [
        "# We will use some technique for ensuring that we get reproducable results.\r\n",
        "\r\n",
        "import os\r\n",
        "\r\n",
        "os.environ['PYTHONHASHSEED'] = str(323)\r\n",
        "\r\n",
        "from tensorflow import random as tfrand\r\n",
        "import numpy as np\r\n",
        "import random as rn\r\n",
        "import pandas as pd\r\n",
        "import matplotlib.pyplot as plt\r\n",
        "from keras.models import Sequential\r\n",
        "from keras.layers import Dense, LSTM, SimpleRNN, Dropout, GRU, Conv1D, MaxPooling1D\r\n",
        "from sklearn.preprocessing import MinMaxScaler\r\n",
        "from sklearn.metrics import mean_absolute_error\r\n"
      ],
      "outputs": [],
      "execution_count": 117,
      "metadata": {
        "collapsed": true,
        "jupyter": {
          "source_hidden": false,
          "outputs_hidden": false
        },
        "nteract": {
          "transient": {
            "deleting": false
          }
        },
        "gather": {
          "logged": 1620933779409
        }
      }
    },
    {
      "cell_type": "markdown",
      "source": [
        "## Important Notes. Read Before Run:\r\n",
        "\r\n",
        "The whole notebook was tested in a **Microsoft Azure ML Studio** for obtaining computation advantages, and for better performance overall. \r\n",
        "All models, have been also saved on a private run as *hd5* files and are available. So if needed, I will be happy to provide.\r\n",
        "\r\n",
        "Apart from that, the cells that follow, is an attempt by using tensorflow 2 techniques of ensuring than we get similar results. \r\n",
        "\r\n",
        "*** Attention\r\n",
        "\r\n",
        "I am writing **similar** results and not **identical**. The reason is because some models have dropout layers that have some randomness\r\n",
        "of which data is ignored, randomly. For that we can do nothing, the same for the fact that we run in gpu, and from that alone some\r\n",
        "randomness is included, but we can control the random weights initialization, by creating the seeds we will see later on.\r\n",
        "\r\n",
        "*** Azure Environment details\r\n",
        "\r\n",
        "Computation unit used: Nvidia GPU 6 cores, 56 GB ram"
      ],
      "metadata": {
        "nteract": {
          "transient": {
            "deleting": false
          }
        }
      }
    },
    {
      "cell_type": "code",
      "source": [
        "# Create Some random seeds, as default, some models that performed extremely well, they have their own \"dedicated\" seeds, since I didn't\r\n",
        "# want to lose them.\r\n",
        "\r\n",
        "def reset_seeds():\r\n",
        "    os.environ['PYTHONHASHSEED'] = str(323)\r\n",
        "    np.random.seed(64)\r\n",
        "    tfrand.set_seed(65)\r\n",
        "    rn.seed(66)\r\n",
        "\r\n",
        "reset_seeds()"
      ],
      "outputs": [],
      "execution_count": 119,
      "metadata": {
        "collapsed": true,
        "jupyter": {
          "source_hidden": false,
          "outputs_hidden": false
        },
        "nteract": {
          "transient": {
            "deleting": false
          }
        },
        "gather": {
          "logged": 1620934227643
        }
      }
    },
    {
      "cell_type": "code",
      "source": [
        "# load data\n",
        "stock_set = pd.read_csv('apple_stock_data.csv')\n",
        "stock_set.head()"
      ],
      "outputs": [
        {
          "output_type": "execute_result",
          "execution_count": 120,
          "data": {
            "text/plain": "         Date Close/Last     Volume     Open       High       Low\n0  05/07/2021    $130.21   78973270  $130.85  $131.2582  $129.475\n1  05/06/2021    $129.74   78128330  $127.89    $129.75   $127.13\n2  05/05/2021     $128.1   84000900   $129.2    $130.45   $127.97\n3  05/04/2021    $127.85  137564700  $131.19  $131.4899    $126.7\n4  05/03/2021    $132.54   75135100  $132.04    $134.07   $131.83",
            "text/html": "<div>\n<style scoped>\n    .dataframe tbody tr th:only-of-type {\n        vertical-align: middle;\n    }\n\n    .dataframe tbody tr th {\n        vertical-align: top;\n    }\n\n    .dataframe thead th {\n        text-align: right;\n    }\n</style>\n<table border=\"1\" class=\"dataframe\">\n  <thead>\n    <tr style=\"text-align: right;\">\n      <th></th>\n      <th>Date</th>\n      <th>Close/Last</th>\n      <th>Volume</th>\n      <th>Open</th>\n      <th>High</th>\n      <th>Low</th>\n    </tr>\n  </thead>\n  <tbody>\n    <tr>\n      <th>0</th>\n      <td>05/07/2021</td>\n      <td>$130.21</td>\n      <td>78973270</td>\n      <td>$130.85</td>\n      <td>$131.2582</td>\n      <td>$129.475</td>\n    </tr>\n    <tr>\n      <th>1</th>\n      <td>05/06/2021</td>\n      <td>$129.74</td>\n      <td>78128330</td>\n      <td>$127.89</td>\n      <td>$129.75</td>\n      <td>$127.13</td>\n    </tr>\n    <tr>\n      <th>2</th>\n      <td>05/05/2021</td>\n      <td>$128.1</td>\n      <td>84000900</td>\n      <td>$129.2</td>\n      <td>$130.45</td>\n      <td>$127.97</td>\n    </tr>\n    <tr>\n      <th>3</th>\n      <td>05/04/2021</td>\n      <td>$127.85</td>\n      <td>137564700</td>\n      <td>$131.19</td>\n      <td>$131.4899</td>\n      <td>$126.7</td>\n    </tr>\n    <tr>\n      <th>4</th>\n      <td>05/03/2021</td>\n      <td>$132.54</td>\n      <td>75135100</td>\n      <td>$132.04</td>\n      <td>$134.07</td>\n      <td>$131.83</td>\n    </tr>\n  </tbody>\n</table>\n</div>"
          },
          "metadata": {}
        }
      ],
      "execution_count": 120,
      "metadata": {
        "gather": {
          "logged": 1620934255504
        }
      }
    },
    {
      "cell_type": "code",
      "source": [
        "# Take close/last column and convert it to float then reverse it since the latest data has to be last chronologically\n",
        "stock_values = stock_set['Close/Last'].apply(lambda x: x[1:]).astype('float')\n",
        "reversed_stocks = stock_values[::-1]"
      ],
      "outputs": [],
      "execution_count": 121,
      "metadata": {
        "gather": {
          "logged": 1620934307481
        }
      }
    },
    {
      "cell_type": "code",
      "source": [
        "# Let's see our plot before our transformations apply\n",
        "\n",
        "plt.figure(figsize=(15, 8))\n",
        "plt.plot(reversed_stocks.index[::-1], np.array(reversed_stocks))\n",
        "plt.show()"
      ],
      "outputs": [
        {
          "output_type": "display_data",
          "data": {
            "text/plain": "<Figure size 1080x576 with 1 Axes>",
            "image/png": "[encoded data removed]"
          },
          "metadata": {
            "needs_background": "light"
          }
        }
      ],
      "execution_count": 122,
      "metadata": {
        "gather": {
          "logged": 1620934327163
        }
      }
    },
    {
      "cell_type": "markdown",
      "source": [
        "### Visualization Note\r\n",
        "\r\n",
        "This is a pattern that happens with most tech companies. Their stocks appeared to be *flat* for some time, and then along with the\r\n",
        "technological revolution and the *fourth industrial revolution* came also the bloosom of their stock price as well. \r\n",
        "\r\n",
        "From recurrent perspective it is a bit worrysome that most of the training set will be with the stock being flat, and the test set, on\r\n",
        "a wild climbing. We will see how the models perform and evaluate later on, but we will keep that in mind."
      ],
      "metadata": {
        "nteract": {
          "transient": {
            "deleting": false
          }
        }
      }
    },
    {
      "cell_type": "code",
      "source": [
        "# reshape stock column, preprocess, and scale\n",
        "stocks_reshaped = np.array(reversed_stocks).reshape(-1, 1)\n",
        "scaler = MinMaxScaler()\n",
        "stocks_scaled = scaler.fit_transform(stocks_reshaped)\n",
        "stocks_scaled"
      ],
      "outputs": [
        {
          "output_type": "execute_result",
          "execution_count": 123,
          "data": {
            "text/plain": "array([[0.00874081],\n       [0.00924195],\n       [0.00864073],\n       ...,\n       [0.88582138],\n       [0.89825517],\n       [0.90181852]])"
          },
          "metadata": {}
        }
      ],
      "execution_count": 123,
      "metadata": {
        "gather": {
          "logged": 1620934566052
        }
      }
    },
    {
      "cell_type": "code",
      "source": [
        "# We create our own train test split function, pass total days (length of values) as first prop, the size of each sequence then,\n",
        "# which indicates based on how many days in the past, we will predict the outcome for the given day. And last the proportion of the\n",
        "# training size. It returns splits for the training set, test set and validation set. Prints also the length to ensure that nothing\n",
        "# was lost due to round function or anything else\n",
        "\n",
        "def create_sets(total_days, look_back, training_set_size):\n",
        "    X_total = [stocks_scaled[i - look_back: i, 0] for i in range(look_back, total_days)]\n",
        "    y_total = stocks_scaled[look_back: total_days]\n",
        "\n",
        "    train_days = round(total_days * training_set_size)\n",
        "\n",
        "    X_train = X_total[0:train_days]\n",
        "    y_train = scaler.inverse_transform(y_total[0:train_days])\n",
        "\n",
        "    X_test = X_total[train_days:]\n",
        "    y_test = scaler.inverse_transform(y_total[train_days:])\n",
        "\n",
        "# convert to numpy array and do some proper reshape before input\n",
        "    validation_start = len(X_train) - len(X_test)\n",
        "\n",
        "    X_train = np.array(X_train)\n",
        "    X_train = np.reshape(X_train, (X_train.shape[0], X_train.shape[1], 1))\n",
        "    y_train = np.array(y_train)\n",
        "    X_test = np.array(X_test)\n",
        "    X_test = np.reshape(X_test, (X_test.shape[0], X_test.shape[1], 1))\n",
        "    y_test = np.array(y_test)\n",
        "    X_validation = X_train[validation_start: X_train.shape[0]]\n",
        "    y_validation = y_train[validation_start:X_train.shape[0]]\n",
        "\n",
        "    # print and ensure that X and Y labels have the same length across train, test and validation sets\n",
        "\n",
        "    print(X_train.shape)\n",
        "    print(X_test.shape)\n",
        "    print(len(y_train))\n",
        "    print(len(y_test))\n",
        "    print(len(X_validation))\n",
        "    print(len(y_validation))\n",
        "    \n",
        "    return (X_train, y_train, X_test, y_test, X_validation, y_validation)"
      ],
      "outputs": [],
      "execution_count": 124,
      "metadata": {
        "gather": {
          "logged": 1620934966573
        }
      }
    },
    {
      "cell_type": "markdown",
      "source": [
        "## Start Notes\r\n",
        "\r\n",
        "We will start with what I call a **classic Machine Learning Approach**. We will split the train and the test set to 80/20, although there\r\n",
        "is still the danger of testing data to contain patterns (and the economical erruption) that train set has not seen yet. \r\n",
        "\r\n",
        "That being said. We will try to predict the next 484 working days (which is almost 2 years) on a day by day sequence of course. Each day will\r\n",
        "be predicted based on the last 20 working days. We picked this number because it represent *1 month* of the stock market and it should b\r\n",
        "indicative of what happens. \r\n",
        "\r\n",
        "We can reset and choose new params if things don't work out, or if we want to experiment, and improve our precision."
      ],
      "metadata": {
        "nteract": {
          "transient": {
            "deleting": false
          }
        }
      }
    },
    {
      "cell_type": "code",
      "source": [
        "# Create the set described on the above markdown cell\r\n",
        "X_train, y_train, X_test, y_test, X_validation, y_validation = create_sets(stock_set.shape[0], 20, 0.8)"
      ],
      "outputs": [
        {
          "output_type": "stream",
          "name": "stdout",
          "text": [
            "(2014, 20, 1)\n",
            "(483, 20, 1)\n",
            "2014\n",
            "483\n",
            "483\n",
            "483\n"
          ]
        }
      ],
      "execution_count": 125,
      "metadata": {
        "collapsed": true,
        "jupyter": {
          "source_hidden": false,
          "outputs_hidden": false
        },
        "nteract": {
          "transient": {
            "deleting": false
          }
        },
        "gather": {
          "logged": 1620935196561
        }
      }
    },
    {
      "cell_type": "markdown",
      "source": [
        "Let's have an a 2 layer LSTM model and use it as an inital benchmark to compare with other data later on."
      ],
      "metadata": {
        "nteract": {
          "transient": {
            "deleting": false
          }
        }
      }
    },
    {
      "cell_type": "code",
      "source": [
        "model = Sequential()\r\n",
        "\r\n",
        "model.add(LSTM(units=96, input_shape=(20, 1), recurrent_dropout=0.05, return_sequences=True))\r\n",
        "model.add(LSTM(units=64, recurrent_dropout=0.05))\r\n",
        "model.add(Dense(1))\r\n",
        "model.compile(optimizer='rmsprop', loss='mae')\r\n",
        "\r\n",
        "model.fit(X_train, y_train, epochs=100, batch_size=32, validation_data=(X_validation, y_validation))"
      ],
      "outputs": [
        {
          "output_type": "stream",
          "name": "stdout",
          "text": [
            "Train on 2014 samples, validate on 483 samples\n",
            "Epoch 1/100\n",
            "2014/2014 [==============================] - 3s 2ms/step - loss: 17.1670 - val_loss: 30.2941\b\b\b\b\b\b\b\b\b\b\b\b\b\b\b\b\b\b\b\b\b\b\b\b\b\b\b\b\b\b\b\b\b\b\b\b\b\b\b\b\b\b\b\b\b\b\n",
            "Epoch 2/100\n",
            "2014/2014 [==============================] - 2s 1ms/step - loss: 12.5988 - val_loss: 26.4914\b\b\b\b\b\b\b\b\b\b\b\b\b\b\b\b\b\b\b\b\b\b\b\b\b\b\b\b\b\b\b\b\b\b\b\b\b\b\b\b\b\b\b\b\n",
            "Epoch 3/100\n",
            "2014/2014 [==============================] - 2s 1ms/step - loss: 10.4336 - val_loss: 22.8954\b\b\b\b\b\b\b\b\b\b\b\b\b\b\b\b\b\b\b\b\b\b\b\b\b\b\b\b\b\b\b\b\b\b\b\b\b\b\b\b\b\b\b\b\n",
            "Epoch 4/100\n",
            "2014/2014 [==============================] - 2s 1ms/step - loss: 8.4820 - val_loss: 19.5443\b\b\b\b\b\b\b\b\b\b\b\b\b\b\b\b\b\b\b\b\b\b\b\b\b\b\b\b\b\b\b\b\b\b\b\b\b\b\b\b\b\b\b\b\b\n",
            "Epoch 5/100\n",
            "2014/2014 [==============================] - 2s 1ms/step - loss: 6.3115 - val_loss: 16.4578\b\b\b\b\b\b\b\b\b\b\b\b\b\b\b\b\b\b\b\b\b\b\b\b\b\b\b\b\b\b\b\b\b\b\b\b\b\b\b\b\b\b\b\n",
            "Epoch 6/100\n",
            "2014/2014 [==============================] - 2s 1ms/step - loss: 5.1579 - val_loss: 13.6867\b\b\b\b\b\b\b\b\b\b\b\b\b\b\b\b\b\b\b\b\b\b\b\b\b\b\b\b\b\b\b\b\b\b\b\b\b\b\b\b\b\b\b\n",
            "Epoch 7/100\n",
            "2014/2014 [==============================] - 2s 1ms/step - loss: 4.3142 - val_loss: 11.4855\b\b\b\b\b\b\b\b\b\b\b\b\b\b\b\b\b\b\b\b\b\b\b\b\b\b\b\b\b\b\b\b\b\b\b\b\b\b\b\b\b\b\b\n",
            "Epoch 8/100\n",
            "2014/2014 [==============================] - 2s 1ms/step - loss: 3.6745 - val_loss: 8.6958\b\b\b\b\b\b\b\b\b\b\b\b\b\b\b\b\b\b\b\b\b\b\b\b\b\b\b\b\b\b\b\b\b\b\b\b\b\b\b\b\b\b\b\b\n",
            "Epoch 9/100\n",
            "2014/2014 [==============================] - 2s 1ms/step - loss: 3.0551 - val_loss: 6.5929\b\b\b\b\b\b\b\b\b\b\b\b\b\b\b\b\b\b\b\b\b\b\b\b\b\b\b\b\b\b\b\b\b\b\b\b\b\b\b\b\b\b\b\b\n",
            "Epoch 10/100\n",
            "2014/2014 [==============================] - 2s 1ms/step - loss: 2.5827 - val_loss: 5.1643\b\b\b\b\b\b\b\b\b\b\b\b\b\b\b\b\b\b\b\b\b\b\b\b\b\b\b\b\b\b\b\b\b\b\b\b\b\b\b\b\b\b\b\b\n",
            "Epoch 11/100\n",
            "2014/2014 [==============================] - 2s 1ms/step - loss: 2.3122 - val_loss: 4.2258\b\b\b\b\b\b\b\b\b\b\b\b\b\b\b\b\b\b\b\b\b\b\b\b\b\b\b\b\b\b\b\b\b\b\b\b\b\b\b\b\b\b\b\b\n",
            "Epoch 12/100\n",
            "2014/2014 [==============================] - 2s 1ms/step - loss: 2.1093 - val_loss: 3.9798\b\b\b\b\b\b\b\b\b\b\b\b\b\b\b\b\b\b\b\b\b\b\b\b\b\b\b\b\b\b\b\b\b\b\b\b\b\b\b\b\b\b\b\b\n",
            "Epoch 13/100\n",
            "2014/2014 [==============================] - 2s 1ms/step - loss: 2.0127 - val_loss: 3.6421\b\b\b\b\b\b\b\b\b\b\b\b\b\b\b\b\b\b\b\b\b\b\b\b\b\b\b\b\b\b\b\b\b\b\b\b\b\b\b\b\b\b\b\b\n",
            "Epoch 14/100\n",
            "2014/2014 [==============================] - 2s 1ms/step - loss: 1.9146 - val_loss: 4.5712\b\b\b\b\b\b\b\b\b\b\b\b\b\b\b\b\b\b\b\b\b\b\b\b\b\b\b\b\b\b\b\b\b\b\b\b\b\b\b\b\b\b\b\b\n",
            "Epoch 15/100\n",
            "2014/2014 [==============================] - 2s 1ms/step - loss: 1.8378 - val_loss: 5.3493\b\b\b\b\b\b\b\b\b\b\b\b\b\b\b\b\b\b\b\b\b\b\b\b\b\b\b\b\b\b\b\b\b\b\b\b\b\b\b\b\b\b\b\b\n",
            "Epoch 16/100\n",
            "2014/2014 [==============================] - 2s 1ms/step - loss: 1.8239 - val_loss: 4.3637\b\b\b\b\b\b\b\b\b\b\b\b\b\b\b\b\b\b\b\b\b\b\b\b\b\b\b\b\b\b\b\b\b\b\b\b\b\b\b\b\b\b\b\b\n",
            "Epoch 17/100\n",
            "2014/2014 [==============================] - 2s 1ms/step - loss: 1.7255 - val_loss: 2.5657\b\b\b\b\b\b\b\b\b\b\b\b\b\b\b\b\b\b\b\b\b\b\b\b\b\b\b\b\b\b\b\b\b\b\b\b\b\b\b\b\b\b\b\b\n",
            "Epoch 18/100\n",
            "2014/2014 [==============================] - 2s 1ms/step - loss: 1.7269 - val_loss: 2.7976\b\b\b\b\b\b\b\b\b\b\b\b\b\b\b\b\b\b\b\b\b\b\b\b\b\b\b\b\b\b\b\b\b\b\b\b\b\b\b\b\b\b\b\b\n",
            "Epoch 19/100\n",
            "2014/2014 [==============================] - 2s 1ms/step - loss: 1.6378 - val_loss: 2.7479\b\b\b\b\b\b\b\b\b\b\b\b\b\b\b\b\b\b\b\b\b\b\b\b\b\b\b\b\b\b\b\b\b\b\b\b\b\b\b\b\b\b\b\b\n",
            "Epoch 20/100\n",
            "2014/2014 [==============================] - 2s 1ms/step - loss: 1.6810 - val_loss: 2.9242\b\b\b\b\b\b\b\b\b\b\b\b\b\b\b\b\b\b\b\b\b\b\b\b\b\b\b\b\b\b\b\b\b\b\b\b\b\b\b\b\b\b\b\b\n",
            "Epoch 21/100\n",
            "2014/2014 [==============================] - 2s 1ms/step - loss: 1.5524 - val_loss: 4.0310\b\b\b\b\b\b\b\b\b\b\b\b\b\b\b\b\b\b\b\b\b\b\b\b\b\b\b\b\b\b\b\b\b\b\b\b\b\b\b\b\b\b\b\b\n",
            "Epoch 22/100\n",
            "2014/2014 [==============================] - 2s 1ms/step - loss: 1.7198 - val_loss: 2.3109\b\b\b\b\b\b\b\b\b\b\b\b\b\b\b\b\b\b\b\b\b\b\b\b\b\b\b\b\b\b\b\b\b\b\b\b\b\b\b\b\b\b\b\b\n",
            "Epoch 23/100\n",
            "2014/2014 [==============================] - 2s 1ms/step - loss: 1.5575 - val_loss: 2.4303\b\b\b\b\b\b\b\b\b\b\b\b\b\b\b\b\b\b\b\b\b\b\b\b\b\b\b\b\b\b\b\b\b\b\b\b\b\b\b\b\b\b\b\b\n",
            "Epoch 24/100\n",
            "2014/2014 [==============================] - 2s 1ms/step - loss: 1.4608 - val_loss: 2.1425\b\b\b\b\b\b\b\b\b\b\b\b\b\b\b\b\b\b\b\b\b\b\b\b\b\b\b\b\b\b\b\b\b\b\b\b\b\b\b\b\b\b\b\b\n",
            "Epoch 25/100\n",
            "2014/2014 [==============================] - 2s 1ms/step - loss: 1.4465 - val_loss: 3.1411\b\b\b\b\b\b\b\b\b\b\b\b\b\b\b\b\b\b\b\b\b\b\b\b\b\b\b\b\b\b\b\b\b\b\b\b\b\b\b\b\b\b\b\b\n",
            "Epoch 26/100\n",
            "2014/2014 [==============================] - 2s 1ms/step - loss: 1.4129 - val_loss: 2.7322\b\b\b\b\b\b\b\b\b\b\b\b\b\b\b\b\b\b\b\b\b\b\b\b\b\b\b\b\b\b\b\b\b\b\b\b\b\b\b\b\b\b\b\b\n",
            "Epoch 27/100\n",
            "2014/2014 [==============================] - 2s 1ms/step - loss: 1.4098 - val_loss: 2.0934\b\b\b\b\b\b\b\b\b\b\b\b\b\b\b\b\b\b\b\b\b\b\b\b\b\b\b\b\b\b\b\b\b\b\b\b\b\b\b\b\b\b\b\b\n",
            "Epoch 28/100\n",
            "2014/2014 [==============================] - 2s 1ms/step - loss: 1.3539 - val_loss: 1.9133\b\b\b\b\b\b\b\b\b\b\b\b\b\b\b\b\b\b\b\b\b\b\b\b\b\b\b\b\b\b\b\b\b\b\b\b\b\b\b\b\b\b\b\b\n",
            "Epoch 29/100\n",
            "2014/2014 [==============================] - 2s 1ms/step - loss: 1.3349 - val_loss: 1.7938\b\b\b\b\b\b\b\b\b\b\b\b\b\b\b\b\b\b\b\b\b\b\b\b\b\b\b\b\b\b\b\b\b\b\b\b\b\b\b\b\b\b\b\b\n",
            "Epoch 30/100\n",
            "2014/2014 [==============================] - 2s 1ms/step - loss: 1.3121 - val_loss: 2.3159\b\b\b\b\b\b\b\b\b\b\b\b\b\b\b\b\b\b\b\b\b\b\b\b\b\b\b\b\b\b\b\b\b\b\b\b\b\b\b\b\b\b\b\b\n",
            "Epoch 31/100\n",
            "2014/2014 [==============================] - 2s 1ms/step - loss: 1.2912 - val_loss: 2.5601\b\b\b\b\b\b\b\b\b\b\b\b\b\b\b\b\b\b\b\b\b\b\b\b\b\b\b\b\b\b\b\b\b\b\b\b\b\b\b\b\b\b\b\b\n",
            "Epoch 32/100\n",
            "2014/2014 [==============================] - 2s 1ms/step - loss: 1.2368 - val_loss: 2.8228\b\b\b\b\b\b\b\b\b\b\b\b\b\b\b\b\b\b\b\b\b\b\b\b\b\b\b\b\b\b\b\b\b\b\b\b\b\b\b\b\b\b\b\b\n",
            "Epoch 33/100\n",
            "2014/2014 [==============================] - 2s 1ms/step - loss: 1.2233 - val_loss: 1.5088\b\b\b\b\b\b\b\b\b\b\b\b\b\b\b\b\b\b\b\b\b\b\b\b\b\b\b\b\b\b\b\b\b\b\b\b\b\b\b\b\b\b\b\b\n",
            "Epoch 34/100\n",
            "2014/2014 [==============================] - 2s 1ms/step - loss: 1.1936 - val_loss: 1.5152\b\b\b\b\b\b\b\b\b\b\b\b\b\b\b\b\b\b\b\b\b\b\b\b\b\b\b\b\b\b\b\b\b\b\b\b\b\b\b\b\b\b\b\b\n",
            "Epoch 35/100\n",
            "2014/2014 [==============================] - 2s 1ms/step - loss: 1.1876 - val_loss: 2.7239\b\b\b\b\b\b\b\b\b\b\b\b\b\b\b\b\b\b\b\b\b\b\b\b\b\b\b\b\b\b\b\b\b\b\b\b\b\b\b\b\b\b\b\b\n",
            "Epoch 36/100\n",
            "2014/2014 [==============================] - 2s 1ms/step - loss: 1.1579 - val_loss: 2.9463\b\b\b\b\b\b\b\b\b\b\b\b\b\b\b\b\b\b\b\b\b\b\b\b\b\b\b\b\b\b\b\b\b\b\b\b\b\b\b\b\b\b\b\b\n",
            "Epoch 37/100\n",
            "2014/2014 [==============================] - 2s 1ms/step - loss: 1.1603 - val_loss: 1.3663\b\b\b\b\b\b\b\b\b\b\b\b\b\b\b\b\b\b\b\b\b\b\b\b\b\b\b\b\b\b\b\b\b\b\b\b\b\b\b\b\b\b\b\b\n",
            "Epoch 38/100\n",
            "2014/2014 [==============================] - 2s 1ms/step - loss: 1.1002 - val_loss: 1.6003\b\b\b\b\b\b\b\b\b\b\b\b\b\b\b\b\b\b\b\b\b\b\b\b\b\b\b\b\b\b\b\b\b\b\b\b\b\b\b\b\b\b\b\b\n",
            "Epoch 39/100\n",
            "2014/2014 [==============================] - 2s 1ms/step - loss: 1.1089 - val_loss: 2.4289\b\b\b\b\b\b\b\b\b\b\b\b\b\b\b\b\b\b\b\b\b\b\b\b\b\b\b\b\b\b\b\b\b\b\b\b\b\b\b\b\b\b\b\b\n",
            "Epoch 40/100\n",
            "2014/2014 [==============================] - 2s 1ms/step - loss: 1.0578 - val_loss: 2.2576\b\b\b\b\b\b\b\b\b\b\b\b\b\b\b\b\b\b\b\b\b\b\b\b\b\b\b\b\b\b\b\b\b\b\b\b\b\b\b\b\b\b\b\b\n",
            "Epoch 41/100\n",
            "2014/2014 [==============================] - 2s 1ms/step - loss: 1.0400 - val_loss: 1.6506\b\b\b\b\b\b\b\b\b\b\b\b\b\b\b\b\b\b\b\b\b\b\b\b\b\b\b\b\b\b\b\b\b\b\b\b\b\b\b\b\b\b\b\b\n",
            "Epoch 42/100\n",
            "2014/2014 [==============================] - 2s 1ms/step - loss: 1.0595 - val_loss: 2.0025\b\b\b\b\b\b\b\b\b\b\b\b\b\b\b\b\b\b\b\b\b\b\b\b\b\b\b\b\b\b\b\b\b\b\b\b\b\b\b\b\b\b\b\b\n",
            "Epoch 43/100\n",
            "2014/2014 [==============================] - 2s 1ms/step - loss: 1.0157 - val_loss: 1.1440\b\b\b\b\b\b\b\b\b\b\b\b\b\b\b\b\b\b\b\b\b\b\b\b\b\b\b\b\b\b\b\b\b\b\b\b\b\b\b\b\b\b\b\b\n",
            "Epoch 44/100\n",
            "2014/2014 [==============================] - 2s 1ms/step - loss: 1.0084 - val_loss: 1.3072\b\b\b\b\b\b\b\b\b\b\b\b\b\b\b\b\b\b\b\b\b\b\b\b\b\b\b\b\b\b\b\b\b\b\b\b\b\b\b\b\b\b\b\b\n",
            "Epoch 45/100\n",
            "2014/2014 [==============================] - 2s 1ms/step - loss: 1.0144 - val_loss: 1.0288\b\b\b\b\b\b\b\b\b\b\b\b\b\b\b\b\b\b\b\b\b\b\b\b\b\b\b\b\b\b\b\b\b\b\b\b\b\b\b\b\b\b\b\b\n",
            "Epoch 46/100\n",
            "2014/2014 [==============================] - 2s 1ms/step - loss: 1.0136 - val_loss: 2.7429\b\b\b\b\b\b\b\b\b\b\b\b\b\b\b\b\b\b\b\b\b\b\b\b\b\b\b\b\b\b\b\b\b\b\b\b\b\b\b\b\b\b\b\b\n",
            "Epoch 47/100\n",
            "2014/2014 [==============================] - 2s 1ms/step - loss: 0.9725 - val_loss: 0.9527\b\b\b\b\b\b\b\b\b\b\b\b\b\b\b\b\b\b\b\b\b\b\b\b\b\b\b\b\b\b\b\b\b\b\b\b\b\b\b\b\b\b\b\b\n",
            "Epoch 48/100\n",
            "2014/2014 [==============================] - 2s 1ms/step - loss: 0.9585 - val_loss: 1.9787\b\b\b\b\b\b\b\b\b\b\b\b\b\b\b\b\b\b\b\b\b\b\b\b\b\b\b\b\b\b\b\b\b\b\b\b\b\b\b\b\b\b\b\b\n",
            "Epoch 49/100\n",
            "2014/2014 [==============================] - 2s 1ms/step - loss: 0.9535 - val_loss: 2.0135\b\b\b\b\b\b\b\b\b\b\b\b\b\b\b\b\b\b\b\b\b\b\b\b\b\b\b\b\b\b\b\b\b\b\b\b\b\b\b\b\b\b\b\b\n",
            "Epoch 50/100\n",
            "2014/2014 [==============================] - 2s 1ms/step - loss: 0.9166 - val_loss: 0.9122\b\b\b\b\b\b\b\b\b\b\b\b\b\b\b\b\b\b\b\b\b\b\b\b\b\b\b\b\b\b\b\b\b\b\b\b\b\b\b\b\b\b\b\b\n",
            "Epoch 51/100\n",
            "2014/2014 [==============================] - 2s 1ms/step - loss: 0.9318 - val_loss: 1.6994\b\b\b\b\b\b\b\b\b\b\b\b\b\b\b\b\b\b\b\b\b\b\b\b\b\b\b\b\b\b\b\b\b\b\b\b\b\b\b\b\b\b\b\b\n",
            "Epoch 52/100\n",
            "2014/2014 [==============================] - 2s 1ms/step - loss: 1.0122 - val_loss: 1.4743\b\b\b\b\b\b\b\b\b\b\b\b\b\b\b\b\b\b\b\b\b\b\b\b\b\b\b\b\b\b\b\b\b\b\b\b\b\b\b\b\b\b\b\b\n",
            "Epoch 53/100\n",
            "2014/2014 [==============================] - 2s 1ms/step - loss: 0.9107 - val_loss: 1.0935\b\b\b\b\b\b\b\b\b\b\b\b\b\b\b\b\b\b\b\b\b\b\b\b\b\b\b\b\b\b\b\b\b\b\b\b\b\b\b\b\b\b\b\b\n",
            "Epoch 54/100\n",
            "2014/2014 [==============================] - 2s 1ms/step - loss: 0.9018 - val_loss: 0.9886\b\b\b\b\b\b\b\b\b\b\b\b\b\b\b\b\b\b\b\b\b\b\b\b\b\b\b\b\b\b\b\b\b\b\b\b\b\b\b\b\b\b\b\b\n",
            "Epoch 55/100\n",
            "2014/2014 [==============================] - 2s 1ms/step - loss: 0.8800 - val_loss: 0.8627\b\b\b\b\b\b\b\b\b\b\b\b\b\b\b\b\b\b\b\b\b\b\b\b\b\b\b\b\b\b\b\b\b\b\b\b\b\b\b\b\b\b\b\b\n",
            "Epoch 56/100\n",
            "2014/2014 [==============================] - 2s 1ms/step - loss: 0.9041 - val_loss: 0.9275\b\b\b\b\b\b\b\b\b\b\b\b\b\b\b\b\b\b\b\b\b\b\b\b\b\b\b\b\b\b\b\b\b\b\b\b\b\b\b\b\b\b\b\b\n",
            "Epoch 57/100\n",
            "2014/2014 [==============================] - 2s 1ms/step - loss: 1.0139 - val_loss: 2.5362\b\b\b\b\b\b\b\b\b\b\b\b\b\b\b\b\b\b\b\b\b\b\b\b\b\b\b\b\b\b\b\b\b\b\b\b\b\b\b\b\b\b\b\b\n",
            "Epoch 58/100\n",
            "2014/2014 [==============================] - 2s 1ms/step - loss: 0.8716 - val_loss: 0.8646\b\b\b\b\b\b\b\b\b\b\b\b\b\b\b\b\b\b\b\b\b\b\b\b\b\b\b\b\b\b\b\b\b\b\b\b\b\b\b\b\b\b\b\b\n",
            "Epoch 59/100\n",
            "2014/2014 [==============================] - 2s 1ms/step - loss: 1.0935 - val_loss: 0.8664\b\b\b\b\b\b\b\b\b\b\b\b\b\b\b\b\b\b\b\b\b\b\b\b\b\b\b\b\b\b\b\b\b\b\b\b\b\b\b\b\b\b\b\b\n",
            "Epoch 60/100\n",
            "2014/2014 [==============================] - 2s 1ms/step - loss: 0.8650 - val_loss: 0.8991\b\b\b\b\b\b\b\b\b\b\b\b\b\b\b\b\b\b\b\b\b\b\b\b\b\b\b\b\b\b\b\b\b\b\b\b\b\b\b\b\b\b\b\b\n",
            "Epoch 61/100\n",
            "2014/2014 [==============================] - 2s 1ms/step - loss: 0.8645 - val_loss: 1.1712\b\b\b\b\b\b\b\b\b\b\b\b\b\b\b\b\b\b\b\b\b\b\b\b\b\b\b\b\b\b\b\b\b\b\b\b\b\b\b\b\b\b\b\b\n",
            "Epoch 62/100\n",
            "2014/2014 [==============================] - 2s 1ms/step - loss: 0.8456 - val_loss: 1.0251\b\b\b\b\b\b\b\b\b\b\b\b\b\b\b\b\b\b\b\b\b\b\b\b\b\b\b\b\b\b\b\b\b\b\b\b\b\b\b\b\b\b\b\b\n",
            "Epoch 63/100\n",
            "2014/2014 [==============================] - 2s 1ms/step - loss: 0.8500 - val_loss: 1.0761\b\b\b\b\b\b\b\b\b\b\b\b\b\b\b\b\b\b\b\b\b\b\b\b\b\b\b\b\b\b\b\b\b\b\b\b\b\b\b\b\b\b\b\b\n",
            "Epoch 64/100\n",
            "2014/2014 [==============================] - 2s 1ms/step - loss: 0.8283 - val_loss: 1.1597\b\b\b\b\b\b\b\b\b\b\b\b\b\b\b\b\b\b\b\b\b\b\b\b\b\b\b\b\b\b\b\b\b\b\b\b\b\b\b\b\b\b\b\b\n",
            "Epoch 65/100\n",
            "2014/2014 [==============================] - 2s 1ms/step - loss: 0.8415 - val_loss: 0.9407\b\b\b\b\b\b\b\b\b\b\b\b\b\b\b\b\b\b\b\b\b\b\b\b\b\b\b\b\b\b\b\b\b\b\b\b\b\b\b\b\b\b\b\b\n",
            "Epoch 66/100\n",
            "2014/2014 [==============================] - 2s 1ms/step - loss: 0.8016 - val_loss: 1.0655\b\b\b\b\b\b\b\b\b\b\b\b\b\b\b\b\b\b\b\b\b\b\b\b\b\b\b\b\b\b\b\b\b\b\b\b\b\b\b\b\b\b\b\b\n",
            "Epoch 67/100\n",
            "2014/2014 [==============================] - 2s 1ms/step - loss: 0.8429 - val_loss: 1.1170\b\b\b\b\b\b\b\b\b\b\b\b\b\b\b\b\b\b\b\b\b\b\b\b\b\b\b\b\b\b\b\b\b\b\b\b\b\b\b\b\b\b\b\b\n",
            "Epoch 68/100\n",
            "2014/2014 [==============================] - 2s 1ms/step - loss: 0.7919 - val_loss: 1.7149\b\b\b\b\b\b\b\b\b\b\b\b\b\b\b\b\b\b\b\b\b\b\b\b\b\b\b\b\b\b\b\b\b\b\b\b\b\b\b\b\b\b\b\b\n",
            "Epoch 69/100\n",
            "2014/2014 [==============================] - 2s 1ms/step - loss: 0.8024 - val_loss: 0.8277\b\b\b\b\b\b\b\b\b\b\b\b\b\b\b\b\b\b\b\b\b\b\b\b\b\b\b\b\b\b\b\b\b\b\b\b\b\b\b\b\b\b\b\b\n",
            "Epoch 70/100\n",
            "2014/2014 [==============================] - 2s 1ms/step - loss: 0.8100 - val_loss: 1.1158\b\b\b\b\b\b\b\b\b\b\b\b\b\b\b\b\b\b\b\b\b\b\b\b\b\b\b\b\b\b\b\b\b\b\b\b\b\b\b\b\b\b\b\b\n",
            "Epoch 71/100\n",
            "2014/2014 [==============================] - 2s 1ms/step - loss: 0.7988 - val_loss: 0.8172\b\b\b\b\b\b\b\b\b\b\b\b\b\b\b\b\b\b\b\b\b\b\b\b\b\b\b\b\b\b\b\b\b\b\b\b\b\b\b\b\b\b\b\b\n",
            "Epoch 72/100\n",
            "2014/2014 [==============================] - 2s 1ms/step - loss: 0.7982 - val_loss: 1.0371\b\b\b\b\b\b\b\b\b\b\b\b\b\b\b\b\b\b\b\b\b\b\b\b\b\b\b\b\b\b\b\b\b\b\b\b\b\b\b\b\b\b\b\b\n",
            "Epoch 73/100\n",
            "2014/2014 [==============================] - 2s 1ms/step - loss: 0.7884 - val_loss: 0.8002\b\b\b\b\b\b\b\b\b\b\b\b\b\b\b\b\b\b\b\b\b\b\b\b\b\b\b\b\b\b\b\b\b\b\b\b\b\b\b\b\b\b\b\b\n",
            "Epoch 74/100\n",
            "2014/2014 [==============================] - 2s 1ms/step - loss: 0.7999 - val_loss: 0.9635\b\b\b\b\b\b\b\b\b\b\b\b\b\b\b\b\b\b\b\b\b\b\b\b\b\b\b\b\b\b\b\b\b\b\b\b\b\b\b\b\b\b\b\b\n",
            "Epoch 75/100\n",
            "2014/2014 [==============================] - 2s 1ms/step - loss: 0.7960 - val_loss: 1.2807\b\b\b\b\b\b\b\b\b\b\b\b\b\b\b\b\b\b\b\b\b\b\b\b\b\b\b\b\b\b\b\b\b\b\b\b\b\b\b\b\b\b\b\b\n",
            "Epoch 76/100\n",
            "2014/2014 [==============================] - 2s 1ms/step - loss: 0.7714 - val_loss: 1.2013\b\b\b\b\b\b\b\b\b\b\b\b\b\b\b\b\b\b\b\b\b\b\b\b\b\b\b\b\b\b\b\b\b\b\b\b\b\b\b\b\b\b\b\b\n",
            "Epoch 77/100\n",
            "2014/2014 [==============================] - 2s 1ms/step - loss: 0.7472 - val_loss: 0.8930\b\b\b\b\b\b\b\b\b\b\b\b\b\b\b\b\b\b\b\b\b\b\b\b\b\b\b\b\b\b\b\b\b\b\b\b\b\b\b\b\b\b\b\b\n",
            "Epoch 78/100\n",
            "2014/2014 [==============================] - 2s 1ms/step - loss: 0.7642 - val_loss: 0.7723\b\b\b\b\b\b\b\b\b\b\b\b\b\b\b\b\b\b\b\b\b\b\b\b\b\b\b\b\b\b\b\b\b\b\b\b\b\b\b\b\b\b\b\b\n",
            "Epoch 79/100\n",
            "2014/2014 [==============================] - 2s 1ms/step - loss: 0.8348 - val_loss: 1.1765\b\b\b\b\b\b\b\b\b\b\b\b\b\b\b\b\b\b\b\b\b\b\b\b\b\b\b\b\b\b\b\b\b\b\b\b\b\b\b\b\b\b\b\b\n",
            "Epoch 80/100\n",
            "2014/2014 [==============================] - 2s 1ms/step - loss: 0.7492 - val_loss: 1.5926\b\b\b\b\b\b\b\b\b\b\b\b\b\b\b\b\b\b\b\b\b\b\b\b\b\b\b\b\b\b\b\b\b\b\b\b\b\b\b\b\b\b\b\b\n",
            "Epoch 81/100\n",
            "2014/2014 [==============================] - 2s 1ms/step - loss: 0.7356 - val_loss: 1.4764\b\b\b\b\b\b\b\b\b\b\b\b\b\b\b\b\b\b\b\b\b\b\b\b\b\b\b\b\b\b\b\b\b\b\b\b\b\b\b\b\b\b\b\b\n",
            "Epoch 82/100\n",
            "2014/2014 [==============================] - 2s 1ms/step - loss: 0.7269 - val_loss: 2.1764\b\b\b\b\b\b\b\b\b\b\b\b\b\b\b\b\b\b\b\b\b\b\b\b\b\b\b\b\b\b\b\b\b\b\b\b\b\b\b\b\b\b\b\b\n",
            "Epoch 83/100\n",
            "2014/2014 [==============================] - 2s 1ms/step - loss: 0.7395 - val_loss: 1.7072\b\b\b\b\b\b\b\b\b\b\b\b\b\b\b\b\b\b\b\b\b\b\b\b\b\b\b\b\b\b\b\b\b\b\b\b\b\b\b\b\b\b\b\b\n",
            "Epoch 84/100\n",
            "2014/2014 [==============================] - 2s 1ms/step - loss: 0.7300 - val_loss: 0.8233\b\b\b\b\b\b\b\b\b\b\b\b\b\b\b\b\b\b\b\b\b\b\b\b\b\b\b\b\b\b\b\b\b\b\b\b\b\b\b\b\b\b\b\b\n",
            "Epoch 85/100\n",
            "2014/2014 [==============================] - 2s 1ms/step - loss: 0.7193 - val_loss: 0.9656\b\b\b\b\b\b\b\b\b\b\b\b\b\b\b\b\b\b\b\b\b\b\b\b\b\b\b\b\b\b\b\b\b\b\b\b\b\b\b\b\b\b\b\b\n",
            "Epoch 86/100\n",
            "2014/2014 [==============================] - 2s 1ms/step - loss: 0.7329 - val_loss: 0.7514\b\b\b\b\b\b\b\b\b\b\b\b\b\b\b\b\b\b\b\b\b\b\b\b\b\b\b\b\b\b\b\b\b\b\b\b\b\b\b\b\b\b\b\b\n",
            "Epoch 87/100\n",
            "2014/2014 [==============================] - 2s 1ms/step - loss: 0.7392 - val_loss: 1.3512\b\b\b\b\b\b\b\b\b\b\b\b\b\b\b\b\b\b\b\b\b\b\b\b\b\b\b\b\b\b\b\b\b\b\b\b\b\b\b\b\b\b\b\b\n",
            "Epoch 88/100\n",
            "2014/2014 [==============================] - 2s 1ms/step - loss: 0.7285 - val_loss: 0.8228\b\b\b\b\b\b\b\b\b\b\b\b\b\b\b\b\b\b\b\b\b\b\b\b\b\b\b\b\b\b\b\b\b\b\b\b\b\b\b\b\b\b\b\b\n",
            "Epoch 89/100\n",
            "2014/2014 [==============================] - 2s 1ms/step - loss: 0.7376 - val_loss: 0.8405\b\b\b\b\b\b\b\b\b\b\b\b\b\b\b\b\b\b\b\b\b\b\b\b\b\b\b\b\b\b\b\b\b\b\b\b\b\b\b\b\b\b\b\b\n",
            "Epoch 90/100\n",
            "2014/2014 [==============================] - 2s 1ms/step - loss: 0.7183 - val_loss: 1.1118\b\b\b\b\b\b\b\b\b\b\b\b\b\b\b\b\b\b\b\b\b\b\b\b\b\b\b\b\b\b\b\b\b\b\b\b\b\b\b\b\b\b\b\b\n",
            "Epoch 91/100\n",
            "2014/2014 [==============================] - 2s 1ms/step - loss: 0.6948 - val_loss: 0.9856\b\b\b\b\b\b\b\b\b\b\b\b\b\b\b\b\b\b\b\b\b\b\b\b\b\b\b\b\b\b\b\b\b\b\b\b\b\b\b\b\b\b\b\b\n",
            "Epoch 92/100\n",
            "2014/2014 [==============================] - 2s 1ms/step - loss: 0.7114 - val_loss: 0.7320\b\b\b\b\b\b\b\b\b\b\b\b\b\b\b\b\b\b\b\b\b\b\b\b\b\b\b\b\b\b\b\b\b\b\b\b\b\b\b\b\b\b\b\b\n",
            "Epoch 93/100\n",
            "2014/2014 [==============================] - 2s 1ms/step - loss: 0.7053 - val_loss: 1.1436\b\b\b\b\b\b\b\b\b\b\b\b\b\b\b\b\b\b\b\b\b\b\b\b\b\b\b\b\b\b\b\b\b\b\b\b\b\b\b\b\b\b\b\b\n",
            "Epoch 94/100\n",
            "2014/2014 [==============================] - 2s 1ms/step - loss: 0.7016 - val_loss: 1.0570\b\b\b\b\b\b\b\b\b\b\b\b\b\b\b\b\b\b\b\b\b\b\b\b\b\b\b\b\b\b\b\b\b\b\b\b\b\b\b\b\b\b\b\b\n",
            "Epoch 95/100\n",
            "2014/2014 [==============================] - 2s 1ms/step - loss: 0.7036 - val_loss: 0.7497\b\b\b\b\b\b\b\b\b\b\b\b\b\b\b\b\b\b\b\b\b\b\b\b\b\b\b\b\b\b\b\b\b\b\b\b\b\b\b\b\b\b\b\b\n",
            "Epoch 96/100\n",
            "2014/2014 [==============================] - 2s 1ms/step - loss: 0.6921 - val_loss: 1.2004\b\b\b\b\b\b\b\b\b\b\b\b\b\b\b\b\b\b\b\b\b\b\b\b\b\b\b\b\b\b\b\b\b\b\b\b\b\b\b\b\b\b\b\b\n",
            "Epoch 97/100\n",
            "2014/2014 [==============================] - 2s 1ms/step - loss: 0.6807 - val_loss: 1.0379\b\b\b\b\b\b\b\b\b\b\b\b\b\b\b\b\b\b\b\b\b\b\b\b\b\b\b\b\b\b\b\b\b\b\b\b\b\b\b\b\b\b\b\b\n",
            "Epoch 98/100\n",
            "2014/2014 [==============================] - 2s 1ms/step - loss: 0.6832 - val_loss: 0.9771\b\b\b\b\b\b\b\b\b\b\b\b\b\b\b\b\b\b\b\b\b\b\b\b\b\b\b\b\b\b\b\b\b\b\b\b\b\b\b\b\b\b\b\b\n",
            "Epoch 99/100\n",
            "2014/2014 [==============================] - 2s 1ms/step - loss: 0.6909 - val_loss: 1.0805\b\b\b\b\b\b\b\b\b\b\b\b\b\b\b\b\b\b\b\b\b\b\b\b\b\b\b\b\b\b\b\b\b\b\b\b\b\b\b\b\b\b\b\b\n",
            "Epoch 100/100\n",
            "2014/2014 [==============================] - 2s 1ms/step - loss: 0.6656 - val_loss: 1.2841\b\b\b\b\b\b\b\b\b\b\b\b\b\b\b\b\b\b\b\b\b\b\b\b\b\b\b\b\b\b\b\b\b\b\b\b\b\b\b\b\b\b\b\b\n"
          ]
        },
        {
          "output_type": "execute_result",
          "execution_count": 130,
          "data": {
            "text/plain": "<keras.callbacks.callbacks.History at 0x7feeb23bb898>"
          },
          "metadata": {}
        }
      ],
      "execution_count": 130,
      "metadata": {
        "collapsed": true,
        "jupyter": {
          "source_hidden": false,
          "outputs_hidden": false
        },
        "nteract": {
          "transient": {
            "deleting": false
          }
        },
        "gather": {
          "logged": 1620935817837
        }
      }
    },
    {
      "cell_type": "code",
      "source": [
        "test_loss = model.evaluate(X_test, y_test)\r\n",
        "predicted = model.predict(X_test)\r\n",
        "test_loss"
      ],
      "outputs": [
        {
          "output_type": "stream",
          "name": "stdout",
          "text": [
            "\r 32/483 [>.............................] - ETA: 0s\b\b\b\b\b\b\b\b\b\b\b\b\b\b\b\b\b\b\b\b\b\b\b\b\b\b\b\b\b\b\b\b\b\b\b\b\b\b\b\b\b\b\b\b\b\b\b\b\b\b\r256/483 [==============>...............] - ETA: 0s\b\b\b\b\b\b\b\b\b\b\b\b\b\b\b\b\b\b\b\b\b\b\b\b\b\b\b\b\b\b\b\b\b\b\b\b\b\b\b\b\b\b\b\b\b\b\b\b\b\b\r480/483 [============================>.] - ETA: 0s\b\b\b\b\b\b\b\b\b\b\b\b\b\b\b\b\b\b\b\b\b\b\b\b\b\b\b\b\b\b\b\b\b\b\b\b\b\b\b\b\b\b\b\b\b\b\b\b\b\b\r",
            "483/483 [==============================] - 0s 259us/step\n"
          ]
        },
        {
          "output_type": "execute_result",
          "execution_count": 131,
          "data": {
            "text/plain": "34.172177766914444"
          },
          "metadata": {}
        }
      ],
      "execution_count": 131,
      "metadata": {
        "collapsed": true,
        "jupyter": {
          "source_hidden": false,
          "outputs_hidden": false
        },
        "nteract": {
          "transient": {
            "deleting": false
          }
        },
        "gather": {
          "logged": 1620935824731
        }
      }
    },
    {
      "cell_type": "code",
      "source": [
        "def create_plot(actual, predictions, time, ticks, y_limits):\r\n",
        "    plt.figure(figsize=(12, 5))\r\n",
        "    plt.title('Prediction Visualization')\r\n",
        "    plt.plot(time, actual)\r\n",
        "    plt.plot(time, predictions)\r\n",
        "    plt.xlabel('Days Ahead')\r\n",
        "    plt.ylabel('Apple Stock Prices')\r\n",
        "    plt.xticks(ticks=ticks, labels=ticks)\r\n",
        "    plt.ylim(y_limits[0], y_limits[1])\r\n",
        "    plt.legend('upper right', labels=['Actual Apple Stock Prices', 'Predicted Stock Prices'])\r\n",
        "    plt.show()"
      ],
      "outputs": [],
      "execution_count": 133,
      "metadata": {
        "collapsed": true,
        "jupyter": {
          "source_hidden": false,
          "outputs_hidden": false
        },
        "nteract": {
          "transient": {
            "deleting": false
          }
        },
        "gather": {
          "logged": 1620936010955
        }
      }
    },
    {
      "cell_type": "code",
      "source": [
        "days_full = np.arange(1, 484)\r\n",
        "ticks_full = np.arange(50, 483, 50)\r\n",
        "\r\n",
        "create_plot(y_test, predicted, days_full, ticks_full, [10, 140])"
      ],
      "outputs": [
        {
          "output_type": "stream",
          "name": "stderr",
          "text": [
            "/anaconda/envs/azureml_py36/lib/python3.6/site-packages/ipykernel_launcher.py:13: UserWarning: You have mixed positional and keyword arguments, some input may be discarded.\n",
            "  del sys.path[0]\n"
          ]
        },
        {
          "output_type": "display_data",
          "data": {
            "text/plain": "<Figure size 864x360 with 1 Axes>",
            "image/png": "[encoded data removed]"
          },
          "metadata": {
            "needs_background": "light"
          }
        }
      ],
      "execution_count": 135,
      "metadata": {
        "collapsed": true,
        "jupyter": {
          "source_hidden": false,
          "outputs_hidden": false
        },
        "nteract": {
          "transient": {
            "deleting": false
          }
        },
        "gather": {
          "logged": 1620936066699
        }
      }
    },
    {
      "cell_type": "markdown",
      "source": [
        "## First Notes and Reactions\r\n",
        "\r\n",
        "At first glance, it feels that our model failed miserably. Is not only the fact that the mean absolute error seems large (having an average\r\n",
        "difference of approx. 35$ from the actual stock price on a given day is a total miss), but it's also the difference between the validation\r\n",
        "set and the test set, that makes us feel, we need to change our approach. \r\n",
        "\r\n",
        "We will try out adding some dropouts and generalize better with the next one. We will add a bigger general dropout as we would like the model\r\n",
        "to forget some eras of apples lower prices, and generalize. We will keep relatively low the recurrent dropout since we believe that each\r\n",
        "sequence should have an important say to the predicted price calulcation.\r\n",
        "\r\n",
        "Let's see."
      ],
      "metadata": {
        "nteract": {
          "transient": {
            "deleting": false
          }
        }
      }
    },
    {
      "cell_type": "code",
      "source": [
        "model = Sequential()\r\n",
        "\r\n",
        "model.add(LSTM(units=96, input_shape=(20, 1), dropout=0.4, recurrent_dropout=0.1, return_sequences=True))\r\n",
        "model.add(LSTM(units=64, dropout=0.4, recurrent_dropout=0.1))\r\n",
        "model.add(Dense(1))\r\n",
        "model.compile(optimizer='rmsprop', loss='mae')\r\n",
        "\r\n",
        "model.fit(X_train, y_train, epochs=100, batch_size=32, validation_data=(X_validation, y_validation))"
      ],
      "outputs": [
        {
          "output_type": "stream",
          "name": "stdout",
          "text": [
            "Train on 2014 samples, validate on 483 samples\n",
            "Epoch 1/100\n",
            "2014/2014 [==============================] - 3s 2ms/step - loss: 16.9842 - val_loss: 29.8130\b\b\b\b\b\b\b\b\b\b\b\b\b\b\b\b\b\b\b\b\b\b\b\b\b\b\b\b\b\b\b\b\b\b\b\b\b\b\b\b\b\b\b\b\b\b\n",
            "Epoch 2/100\n",
            "2014/2014 [==============================] - 2s 1ms/step - loss: 12.2393 - val_loss: 25.9430\b\b\b\b\b\b\b\b\b\b\b\b\b\b\b\b\b\b\b\b\b\b\b\b\b\b\b\b\b\b\b\b\b\b\b\b\b\b\b\b\b\b\b\b\n",
            "Epoch 3/100\n",
            "2014/2014 [==============================] - 2s 1ms/step - loss: 10.2092 - val_loss: 22.4423\b\b\b\b\b\b\b\b\b\b\b\b\b\b\b\b\b\b\b\b\b\b\b\b\b\b\b\b\b\b\b\b\b\b\b\b\b\b\b\b\b\b\b\b\n",
            "Epoch 4/100\n",
            "2014/2014 [==============================] - 2s 1ms/step - loss: 9.2236 - val_loss: 19.6679\b\b\b\b\b\b\b\b\b\b\b\b\b\b\b\b\b\b\b\b\b\b\b\b\b\b\b\b\b\b\b\b\b\b\b\b\b\b\b\b\b\b\b\n",
            "Epoch 5/100\n",
            "2014/2014 [==============================] - 2s 1ms/step - loss: 9.0497 - val_loss: 19.2736\b\b\b\b\b\b\b\b\b\b\b\b\b\b\b\b\b\b\b\b\b\b\b\b\b\b\b\b\b\b\b\b\b\b\b\b\b\b\b\b\b\b\b\n",
            "Epoch 6/100\n",
            "2014/2014 [==============================] - 2s 1ms/step - loss: 8.7549 - val_loss: 16.7442\b\b\b\b\b\b\b\b\b\b\b\b\b\b\b\b\b\b\b\b\b\b\b\b\b\b\b\b\b\b\b\b\b\b\b\b\b\b\b\b\b\b\b\n",
            "Epoch 7/100\n",
            "2014/2014 [==============================] - 2s 1ms/step - loss: 7.9700 - val_loss: 14.6527\b\b\b\b\b\b\b\b\b\b\b\b\b\b\b\b\b\b\b\b\b\b\b\b\b\b\b\b\b\b\b\b\b\b\b\b\b\b\b\b\b\b\b\n",
            "Epoch 8/100\n",
            "2014/2014 [==============================] - 2s 1ms/step - loss: 7.2904 - val_loss: 14.2618\b\b\b\b\b\b\b\b\b\b\b\b\b\b\b\b\b\b\b\b\b\b\b\b\b\b\b\b\b\b\b\b\b\b\b\b\b\b\b\b\b\b\b\n",
            "Epoch 9/100\n",
            "2014/2014 [==============================] - 2s 1ms/step - loss: 7.1091 - val_loss: 14.5084\b\b\b\b\b\b\b\b\b\b\b\b\b\b\b\b\b\b\b\b\b\b\b\b\b\b\b\b\b\b\b\b\b\b\b\b\b\b\b\b\b\b\b\n",
            "Epoch 10/100\n",
            "2014/2014 [==============================] - 2s 1ms/step - loss: 6.5768 - val_loss: 14.4250\b\b\b\b\b\b\b\b\b\b\b\b\b\b\b\b\b\b\b\b\b\b\b\b\b\b\b\b\b\b\b\b\b\b\b\b\b\b\b\b\b\b\b\n",
            "Epoch 11/100\n",
            "2014/2014 [==============================] - 2s 1ms/step - loss: 6.1354 - val_loss: 13.4674\b\b\b\b\b\b\b\b\b\b\b\b\b\b\b\b\b\b\b\b\b\b\b\b\b\b\b\b\b\b\b\b\b\b\b\b\b\b\b\b\b\b\b\n",
            "Epoch 12/100\n",
            "2014/2014 [==============================] - 2s 1ms/step - loss: 5.9584 - val_loss: 9.5476\b\b\b\b\b\b\b\b\b\b\b\b\b\b\b\b\b\b\b\b\b\b\b\b\b\b\b\b\b\b\b\b\b\b\b\b\b\b\b\b\b\b\b\b\n",
            "Epoch 13/100\n",
            "2014/2014 [==============================] - 2s 1ms/step - loss: 5.9193 - val_loss: 9.1402\b\b\b\b\b\b\b\b\b\b\b\b\b\b\b\b\b\b\b\b\b\b\b\b\b\b\b\b\b\b\b\b\b\b\b\b\b\b\b\b\b\b\b\b\n",
            "Epoch 14/100\n",
            "2014/2014 [==============================] - 2s 1ms/step - loss: 5.8075 - val_loss: 14.2558\b\b\b\b\b\b\b\b\b\b\b\b\b\b\b\b\b\b\b\b\b\b\b\b\b\b\b\b\b\b\b\b\b\b\b\b\b\b\b\b\b\b\b\n",
            "Epoch 15/100\n",
            "2014/2014 [==============================] - 2s 1ms/step - loss: 5.5501 - val_loss: 12.7891\b\b\b\b\b\b\b\b\b\b\b\b\b\b\b\b\b\b\b\b\b\b\b\b\b\b\b\b\b\b\b\b\b\b\b\b\b\b\b\b\b\b\b\n",
            "Epoch 16/100\n",
            "2014/2014 [==============================] - 2s 1ms/step - loss: 5.4661 - val_loss: 9.0843\b\b\b\b\b\b\b\b\b\b\b\b\b\b\b\b\b\b\b\b\b\b\b\b\b\b\b\b\b\b\b\b\b\b\b\b\b\b\b\b\b\b\b\b\n",
            "Epoch 17/100\n",
            "2014/2014 [==============================] - 2s 1ms/step - loss: 5.2505 - val_loss: 12.5777\b\b\b\b\b\b\b\b\b\b\b\b\b\b\b\b\b\b\b\b\b\b\b\b\b\b\b\b\b\b\b\b\b\b\b\b\b\b\b\b\b\b\b\n",
            "Epoch 18/100\n",
            "2014/2014 [==============================] - 2s 1ms/step - loss: 5.2287 - val_loss: 9.4132\b\b\b\b\b\b\b\b\b\b\b\b\b\b\b\b\b\b\b\b\b\b\b\b\b\b\b\b\b\b\b\b\b\b\b\b\b\b\b\b\b\b\b\b\n",
            "Epoch 19/100\n",
            "2014/2014 [==============================] - 2s 1ms/step - loss: 5.2496 - val_loss: 13.6029\b\b\b\b\b\b\b\b\b\b\b\b\b\b\b\b\b\b\b\b\b\b\b\b\b\b\b\b\b\b\b\b\b\b\b\b\b\b\b\b\b\b\b\n",
            "Epoch 20/100\n",
            "2014/2014 [==============================] - 2s 1ms/step - loss: 5.2779 - val_loss: 16.0442\b\b\b\b\b\b\b\b\b\b\b\b\b\b\b\b\b\b\b\b\b\b\b\b\b\b\b\b\b\b\b\b\b\b\b\b\b\b\b\b\b\b\b\n",
            "Epoch 21/100\n",
            "2014/2014 [==============================] - 2s 1ms/step - loss: 5.0006 - val_loss: 14.8902\b\b\b\b\b\b\b\b\b\b\b\b\b\b\b\b\b\b\b\b\b\b\b\b\b\b\b\b\b\b\b\b\b\b\b\b\b\b\b\b\b\b\b\n",
            "Epoch 22/100\n",
            "2014/2014 [==============================] - 2s 1ms/step - loss: 4.9766 - val_loss: 15.0199\b\b\b\b\b\b\b\b\b\b\b\b\b\b\b\b\b\b\b\b\b\b\b\b\b\b\b\b\b\b\b\b\b\b\b\b\b\b\b\b\b\b\b\n",
            "Epoch 23/100\n",
            "2014/2014 [==============================] - 2s 1ms/step - loss: 4.7492 - val_loss: 13.5509\b\b\b\b\b\b\b\b\b\b\b\b\b\b\b\b\b\b\b\b\b\b\b\b\b\b\b\b\b\b\b\b\b\b\b\b\b\b\b\b\b\b\b\n",
            "Epoch 24/100\n",
            "2014/2014 [==============================] - 2s 1ms/step - loss: 4.9685 - val_loss: 13.3845\b\b\b\b\b\b\b\b\b\b\b\b\b\b\b\b\b\b\b\b\b\b\b\b\b\b\b\b\b\b\b\b\b\b\b\b\b\b\b\b\b\b\b\n",
            "Epoch 25/100\n",
            "2014/2014 [==============================] - 2s 1ms/step - loss: 4.8601 - val_loss: 15.3203\b\b\b\b\b\b\b\b\b\b\b\b\b\b\b\b\b\b\b\b\b\b\b\b\b\b\b\b\b\b\b\b\b\b\b\b\b\b\b\b\b\b\b\n",
            "Epoch 26/100\n",
            "2014/2014 [==============================] - 2s 1ms/step - loss: 4.8700 - val_loss: 12.6305\b\b\b\b\b\b\b\b\b\b\b\b\b\b\b\b\b\b\b\b\b\b\b\b\b\b\b\b\b\b\b\b\b\b\b\b\b\b\b\b\b\b\b\n",
            "Epoch 27/100\n",
            "2014/2014 [==============================] - 2s 1ms/step - loss: 4.7319 - val_loss: 11.6078\b\b\b\b\b\b\b\b\b\b\b\b\b\b\b\b\b\b\b\b\b\b\b\b\b\b\b\b\b\b\b\b\b\b\b\b\b\b\b\b\b\b\b\n",
            "Epoch 28/100\n",
            "2014/2014 [==============================] - 2s 1ms/step - loss: 4.8168 - val_loss: 12.5168\b\b\b\b\b\b\b\b\b\b\b\b\b\b\b\b\b\b\b\b\b\b\b\b\b\b\b\b\b\b\b\b\b\b\b\b\b\b\b\b\b\b\b\n",
            "Epoch 29/100\n",
            "2014/2014 [==============================] - 2s 1ms/step - loss: 5.0164 - val_loss: 12.1445\b\b\b\b\b\b\b\b\b\b\b\b\b\b\b\b\b\b\b\b\b\b\b\b\b\b\b\b\b\b\b\b\b\b\b\b\b\b\b\b\b\b\b\n",
            "Epoch 30/100\n",
            "2014/2014 [==============================] - 2s 1ms/step - loss: 4.8919 - val_loss: 11.3585\b\b\b\b\b\b\b\b\b\b\b\b\b\b\b\b\b\b\b\b\b\b\b\b\b\b\b\b\b\b\b\b\b\b\b\b\b\b\b\b\b\b\b\n",
            "Epoch 31/100\n",
            "2014/2014 [==============================] - 2s 1ms/step - loss: 4.8328 - val_loss: 14.0420\b\b\b\b\b\b\b\b\b\b\b\b\b\b\b\b\b\b\b\b\b\b\b\b\b\b\b\b\b\b\b\b\b\b\b\b\b\b\b\b\b\b\b\n",
            "Epoch 32/100\n",
            "2014/2014 [==============================] - 2s 1ms/step - loss: 4.8134 - val_loss: 13.1820\b\b\b\b\b\b\b\b\b\b\b\b\b\b\b\b\b\b\b\b\b\b\b\b\b\b\b\b\b\b\b\b\b\b\b\b\b\b\b\b\b\b\b\n",
            "Epoch 33/100\n",
            "2014/2014 [==============================] - 2s 1ms/step - loss: 4.8918 - val_loss: 14.7755\b\b\b\b\b\b\b\b\b\b\b\b\b\b\b\b\b\b\b\b\b\b\b\b\b\b\b\b\b\b\b\b\b\b\b\b\b\b\b\b\b\b\b\n",
            "Epoch 34/100\n",
            "2014/2014 [==============================] - 2s 1ms/step - loss: 4.9186 - val_loss: 12.4349\b\b\b\b\b\b\b\b\b\b\b\b\b\b\b\b\b\b\b\b\b\b\b\b\b\b\b\b\b\b\b\b\b\b\b\b\b\b\b\b\b\b\b\n",
            "Epoch 35/100\n",
            "2014/2014 [==============================] - 2s 1ms/step - loss: 4.8783 - val_loss: 13.5709\b\b\b\b\b\b\b\b\b\b\b\b\b\b\b\b\b\b\b\b\b\b\b\b\b\b\b\b\b\b\b\b\b\b\b\b\b\b\b\b\b\b\b\n",
            "Epoch 36/100\n",
            "2014/2014 [==============================] - 2s 1ms/step - loss: 4.6465 - val_loss: 15.5769\b\b\b\b\b\b\b\b\b\b\b\b\b\b\b\b\b\b\b\b\b\b\b\b\b\b\b\b\b\b\b\b\b\b\b\b\b\b\b\b\b\b\b\n",
            "Epoch 37/100\n",
            "2014/2014 [==============================] - 2s 1ms/step - loss: 4.8855 - val_loss: 12.8874\b\b\b\b\b\b\b\b\b\b\b\b\b\b\b\b\b\b\b\b\b\b\b\b\b\b\b\b\b\b\b\b\b\b\b\b\b\b\b\b\b\b\b\n",
            "Epoch 38/100\n",
            "2014/2014 [==============================] - 2s 1ms/step - loss: 4.5960 - val_loss: 13.0548\b\b\b\b\b\b\b\b\b\b\b\b\b\b\b\b\b\b\b\b\b\b\b\b\b\b\b\b\b\b\b\b\b\b\b\b\b\b\b\b\b\b\b\n",
            "Epoch 39/100\n",
            "2014/2014 [==============================] - 2s 1ms/step - loss: 5.0129 - val_loss: 13.6552\b\b\b\b\b\b\b\b\b\b\b\b\b\b\b\b\b\b\b\b\b\b\b\b\b\b\b\b\b\b\b\b\b\b\b\b\b\b\b\b\b\b\b\n",
            "Epoch 40/100\n",
            "2014/2014 [==============================] - 2s 1ms/step - loss: 4.6733 - val_loss: 14.6741\b\b\b\b\b\b\b\b\b\b\b\b\b\b\b\b\b\b\b\b\b\b\b\b\b\b\b\b\b\b\b\b\b\b\b\b\b\b\b\b\b\b\b\n",
            "Epoch 41/100\n",
            "2014/2014 [==============================] - 2s 1ms/step - loss: 4.5835 - val_loss: 14.4324\b\b\b\b\b\b\b\b\b\b\b\b\b\b\b\b\b\b\b\b\b\b\b\b\b\b\b\b\b\b\b\b\b\b\b\b\b\b\b\b\b\b\b\n",
            "Epoch 42/100\n",
            "2014/2014 [==============================] - 2s 1ms/step - loss: 4.7346 - val_loss: 12.8585\b\b\b\b\b\b\b\b\b\b\b\b\b\b\b\b\b\b\b\b\b\b\b\b\b\b\b\b\b\b\b\b\b\b\b\b\b\b\b\b\b\b\b\n",
            "Epoch 43/100\n",
            "2014/2014 [==============================] - 2s 1ms/step - loss: 5.1692 - val_loss: 12.5141\b\b\b\b\b\b\b\b\b\b\b\b\b\b\b\b\b\b\b\b\b\b\b\b\b\b\b\b\b\b\b\b\b\b\b\b\b\b\b\b\b\b\b\n",
            "Epoch 44/100\n",
            "2014/2014 [==============================] - 2s 1ms/step - loss: 4.9088 - val_loss: 11.8314\b\b\b\b\b\b\b\b\b\b\b\b\b\b\b\b\b\b\b\b\b\b\b\b\b\b\b\b\b\b\b\b\b\b\b\b\b\b\b\b\b\b\b\n",
            "Epoch 45/100\n",
            "2014/2014 [==============================] - 2s 1ms/step - loss: 4.8080 - val_loss: 13.5107\b\b\b\b\b\b\b\b\b\b\b\b\b\b\b\b\b\b\b\b\b\b\b\b\b\b\b\b\b\b\b\b\b\b\b\b\b\b\b\b\b\b\b\n",
            "Epoch 46/100\n",
            "2014/2014 [==============================] - 2s 1ms/step - loss: 4.8331 - val_loss: 12.5784\b\b\b\b\b\b\b\b\b\b\b\b\b\b\b\b\b\b\b\b\b\b\b\b\b\b\b\b\b\b\b\b\b\b\b\b\b\b\b\b\b\b\b\n",
            "Epoch 47/100\n",
            "2014/2014 [==============================] - 2s 1ms/step - loss: 4.4380 - val_loss: 14.5829\b\b\b\b\b\b\b\b\b\b\b\b\b\b\b\b\b\b\b\b\b\b\b\b\b\b\b\b\b\b\b\b\b\b\b\b\b\b\b\b\b\b\b\n",
            "Epoch 48/100\n",
            "2014/2014 [==============================] - 2s 1ms/step - loss: 4.7013 - val_loss: 12.1931\b\b\b\b\b\b\b\b\b\b\b\b\b\b\b\b\b\b\b\b\b\b\b\b\b\b\b\b\b\b\b\b\b\b\b\b\b\b\b\b\b\b\b\n",
            "Epoch 49/100\n",
            "2014/2014 [==============================] - 2s 1ms/step - loss: 4.7505 - val_loss: 12.7381\b\b\b\b\b\b\b\b\b\b\b\b\b\b\b\b\b\b\b\b\b\b\b\b\b\b\b\b\b\b\b\b\b\b\b\b\b\b\b\b\b\b\b\n",
            "Epoch 50/100\n",
            "2014/2014 [==============================] - 2s 1ms/step - loss: 4.5388 - val_loss: 13.6829\b\b\b\b\b\b\b\b\b\b\b\b\b\b\b\b\b\b\b\b\b\b\b\b\b\b\b\b\b\b\b\b\b\b\b\b\b\b\b\b\b\b\b\n",
            "Epoch 51/100\n",
            "2014/2014 [==============================] - 2s 1ms/step - loss: 4.6669 - val_loss: 11.6744\b\b\b\b\b\b\b\b\b\b\b\b\b\b\b\b\b\b\b\b\b\b\b\b\b\b\b\b\b\b\b\b\b\b\b\b\b\b\b\b\b\b\b\n",
            "Epoch 52/100\n",
            "2014/2014 [==============================] - 2s 1ms/step - loss: 4.5748 - val_loss: 15.1428\b\b\b\b\b\b\b\b\b\b\b\b\b\b\b\b\b\b\b\b\b\b\b\b\b\b\b\b\b\b\b\b\b\b\b\b\b\b\b\b\b\b\b\n",
            "Epoch 53/100\n",
            "2014/2014 [==============================] - 2s 1ms/step - loss: 4.5416 - val_loss: 13.0192\b\b\b\b\b\b\b\b\b\b\b\b\b\b\b\b\b\b\b\b\b\b\b\b\b\b\b\b\b\b\b\b\b\b\b\b\b\b\b\b\b\b\b\n",
            "Epoch 54/100\n",
            "2014/2014 [==============================] - 2s 1ms/step - loss: 4.5320 - val_loss: 14.4027\b\b\b\b\b\b\b\b\b\b\b\b\b\b\b\b\b\b\b\b\b\b\b\b\b\b\b\b\b\b\b\b\b\b\b\b\b\b\b\b\b\b\b\n",
            "Epoch 55/100\n",
            "2014/2014 [==============================] - 2s 1ms/step - loss: 4.6774 - val_loss: 13.5737\b\b\b\b\b\b\b\b\b\b\b\b\b\b\b\b\b\b\b\b\b\b\b\b\b\b\b\b\b\b\b\b\b\b\b\b\b\b\b\b\b\b\b\n",
            "Epoch 56/100\n",
            "2014/2014 [==============================] - 2s 1ms/step - loss: 4.5689 - val_loss: 12.6956\b\b\b\b\b\b\b\b\b\b\b\b\b\b\b\b\b\b\b\b\b\b\b\b\b\b\b\b\b\b\b\b\b\b\b\b\b\b\b\b\b\b\b\n",
            "Epoch 57/100\n",
            "2014/2014 [==============================] - 2s 1ms/step - loss: 4.5677 - val_loss: 13.9621\b\b\b\b\b\b\b\b\b\b\b\b\b\b\b\b\b\b\b\b\b\b\b\b\b\b\b\b\b\b\b\b\b\b\b\b\b\b\b\b\b\b\b\n",
            "Epoch 58/100\n",
            "2014/2014 [==============================] - 2s 1ms/step - loss: 5.2236 - val_loss: 13.1562\b\b\b\b\b\b\b\b\b\b\b\b\b\b\b\b\b\b\b\b\b\b\b\b\b\b\b\b\b\b\b\b\b\b\b\b\b\b\b\b\b\b\b\n",
            "Epoch 59/100\n",
            "2014/2014 [==============================] - 2s 1ms/step - loss: 4.6003 - val_loss: 13.2867\b\b\b\b\b\b\b\b\b\b\b\b\b\b\b\b\b\b\b\b\b\b\b\b\b\b\b\b\b\b\b\b\b\b\b\b\b\b\b\b\b\b\b\n",
            "Epoch 60/100\n",
            "2014/2014 [==============================] - 2s 1ms/step - loss: 4.6182 - val_loss: 11.6777\b\b\b\b\b\b\b\b\b\b\b\b\b\b\b\b\b\b\b\b\b\b\b\b\b\b\b\b\b\b\b\b\b\b\b\b\b\b\b\b\b\b\b\n",
            "Epoch 61/100\n",
            "2014/2014 [==============================] - 2s 1ms/step - loss: 4.6154 - val_loss: 13.5797\b\b\b\b\b\b\b\b\b\b\b\b\b\b\b\b\b\b\b\b\b\b\b\b\b\b\b\b\b\b\b\b\b\b\b\b\b\b\b\b\b\b\b\n",
            "Epoch 62/100\n",
            "2014/2014 [==============================] - 2s 1ms/step - loss: 4.7812 - val_loss: 15.2829\b\b\b\b\b\b\b\b\b\b\b\b\b\b\b\b\b\b\b\b\b\b\b\b\b\b\b\b\b\b\b\b\b\b\b\b\b\b\b\b\b\b\b\n",
            "Epoch 63/100\n",
            "2014/2014 [==============================] - 2s 1ms/step - loss: 4.2963 - val_loss: 12.4024\b\b\b\b\b\b\b\b\b\b\b\b\b\b\b\b\b\b\b\b\b\b\b\b\b\b\b\b\b\b\b\b\b\b\b\b\b\b\b\b\b\b\b\n",
            "Epoch 64/100\n",
            "2014/2014 [==============================] - 2s 1ms/step - loss: 4.6552 - val_loss: 12.9327\b\b\b\b\b\b\b\b\b\b\b\b\b\b\b\b\b\b\b\b\b\b\b\b\b\b\b\b\b\b\b\b\b\b\b\b\b\b\b\b\b\b\b\n",
            "Epoch 65/100\n",
            "2014/2014 [==============================] - 2s 1ms/step - loss: 4.3976 - val_loss: 14.1928\b\b\b\b\b\b\b\b\b\b\b\b\b\b\b\b\b\b\b\b\b\b\b\b\b\b\b\b\b\b\b\b\b\b\b\b\b\b\b\b\b\b\b\n",
            "Epoch 66/100\n",
            "2014/2014 [==============================] - 2s 1ms/step - loss: 4.5560 - val_loss: 14.8843\b\b\b\b\b\b\b\b\b\b\b\b\b\b\b\b\b\b\b\b\b\b\b\b\b\b\b\b\b\b\b\b\b\b\b\b\b\b\b\b\b\b\b\n",
            "Epoch 67/100\n",
            "2014/2014 [==============================] - 2s 1ms/step - loss: 4.2469 - val_loss: 12.6533\b\b\b\b\b\b\b\b\b\b\b\b\b\b\b\b\b\b\b\b\b\b\b\b\b\b\b\b\b\b\b\b\b\b\b\b\b\b\b\b\b\b\b\n",
            "Epoch 68/100\n",
            "2014/2014 [==============================] - 2s 1ms/step - loss: 4.7143 - val_loss: 12.5801\b\b\b\b\b\b\b\b\b\b\b\b\b\b\b\b\b\b\b\b\b\b\b\b\b\b\b\b\b\b\b\b\b\b\b\b\b\b\b\b\b\b\b\n",
            "Epoch 69/100\n",
            "2014/2014 [==============================] - 2s 1ms/step - loss: 4.3545 - val_loss: 12.7417\b\b\b\b\b\b\b\b\b\b\b\b\b\b\b\b\b\b\b\b\b\b\b\b\b\b\b\b\b\b\b\b\b\b\b\b\b\b\b\b\b\b\b\n",
            "Epoch 70/100\n",
            "2014/2014 [==============================] - 2s 1ms/step - loss: 4.4384 - val_loss: 14.4577\b\b\b\b\b\b\b\b\b\b\b\b\b\b\b\b\b\b\b\b\b\b\b\b\b\b\b\b\b\b\b\b\b\b\b\b\b\b\b\b\b\b\b\n",
            "Epoch 71/100\n",
            "2014/2014 [==============================] - 2s 1ms/step - loss: 4.0720 - val_loss: 12.8539\b\b\b\b\b\b\b\b\b\b\b\b\b\b\b\b\b\b\b\b\b\b\b\b\b\b\b\b\b\b\b\b\b\b\b\b\b\b\b\b\b\b\b\n",
            "Epoch 72/100\n",
            "2014/2014 [==============================] - 2s 1ms/step - loss: 4.2125 - val_loss: 12.4007\b\b\b\b\b\b\b\b\b\b\b\b\b\b\b\b\b\b\b\b\b\b\b\b\b\b\b\b\b\b\b\b\b\b\b\b\b\b\b\b\b\b\b\n",
            "Epoch 73/100\n",
            "2014/2014 [==============================] - 2s 1ms/step - loss: 4.5906 - val_loss: 13.8115\b\b\b\b\b\b\b\b\b\b\b\b\b\b\b\b\b\b\b\b\b\b\b\b\b\b\b\b\b\b\b\b\b\b\b\b\b\b\b\b\b\b\b\n",
            "Epoch 74/100\n",
            "2014/2014 [==============================] - 2s 1ms/step - loss: 4.5890 - val_loss: 14.1028\b\b\b\b\b\b\b\b\b\b\b\b\b\b\b\b\b\b\b\b\b\b\b\b\b\b\b\b\b\b\b\b\b\b\b\b\b\b\b\b\b\b\b\n",
            "Epoch 75/100\n",
            "2014/2014 [==============================] - 2s 1ms/step - loss: 4.3322 - val_loss: 12.7954\b\b\b\b\b\b\b\b\b\b\b\b\b\b\b\b\b\b\b\b\b\b\b\b\b\b\b\b\b\b\b\b\b\b\b\b\b\b\b\b\b\b\b\n",
            "Epoch 76/100\n",
            "2014/2014 [==============================] - 2s 1ms/step - loss: 4.4699 - val_loss: 13.8031\b\b\b\b\b\b\b\b\b\b\b\b\b\b\b\b\b\b\b\b\b\b\b\b\b\b\b\b\b\b\b\b\b\b\b\b\b\b\b\b\b\b\b\n",
            "Epoch 77/100\n",
            "2014/2014 [==============================] - 2s 1ms/step - loss: 4.4148 - val_loss: 13.3071\b\b\b\b\b\b\b\b\b\b\b\b\b\b\b\b\b\b\b\b\b\b\b\b\b\b\b\b\b\b\b\b\b\b\b\b\b\b\b\b\b\b\b\n",
            "Epoch 78/100\n",
            "2014/2014 [==============================] - 2s 1ms/step - loss: 4.4332 - val_loss: 12.7602\b\b\b\b\b\b\b\b\b\b\b\b\b\b\b\b\b\b\b\b\b\b\b\b\b\b\b\b\b\b\b\b\b\b\b\b\b\b\b\b\b\b\b\n",
            "Epoch 79/100\n",
            "2014/2014 [==============================] - 2s 1ms/step - loss: 4.5119 - val_loss: 12.5250\b\b\b\b\b\b\b\b\b\b\b\b\b\b\b\b\b\b\b\b\b\b\b\b\b\b\b\b\b\b\b\b\b\b\b\b\b\b\b\b\b\b\b\n",
            "Epoch 80/100\n",
            "2014/2014 [==============================] - 2s 1ms/step - loss: 4.5028 - val_loss: 13.1431\b\b\b\b\b\b\b\b\b\b\b\b\b\b\b\b\b\b\b\b\b\b\b\b\b\b\b\b\b\b\b\b\b\b\b\b\b\b\b\b\b\b\b\n",
            "Epoch 81/100\n",
            "2014/2014 [==============================] - 2s 1ms/step - loss: 4.5288 - val_loss: 13.8201\b\b\b\b\b\b\b\b\b\b\b\b\b\b\b\b\b\b\b\b\b\b\b\b\b\b\b\b\b\b\b\b\b\b\b\b\b\b\b\b\b\b\b\n",
            "Epoch 82/100\n",
            "2014/2014 [==============================] - 2s 1ms/step - loss: 4.5436 - val_loss: 13.5059\b\b\b\b\b\b\b\b\b\b\b\b\b\b\b\b\b\b\b\b\b\b\b\b\b\b\b\b\b\b\b\b\b\b\b\b\b\b\b\b\b\b\b\n",
            "Epoch 83/100\n",
            "2014/2014 [==============================] - 2s 1ms/step - loss: 4.2195 - val_loss: 13.6782\b\b\b\b\b\b\b\b\b\b\b\b\b\b\b\b\b\b\b\b\b\b\b\b\b\b\b\b\b\b\b\b\b\b\b\b\b\b\b\b\b\b\b\n",
            "Epoch 84/100\n",
            "2014/2014 [==============================] - 2s 1ms/step - loss: 4.4651 - val_loss: 13.9454\b\b\b\b\b\b\b\b\b\b\b\b\b\b\b\b\b\b\b\b\b\b\b\b\b\b\b\b\b\b\b\b\b\b\b\b\b\b\b\b\b\b\b\n",
            "Epoch 85/100\n",
            "2014/2014 [==============================] - 2s 1ms/step - loss: 4.5818 - val_loss: 12.9404\b\b\b\b\b\b\b\b\b\b\b\b\b\b\b\b\b\b\b\b\b\b\b\b\b\b\b\b\b\b\b\b\b\b\b\b\b\b\b\b\b\b\b\n",
            "Epoch 86/100\n",
            "2014/2014 [==============================] - 2s 1ms/step - loss: 4.6275 - val_loss: 13.9076\b\b\b\b\b\b\b\b\b\b\b\b\b\b\b\b\b\b\b\b\b\b\b\b\b\b\b\b\b\b\b\b\b\b\b\b\b\b\b\b\b\b\b\n",
            "Epoch 87/100\n",
            "2014/2014 [==============================] - 2s 1ms/step - loss: 4.4601 - val_loss: 13.6462\b\b\b\b\b\b\b\b\b\b\b\b\b\b\b\b\b\b\b\b\b\b\b\b\b\b\b\b\b\b\b\b\b\b\b\b\b\b\b\b\b\b\b\n",
            "Epoch 88/100\n",
            "2014/2014 [==============================] - 2s 1ms/step - loss: 4.4343 - val_loss: 13.3177\b\b\b\b\b\b\b\b\b\b\b\b\b\b\b\b\b\b\b\b\b\b\b\b\b\b\b\b\b\b\b\b\b\b\b\b\b\b\b\b\b\b\b\n",
            "Epoch 89/100\n",
            "2014/2014 [==============================] - 2s 1ms/step - loss: 4.2450 - val_loss: 13.0082\b\b\b\b\b\b\b\b\b\b\b\b\b\b\b\b\b\b\b\b\b\b\b\b\b\b\b\b\b\b\b\b\b\b\b\b\b\b\b\b\b\b\b\n",
            "Epoch 90/100\n",
            "2014/2014 [==============================] - 2s 1ms/step - loss: 4.2939 - val_loss: 13.6715\b\b\b\b\b\b\b\b\b\b\b\b\b\b\b\b\b\b\b\b\b\b\b\b\b\b\b\b\b\b\b\b\b\b\b\b\b\b\b\b\b\b\b\n",
            "Epoch 91/100\n",
            "2014/2014 [==============================] - 2s 1ms/step - loss: 4.2668 - val_loss: 12.6171\b\b\b\b\b\b\b\b\b\b\b\b\b\b\b\b\b\b\b\b\b\b\b\b\b\b\b\b\b\b\b\b\b\b\b\b\b\b\b\b\b\b\b\n",
            "Epoch 92/100\n",
            "2014/2014 [==============================] - 2s 1ms/step - loss: 4.2076 - val_loss: 13.6365\b\b\b\b\b\b\b\b\b\b\b\b\b\b\b\b\b\b\b\b\b\b\b\b\b\b\b\b\b\b\b\b\b\b\b\b\b\b\b\b\b\b\b\n",
            "Epoch 93/100\n",
            "2014/2014 [==============================] - 2s 1ms/step - loss: 4.3101 - val_loss: 13.3047\b\b\b\b\b\b\b\b\b\b\b\b\b\b\b\b\b\b\b\b\b\b\b\b\b\b\b\b\b\b\b\b\b\b\b\b\b\b\b\b\b\b\b\n",
            "Epoch 94/100\n",
            "2014/2014 [==============================] - 2s 1ms/step - loss: 4.1278 - val_loss: 13.5841\b\b\b\b\b\b\b\b\b\b\b\b\b\b\b\b\b\b\b\b\b\b\b\b\b\b\b\b\b\b\b\b\b\b\b\b\b\b\b\b\b\b\b\n",
            "Epoch 95/100\n",
            "2014/2014 [==============================] - 2s 1ms/step - loss: 4.3762 - val_loss: 13.7846\b\b\b\b\b\b\b\b\b\b\b\b\b\b\b\b\b\b\b\b\b\b\b\b\b\b\b\b\b\b\b\b\b\b\b\b\b\b\b\b\b\b\b\n",
            "Epoch 96/100\n",
            "2014/2014 [==============================] - 2s 1ms/step - loss: 3.9440 - val_loss: 12.6926\b\b\b\b\b\b\b\b\b\b\b\b\b\b\b\b\b\b\b\b\b\b\b\b\b\b\b\b\b\b\b\b\b\b\b\b\b\b\b\b\b\b\b\n",
            "Epoch 97/100\n",
            "2014/2014 [==============================] - 2s 1ms/step - loss: 4.2035 - val_loss: 14.4431\b\b\b\b\b\b\b\b\b\b\b\b\b\b\b\b\b\b\b\b\b\b\b\b\b\b\b\b\b\b\b\b\b\b\b\b\b\b\b\b\b\b\b\n",
            "Epoch 98/100\n",
            "2014/2014 [==============================] - 2s 1ms/step - loss: 4.2802 - val_loss: 12.1545\b\b\b\b\b\b\b\b\b\b\b\b\b\b\b\b\b\b\b\b\b\b\b\b\b\b\b\b\b\b\b\b\b\b\b\b\b\b\b\b\b\b\b\n",
            "Epoch 99/100\n",
            "2014/2014 [==============================] - 2s 1ms/step - loss: 4.4699 - val_loss: 13.4931\b\b\b\b\b\b\b\b\b\b\b\b\b\b\b\b\b\b\b\b\b\b\b\b\b\b\b\b\b\b\b\b\b\b\b\b\b\b\b\b\b\b\b\n",
            "Epoch 100/100\n",
            "2014/2014 [==============================] - 2s 1ms/step - loss: 4.4877 - val_loss: 14.5591\b\b\b\b\b\b\b\b\b\b\b\b\b\b\b\b\b\b\b\b\b\b\b\b\b\b\b\b\b\b\b\b\b\b\b\b\b\b\b\b\b\b\b\n"
          ]
        },
        {
          "output_type": "execute_result",
          "execution_count": 136,
          "data": {
            "text/plain": "<keras.callbacks.callbacks.History at 0x7feea22a0320>"
          },
          "metadata": {}
        }
      ],
      "execution_count": 136,
      "metadata": {
        "collapsed": true,
        "jupyter": {
          "source_hidden": false,
          "outputs_hidden": false
        },
        "nteract": {
          "transient": {
            "deleting": false
          }
        },
        "gather": {
          "logged": 1620936551826
        }
      }
    },
    {
      "cell_type": "code",
      "source": [
        "test_loss = model.evaluate(X_test, y_test)\r\n",
        "predicted = model.predict(X_test)\r\n",
        "test_loss"
      ],
      "outputs": [
        {
          "output_type": "stream",
          "name": "stdout",
          "text": [
            "\r 32/483 [>.............................] - ETA: 0s\b\b\b\b\b\b\b\b\b\b\b\b\b\b\b\b\b\b\b\b\b\b\b\b\b\b\b\b\b\b\b\b\b\b\b\b\b\b\b\b\b\b\b\b\b\b\b\b\b\b\r256/483 [==============>...............] - ETA: 0s\b\b\b\b\b\b\b\b\b\b\b\b\b\b\b\b\b\b\b\b\b\b\b\b\b\b\b\b\b\b\b\b\b\b\b\b\b\b\b\b\b\b\b\b\b\b\b\b\b\b\r480/483 [============================>.] - ETA: 0s\b\b\b\b\b\b\b\b\b\b\b\b\b\b\b\b\b\b\b\b\b\b\b\b\b\b\b\b\b\b\b\b\b\b\b\b\b\b\b\b\b\b\b\b\b\b\b\b\b\b\r",
            "483/483 [==============================] - 0s 266us/step\n"
          ]
        },
        {
          "output_type": "execute_result",
          "execution_count": 137,
          "data": {
            "text/plain": "42.329665569044785"
          },
          "metadata": {}
        }
      ],
      "execution_count": 137,
      "metadata": {
        "collapsed": true,
        "jupyter": {
          "source_hidden": false,
          "outputs_hidden": false
        },
        "nteract": {
          "transient": {
            "deleting": false
          }
        },
        "gather": {
          "logged": 1620936584967
        }
      }
    },
    {
      "cell_type": "code",
      "source": [
        "create_plot(y_test, predicted, days_full, ticks_full, [10, 140])"
      ],
      "outputs": [
        {
          "output_type": "stream",
          "name": "stderr",
          "text": [
            "/anaconda/envs/azureml_py36/lib/python3.6/site-packages/ipykernel_launcher.py:13: UserWarning: You have mixed positional and keyword arguments, some input may be discarded.\n",
            "  del sys.path[0]\n"
          ]
        },
        {
          "output_type": "display_data",
          "data": {
            "text/plain": "<Figure size 864x360 with 1 Axes>",
            "image/png": "[encoded data removed]"
          },
          "metadata": {
            "needs_background": "light"
          }
        }
      ],
      "execution_count": 138,
      "metadata": {
        "collapsed": true,
        "jupyter": {
          "source_hidden": false,
          "outputs_hidden": false
        },
        "nteract": {
          "transient": {
            "deleting": false
          }
        },
        "gather": {
          "logged": 1620936610086
        }
      }
    },
    {
      "cell_type": "markdown",
      "source": [
        "## Notes\r\n",
        "\r\n",
        "Well that didn't help either. Now not only we fail to catch the stomr after day 100, but we are also innacurate during the early days.\r\n",
        "\r\n",
        "## Conclusion and next steps\r\n",
        "\r\n",
        "The difference error is obviously big, and we can see now why. Although the model behaves good during the first 100 test days (approx 100 working\r\n",
        "days correspond to 5 months) it really goes off when Apple stock booms, which we may know it looks natural due to technological explosion,\r\n",
        "but it's not natural for the model because previous data and specifically data the model has been trained on, didn't include this kind of\r\n",
        "explosion.\r\n",
        "\r\n",
        "This is even more obvious, if someone takes a look at the validation mean absolute error and the test mean absolute error. Because the validation\r\n",
        "set does not include any kind of *unusual* activity, the error is way less (sometimes even less than 1 $) than on the test set.\r\n",
        "\r\n",
        "## Further Notes and new approach\r\n",
        "\r\n",
        "That means that because our testing set is way too large to predict, and because the whole expansion actually takes place within the test_set,\r\n",
        "it's not easy to predict from the training set which was flat. Thus we will take a **different approach** from now on than usual ML approach\r\n",
        "of 80/20 split. \r\n",
        "\r\n",
        "We will include most of the past to the training data, and for sure a big part of the expansion. And we will try to predict the next 3 months\r\n",
        "again day by day. That will leave us with a training set of 97%, which may seems a lot, but actually trying to predict a quarter of a financial\r\n",
        "year is more of a relistic **real-world** broker approach. \r\n",
        "\r\n",
        "At first we will begin with simpler models, see if we can get a reduction of error only due to data, and then we will try to optimize\r\n",
        "our model, and see how it goes."
      ],
      "metadata": {
        "nteract": {
          "transient": {
            "deleting": false
          }
        }
      }
    },
    {
      "cell_type": "code",
      "source": [
        "X_train, y_train, X_test, y_test, X_validation, y_validation = create_sets(stock_set.shape[0], 20, 0.97)"
      ],
      "outputs": [
        {
          "output_type": "stream",
          "name": "stdout",
          "text": [
            "(2441, 20, 1)\n",
            "(56, 20, 1)\n",
            "2441\n",
            "56\n",
            "56\n",
            "56\n"
          ]
        }
      ],
      "execution_count": 142,
      "metadata": {
        "collapsed": true,
        "jupyter": {
          "source_hidden": false,
          "outputs_hidden": false
        },
        "nteract": {
          "transient": {
            "deleting": false
          }
        },
        "gather": {
          "logged": 1620937239757
        }
      }
    },
    {
      "cell_type": "code",
      "source": [
        "simple = Sequential()\r\n",
        "\r\n",
        "simple.add(SimpleRNN(units=64, input_shape=(20, 1), dropout=0.1, recurrent_dropout=0.15, activation='tanh'))\r\n",
        "simple.add(Dense(1))\r\n",
        "simple.compile(optimizer='rmsprop', loss='mae')\r\n",
        "\r\n",
        "simple.fit(X_train, y_train, epochs=200, batch_size=32, validation_data=(X_validation, y_validation))"
      ],
      "outputs": [
        {
          "output_type": "stream",
          "name": "stdout",
          "text": [
            "Train on 2441 samples, validate on 56 samples\n",
            "Epoch 1/200\n",
            "2441/2441 [==============================] - 1s 390us/step - loss: 29.7860 - val_loss: 116.7679\b\b\b\b\b\b\b\b\b\b\b\b\b\b\b\b\b\b\b\b\b\b\b\b\b\b\b\b\b\b\b\b\b\b\b\b\b\b\b\b\b\b\b\n",
            "Epoch 2/200\n",
            "2441/2441 [==============================] - 1s 258us/step - loss: 22.8532 - val_loss: 111.7779\b\b\b\b\b\b\b\b\b\b\b\b\b\b\b\b\b\b\b\b\b\b\b\b\b\b\b\b\b\b\b\b\b\b\b\b\b\b\b\b\b\n",
            "Epoch 3/200\n",
            "2441/2441 [==============================] - 1s 258us/step - loss: 19.7322 - val_loss: 107.2027\b\b\b\b\b\b\b\b\b\b\b\b\b\b\b\b\b\b\b\b\b\b\b\b\b\b\b\b\b\b\b\b\b\b\b\b\b\b\b\b\b\n",
            "Epoch 4/200\n",
            "2441/2441 [==============================] - 1s 256us/step - loss: 18.0666 - val_loss: 103.5339\b\b\b\b\b\b\b\b\b\b\b\b\b\b\b\b\b\b\b\b\b\b\b\b\b\b\b\b\b\b\b\b\b\b\b\b\b\b\b\b\b\n",
            "Epoch 5/200\n",
            "2441/2441 [==============================] - 1s 274us/step - loss: 17.5435 - val_loss: 101.6766\b\b\b\b\b\b\b\b\b\b\b\b\b\b\b\b\b\b\b\b\b\b\b\b\b\b\b\b\b\b\b\b\b\b\b\b\b\b\b\b\b\n",
            "Epoch 6/200\n",
            "2441/2441 [==============================] - 1s 258us/step - loss: 17.4999 - val_loss: 101.3666\b\b\b\b\b\b\b\b\b\b\b\b\b\b\b\b\b\b\b\b\b\b\b\b\b\b\b\b\b\b\b\b\b\b\b\b\b\b\b\b\b\n",
            "Epoch 7/200\n",
            "2441/2441 [==============================] - 1s 258us/step - loss: 17.4969 - val_loss: 101.2892\b\b\b\b\b\b\b\b\b\b\b\b\b\b\b\b\b\b\b\b\b\b\b\b\b\b\b\b\b\b\b\b\b\b\b\b\b\b\b\b\b\n",
            "Epoch 8/200\n",
            "2441/2441 [==============================] - 1s 258us/step - loss: 17.4749 - val_loss: 100.7573\b\b\b\b\b\b\b\b\b\b\b\b\b\b\b\b\b\b\b\b\b\b\b\b\b\b\b\b\b\b\b\b\b\b\b\b\b\b\b\b\b\n",
            "Epoch 9/200\n",
            "2441/2441 [==============================] - 1s 259us/step - loss: 17.3133 - val_loss: 100.7667\b\b\b\b\b\b\b\b\b\b\b\b\b\b\b\b\b\b\b\b\b\b\b\b\b\b\b\b\b\b\b\b\b\b\b\b\b\b\b\b\b\n",
            "Epoch 10/200\n",
            "2441/2441 [==============================] - 1s 256us/step - loss: 16.9005 - val_loss: 97.6587\b\b\b\b\b\b\b\b\b\b\b\b\b\b\b\b\b\b\b\b\b\b\b\b\b\b\b\b\b\b\b\b\b\b\b\b\b\b\b\b\b\b\n",
            "Epoch 11/200\n",
            "2441/2441 [==============================] - 1s 254us/step - loss: 16.2139 - val_loss: 94.0203\b\b\b\b\b\b\b\b\b\b\b\b\b\b\b\b\b\b\b\b\b\b\b\b\b\b\b\b\b\b\b\b\b\b\b\b\b\b\b\b\b\b\n",
            "Epoch 12/200\n",
            "2441/2441 [==============================] - 1s 257us/step - loss: 15.3905 - val_loss: 91.1457\b\b\b\b\b\b\b\b\b\b\b\b\b\b\b\b\b\b\b\b\b\b\b\b\b\b\b\b\b\b\b\b\b\b\b\b\b\b\b\b\b\b\n",
            "Epoch 13/200\n",
            "2441/2441 [==============================] - 1s 258us/step - loss: 15.0151 - val_loss: 88.4090\b\b\b\b\b\b\b\b\b\b\b\b\b\b\b\b\b\b\b\b\b\b\b\b\b\b\b\b\b\b\b\b\b\b\b\b\b\b\b\b\b\b\n",
            "Epoch 14/200\n",
            "2441/2441 [==============================] - 1s 256us/step - loss: 19.2969 - val_loss: 86.1085\b\b\b\b\b\b\b\b\b\b\b\b\b\b\b\b\b\b\b\b\b\b\b\b\b\b\b\b\b\b\b\b\b\b\b\b\b\b\b\b\b\b\n",
            "Epoch 15/200\n",
            "2441/2441 [==============================] - 1s 264us/step - loss: 19.9847 - val_loss: 84.8434\b\b\b\b\b\b\b\b\b\b\b\b\b\b\b\b\b\b\b\b\b\b\b\b\b\b\b\b\b\b\b\b\b\b\b\b\b\b\b\b\b\b\n",
            "Epoch 16/200\n",
            "2441/2441 [==============================] - 1s 268us/step - loss: 22.4018 - val_loss: 84.2336\b\b\b\b\b\b\b\b\b\b\b\b\b\b\b\b\b\b\b\b\b\b\b\b\b\b\b\b\b\b\b\b\b\b\b\b\b\b\b\b\b\b\n",
            "Epoch 17/200\n",
            "2441/2441 [==============================] - 1s 256us/step - loss: 25.8564 - val_loss: 83.2332\b\b\b\b\b\b\b\b\b\b\b\b\b\b\b\b\b\b\b\b\b\b\b\b\b\b\b\b\b\b\b\b\b\b\b\b\b\b\b\b\b\b\n",
            "Epoch 18/200\n",
            "2441/2441 [==============================] - 1s 259us/step - loss: 22.7034 - val_loss: 83.5737\b\b\b\b\b\b\b\b\b\b\b\b\b\b\b\b\b\b\b\b\b\b\b\b\b\b\b\b\b\b\b\b\b\b\b\b\b\b\b\b\b\b\n",
            "Epoch 19/200\n",
            "2441/2441 [==============================] - 1s 256us/step - loss: 19.9504 - val_loss: 83.1232\b\b\b\b\b\b\b\b\b\b\b\b\b\b\b\b\b\b\b\b\b\b\b\b\b\b\b\b\b\b\b\b\b\b\b\b\b\b\b\b\b\b\n",
            "Epoch 20/200\n",
            "2441/2441 [==============================] - 1s 257us/step - loss: 20.0522 - val_loss: 83.6992\b\b\b\b\b\b\b\b\b\b\b\b\b\b\b\b\b\b\b\b\b\b\b\b\b\b\b\b\b\b\b\b\b\b\b\b\b\b\b\b\b\b\n",
            "Epoch 21/200\n",
            "2441/2441 [==============================] - 1s 261us/step - loss: 17.2156 - val_loss: 85.6277\b\b\b\b\b\b\b\b\b\b\b\b\b\b\b\b\b\b\b\b\b\b\b\b\b\b\b\b\b\b\b\b\b\b\b\b\b\b\b\b\b\b\n",
            "Epoch 22/200\n",
            "2441/2441 [==============================] - 1s 255us/step - loss: 15.8562 - val_loss: 84.4960\b\b\b\b\b\b\b\b\b\b\b\b\b\b\b\b\b\b\b\b\b\b\b\b\b\b\b\b\b\b\b\b\b\b\b\b\b\b\b\b\b\b\n",
            "Epoch 23/200\n",
            "2441/2441 [==============================] - 1s 259us/step - loss: 14.6762 - val_loss: 83.8452\b\b\b\b\b\b\b\b\b\b\b\b\b\b\b\b\b\b\b\b\b\b\b\b\b\b\b\b\b\b\b\b\b\b\b\b\b\b\b\b\b\b\n",
            "Epoch 24/200\n",
            "2441/2441 [==============================] - 1s 259us/step - loss: 13.6938 - val_loss: 81.4140\b\b\b\b\b\b\b\b\b\b\b\b\b\b\b\b\b\b\b\b\b\b\b\b\b\b\b\b\b\b\b\b\b\b\b\b\b\b\b\b\b\b\n",
            "Epoch 25/200\n",
            "2441/2441 [==============================] - 1s 259us/step - loss: 13.2184 - val_loss: 79.3069\b\b\b\b\b\b\b\b\b\b\b\b\b\b\b\b\b\b\b\b\b\b\b\b\b\b\b\b\b\b\b\b\b\b\b\b\b\b\b\b\b\b\n",
            "Epoch 26/200\n",
            "2441/2441 [==============================] - 1s 257us/step - loss: 12.4515 - val_loss: 77.6347\b\b\b\b\b\b\b\b\b\b\b\b\b\b\b\b\b\b\b\b\b\b\b\b\b\b\b\b\b\b\b\b\b\b\b\b\b\b\b\b\b\b\n",
            "Epoch 27/200\n",
            "2441/2441 [==============================] - 1s 257us/step - loss: 11.4980 - val_loss: 75.5710\b\b\b\b\b\b\b\b\b\b\b\b\b\b\b\b\b\b\b\b\b\b\b\b\b\b\b\b\b\b\b\b\b\b\b\b\b\b\b\b\b\b\n",
            "Epoch 28/200\n",
            "2441/2441 [==============================] - 1s 258us/step - loss: 10.6275 - val_loss: 74.2335\b\b\b\b\b\b\b\b\b\b\b\b\b\b\b\b\b\b\b\b\b\b\b\b\b\b\b\b\b\b\b\b\b\b\b\b\b\b\b\b\b\b\n",
            "Epoch 29/200\n",
            "2441/2441 [==============================] - 1s 254us/step - loss: 10.4286 - val_loss: 72.8233\b\b\b\b\b\b\b\b\b\b\b\b\b\b\b\b\b\b\b\b\b\b\b\b\b\b\b\b\b\b\b\b\b\b\b\b\b\b\b\b\b\b\n",
            "Epoch 30/200\n",
            "2441/2441 [==============================] - 1s 257us/step - loss: 10.1941 - val_loss: 71.1496\b\b\b\b\b\b\b\b\b\b\b\b\b\b\b\b\b\b\b\b\b\b\b\b\b\b\b\b\b\b\b\b\b\b\b\b\b\b\b\b\b\b\n",
            "Epoch 31/200\n",
            "2441/2441 [==============================] - 1s 259us/step - loss: 9.9658 - val_loss: 69.9755\b\b\b\b\b\b\b\b\b\b\b\b\b\b\b\b\b\b\b\b\b\b\b\b\b\b\b\b\b\b\b\b\b\b\b\b\b\b\b\b\b\b\b\n",
            "Epoch 32/200\n",
            "2441/2441 [==============================] - 1s 256us/step - loss: 9.6641 - val_loss: 68.2608\b\b\b\b\b\b\b\b\b\b\b\b\b\b\b\b\b\b\b\b\b\b\b\b\b\b\b\b\b\b\b\b\b\b\b\b\b\b\b\b\b\n",
            "Epoch 33/200\n",
            "2441/2441 [==============================] - 1s 255us/step - loss: 9.6749 - val_loss: 66.8641\b\b\b\b\b\b\b\b\b\b\b\b\b\b\b\b\b\b\b\b\b\b\b\b\b\b\b\b\b\b\b\b\b\b\b\b\b\b\b\b\b\b\b\n",
            "Epoch 34/200\n",
            "2441/2441 [==============================] - 1s 259us/step - loss: 9.1417 - val_loss: 65.5527\b\b\b\b\b\b\b\b\b\b\b\b\b\b\b\b\b\b\b\b\b\b\b\b\b\b\b\b\b\b\b\b\b\b\b\b\b\b\b\b\b\n",
            "Epoch 35/200\n",
            "2441/2441 [==============================] - 1s 255us/step - loss: 9.3157 - val_loss: 64.0777\b\b\b\b\b\b\b\b\b\b\b\b\b\b\b\b\b\b\b\b\b\b\b\b\b\b\b\b\b\b\b\b\b\b\b\b\b\b\b\b\b\b\b\n",
            "Epoch 36/200\n",
            "2441/2441 [==============================] - 1s 256us/step - loss: 8.8585 - val_loss: 62.8650\b\b\b\b\b\b\b\b\b\b\b\b\b\b\b\b\b\b\b\b\b\b\b\b\b\b\b\b\b\b\b\b\b\b\b\b\b\b\b\b\b\n",
            "Epoch 37/200\n",
            "2441/2441 [==============================] - 1s 261us/step - loss: 8.2237 - val_loss: 61.1049\b\b\b\b\b\b\b\b\b\b\b\b\b\b\b\b\b\b\b\b\b\b\b\b\b\b\b\b\b\b\b\b\b\b\b\b\b\b\b\b\b\b\b\n",
            "Epoch 38/200\n",
            "2441/2441 [==============================] - 1s 254us/step - loss: 8.5426 - val_loss: 59.4365\b\b\b\b\b\b\b\b\b\b\b\b\b\b\b\b\b\b\b\b\b\b\b\b\b\b\b\b\b\b\b\b\b\b\b\b\b\b\b\b\b\n",
            "Epoch 39/200\n",
            "2441/2441 [==============================] - 1s 259us/step - loss: 8.0435 - val_loss: 58.3160\b\b\b\b\b\b\b\b\b\b\b\b\b\b\b\b\b\b\b\b\b\b\b\b\b\b\b\b\b\b\b\b\b\b\b\b\b\b\b\b\b\n",
            "Epoch 40/200\n",
            "2441/2441 [==============================] - 1s 255us/step - loss: 7.9321 - val_loss: 57.3983\b\b\b\b\b\b\b\b\b\b\b\b\b\b\b\b\b\b\b\b\b\b\b\b\b\b\b\b\b\b\b\b\b\b\b\b\b\b\b\b\b\n",
            "Epoch 41/200\n",
            "2441/2441 [==============================] - 1s 257us/step - loss: 7.8575 - val_loss: 55.4131\b\b\b\b\b\b\b\b\b\b\b\b\b\b\b\b\b\b\b\b\b\b\b\b\b\b\b\b\b\b\b\b\b\b\b\b\b\b\b\b\b\b\b\n",
            "Epoch 42/200\n",
            "2441/2441 [==============================] - 1s 259us/step - loss: 7.4112 - val_loss: 54.0832\b\b\b\b\b\b\b\b\b\b\b\b\b\b\b\b\b\b\b\b\b\b\b\b\b\b\b\b\b\b\b\b\b\b\b\b\b\b\b\b\b\n",
            "Epoch 43/200\n",
            "2441/2441 [==============================] - 1s 256us/step - loss: 7.7356 - val_loss: 52.8925\b\b\b\b\b\b\b\b\b\b\b\b\b\b\b\b\b\b\b\b\b\b\b\b\b\b\b\b\b\b\b\b\b\b\b\b\b\b\b\b\b\n",
            "Epoch 44/200\n",
            "2441/2441 [==============================] - 1s 262us/step - loss: 7.5195 - val_loss: 51.5132\b\b\b\b\b\b\b\b\b\b\b\b\b\b\b\b\b\b\b\b\b\b\b\b\b\b\b\b\b\b\b\b\b\b\b\b\b\b\b\b\b\n",
            "Epoch 45/200\n",
            "2441/2441 [==============================] - 1s 258us/step - loss: 7.1879 - val_loss: 50.8032\b\b\b\b\b\b\b\b\b\b\b\b\b\b\b\b\b\b\b\b\b\b\b\b\b\b\b\b\b\b\b\b\b\b\b\b\b\b\b\b\b\n",
            "Epoch 46/200\n",
            "2441/2441 [==============================] - 1s 257us/step - loss: 6.9342 - val_loss: 49.6195\b\b\b\b\b\b\b\b\b\b\b\b\b\b\b\b\b\b\b\b\b\b\b\b\b\b\b\b\b\b\b\b\b\b\b\b\b\b\b\b\b\n",
            "Epoch 47/200\n",
            "2441/2441 [==============================] - 1s 259us/step - loss: 6.5686 - val_loss: 47.6083\b\b\b\b\b\b\b\b\b\b\b\b\b\b\b\b\b\b\b\b\b\b\b\b\b\b\b\b\b\b\b\b\b\b\b\b\b\b\b\b\b\n",
            "Epoch 48/200\n",
            "2441/2441 [==============================] - 1s 258us/step - loss: 6.7614 - val_loss: 47.1417\b\b\b\b\b\b\b\b\b\b\b\b\b\b\b\b\b\b\b\b\b\b\b\b\b\b\b\b\b\b\b\b\b\b\b\b\b\b\b\b\b\n",
            "Epoch 49/200\n",
            "2441/2441 [==============================] - 1s 261us/step - loss: 6.6058 - val_loss: 46.1189\b\b\b\b\b\b\b\b\b\b\b\b\b\b\b\b\b\b\b\b\b\b\b\b\b\b\b\b\b\b\b\b\b\b\b\b\b\b\b\b\b\n",
            "Epoch 50/200\n",
            "2441/2441 [==============================] - 1s 258us/step - loss: 6.4651 - val_loss: 44.6104\b\b\b\b\b\b\b\b\b\b\b\b\b\b\b\b\b\b\b\b\b\b\b\b\b\b\b\b\b\b\b\b\b\b\b\b\b\b\b\b\b\n",
            "Epoch 51/200\n",
            "2441/2441 [==============================] - 1s 256us/step - loss: 6.3112 - val_loss: 43.7473\b\b\b\b\b\b\b\b\b\b\b\b\b\b\b\b\b\b\b\b\b\b\b\b\b\b\b\b\b\b\b\b\b\b\b\b\b\b\b\b\b\n",
            "Epoch 52/200\n",
            "2441/2441 [==============================] - 1s 258us/step - loss: 6.2286 - val_loss: 42.3699\b\b\b\b\b\b\b\b\b\b\b\b\b\b\b\b\b\b\b\b\b\b\b\b\b\b\b\b\b\b\b\b\b\b\b\b\b\b\b\b\b\n",
            "Epoch 53/200\n",
            "2441/2441 [==============================] - 1s 259us/step - loss: 5.9356 - val_loss: 41.8074\b\b\b\b\b\b\b\b\b\b\b\b\b\b\b\b\b\b\b\b\b\b\b\b\b\b\b\b\b\b\b\b\b\b\b\b\b\b\b\b\b\n",
            "Epoch 54/200\n",
            "2441/2441 [==============================] - 1s 257us/step - loss: 6.2244 - val_loss: 40.6355\b\b\b\b\b\b\b\b\b\b\b\b\b\b\b\b\b\b\b\b\b\b\b\b\b\b\b\b\b\b\b\b\b\b\b\b\b\b\b\b\b\n",
            "Epoch 55/200\n",
            "2441/2441 [==============================] - 1s 257us/step - loss: 5.9197 - val_loss: 39.9262\b\b\b\b\b\b\b\b\b\b\b\b\b\b\b\b\b\b\b\b\b\b\b\b\b\b\b\b\b\b\b\b\b\b\b\b\b\b\b\b\b\n",
            "Epoch 56/200\n",
            "2441/2441 [==============================] - 1s 259us/step - loss: 5.9793 - val_loss: 38.5073\b\b\b\b\b\b\b\b\b\b\b\b\b\b\b\b\b\b\b\b\b\b\b\b\b\b\b\b\b\b\b\b\b\b\b\b\b\b\b\b\b\n",
            "Epoch 57/200\n",
            "2441/2441 [==============================] - 1s 257us/step - loss: 5.8107 - val_loss: 37.8540\b\b\b\b\b\b\b\b\b\b\b\b\b\b\b\b\b\b\b\b\b\b\b\b\b\b\b\b\b\b\b\b\b\b\b\b\b\b\b\b\b\n",
            "Epoch 58/200\n",
            "2441/2441 [==============================] - 1s 256us/step - loss: 6.2251 - val_loss: 36.5310\b\b\b\b\b\b\b\b\b\b\b\b\b\b\b\b\b\b\b\b\b\b\b\b\b\b\b\b\b\b\b\b\b\b\b\b\b\b\b\b\b\n",
            "Epoch 59/200\n",
            "2441/2441 [==============================] - 1s 255us/step - loss: 5.7834 - val_loss: 36.2377\b\b\b\b\b\b\b\b\b\b\b\b\b\b\b\b\b\b\b\b\b\b\b\b\b\b\b\b\b\b\b\b\b\b\b\b\b\b\b\b\b\n",
            "Epoch 60/200\n",
            "2441/2441 [==============================] - 1s 260us/step - loss: 6.2227 - val_loss: 35.2706\b\b\b\b\b\b\b\b\b\b\b\b\b\b\b\b\b\b\b\b\b\b\b\b\b\b\b\b\b\b\b\b\b\b\b\b\b\b\b\b\b\n",
            "Epoch 61/200\n",
            "2441/2441 [==============================] - 1s 256us/step - loss: 5.2895 - val_loss: 34.5520\b\b\b\b\b\b\b\b\b\b\b\b\b\b\b\b\b\b\b\b\b\b\b\b\b\b\b\b\b\b\b\b\b\b\b\b\b\b\b\b\b\n",
            "Epoch 62/200\n",
            "2441/2441 [==============================] - 1s 255us/step - loss: 5.4615 - val_loss: 33.3814\b\b\b\b\b\b\b\b\b\b\b\b\b\b\b\b\b\b\b\b\b\b\b\b\b\b\b\b\b\b\b\b\b\b\b\b\b\b\b\b\b\n",
            "Epoch 63/200\n",
            "2441/2441 [==============================] - 1s 286us/step - loss: 5.6144 - val_loss: 32.7898\b\b\b\b\b\b\b\b\b\b\b\b\b\b\b\b\b\b\b\b\b\b\b\b\b\b\b\b\b\b\b\b\b\b\b\b\b\b\b\b\b\n",
            "Epoch 64/200\n",
            "2441/2441 [==============================] - 1s 262us/step - loss: 5.5013 - val_loss: 31.9770\b\b\b\b\b\b\b\b\b\b\b\b\b\b\b\b\b\b\b\b\b\b\b\b\b\b\b\b\b\b\b\b\b\b\b\b\b\b\b\b\b\n",
            "Epoch 65/200\n",
            "2441/2441 [==============================] - 1s 268us/step - loss: 5.6108 - val_loss: 31.4396\b\b\b\b\b\b\b\b\b\b\b\b\b\b\b\b\b\b\b\b\b\b\b\b\b\b\b\b\b\b\b\b\b\b\b\b\b\b\b\b\b\n",
            "Epoch 66/200\n",
            "2441/2441 [==============================] - 1s 255us/step - loss: 5.2435 - val_loss: 29.9007\b\b\b\b\b\b\b\b\b\b\b\b\b\b\b\b\b\b\b\b\b\b\b\b\b\b\b\b\b\b\b\b\b\b\b\b\b\b\b\b\b\n",
            "Epoch 67/200\n",
            "2441/2441 [==============================] - 1s 255us/step - loss: 5.5609 - val_loss: 30.1945\b\b\b\b\b\b\b\b\b\b\b\b\b\b\b\b\b\b\b\b\b\b\b\b\b\b\b\b\b\b\b\b\b\b\b\b\b\b\b\b\b\n",
            "Epoch 68/200\n",
            "2441/2441 [==============================] - 1s 256us/step - loss: 5.3628 - val_loss: 29.0256\b\b\b\b\b\b\b\b\b\b\b\b\b\b\b\b\b\b\b\b\b\b\b\b\b\b\b\b\b\b\b\b\b\b\b\b\b\b\b\b\b\n",
            "Epoch 69/200\n",
            "2441/2441 [==============================] - 1s 255us/step - loss: 5.0113 - val_loss: 28.1413\b\b\b\b\b\b\b\b\b\b\b\b\b\b\b\b\b\b\b\b\b\b\b\b\b\b\b\b\b\b\b\b\b\b\b\b\b\b\b\b\b\n",
            "Epoch 70/200\n",
            "2441/2441 [==============================] - 1s 254us/step - loss: 5.5003 - val_loss: 27.1457\b\b\b\b\b\b\b\b\b\b\b\b\b\b\b\b\b\b\b\b\b\b\b\b\b\b\b\b\b\b\b\b\b\b\b\b\b\b\b\b\b\n",
            "Epoch 71/200\n",
            "2441/2441 [==============================] - 1s 255us/step - loss: 4.8953 - val_loss: 26.3850\b\b\b\b\b\b\b\b\b\b\b\b\b\b\b\b\b\b\b\b\b\b\b\b\b\b\b\b\b\b\b\b\b\b\b\b\b\b\b\b\b\n",
            "Epoch 72/200\n",
            "2441/2441 [==============================] - 1s 255us/step - loss: 4.8589 - val_loss: 25.8468\b\b\b\b\b\b\b\b\b\b\b\b\b\b\b\b\b\b\b\b\b\b\b\b\b\b\b\b\b\b\b\b\b\b\b\b\b\b\b\b\b\n",
            "Epoch 73/200\n",
            "2441/2441 [==============================] - 1s 255us/step - loss: 4.9551 - val_loss: 24.5872\b\b\b\b\b\b\b\b\b\b\b\b\b\b\b\b\b\b\b\b\b\b\b\b\b\b\b\b\b\b\b\b\b\b\b\b\b\b\b\b\b\n",
            "Epoch 74/200\n",
            "2441/2441 [==============================] - 1s 255us/step - loss: 5.0972 - val_loss: 23.8941\b\b\b\b\b\b\b\b\b\b\b\b\b\b\b\b\b\b\b\b\b\b\b\b\b\b\b\b\b\b\b\b\b\b\b\b\b\b\b\b\b\n",
            "Epoch 75/200\n",
            "2441/2441 [==============================] - 1s 255us/step - loss: 5.0119 - val_loss: 23.9018\b\b\b\b\b\b\b\b\b\b\b\b\b\b\b\b\b\b\b\b\b\b\b\b\b\b\b\b\b\b\b\b\b\b\b\b\b\b\b\b\b\n",
            "Epoch 76/200\n",
            "2441/2441 [==============================] - 1s 262us/step - loss: 4.7705 - val_loss: 22.7696\b\b\b\b\b\b\b\b\b\b\b\b\b\b\b\b\b\b\b\b\b\b\b\b\b\b\b\b\b\b\b\b\b\b\b\b\b\b\b\b\b\n",
            "Epoch 77/200\n",
            "2441/2441 [==============================] - 1s 258us/step - loss: 4.6176 - val_loss: 23.6218\b\b\b\b\b\b\b\b\b\b\b\b\b\b\b\b\b\b\b\b\b\b\b\b\b\b\b\b\b\b\b\b\b\b\b\b\b\b\b\b\b\n",
            "Epoch 78/200\n",
            "2441/2441 [==============================] - 1s 259us/step - loss: 4.4533 - val_loss: 21.5609\b\b\b\b\b\b\b\b\b\b\b\b\b\b\b\b\b\b\b\b\b\b\b\b\b\b\b\b\b\b\b\b\b\b\b\b\b\b\b\b\b\n",
            "Epoch 79/200\n",
            "2441/2441 [==============================] - 1s 257us/step - loss: 4.8287 - val_loss: 21.5673\b\b\b\b\b\b\b\b\b\b\b\b\b\b\b\b\b\b\b\b\b\b\b\b\b\b\b\b\b\b\b\b\b\b\b\b\b\b\b\b\b\n",
            "Epoch 80/200\n",
            "2441/2441 [==============================] - 1s 256us/step - loss: 4.6362 - val_loss: 22.0891\b\b\b\b\b\b\b\b\b\b\b\b\b\b\b\b\b\b\b\b\b\b\b\b\b\b\b\b\b\b\b\b\b\b\b\b\b\b\b\b\b\n",
            "Epoch 81/200\n",
            "2441/2441 [==============================] - 1s 255us/step - loss: 4.5206 - val_loss: 20.5650\b\b\b\b\b\b\b\b\b\b\b\b\b\b\b\b\b\b\b\b\b\b\b\b\b\b\b\b\b\b\b\b\b\b\b\b\b\b\b\b\b\n",
            "Epoch 82/200\n",
            "2441/2441 [==============================] - 1s 260us/step - loss: 4.5952 - val_loss: 20.2846\b\b\b\b\b\b\b\b\b\b\b\b\b\b\b\b\b\b\b\b\b\b\b\b\b\b\b\b\b\b\b\b\b\b\b\b\b\b\b\b\b\n",
            "Epoch 83/200\n",
            "2441/2441 [==============================] - 1s 254us/step - loss: 4.4420 - val_loss: 19.6811\b\b\b\b\b\b\b\b\b\b\b\b\b\b\b\b\b\b\b\b\b\b\b\b\b\b\b\b\b\b\b\b\b\b\b\b\b\b\b\b\b\n",
            "Epoch 84/200\n",
            "2441/2441 [==============================] - 1s 255us/step - loss: 4.5587 - val_loss: 18.5235\b\b\b\b\b\b\b\b\b\b\b\b\b\b\b\b\b\b\b\b\b\b\b\b\b\b\b\b\b\b\b\b\b\b\b\b\b\b\b\b\b\n",
            "Epoch 85/200\n",
            "2441/2441 [==============================] - 1s 258us/step - loss: 4.4976 - val_loss: 17.2711\b\b\b\b\b\b\b\b\b\b\b\b\b\b\b\b\b\b\b\b\b\b\b\b\b\b\b\b\b\b\b\b\b\b\b\b\b\b\b\b\b\n",
            "Epoch 86/200\n",
            "2441/2441 [==============================] - 1s 254us/step - loss: 4.0946 - val_loss: 16.9629\b\b\b\b\b\b\b\b\b\b\b\b\b\b\b\b\b\b\b\b\b\b\b\b\b\b\b\b\b\b\b\b\b\b\b\b\b\b\b\b\b\n",
            "Epoch 87/200\n",
            "2441/2441 [==============================] - 1s 260us/step - loss: 4.2265 - val_loss: 16.6227\b\b\b\b\b\b\b\b\b\b\b\b\b\b\b\b\b\b\b\b\b\b\b\b\b\b\b\b\b\b\b\b\b\b\b\b\b\b\b\b\b\n",
            "Epoch 88/200\n",
            "2441/2441 [==============================] - 1s 261us/step - loss: 4.2214 - val_loss: 16.4372\b\b\b\b\b\b\b\b\b\b\b\b\b\b\b\b\b\b\b\b\b\b\b\b\b\b\b\b\b\b\b\b\b\b\b\b\b\b\b\b\b\n",
            "Epoch 89/200\n",
            "2441/2441 [==============================] - 1s 256us/step - loss: 4.3807 - val_loss: 15.2030\b\b\b\b\b\b\b\b\b\b\b\b\b\b\b\b\b\b\b\b\b\b\b\b\b\b\b\b\b\b\b\b\b\b\b\b\b\b\b\b\b\n",
            "Epoch 90/200\n",
            "2441/2441 [==============================] - 1s 259us/step - loss: 4.3583 - val_loss: 14.6912\b\b\b\b\b\b\b\b\b\b\b\b\b\b\b\b\b\b\b\b\b\b\b\b\b\b\b\b\b\b\b\b\b\b\b\b\b\b\b\b\b\n",
            "Epoch 91/200\n",
            "2441/2441 [==============================] - 1s 255us/step - loss: 4.1813 - val_loss: 14.4188\b\b\b\b\b\b\b\b\b\b\b\b\b\b\b\b\b\b\b\b\b\b\b\b\b\b\b\b\b\b\b\b\b\b\b\b\b\b\b\b\b\n",
            "Epoch 92/200\n",
            "2441/2441 [==============================] - 1s 258us/step - loss: 4.4941 - val_loss: 13.6373\b\b\b\b\b\b\b\b\b\b\b\b\b\b\b\b\b\b\b\b\b\b\b\b\b\b\b\b\b\b\b\b\b\b\b\b\b\b\b\b\b\n",
            "Epoch 93/200\n",
            "2441/2441 [==============================] - 1s 256us/step - loss: 4.3005 - val_loss: 14.7380\b\b\b\b\b\b\b\b\b\b\b\b\b\b\b\b\b\b\b\b\b\b\b\b\b\b\b\b\b\b\b\b\b\b\b\b\b\b\b\b\b\n",
            "Epoch 94/200\n",
            "2441/2441 [==============================] - 1s 257us/step - loss: 4.3380 - val_loss: 14.7985\b\b\b\b\b\b\b\b\b\b\b\b\b\b\b\b\b\b\b\b\b\b\b\b\b\b\b\b\b\b\b\b\b\b\b\b\b\b\b\b\b\n",
            "Epoch 95/200\n",
            "2441/2441 [==============================] - 1s 259us/step - loss: 3.6452 - val_loss: 13.5809\b\b\b\b\b\b\b\b\b\b\b\b\b\b\b\b\b\b\b\b\b\b\b\b\b\b\b\b\b\b\b\b\b\b\b\b\b\b\b\b\b\n",
            "Epoch 96/200\n",
            "2441/2441 [==============================] - 1s 258us/step - loss: 4.1415 - val_loss: 13.3654\b\b\b\b\b\b\b\b\b\b\b\b\b\b\b\b\b\b\b\b\b\b\b\b\b\b\b\b\b\b\b\b\b\b\b\b\b\b\b\b\b\n",
            "Epoch 97/200\n",
            "2441/2441 [==============================] - 1s 258us/step - loss: 4.2611 - val_loss: 12.9091\b\b\b\b\b\b\b\b\b\b\b\b\b\b\b\b\b\b\b\b\b\b\b\b\b\b\b\b\b\b\b\b\b\b\b\b\b\b\b\b\b\n",
            "Epoch 98/200\n",
            "2441/2441 [==============================] - 1s 256us/step - loss: 4.1006 - val_loss: 12.5100\b\b\b\b\b\b\b\b\b\b\b\b\b\b\b\b\b\b\b\b\b\b\b\b\b\b\b\b\b\b\b\b\b\b\b\b\b\b\b\b\b\n",
            "Epoch 99/200\n",
            "2441/2441 [==============================] - 1s 258us/step - loss: 4.0894 - val_loss: 12.6608\b\b\b\b\b\b\b\b\b\b\b\b\b\b\b\b\b\b\b\b\b\b\b\b\b\b\b\b\b\b\b\b\b\b\b\b\b\b\b\b\b\n",
            "Epoch 100/200\n",
            "2441/2441 [==============================] - 1s 257us/step - loss: 4.3139 - val_loss: 12.5912\b\b\b\b\b\b\b\b\b\b\b\b\b\b\b\b\b\b\b\b\b\b\b\b\b\b\b\b\b\b\b\b\b\b\b\b\b\b\b\b\b\n",
            "Epoch 101/200\n",
            "2441/2441 [==============================] - 1s 255us/step - loss: 4.2049 - val_loss: 12.1499\b\b\b\b\b\b\b\b\b\b\b\b\b\b\b\b\b\b\b\b\b\b\b\b\b\b\b\b\b\b\b\b\b\b\b\b\b\b\b\b\b\n",
            "Epoch 102/200\n",
            "2441/2441 [==============================] - 1s 257us/step - loss: 3.7718 - val_loss: 11.4707\b\b\b\b\b\b\b\b\b\b\b\b\b\b\b\b\b\b\b\b\b\b\b\b\b\b\b\b\b\b\b\b\b\b\b\b\b\b\b\b\b\n",
            "Epoch 103/200\n",
            "2441/2441 [==============================] - 1s 257us/step - loss: 4.0525 - val_loss: 12.5627\b\b\b\b\b\b\b\b\b\b\b\b\b\b\b\b\b\b\b\b\b\b\b\b\b\b\b\b\b\b\b\b\b\b\b\b\b\b\b\b\b\n",
            "Epoch 104/200\n",
            "2441/2441 [==============================] - 1s 262us/step - loss: 4.1085 - val_loss: 12.0262\b\b\b\b\b\b\b\b\b\b\b\b\b\b\b\b\b\b\b\b\b\b\b\b\b\b\b\b\b\b\b\b\b\b\b\b\b\b\b\b\b\n",
            "Epoch 105/200\n",
            "2441/2441 [==============================] - 1s 258us/step - loss: 3.6963 - val_loss: 12.6478\b\b\b\b\b\b\b\b\b\b\b\b\b\b\b\b\b\b\b\b\b\b\b\b\b\b\b\b\b\b\b\b\b\b\b\b\b\b\b\b\b\n",
            "Epoch 106/200\n",
            "2441/2441 [==============================] - 1s 255us/step - loss: 4.0447 - val_loss: 11.1943\b\b\b\b\b\b\b\b\b\b\b\b\b\b\b\b\b\b\b\b\b\b\b\b\b\b\b\b\b\b\b\b\b\b\b\b\b\b\b\b\b\n",
            "Epoch 107/200\n",
            "2441/2441 [==============================] - 1s 258us/step - loss: 3.8138 - val_loss: 12.2713\b\b\b\b\b\b\b\b\b\b\b\b\b\b\b\b\b\b\b\b\b\b\b\b\b\b\b\b\b\b\b\b\b\b\b\b\b\b\b\b\b\n",
            "Epoch 108/200\n",
            "2441/2441 [==============================] - 1s 256us/step - loss: 3.9471 - val_loss: 11.0290\b\b\b\b\b\b\b\b\b\b\b\b\b\b\b\b\b\b\b\b\b\b\b\b\b\b\b\b\b\b\b\b\b\b\b\b\b\b\b\b\b\n",
            "Epoch 109/200\n",
            "2441/2441 [==============================] - 1s 259us/step - loss: 4.2294 - val_loss: 9.8146\b\b\b\b\b\b\b\b\b\b\b\b\b\b\b\b\b\b\b\b\b\b\b\b\b\b\b\b\b\b\b\b\b\b\b\b\b\b\b\b\b\b\n",
            "Epoch 110/200\n",
            "2441/2441 [==============================] - 1s 263us/step - loss: 3.5615 - val_loss: 10.0290\b\b\b\b\b\b\b\b\b\b\b\b\b\b\b\b\b\b\b\b\b\b\b\b\b\b\b\b\b\b\b\b\b\b\b\b\b\b\b\b\b\n",
            "Epoch 111/200\n",
            "2441/2441 [==============================] - 1s 269us/step - loss: 4.1460 - val_loss: 10.9653\b\b\b\b\b\b\b\b\b\b\b\b\b\b\b\b\b\b\b\b\b\b\b\b\b\b\b\b\b\b\b\b\b\b\b\b\b\b\b\b\b\n",
            "Epoch 112/200\n",
            "2441/2441 [==============================] - 1s 265us/step - loss: 4.0671 - val_loss: 11.8755\b\b\b\b\b\b\b\b\b\b\b\b\b\b\b\b\b\b\b\b\b\b\b\b\b\b\b\b\b\b\b\b\b\b\b\b\b\b\b\b\b\n",
            "Epoch 113/200\n",
            "2441/2441 [==============================] - 1s 267us/step - loss: 4.1587 - val_loss: 11.2385\b\b\b\b\b\b\b\b\b\b\b\b\b\b\b\b\b\b\b\b\b\b\b\b\b\b\b\b\b\b\b\b\b\b\b\b\b\b\b\b\b\n",
            "Epoch 114/200\n",
            "2441/2441 [==============================] - 1s 266us/step - loss: 4.0701 - val_loss: 11.4597\b\b\b\b\b\b\b\b\b\b\b\b\b\b\b\b\b\b\b\b\b\b\b\b\b\b\b\b\b\b\b\b\b\b\b\b\b\b\b\b\b\n",
            "Epoch 115/200\n",
            "2441/2441 [==============================] - 1s 260us/step - loss: 4.3170 - val_loss: 11.4002\b\b\b\b\b\b\b\b\b\b\b\b\b\b\b\b\b\b\b\b\b\b\b\b\b\b\b\b\b\b\b\b\b\b\b\b\b\b\b\b\b\n",
            "Epoch 116/200\n",
            "2441/2441 [==============================] - 1s 269us/step - loss: 4.3194 - val_loss: 11.9227\b\b\b\b\b\b\b\b\b\b\b\b\b\b\b\b\b\b\b\b\b\b\b\b\b\b\b\b\b\b\b\b\b\b\b\b\b\b\b\b\b\n",
            "Epoch 117/200\n",
            "2441/2441 [==============================] - 1s 274us/step - loss: 3.8933 - val_loss: 10.0892\b\b\b\b\b\b\b\b\b\b\b\b\b\b\b\b\b\b\b\b\b\b\b\b\b\b\b\b\b\b\b\b\b\b\b\b\b\b\b\b\b\n",
            "Epoch 118/200\n",
            "2441/2441 [==============================] - 1s 264us/step - loss: 3.9243 - val_loss: 11.3262\b\b\b\b\b\b\b\b\b\b\b\b\b\b\b\b\b\b\b\b\b\b\b\b\b\b\b\b\b\b\b\b\b\b\b\b\b\b\b\b\b\n",
            "Epoch 119/200\n",
            "2441/2441 [==============================] - 1s 269us/step - loss: 4.3077 - val_loss: 9.5204\b\b\b\b\b\b\b\b\b\b\b\b\b\b\b\b\b\b\b\b\b\b\b\b\b\b\b\b\b\b\b\b\b\b\b\b\b\b\b\b\b\b\n",
            "Epoch 120/200\n",
            "2441/2441 [==============================] - 1s 272us/step - loss: 3.8107 - val_loss: 9.9221\b\b\b\b\b\b\b\b\b\b\b\b\b\b\b\b\b\b\b\b\b\b\b\b\b\b\b\b\b\b\b\b\b\b\b\b\b\b\b\b\b\b\n",
            "Epoch 121/200\n",
            "2441/2441 [==============================] - 1s 265us/step - loss: 3.4932 - val_loss: 10.7698\b\b\b\b\b\b\b\b\b\b\b\b\b\b\b\b\b\b\b\b\b\b\b\b\b\b\b\b\b\b\b\b\b\b\b\b\b\b\b\b\b\n",
            "Epoch 122/200\n",
            "2441/2441 [==============================] - 1s 269us/step - loss: 3.4562 - val_loss: 9.8626\b\b\b\b\b\b\b\b\b\b\b\b\b\b\b\b\b\b\b\b\b\b\b\b\b\b\b\b\b\b\b\b\b\b\b\b\b\b\b\b\b\b\n",
            "Epoch 123/200\n",
            "2441/2441 [==============================] - 1s 267us/step - loss: 3.9421 - val_loss: 10.2873\b\b\b\b\b\b\b\b\b\b\b\b\b\b\b\b\b\b\b\b\b\b\b\b\b\b\b\b\b\b\b\b\b\b\b\b\b\b\b\b\b\n",
            "Epoch 124/200\n",
            "2441/2441 [==============================] - 1s 270us/step - loss: 3.5386 - val_loss: 9.8259\b\b\b\b\b\b\b\b\b\b\b\b\b\b\b\b\b\b\b\b\b\b\b\b\b\b\b\b\b\b\b\b\b\b\b\b\b\b\b\b\b\b\n",
            "Epoch 125/200\n",
            "2441/2441 [==============================] - 1s 268us/step - loss: 3.5692 - val_loss: 10.9349\b\b\b\b\b\b\b\b\b\b\b\b\b\b\b\b\b\b\b\b\b\b\b\b\b\b\b\b\b\b\b\b\b\b\b\b\b\b\b\b\b\n",
            "Epoch 126/200\n",
            "2441/2441 [==============================] - 1s 263us/step - loss: 3.6523 - val_loss: 9.5294\b\b\b\b\b\b\b\b\b\b\b\b\b\b\b\b\b\b\b\b\b\b\b\b\b\b\b\b\b\b\b\b\b\b\b\b\b\b\b\b\b\b\n",
            "Epoch 127/200\n",
            "2441/2441 [==============================] - 1s 267us/step - loss: 4.0492 - val_loss: 10.1644\b\b\b\b\b\b\b\b\b\b\b\b\b\b\b\b\b\b\b\b\b\b\b\b\b\b\b\b\b\b\b\b\b\b\b\b\b\b\b\b\b\n",
            "Epoch 128/200\n",
            "2441/2441 [==============================] - 1s 266us/step - loss: 3.5749 - val_loss: 8.9607\b\b\b\b\b\b\b\b\b\b\b\b\b\b\b\b\b\b\b\b\b\b\b\b\b\b\b\b\b\b\b\b\b\b\b\b\b\b\b\b\b\b\n",
            "Epoch 129/200\n",
            "2441/2441 [==============================] - 1s 268us/step - loss: 3.8040 - val_loss: 9.7523\b\b\b\b\b\b\b\b\b\b\b\b\b\b\b\b\b\b\b\b\b\b\b\b\b\b\b\b\b\b\b\b\b\b\b\b\b\b\b\b\b\b\n",
            "Epoch 130/200\n",
            "2441/2441 [==============================] - 1s 283us/step - loss: 3.6876 - val_loss: 11.0521\b\b\b\b\b\b\b\b\b\b\b\b\b\b\b\b\b\b\b\b\b\b\b\b\b\b\b\b\b\b\b\b\b\b\b\b\b\b\b\b\b\n",
            "Epoch 131/200\n",
            "2441/2441 [==============================] - 1s 284us/step - loss: 4.0877 - val_loss: 10.8947\b\b\b\b\b\b\b\b\b\b\b\b\b\b\b\b\b\b\b\b\b\b\b\b\b\b\b\b\b\b\b\b\b\b\b\b\b\b\b\b\b\n",
            "Epoch 132/200\n",
            "2441/2441 [==============================] - 1s 267us/step - loss: 3.3940 - val_loss: 11.0886\b\b\b\b\b\b\b\b\b\b\b\b\b\b\b\b\b\b\b\b\b\b\b\b\b\b\b\b\b\b\b\b\b\b\b\b\b\b\b\b\b\n",
            "Epoch 133/200\n",
            "2441/2441 [==============================] - 1s 267us/step - loss: 3.9009 - val_loss: 9.2436\b\b\b\b\b\b\b\b\b\b\b\b\b\b\b\b\b\b\b\b\b\b\b\b\b\b\b\b\b\b\b\b\b\b\b\b\b\b\b\b\b\b\n",
            "Epoch 134/200\n",
            "2441/2441 [==============================] - 1s 262us/step - loss: 3.9208 - val_loss: 10.4309\b\b\b\b\b\b\b\b\b\b\b\b\b\b\b\b\b\b\b\b\b\b\b\b\b\b\b\b\b\b\b\b\b\b\b\b\b\b\b\b\b\n",
            "Epoch 135/200\n",
            "2441/2441 [==============================] - 1s 266us/step - loss: 3.6092 - val_loss: 9.4260\b\b\b\b\b\b\b\b\b\b\b\b\b\b\b\b\b\b\b\b\b\b\b\b\b\b\b\b\b\b\b\b\b\b\b\b\b\b\b\b\b\b\n",
            "Epoch 136/200\n",
            "2441/2441 [==============================] - 1s 270us/step - loss: 3.7614 - val_loss: 8.8583\b\b\b\b\b\b\b\b\b\b\b\b\b\b\b\b\b\b\b\b\b\b\b\b\b\b\b\b\b\b\b\b\b\b\b\b\b\b\b\b\b\b\n",
            "Epoch 137/200\n",
            "2441/2441 [==============================] - 1s 268us/step - loss: 3.7767 - val_loss: 9.7470\b\b\b\b\b\b\b\b\b\b\b\b\b\b\b\b\b\b\b\b\b\b\b\b\b\b\b\b\b\b\b\b\b\b\b\b\b\b\b\b\b\b\n",
            "Epoch 138/200\n",
            "2441/2441 [==============================] - 1s 264us/step - loss: 3.7527 - val_loss: 10.1699\b\b\b\b\b\b\b\b\b\b\b\b\b\b\b\b\b\b\b\b\b\b\b\b\b\b\b\b\b\b\b\b\b\b\b\b\b\b\b\b\b\n",
            "Epoch 139/200\n",
            "2441/2441 [==============================] - 1s 266us/step - loss: 3.4190 - val_loss: 9.8807\b\b\b\b\b\b\b\b\b\b\b\b\b\b\b\b\b\b\b\b\b\b\b\b\b\b\b\b\b\b\b\b\b\b\b\b\b\b\b\b\b\b\n",
            "Epoch 140/200\n",
            "2441/2441 [==============================] - 1s 263us/step - loss: 3.6042 - val_loss: 8.8522\b\b\b\b\b\b\b\b\b\b\b\b\b\b\b\b\b\b\b\b\b\b\b\b\b\b\b\b\b\b\b\b\b\b\b\b\b\b\b\b\b\b\n",
            "Epoch 141/200\n",
            "2441/2441 [==============================] - 1s 275us/step - loss: 3.5791 - val_loss: 9.8946\b\b\b\b\b\b\b\b\b\b\b\b\b\b\b\b\b\b\b\b\b\b\b\b\b\b\b\b\b\b\b\b\b\b\b\b\b\b\b\b\b\b\n",
            "Epoch 142/200\n",
            "2441/2441 [==============================] - 1s 269us/step - loss: 3.9927 - val_loss: 8.7618\b\b\b\b\b\b\b\b\b\b\b\b\b\b\b\b\b\b\b\b\b\b\b\b\b\b\b\b\b\b\b\b\b\b\b\b\b\b\b\b\b\b\n",
            "Epoch 143/200\n",
            "2441/2441 [==============================] - 1s 262us/step - loss: 3.6568 - val_loss: 9.8251\b\b\b\b\b\b\b\b\b\b\b\b\b\b\b\b\b\b\b\b\b\b\b\b\b\b\b\b\b\b\b\b\b\b\b\b\b\b\b\b\b\b\n",
            "Epoch 144/200\n",
            "2441/2441 [==============================] - 1s 272us/step - loss: 3.6204 - val_loss: 8.8616\b\b\b\b\b\b\b\b\b\b\b\b\b\b\b\b\b\b\b\b\b\b\b\b\b\b\b\b\b\b\b\b\b\b\b\b\b\b\b\b\b\b\n",
            "Epoch 145/200\n",
            "2441/2441 [==============================] - 1s 263us/step - loss: 3.5246 - val_loss: 9.6792\b\b\b\b\b\b\b\b\b\b\b\b\b\b\b\b\b\b\b\b\b\b\b\b\b\b\b\b\b\b\b\b\b\b\b\b\b\b\b\b\b\b\n",
            "Epoch 146/200\n",
            "2441/2441 [==============================] - 1s 271us/step - loss: 3.5418 - val_loss: 8.7935\b\b\b\b\b\b\b\b\b\b\b\b\b\b\b\b\b\b\b\b\b\b\b\b\b\b\b\b\b\b\b\b\b\b\b\b\b\b\b\b\b\b\n",
            "Epoch 147/200\n",
            "2441/2441 [==============================] - 1s 256us/step - loss: 3.5580 - val_loss: 9.4374\b\b\b\b\b\b\b\b\b\b\b\b\b\b\b\b\b\b\b\b\b\b\b\b\b\b\b\b\b\b\b\b\b\b\b\b\b\b\b\b\b\b\n",
            "Epoch 148/200\n",
            "2441/2441 [==============================] - 1s 255us/step - loss: 3.8473 - val_loss: 9.8976\b\b\b\b\b\b\b\b\b\b\b\b\b\b\b\b\b\b\b\b\b\b\b\b\b\b\b\b\b\b\b\b\b\b\b\b\b\b\b\b\b\b\n",
            "Epoch 149/200\n",
            "2441/2441 [==============================] - 1s 258us/step - loss: 3.5422 - val_loss: 10.6620\b\b\b\b\b\b\b\b\b\b\b\b\b\b\b\b\b\b\b\b\b\b\b\b\b\b\b\b\b\b\b\b\b\b\b\b\b\b\b\b\b\n",
            "Epoch 150/200\n",
            "2441/2441 [==============================] - 1s 258us/step - loss: 3.5593 - val_loss: 9.8597\b\b\b\b\b\b\b\b\b\b\b\b\b\b\b\b\b\b\b\b\b\b\b\b\b\b\b\b\b\b\b\b\b\b\b\b\b\b\b\b\b\b\n",
            "Epoch 151/200\n",
            "2441/2441 [==============================] - 1s 256us/step - loss: 3.9222 - val_loss: 12.0090\b\b\b\b\b\b\b\b\b\b\b\b\b\b\b\b\b\b\b\b\b\b\b\b\b\b\b\b\b\b\b\b\b\b\b\b\b\b\b\b\b\n",
            "Epoch 152/200\n",
            "2441/2441 [==============================] - 1s 267us/step - loss: 3.7105 - val_loss: 8.6419\b\b\b\b\b\b\b\b\b\b\b\b\b\b\b\b\b\b\b\b\b\b\b\b\b\b\b\b\b\b\b\b\b\b\b\b\b\b\b\b\b\b\n",
            "Epoch 153/200\n",
            "2441/2441 [==============================] - 1s 260us/step - loss: 3.9726 - val_loss: 9.5681\b\b\b\b\b\b\b\b\b\b\b\b\b\b\b\b\b\b\b\b\b\b\b\b\b\b\b\b\b\b\b\b\b\b\b\b\b\b\b\b\b\b\n",
            "Epoch 154/200\n",
            "2441/2441 [==============================] - 1s 260us/step - loss: 3.9111 - val_loss: 9.0721\b\b\b\b\b\b\b\b\b\b\b\b\b\b\b\b\b\b\b\b\b\b\b\b\b\b\b\b\b\b\b\b\b\b\b\b\b\b\b\b\b\b\n",
            "Epoch 155/200\n",
            "2441/2441 [==============================] - 1s 258us/step - loss: 3.6742 - val_loss: 9.7025\b\b\b\b\b\b\b\b\b\b\b\b\b\b\b\b\b\b\b\b\b\b\b\b\b\b\b\b\b\b\b\b\b\b\b\b\b\b\b\b\b\b\n",
            "Epoch 156/200\n",
            "2441/2441 [==============================] - 1s 256us/step - loss: 3.7797 - val_loss: 8.0613\b\b\b\b\b\b\b\b\b\b\b\b\b\b\b\b\b\b\b\b\b\b\b\b\b\b\b\b\b\b\b\b\b\b\b\b\b\b\b\b\b\b\n",
            "Epoch 157/200\n",
            "2441/2441 [==============================] - 1s 266us/step - loss: 3.2493 - val_loss: 9.4323\b\b\b\b\b\b\b\b\b\b\b\b\b\b\b\b\b\b\b\b\b\b\b\b\b\b\b\b\b\b\b\b\b\b\b\b\b\b\b\b\b\b\n",
            "Epoch 158/200\n",
            "2441/2441 [==============================] - 1s 255us/step - loss: 3.3218 - val_loss: 7.5845\b\b\b\b\b\b\b\b\b\b\b\b\b\b\b\b\b\b\b\b\b\b\b\b\b\b\b\b\b\b\b\b\b\b\b\b\b\b\b\b\b\b\n",
            "Epoch 159/200\n",
            "2441/2441 [==============================] - 1s 255us/step - loss: 3.5640 - val_loss: 8.2478\b\b\b\b\b\b\b\b\b\b\b\b\b\b\b\b\b\b\b\b\b\b\b\b\b\b\b\b\b\b\b\b\b\b\b\b\b\b\b\b\b\b\n",
            "Epoch 160/200\n",
            "2441/2441 [==============================] - 1s 253us/step - loss: 3.7803 - val_loss: 10.3300\b\b\b\b\b\b\b\b\b\b\b\b\b\b\b\b\b\b\b\b\b\b\b\b\b\b\b\b\b\b\b\b\b\b\b\b\b\b\b\b\b\n",
            "Epoch 161/200\n",
            "2441/2441 [==============================] - 1s 256us/step - loss: 3.4510 - val_loss: 8.9821\b\b\b\b\b\b\b\b\b\b\b\b\b\b\b\b\b\b\b\b\b\b\b\b\b\b\b\b\b\b\b\b\b\b\b\b\b\b\b\b\b\b\n",
            "Epoch 162/200\n",
            "2441/2441 [==============================] - 1s 254us/step - loss: 3.9220 - val_loss: 9.9678\b\b\b\b\b\b\b\b\b\b\b\b\b\b\b\b\b\b\b\b\b\b\b\b\b\b\b\b\b\b\b\b\b\b\b\b\b\b\b\b\b\b\n",
            "Epoch 163/200\n",
            "2441/2441 [==============================] - 1s 255us/step - loss: 3.3116 - val_loss: 8.0045\b\b\b\b\b\b\b\b\b\b\b\b\b\b\b\b\b\b\b\b\b\b\b\b\b\b\b\b\b\b\b\b\b\b\b\b\b\b\b\b\b\b\n",
            "Epoch 164/200\n",
            "2441/2441 [==============================] - 1s 261us/step - loss: 3.5009 - val_loss: 9.2145\b\b\b\b\b\b\b\b\b\b\b\b\b\b\b\b\b\b\b\b\b\b\b\b\b\b\b\b\b\b\b\b\b\b\b\b\b\b\b\b\b\b\n",
            "Epoch 165/200\n",
            "2441/2441 [==============================] - 1s 256us/step - loss: 3.9596 - val_loss: 10.2141\b\b\b\b\b\b\b\b\b\b\b\b\b\b\b\b\b\b\b\b\b\b\b\b\b\b\b\b\b\b\b\b\b\b\b\b\b\b\b\b\b\n",
            "Epoch 166/200\n",
            "2441/2441 [==============================] - 1s 255us/step - loss: 3.5083 - val_loss: 9.0345\b\b\b\b\b\b\b\b\b\b\b\b\b\b\b\b\b\b\b\b\b\b\b\b\b\b\b\b\b\b\b\b\b\b\b\b\b\b\b\b\b\b\n",
            "Epoch 167/200\n",
            "2441/2441 [==============================] - 1s 253us/step - loss: 3.5434 - val_loss: 7.3421\b\b\b\b\b\b\b\b\b\b\b\b\b\b\b\b\b\b\b\b\b\b\b\b\b\b\b\b\b\b\b\b\b\b\b\b\b\b\b\b\b\b\n",
            "Epoch 168/200\n",
            "2441/2441 [==============================] - 1s 266us/step - loss: 3.5696 - val_loss: 8.5152\b\b\b\b\b\b\b\b\b\b\b\b\b\b\b\b\b\b\b\b\b\b\b\b\b\b\b\b\b\b\b\b\b\b\b\b\b\b\b\b\b\b\n",
            "Epoch 169/200\n",
            "2441/2441 [==============================] - 1s 258us/step - loss: 3.4256 - val_loss: 9.6523\b\b\b\b\b\b\b\b\b\b\b\b\b\b\b\b\b\b\b\b\b\b\b\b\b\b\b\b\b\b\b\b\b\b\b\b\b\b\b\b\b\b\n",
            "Epoch 170/200\n",
            "2441/2441 [==============================] - 1s 255us/step - loss: 3.2735 - val_loss: 8.0694\b\b\b\b\b\b\b\b\b\b\b\b\b\b\b\b\b\b\b\b\b\b\b\b\b\b\b\b\b\b\b\b\b\b\b\b\b\b\b\b\b\b\n",
            "Epoch 171/200\n",
            "2441/2441 [==============================] - 1s 263us/step - loss: 3.5388 - val_loss: 8.3474\b\b\b\b\b\b\b\b\b\b\b\b\b\b\b\b\b\b\b\b\b\b\b\b\b\b\b\b\b\b\b\b\b\b\b\b\b\b\b\b\b\b\n",
            "Epoch 172/200\n",
            "2441/2441 [==============================] - 1s 271us/step - loss: 3.5537 - val_loss: 8.6462\b\b\b\b\b\b\b\b\b\b\b\b\b\b\b\b\b\b\b\b\b\b\b\b\b\b\b\b\b\b\b\b\b\b\b\b\b\b\b\b\b\b\n",
            "Epoch 173/200\n",
            "2441/2441 [==============================] - 1s 255us/step - loss: 3.4404 - val_loss: 8.9871\b\b\b\b\b\b\b\b\b\b\b\b\b\b\b\b\b\b\b\b\b\b\b\b\b\b\b\b\b\b\b\b\b\b\b\b\b\b\b\b\b\b\n",
            "Epoch 174/200\n",
            "2441/2441 [==============================] - 1s 254us/step - loss: 3.6136 - val_loss: 8.5287\b\b\b\b\b\b\b\b\b\b\b\b\b\b\b\b\b\b\b\b\b\b\b\b\b\b\b\b\b\b\b\b\b\b\b\b\b\b\b\b\b\b\n",
            "Epoch 175/200\n",
            "2441/2441 [==============================] - 1s 257us/step - loss: 3.7199 - val_loss: 7.4902\b\b\b\b\b\b\b\b\b\b\b\b\b\b\b\b\b\b\b\b\b\b\b\b\b\b\b\b\b\b\b\b\b\b\b\b\b\b\b\b\b\b\n",
            "Epoch 176/200\n",
            "2441/2441 [==============================] - 1s 261us/step - loss: 3.6711 - val_loss: 9.3536\b\b\b\b\b\b\b\b\b\b\b\b\b\b\b\b\b\b\b\b\b\b\b\b\b\b\b\b\b\b\b\b\b\b\b\b\b\b\b\b\b\b\n",
            "Epoch 177/200\n",
            "2441/2441 [==============================] - 1s 255us/step - loss: 3.7312 - val_loss: 6.7261\b\b\b\b\b\b\b\b\b\b\b\b\b\b\b\b\b\b\b\b\b\b\b\b\b\b\b\b\b\b\b\b\b\b\b\b\b\b\b\b\b\b\n",
            "Epoch 178/200\n",
            "2441/2441 [==============================] - 1s 254us/step - loss: 3.3933 - val_loss: 7.9989\b\b\b\b\b\b\b\b\b\b\b\b\b\b\b\b\b\b\b\b\b\b\b\b\b\b\b\b\b\b\b\b\b\b\b\b\b\b\b\b\b\b\n",
            "Epoch 179/200\n",
            "2441/2441 [==============================] - 1s 254us/step - loss: 3.7346 - val_loss: 9.8747\b\b\b\b\b\b\b\b\b\b\b\b\b\b\b\b\b\b\b\b\b\b\b\b\b\b\b\b\b\b\b\b\b\b\b\b\b\b\b\b\b\b\n",
            "Epoch 180/200\n",
            "2441/2441 [==============================] - 1s 256us/step - loss: 3.4017 - val_loss: 8.6689\b\b\b\b\b\b\b\b\b\b\b\b\b\b\b\b\b\b\b\b\b\b\b\b\b\b\b\b\b\b\b\b\b\b\b\b\b\b\b\b\b\b\n",
            "Epoch 181/200\n",
            "2441/2441 [==============================] - 1s 266us/step - loss: 3.4186 - val_loss: 10.9599\b\b\b\b\b\b\b\b\b\b\b\b\b\b\b\b\b\b\b\b\b\b\b\b\b\b\b\b\b\b\b\b\b\b\b\b\b\b\b\b\b\n",
            "Epoch 182/200\n",
            "2441/2441 [==============================] - 1s 257us/step - loss: 3.4533 - val_loss: 11.1566\b\b\b\b\b\b\b\b\b\b\b\b\b\b\b\b\b\b\b\b\b\b\b\b\b\b\b\b\b\b\b\b\b\b\b\b\b\b\b\b\b\n",
            "Epoch 183/200\n",
            "2441/2441 [==============================] - 1s 255us/step - loss: 3.6793 - val_loss: 7.9908\b\b\b\b\b\b\b\b\b\b\b\b\b\b\b\b\b\b\b\b\b\b\b\b\b\b\b\b\b\b\b\b\b\b\b\b\b\b\b\b\b\b\n",
            "Epoch 184/200\n",
            "2441/2441 [==============================] - 1s 259us/step - loss: 3.6601 - val_loss: 9.3930\b\b\b\b\b\b\b\b\b\b\b\b\b\b\b\b\b\b\b\b\b\b\b\b\b\b\b\b\b\b\b\b\b\b\b\b\b\b\b\b\b\b\n",
            "Epoch 185/200\n",
            "2441/2441 [==============================] - 1s 255us/step - loss: 3.7445 - val_loss: 9.6537\b\b\b\b\b\b\b\b\b\b\b\b\b\b\b\b\b\b\b\b\b\b\b\b\b\b\b\b\b\b\b\b\b\b\b\b\b\b\b\b\b\b\n",
            "Epoch 186/200\n",
            "2441/2441 [==============================] - 1s 257us/step - loss: 3.5769 - val_loss: 10.7359\b\b\b\b\b\b\b\b\b\b\b\b\b\b\b\b\b\b\b\b\b\b\b\b\b\b\b\b\b\b\b\b\b\b\b\b\b\b\b\b\b\n",
            "Epoch 187/200\n",
            "2441/2441 [==============================] - 1s 258us/step - loss: 4.0804 - val_loss: 7.8793\b\b\b\b\b\b\b\b\b\b\b\b\b\b\b\b\b\b\b\b\b\b\b\b\b\b\b\b\b\b\b\b\b\b\b\b\b\b\b\b\b\b\n",
            "Epoch 188/200\n",
            "2441/2441 [==============================] - 1s 255us/step - loss: 3.5055 - val_loss: 8.3447\b\b\b\b\b\b\b\b\b\b\b\b\b\b\b\b\b\b\b\b\b\b\b\b\b\b\b\b\b\b\b\b\b\b\b\b\b\b\b\b\b\b\n",
            "Epoch 189/200\n",
            "2441/2441 [==============================] - 1s 255us/step - loss: 3.5540 - val_loss: 10.2920\b\b\b\b\b\b\b\b\b\b\b\b\b\b\b\b\b\b\b\b\b\b\b\b\b\b\b\b\b\b\b\b\b\b\b\b\b\b\b\b\b\n",
            "Epoch 190/200\n",
            "2441/2441 [==============================] - 1s 255us/step - loss: 3.8978 - val_loss: 9.3176\b\b\b\b\b\b\b\b\b\b\b\b\b\b\b\b\b\b\b\b\b\b\b\b\b\b\b\b\b\b\b\b\b\b\b\b\b\b\b\b\b\b\n",
            "Epoch 191/200\n",
            "2441/2441 [==============================] - 1s 258us/step - loss: 3.7609 - val_loss: 8.8109\b\b\b\b\b\b\b\b\b\b\b\b\b\b\b\b\b\b\b\b\b\b\b\b\b\b\b\b\b\b\b\b\b\b\b\b\b\b\b\b\b\b\n",
            "Epoch 192/200\n",
            "2441/2441 [==============================] - 1s 267us/step - loss: 3.9392 - val_loss: 9.0339\b\b\b\b\b\b\b\b\b\b\b\b\b\b\b\b\b\b\b\b\b\b\b\b\b\b\b\b\b\b\b\b\b\b\b\b\b\b\b\b\b\b\n",
            "Epoch 193/200\n",
            "2441/2441 [==============================] - 1s 257us/step - loss: 4.0190 - val_loss: 10.5453\b\b\b\b\b\b\b\b\b\b\b\b\b\b\b\b\b\b\b\b\b\b\b\b\b\b\b\b\b\b\b\b\b\b\b\b\b\b\b\b\b\n",
            "Epoch 194/200\n",
            "2441/2441 [==============================] - 1s 260us/step - loss: 3.5975 - val_loss: 7.7687\b\b\b\b\b\b\b\b\b\b\b\b\b\b\b\b\b\b\b\b\b\b\b\b\b\b\b\b\b\b\b\b\b\b\b\b\b\b\b\b\b\b\n",
            "Epoch 195/200\n",
            "2441/2441 [==============================] - 1s 261us/step - loss: 3.5467 - val_loss: 8.6308\b\b\b\b\b\b\b\b\b\b\b\b\b\b\b\b\b\b\b\b\b\b\b\b\b\b\b\b\b\b\b\b\b\b\b\b\b\b\b\b\b\b\n",
            "Epoch 196/200\n",
            "2441/2441 [==============================] - 1s 258us/step - loss: 3.9403 - val_loss: 10.7870\b\b\b\b\b\b\b\b\b\b\b\b\b\b\b\b\b\b\b\b\b\b\b\b\b\b\b\b\b\b\b\b\b\b\b\b\b\b\b\b\b\n",
            "Epoch 197/200\n",
            "2441/2441 [==============================] - 1s 259us/step - loss: 3.2681 - val_loss: 7.9212\b\b\b\b\b\b\b\b\b\b\b\b\b\b\b\b\b\b\b\b\b\b\b\b\b\b\b\b\b\b\b\b\b\b\b\b\b\b\b\b\b\b\n",
            "Epoch 198/200\n",
            "2441/2441 [==============================] - 1s 256us/step - loss: 3.5751 - val_loss: 7.8695\b\b\b\b\b\b\b\b\b\b\b\b\b\b\b\b\b\b\b\b\b\b\b\b\b\b\b\b\b\b\b\b\b\b\b\b\b\b\b\b\b\b\n",
            "Epoch 199/200\n",
            "2441/2441 [==============================] - 1s 255us/step - loss: 3.8370 - val_loss: 7.3157\b\b\b\b\b\b\b\b\b\b\b\b\b\b\b\b\b\b\b\b\b\b\b\b\b\b\b\b\b\b\b\b\b\b\b\b\b\b\b\b\b\b\n",
            "Epoch 200/200\n",
            "2441/2441 [==============================] - 1s 254us/step - loss: 3.6571 - val_loss: 7.9961\b\b\b\b\b\b\b\b\b\b\b\b\b\b\b\b\b\b\b\b\b\b\b\b\b\b\b\b\b\b\b\b\b\b\b\b\b\b\b\b\b\b\n"
          ]
        },
        {
          "output_type": "execute_result",
          "execution_count": 143,
          "data": {
            "text/plain": "<keras.callbacks.callbacks.History at 0x7feea1970668>"
          },
          "metadata": {}
        }
      ],
      "execution_count": 143,
      "metadata": {
        "collapsed": true,
        "jupyter": {
          "source_hidden": false,
          "outputs_hidden": false
        },
        "nteract": {
          "transient": {
            "deleting": false
          }
        },
        "gather": {
          "logged": 1620937393469
        }
      }
    },
    {
      "cell_type": "code",
      "source": [
        "test_loss = simple.evaluate(X_test, y_test)\r\n",
        "predicted = simple.predict(X_test)\r\n",
        "print(test_loss)"
      ],
      "outputs": [
        {
          "output_type": "stream",
          "name": "stdout",
          "text": [
            "\r32/56 [================>.............] - ETA: 0s\b\b\b\b\b\b\b\b\b\b\b\b\b\b\b\b\b\b\b\b\b\b\b\b\b\b\b\b\b\b\b\b\b\b\b\b\b\b\b\b\b\b\b\b\b\b\b\b\r",
            "56/56 [==============================] - 0s 110us/step\n",
            "6.15987355368478\n"
          ]
        }
      ],
      "execution_count": 144,
      "metadata": {
        "collapsed": true,
        "jupyter": {
          "source_hidden": false,
          "outputs_hidden": false
        },
        "nteract": {
          "transient": {
            "deleting": false
          }
        },
        "gather": {
          "logged": 1620937398079
        }
      }
    },
    {
      "cell_type": "code",
      "source": [
        "days = np.arange(1, 57)\r\n",
        "x_ticks = np.arange(5, 57, 5)\r\n",
        "create_plot(y_test, predicted, days, x_ticks, [100, 140])"
      ],
      "outputs": [
        {
          "output_type": "stream",
          "name": "stderr",
          "text": [
            "/anaconda/envs/azureml_py36/lib/python3.6/site-packages/ipykernel_launcher.py:13: UserWarning: You have mixed positional and keyword arguments, some input may be discarded.\n",
            "  del sys.path[0]\n"
          ]
        },
        {
          "output_type": "display_data",
          "data": {
            "text/plain": "<Figure size 864x360 with 1 Axes>",
            "image/png": "[encoded data removed]"
          },
          "metadata": {
            "needs_background": "light"
          }
        }
      ],
      "execution_count": 147,
      "metadata": {
        "collapsed": true,
        "jupyter": {
          "source_hidden": false,
          "outputs_hidden": false
        },
        "nteract": {
          "transient": {
            "deleting": false
          }
        },
        "gather": {
          "logged": 1620937617091
        }
      }
    },
    {
      "cell_type": "markdown",
      "source": [
        "Okay, it seems definitely better, still there is some room for improvement though, but at least predictions, seem to follow and understand\r\n",
        "the trending line, although a bit off after the last rise.\r\n",
        "\r\n",
        "Let's see some more complex ones, and how they behave."
      ],
      "metadata": {
        "nteract": {
          "transient": {
            "deleting": false
          }
        }
      }
    },
    {
      "cell_type": "code",
      "source": [
        "os.environ['PYTHONHASHSEED'] = str(105)\n",
        "np.random.seed(100)\n",
        "tfrand.set_seed(75)\n",
        "rn.seed(85)\n",
        "\n",
        "model = Sequential()\n",
        "\n",
        "model.add(LSTM(units=96, input_shape=(20, 1), recurrent_dropout=0.05, return_sequences=True))\n",
        "model.add(LSTM(units=64, recurrent_dropout=0.05))\n",
        "model.add(Dense(1))\n",
        "model.compile(optimizer='rmsprop', loss='mae')\n",
        "# we use the last 20% of training data as validation set\n",
        "\n",
        "model.fit(X_train, y_train, epochs=100, batch_size=32, validation_data=(X_validation, y_validation))"
      ],
      "outputs": [
        {
          "output_type": "stream",
          "name": "stdout",
          "text": [
            "Train on 2441 samples, validate on 56 samples\n",
            "Epoch 1/100\n",
            "2441/2441 [==============================] - 3s 1ms/step - loss: 26.8182 - val_loss: 115.2527\b\b\b\b\b\b\b\b\b\b\b\b\b\b\b\b\b\b\b\b\b\b\b\b\b\b\b\b\b\b\b\b\b\b\b\b\b\b\b\b\b\b\b\b\b\n",
            "Epoch 2/100\n",
            "2441/2441 [==============================] - 3s 1ms/step - loss: 21.8627 - val_loss: 110.6047\b\b\b\b\b\b\b\b\b\b\b\b\b\b\b\b\b\b\b\b\b\b\b\b\b\b\b\b\b\b\b\b\b\b\b\b\b\b\b\b\b\b\b\n",
            "Epoch 3/100\n",
            "2441/2441 [==============================] - 3s 1ms/step - loss: 18.7957 - val_loss: 105.9883\b\b\b\b\b\b\b\b\b\b\b\b\b\b\b\b\b\b\b\b\b\b\b\b\b\b\b\b\b\b\b\b\b\b\b\b\b\b\b\b\b\b\b\n",
            "Epoch 4/100\n",
            "2441/2441 [==============================] - 3s 1ms/step - loss: 15.7756 - val_loss: 101.7380\b\b\b\b\b\b\b\b\b\b\b\b\b\b\b\b\b\b\b\b\b\b\b\b\b\b\b\b\b\b\b\b\b\b\b\b\b\b\b\b\b\b\b\n",
            "Epoch 5/100\n",
            "2441/2441 [==============================] - 3s 1ms/step - loss: 13.8201 - val_loss: 97.9696\b\b\b\b\b\b\b\b\b\b\b\b\b\b\b\b\b\b\b\b\b\b\b\b\b\b\b\b\b\b\b\b\b\b\b\b\b\b\b\b\b\b\b\b\n",
            "Epoch 6/100\n",
            "2441/2441 [==============================] - 3s 1ms/step - loss: 12.1627 - val_loss: 94.0946\b\b\b\b\b\b\b\b\b\b\b\b\b\b\b\b\b\b\b\b\b\b\b\b\b\b\b\b\b\b\b\b\b\b\b\b\b\b\b\b\b\b\b\b\n",
            "Epoch 7/100\n",
            "2441/2441 [==============================] - 3s 1ms/step - loss: 10.7443 - val_loss: 90.4008\b\b\b\b\b\b\b\b\b\b\b\b\b\b\b\b\b\b\b\b\b\b\b\b\b\b\b\b\b\b\b\b\b\b\b\b\b\b\b\b\b\b\b\b\n",
            "Epoch 8/100\n",
            "2441/2441 [==============================] - 3s 1ms/step - loss: 9.6160 - val_loss: 87.1360\b\b\b\b\b\b\b\b\b\b\b\b\b\b\b\b\b\b\b\b\b\b\b\b\b\b\b\b\b\b\b\b\b\b\b\b\b\b\b\b\b\b\b\b\b\n",
            "Epoch 9/100\n",
            "2441/2441 [==============================] - 3s 1ms/step - loss: 8.8285 - val_loss: 84.1982\b\b\b\b\b\b\b\b\b\b\b\b\b\b\b\b\b\b\b\b\b\b\b\b\b\b\b\b\b\b\b\b\b\b\b\b\b\b\b\b\b\b\b\b\b\n",
            "Epoch 10/100\n",
            "2441/2441 [==============================] - 3s 1ms/step - loss: 8.2199 - val_loss: 81.3693\b\b\b\b\b\b\b\b\b\b\b\b\b\b\b\b\b\b\b\b\b\b\b\b\b\b\b\b\b\b\b\b\b\b\b\b\b\b\b\b\b\b\b\b\b\n",
            "Epoch 11/100\n",
            "2441/2441 [==============================] - 3s 1ms/step - loss: 7.7270 - val_loss: 78.8772\b\b\b\b\b\b\b\b\b\b\b\b\b\b\b\b\b\b\b\b\b\b\b\b\b\b\b\b\b\b\b\b\b\b\b\b\b\b\b\b\b\b\b\b\b\n",
            "Epoch 12/100\n",
            "2441/2441 [==============================] - 3s 1ms/step - loss: 7.2801 - val_loss: 76.4672\b\b\b\b\b\b\b\b\b\b\b\b\b\b\b\b\b\b\b\b\b\b\b\b\b\b\b\b\b\b\b\b\b\b\b\b\b\b\b\b\b\b\b\n",
            "Epoch 13/100\n",
            "2441/2441 [==============================] - 3s 1ms/step - loss: 6.9271 - val_loss: 74.1802\b\b\b\b\b\b\b\b\b\b\b\b\b\b\b\b\b\b\b\b\b\b\b\b\b\b\b\b\b\b\b\b\b\b\b\b\b\b\b\b\b\b\b\n",
            "Epoch 14/100\n",
            "2441/2441 [==============================] - 2s 1ms/step - loss: 6.5616 - val_loss: 71.9905\b\b\b\b\b\b\b\b\b\b\b\b\b\b\b\b\b\b\b\b\b\b\b\b\b\b\b\b\b\b\b\b\b\b\b\b\b\b\b\b\b\b\b\b\b\n",
            "Epoch 15/100\n",
            "2441/2441 [==============================] - 3s 1ms/step - loss: 6.2864 - val_loss: 69.9161\b\b\b\b\b\b\b\b\b\b\b\b\b\b\b\b\b\b\b\b\b\b\b\b\b\b\b\b\b\b\b\b\b\b\b\b\b\b\b\b\b\b\b\n",
            "Epoch 16/100\n",
            "2441/2441 [==============================] - 3s 1ms/step - loss: 5.9829 - val_loss: 67.8565\b\b\b\b\b\b\b\b\b\b\b\b\b\b\b\b\b\b\b\b\b\b\b\b\b\b\b\b\b\b\b\b\b\b\b\b\b\b\b\b\b\b\b\n",
            "Epoch 17/100\n",
            "2441/2441 [==============================] - 3s 1ms/step - loss: 5.7135 - val_loss: 65.8600\b\b\b\b\b\b\b\b\b\b\b\b\b\b\b\b\b\b\b\b\b\b\b\b\b\b\b\b\b\b\b\b\b\b\b\b\b\b\b\b\b\b\b\n",
            "Epoch 18/100\n",
            "2441/2441 [==============================] - 3s 1ms/step - loss: 5.4576 - val_loss: 63.8972\b\b\b\b\b\b\b\b\b\b\b\b\b\b\b\b\b\b\b\b\b\b\b\b\b\b\b\b\b\b\b\b\b\b\b\b\b\b\b\b\b\b\b\n",
            "Epoch 19/100\n",
            "2441/2441 [==============================] - 3s 1ms/step - loss: 5.1845 - val_loss: 61.8891\b\b\b\b\b\b\b\b\b\b\b\b\b\b\b\b\b\b\b\b\b\b\b\b\b\b\b\b\b\b\b\b\b\b\b\b\b\b\b\b\b\b\b\n",
            "Epoch 20/100\n",
            "2441/2441 [==============================] - 3s 1ms/step - loss: 4.9125 - val_loss: 60.0178\b\b\b\b\b\b\b\b\b\b\b\b\b\b\b\b\b\b\b\b\b\b\b\b\b\b\b\b\b\b\b\b\b\b\b\b\b\b\b\b\b\b\b\n",
            "Epoch 21/100\n",
            "2441/2441 [==============================] - 3s 1ms/step - loss: 4.7427 - val_loss: 58.1890\b\b\b\b\b\b\b\b\b\b\b\b\b\b\b\b\b\b\b\b\b\b\b\b\b\b\b\b\b\b\b\b\b\b\b\b\b\b\b\b\b\b\b\n",
            "Epoch 22/100\n",
            "2441/2441 [==============================] - 3s 1ms/step - loss: 4.5208 - val_loss: 56.4650\b\b\b\b\b\b\b\b\b\b\b\b\b\b\b\b\b\b\b\b\b\b\b\b\b\b\b\b\b\b\b\b\b\b\b\b\b\b\b\b\b\b\b\n",
            "Epoch 23/100\n",
            "2441/2441 [==============================] - 3s 1ms/step - loss: 4.3734 - val_loss: 54.8200\b\b\b\b\b\b\b\b\b\b\b\b\b\b\b\b\b\b\b\b\b\b\b\b\b\b\b\b\b\b\b\b\b\b\b\b\b\b\b\b\b\b\b\n",
            "Epoch 24/100\n",
            "2441/2441 [==============================] - 2s 1ms/step - loss: 4.2055 - val_loss: 53.0912\b\b\b\b\b\b\b\b\b\b\b\b\b\b\b\b\b\b\b\b\b\b\b\b\b\b\b\b\b\b\b\b\b\b\b\b\b\b\b\b\b\b\b\n",
            "Epoch 25/100\n",
            "2441/2441 [==============================] - 3s 1ms/step - loss: 4.0475 - val_loss: 51.4166\b\b\b\b\b\b\b\b\b\b\b\b\b\b\b\b\b\b\b\b\b\b\b\b\b\b\b\b\b\b\b\b\b\b\b\b\b\b\b\b\b\b\b\n",
            "Epoch 26/100\n",
            "2441/2441 [==============================] - 3s 1ms/step - loss: 3.9308 - val_loss: 50.0703\b\b\b\b\b\b\b\b\b\b\b\b\b\b\b\b\b\b\b\b\b\b\b\b\b\b\b\b\b\b\b\b\b\b\b\b\b\b\b\b\b\b\b\n",
            "Epoch 27/100\n",
            "2441/2441 [==============================] - 3s 1ms/step - loss: 3.7418 - val_loss: 48.6034\b\b\b\b\b\b\b\b\b\b\b\b\b\b\b\b\b\b\b\b\b\b\b\b\b\b\b\b\b\b\b\b\b\b\b\b\b\b\b\b\b\b\b\n",
            "Epoch 28/100\n",
            "2441/2441 [==============================] - 3s 1ms/step - loss: 3.6258 - val_loss: 47.1474\b\b\b\b\b\b\b\b\b\b\b\b\b\b\b\b\b\b\b\b\b\b\b\b\b\b\b\b\b\b\b\b\b\b\b\b\b\b\b\b\b\b\b\n",
            "Epoch 29/100\n",
            "2441/2441 [==============================] - 3s 1ms/step - loss: 3.4956 - val_loss: 45.7607\b\b\b\b\b\b\b\b\b\b\b\b\b\b\b\b\b\b\b\b\b\b\b\b\b\b\b\b\b\b\b\b\b\b\b\b\b\b\b\b\b\b\b\n",
            "Epoch 30/100\n",
            "2441/2441 [==============================] - 3s 1ms/step - loss: 3.3616 - val_loss: 44.5190\b\b\b\b\b\b\b\b\b\b\b\b\b\b\b\b\b\b\b\b\b\b\b\b\b\b\b\b\b\b\b\b\b\b\b\b\b\b\b\b\b\b\b\n",
            "Epoch 31/100\n",
            "2441/2441 [==============================] - 3s 1ms/step - loss: 3.2839 - val_loss: 43.0448\b\b\b\b\b\b\b\b\b\b\b\b\b\b\b\b\b\b\b\b\b\b\b\b\b\b\b\b\b\b\b\b\b\b\b\b\b\b\b\b\b\b\b\n",
            "Epoch 32/100\n",
            "2441/2441 [==============================] - 3s 1ms/step - loss: 3.1425 - val_loss: 41.6074\b\b\b\b\b\b\b\b\b\b\b\b\b\b\b\b\b\b\b\b\b\b\b\b\b\b\b\b\b\b\b\b\b\b\b\b\b\b\b\b\b\b\b\n",
            "Epoch 33/100\n",
            "2441/2441 [==============================] - 3s 1ms/step - loss: 2.9827 - val_loss: 40.0681\b\b\b\b\b\b\b\b\b\b\b\b\b\b\b\b\b\b\b\b\b\b\b\b\b\b\b\b\b\b\b\b\b\b\b\b\b\b\b\b\b\b\b\n",
            "Epoch 34/100\n",
            "2441/2441 [==============================] - 3s 1ms/step - loss: 2.9510 - val_loss: 38.6993\b\b\b\b\b\b\b\b\b\b\b\b\b\b\b\b\b\b\b\b\b\b\b\b\b\b\b\b\b\b\b\b\b\b\b\b\b\b\b\b\b\b\b\n",
            "Epoch 35/100\n",
            "2441/2441 [==============================] - 3s 1ms/step - loss: 2.8432 - val_loss: 37.3587\b\b\b\b\b\b\b\b\b\b\b\b\b\b\b\b\b\b\b\b\b\b\b\b\b\b\b\b\b\b\b\b\b\b\b\b\b\b\b\b\b\b\b\n",
            "Epoch 36/100\n",
            "2441/2441 [==============================] - 3s 1ms/step - loss: 2.7047 - val_loss: 35.9002\b\b\b\b\b\b\b\b\b\b\b\b\b\b\b\b\b\b\b\b\b\b\b\b\b\b\b\b\b\b\b\b\b\b\b\b\b\b\b\b\b\b\b\n",
            "Epoch 37/100\n",
            "2441/2441 [==============================] - 3s 1ms/step - loss: 2.6220 - val_loss: 34.4354\b\b\b\b\b\b\b\b\b\b\b\b\b\b\b\b\b\b\b\b\b\b\b\b\b\b\b\b\b\b\b\b\b\b\b\b\b\b\b\b\b\b\b\n",
            "Epoch 38/100\n",
            "2441/2441 [==============================] - 3s 1ms/step - loss: 2.5075 - val_loss: 33.1877\b\b\b\b\b\b\b\b\b\b\b\b\b\b\b\b\b\b\b\b\b\b\b\b\b\b\b\b\b\b\b\b\b\b\b\b\b\b\b\b\b\b\b\n",
            "Epoch 39/100\n",
            "2441/2441 [==============================] - 3s 1ms/step - loss: 2.4042 - val_loss: 31.8391\b\b\b\b\b\b\b\b\b\b\b\b\b\b\b\b\b\b\b\b\b\b\b\b\b\b\b\b\b\b\b\b\b\b\b\b\b\b\b\b\b\b\b\n",
            "Epoch 40/100\n",
            "2441/2441 [==============================] - 3s 1ms/step - loss: 2.3446 - val_loss: 30.3910\b\b\b\b\b\b\b\b\b\b\b\b\b\b\b\b\b\b\b\b\b\b\b\b\b\b\b\b\b\b\b\b\b\b\b\b\b\b\b\b\b\b\b\n",
            "Epoch 41/100\n",
            "2441/2441 [==============================] - 3s 1ms/step - loss: 2.2435 - val_loss: 29.1188\b\b\b\b\b\b\b\b\b\b\b\b\b\b\b\b\b\b\b\b\b\b\b\b\b\b\b\b\b\b\b\b\b\b\b\b\b\b\b\b\b\b\b\n",
            "Epoch 42/100\n",
            "2441/2441 [==============================] - 3s 1ms/step - loss: 2.1655 - val_loss: 27.7786\b\b\b\b\b\b\b\b\b\b\b\b\b\b\b\b\b\b\b\b\b\b\b\b\b\b\b\b\b\b\b\b\b\b\b\b\b\b\b\b\b\b\b\n",
            "Epoch 43/100\n",
            "2441/2441 [==============================] - 3s 1ms/step - loss: 2.1226 - val_loss: 26.3573\b\b\b\b\b\b\b\b\b\b\b\b\b\b\b\b\b\b\b\b\b\b\b\b\b\b\b\b\b\b\b\b\b\b\b\b\b\b\b\b\b\b\b\n",
            "Epoch 44/100\n",
            "2441/2441 [==============================] - 3s 1ms/step - loss: 1.9646 - val_loss: 25.0845\b\b\b\b\b\b\b\b\b\b\b\b\b\b\b\b\b\b\b\b\b\b\b\b\b\b\b\b\b\b\b\b\b\b\b\b\b\b\b\b\b\b\b\n",
            "Epoch 45/100\n",
            "2441/2441 [==============================] - 3s 1ms/step - loss: 1.9518 - val_loss: 23.7067\b\b\b\b\b\b\b\b\b\b\b\b\b\b\b\b\b\b\b\b\b\b\b\b\b\b\b\b\b\b\b\b\b\b\b\b\b\b\b\b\b\b\b\n",
            "Epoch 46/100\n",
            "2441/2441 [==============================] - 3s 1ms/step - loss: 1.8434 - val_loss: 22.4302\b\b\b\b\b\b\b\b\b\b\b\b\b\b\b\b\b\b\b\b\b\b\b\b\b\b\b\b\b\b\b\b\b\b\b\b\b\b\b\b\b\b\b\n",
            "Epoch 47/100\n",
            "2441/2441 [==============================] - 3s 1ms/step - loss: 1.7434 - val_loss: 21.1591\b\b\b\b\b\b\b\b\b\b\b\b\b\b\b\b\b\b\b\b\b\b\b\b\b\b\b\b\b\b\b\b\b\b\b\b\b\b\b\b\b\b\b\n",
            "Epoch 48/100\n",
            "2441/2441 [==============================] - 3s 1ms/step - loss: 1.7262 - val_loss: 19.7103\b\b\b\b\b\b\b\b\b\b\b\b\b\b\b\b\b\b\b\b\b\b\b\b\b\b\b\b\b\b\b\b\b\b\b\b\b\b\b\b\b\b\b\n",
            "Epoch 49/100\n",
            "2441/2441 [==============================] - 3s 1ms/step - loss: 1.6045 - val_loss: 18.5900\b\b\b\b\b\b\b\b\b\b\b\b\b\b\b\b\b\b\b\b\b\b\b\b\b\b\b\b\b\b\b\b\b\b\b\b\b\b\b\b\b\b\b\n",
            "Epoch 50/100\n",
            "2441/2441 [==============================] - 3s 1ms/step - loss: 1.5262 - val_loss: 17.3414\b\b\b\b\b\b\b\b\b\b\b\b\b\b\b\b\b\b\b\b\b\b\b\b\b\b\b\b\b\b\b\b\b\b\b\b\b\b\b\b\b\b\b\n",
            "Epoch 51/100\n",
            "2441/2441 [==============================] - 3s 1ms/step - loss: 1.4792 - val_loss: 16.2174\b\b\b\b\b\b\b\b\b\b\b\b\b\b\b\b\b\b\b\b\b\b\b\b\b\b\b\b\b\b\b\b\b\b\b\b\b\b\b\b\b\b\b\n",
            "Epoch 52/100\n",
            "2441/2441 [==============================] - 3s 1ms/step - loss: 1.4392 - val_loss: 15.1622\b\b\b\b\b\b\b\b\b\b\b\b\b\b\b\b\b\b\b\b\b\b\b\b\b\b\b\b\b\b\b\b\b\b\b\b\b\b\b\b\b\b\b\n",
            "Epoch 53/100\n",
            "2441/2441 [==============================] - 3s 1ms/step - loss: 1.4407 - val_loss: 14.4051\b\b\b\b\b\b\b\b\b\b\b\b\b\b\b\b\b\b\b\b\b\b\b\b\b\b\b\b\b\b\b\b\b\b\b\b\b\b\b\b\b\b\b\n",
            "Epoch 54/100\n",
            "2441/2441 [==============================] - 3s 1ms/step - loss: 1.3804 - val_loss: 13.7177\b\b\b\b\b\b\b\b\b\b\b\b\b\b\b\b\b\b\b\b\b\b\b\b\b\b\b\b\b\b\b\b\b\b\b\b\b\b\b\b\b\b\b\n",
            "Epoch 55/100\n",
            "2441/2441 [==============================] - 3s 1ms/step - loss: 1.3463 - val_loss: 14.5103\b\b\b\b\b\b\b\b\b\b\b\b\b\b\b\b\b\b\b\b\b\b\b\b\b\b\b\b\b\b\b\b\b\b\b\b\b\b\b\b\b\b\b\n",
            "Epoch 56/100\n",
            "2441/2441 [==============================] - 3s 1ms/step - loss: 1.3213 - val_loss: 12.5982\b\b\b\b\b\b\b\b\b\b\b\b\b\b\b\b\b\b\b\b\b\b\b\b\b\b\b\b\b\b\b\b\b\b\b\b\b\b\b\b\b\b\b\n",
            "Epoch 57/100\n",
            "2441/2441 [==============================] - 3s 1ms/step - loss: 1.3427 - val_loss: 12.2530\b\b\b\b\b\b\b\b\b\b\b\b\b\b\b\b\b\b\b\b\b\b\b\b\b\b\b\b\b\b\b\b\b\b\b\b\b\b\b\b\b\b\b\n",
            "Epoch 58/100\n",
            "2441/2441 [==============================] - 3s 1ms/step - loss: 1.3098 - val_loss: 11.7350\b\b\b\b\b\b\b\b\b\b\b\b\b\b\b\b\b\b\b\b\b\b\b\b\b\b\b\b\b\b\b\b\b\b\b\b\b\b\b\b\b\b\b\n",
            "Epoch 59/100\n",
            "2441/2441 [==============================] - 2s 1ms/step - loss: 1.3090 - val_loss: 12.2541\b\b\b\b\b\b\b\b\b\b\b\b\b\b\b\b\b\b\b\b\b\b\b\b\b\b\b\b\b\b\b\b\b\b\b\b\b\b\b\b\b\b\b\n",
            "Epoch 60/100\n",
            "2441/2441 [==============================] - 3s 1ms/step - loss: 1.2971 - val_loss: 10.9833\b\b\b\b\b\b\b\b\b\b\b\b\b\b\b\b\b\b\b\b\b\b\b\b\b\b\b\b\b\b\b\b\b\b\b\b\b\b\b\b\b\b\b\n",
            "Epoch 61/100\n",
            "2441/2441 [==============================] - 3s 1ms/step - loss: 1.2995 - val_loss: 10.6557\b\b\b\b\b\b\b\b\b\b\b\b\b\b\b\b\b\b\b\b\b\b\b\b\b\b\b\b\b\b\b\b\b\b\b\b\b\b\b\b\b\b\b\n",
            "Epoch 62/100\n",
            "2441/2441 [==============================] - 3s 1ms/step - loss: 1.2501 - val_loss: 10.2905\b\b\b\b\b\b\b\b\b\b\b\b\b\b\b\b\b\b\b\b\b\b\b\b\b\b\b\b\b\b\b\b\b\b\b\b\b\b\b\b\b\b\b\n",
            "Epoch 63/100\n",
            "2441/2441 [==============================] - 3s 1ms/step - loss: 1.2326 - val_loss: 9.4449\b\b\b\b\b\b\b\b\b\b\b\b\b\b\b\b\b\b\b\b\b\b\b\b\b\b\b\b\b\b\b\b\b\b\b\b\b\b\b\b\b\b\b\b\n",
            "Epoch 64/100\n",
            "2441/2441 [==============================] - 3s 1ms/step - loss: 1.2282 - val_loss: 9.0251\b\b\b\b\b\b\b\b\b\b\b\b\b\b\b\b\b\b\b\b\b\b\b\b\b\b\b\b\b\b\b\b\b\b\b\b\b\b\b\b\b\b\b\b\n",
            "Epoch 65/100\n",
            "2441/2441 [==============================] - 3s 1ms/step - loss: 1.1941 - val_loss: 9.5715\b\b\b\b\b\b\b\b\b\b\b\b\b\b\b\b\b\b\b\b\b\b\b\b\b\b\b\b\b\b\b\b\b\b\b\b\b\b\b\b\b\b\b\b\n",
            "Epoch 66/100\n",
            "2441/2441 [==============================] - 3s 1ms/step - loss: 1.2055 - val_loss: 8.9147\b\b\b\b\b\b\b\b\b\b\b\b\b\b\b\b\b\b\b\b\b\b\b\b\b\b\b\b\b\b\b\b\b\b\b\b\b\b\b\b\b\b\b\b\n",
            "Epoch 67/100\n",
            "2441/2441 [==============================] - 3s 1ms/step - loss: 1.1521 - val_loss: 10.0285\b\b\b\b\b\b\b\b\b\b\b\b\b\b\b\b\b\b\b\b\b\b\b\b\b\b\b\b\b\b\b\b\b\b\b\b\b\b\b\b\b\b\b\n",
            "Epoch 68/100\n",
            "2441/2441 [==============================] - 3s 1ms/step - loss: 1.1569 - val_loss: 7.7649\b\b\b\b\b\b\b\b\b\b\b\b\b\b\b\b\b\b\b\b\b\b\b\b\b\b\b\b\b\b\b\b\b\b\b\b\b\b\b\b\b\b\b\b\n",
            "Epoch 69/100\n",
            "2441/2441 [==============================] - 3s 1ms/step - loss: 1.1518 - val_loss: 7.4164\b\b\b\b\b\b\b\b\b\b\b\b\b\b\b\b\b\b\b\b\b\b\b\b\b\b\b\b\b\b\b\b\b\b\b\b\b\b\b\b\b\b\b\b\n",
            "Epoch 70/100\n",
            "2441/2441 [==============================] - 3s 1ms/step - loss: 1.1943 - val_loss: 7.1138\b\b\b\b\b\b\b\b\b\b\b\b\b\b\b\b\b\b\b\b\b\b\b\b\b\b\b\b\b\b\b\b\b\b\b\b\b\b\b\b\b\b\b\b\n",
            "Epoch 71/100\n",
            "2441/2441 [==============================] - 3s 1ms/step - loss: 1.1178 - val_loss: 6.7072\b\b\b\b\b\b\b\b\b\b\b\b\b\b\b\b\b\b\b\b\b\b\b\b\b\b\b\b\b\b\b\b\b\b\b\b\b\b\b\b\b\b\b\b\n",
            "Epoch 72/100\n",
            "2441/2441 [==============================] - 3s 1ms/step - loss: 1.1180 - val_loss: 9.1318\b\b\b\b\b\b\b\b\b\b\b\b\b\b\b\b\b\b\b\b\b\b\b\b\b\b\b\b\b\b\b\b\b\b\b\b\b\b\b\b\b\b\b\b\n",
            "Epoch 73/100\n",
            "2441/2441 [==============================] - 3s 1ms/step - loss: 1.1602 - val_loss: 6.1127\b\b\b\b\b\b\b\b\b\b\b\b\b\b\b\b\b\b\b\b\b\b\b\b\b\b\b\b\b\b\b\b\b\b\b\b\b\b\b\b\b\b\b\b\n",
            "Epoch 74/100\n",
            "2441/2441 [==============================] - 3s 1ms/step - loss: 1.0609 - val_loss: 8.7712\b\b\b\b\b\b\b\b\b\b\b\b\b\b\b\b\b\b\b\b\b\b\b\b\b\b\b\b\b\b\b\b\b\b\b\b\b\b\b\b\b\b\b\b\n",
            "Epoch 75/100\n",
            "2441/2441 [==============================] - 3s 1ms/step - loss: 1.1075 - val_loss: 11.0738\b\b\b\b\b\b\b\b\b\b\b\b\b\b\b\b\b\b\b\b\b\b\b\b\b\b\b\b\b\b\b\b\b\b\b\b\b\b\b\b\b\b\b\n",
            "Epoch 76/100\n",
            "2441/2441 [==============================] - 3s 1ms/step - loss: 1.0848 - val_loss: 5.3157\b\b\b\b\b\b\b\b\b\b\b\b\b\b\b\b\b\b\b\b\b\b\b\b\b\b\b\b\b\b\b\b\b\b\b\b\b\b\b\b\b\b\b\b\n",
            "Epoch 77/100\n",
            "2441/2441 [==============================] - 3s 1ms/step - loss: 1.0742 - val_loss: 5.6007\b\b\b\b\b\b\b\b\b\b\b\b\b\b\b\b\b\b\b\b\b\b\b\b\b\b\b\b\b\b\b\b\b\b\b\b\b\b\b\b\b\b\b\b\n",
            "Epoch 78/100\n",
            "2441/2441 [==============================] - 3s 1ms/step - loss: 1.0910 - val_loss: 4.8658\b\b\b\b\b\b\b\b\b\b\b\b\b\b\b\b\b\b\b\b\b\b\b\b\b\b\b\b\b\b\b\b\b\b\b\b\b\b\b\b\b\b\b\b\n",
            "Epoch 79/100\n",
            "2441/2441 [==============================] - 3s 1ms/step - loss: 1.0881 - val_loss: 8.2094\b\b\b\b\b\b\b\b\b\b\b\b\b\b\b\b\b\b\b\b\b\b\b\b\b\b\b\b\b\b\b\b\b\b\b\b\b\b\b\b\b\b\b\b\n",
            "Epoch 80/100\n",
            "2441/2441 [==============================] - 3s 1ms/step - loss: 1.0399 - val_loss: 4.3249\b\b\b\b\b\b\b\b\b\b\b\b\b\b\b\b\b\b\b\b\b\b\b\b\b\b\b\b\b\b\b\b\b\b\b\b\b\b\b\b\b\b\b\b\n",
            "Epoch 81/100\n",
            "2441/2441 [==============================] - 3s 1ms/step - loss: 1.0542 - val_loss: 4.2355\b\b\b\b\b\b\b\b\b\b\b\b\b\b\b\b\b\b\b\b\b\b\b\b\b\b\b\b\b\b\b\b\b\b\b\b\b\b\b\b\b\b\b\b\n",
            "Epoch 82/100\n",
            "2441/2441 [==============================] - 2s 1ms/step - loss: 1.0400 - val_loss: 4.0913\b\b\b\b\b\b\b\b\b\b\b\b\b\b\b\b\b\b\b\b\b\b\b\b\b\b\b\b\b\b\b\b\b\b\b\b\b\b\b\b\b\b\b\b\n",
            "Epoch 83/100\n",
            "2441/2441 [==============================] - 3s 1ms/step - loss: 0.9885 - val_loss: 4.2456\b\b\b\b\b\b\b\b\b\b\b\b\b\b\b\b\b\b\b\b\b\b\b\b\b\b\b\b\b\b\b\b\b\b\b\b\b\b\b\b\b\b\b\b\n",
            "Epoch 84/100\n",
            "2441/2441 [==============================] - 3s 1ms/step - loss: 1.0131 - val_loss: 3.9328\b\b\b\b\b\b\b\b\b\b\b\b\b\b\b\b\b\b\b\b\b\b\b\b\b\b\b\b\b\b\b\b\b\b\b\b\b\b\b\b\b\b\b\b\n",
            "Epoch 85/100\n",
            "2441/2441 [==============================] - 3s 1ms/step - loss: 1.0415 - val_loss: 3.7789\b\b\b\b\b\b\b\b\b\b\b\b\b\b\b\b\b\b\b\b\b\b\b\b\b\b\b\b\b\b\b\b\b\b\b\b\b\b\b\b\b\b\b\b\n",
            "Epoch 86/100\n",
            "2441/2441 [==============================] - 3s 1ms/step - loss: 0.9985 - val_loss: 4.1634\b\b\b\b\b\b\b\b\b\b\b\b\b\b\b\b\b\b\b\b\b\b\b\b\b\b\b\b\b\b\b\b\b\b\b\b\b\b\b\b\b\b\b\b\n",
            "Epoch 87/100\n",
            "2441/2441 [==============================] - 3s 1ms/step - loss: 1.0148 - val_loss: 7.9759\b\b\b\b\b\b\b\b\b\b\b\b\b\b\b\b\b\b\b\b\b\b\b\b\b\b\b\b\b\b\b\b\b\b\b\b\b\b\b\b\b\b\b\b\n",
            "Epoch 88/100\n",
            "2441/2441 [==============================] - 3s 1ms/step - loss: 1.0219 - val_loss: 4.1767\b\b\b\b\b\b\b\b\b\b\b\b\b\b\b\b\b\b\b\b\b\b\b\b\b\b\b\b\b\b\b\b\b\b\b\b\b\b\b\b\b\b\b\b\n",
            "Epoch 89/100\n",
            "2441/2441 [==============================] - 3s 1ms/step - loss: 0.9587 - val_loss: 4.1035\b\b\b\b\b\b\b\b\b\b\b\b\b\b\b\b\b\b\b\b\b\b\b\b\b\b\b\b\b\b\b\b\b\b\b\b\b\b\b\b\b\b\b\b\n",
            "Epoch 90/100\n",
            "2441/2441 [==============================] - 3s 1ms/step - loss: 0.9762 - val_loss: 3.6436\b\b\b\b\b\b\b\b\b\b\b\b\b\b\b\b\b\b\b\b\b\b\b\b\b\b\b\b\b\b\b\b\b\b\b\b\b\b\b\b\b\b\b\b\n",
            "Epoch 91/100\n",
            "2441/2441 [==============================] - 3s 1ms/step - loss: 0.9878 - val_loss: 3.2005\b\b\b\b\b\b\b\b\b\b\b\b\b\b\b\b\b\b\b\b\b\b\b\b\b\b\b\b\b\b\b\b\b\b\b\b\b\b\b\b\b\b\b\b\n",
            "Epoch 92/100\n",
            "2441/2441 [==============================] - 3s 1ms/step - loss: 0.9884 - val_loss: 3.6987\b\b\b\b\b\b\b\b\b\b\b\b\b\b\b\b\b\b\b\b\b\b\b\b\b\b\b\b\b\b\b\b\b\b\b\b\b\b\b\b\b\b\b\b\n",
            "Epoch 93/100\n",
            "2441/2441 [==============================] - 3s 1ms/step - loss: 0.9587 - val_loss: 9.4888\b\b\b\b\b\b\b\b\b\b\b\b\b\b\b\b\b\b\b\b\b\b\b\b\b\b\b\b\b\b\b\b\b\b\b\b\b\b\b\b\b\b\b\b\n",
            "Epoch 94/100\n",
            "2441/2441 [==============================] - 3s 1ms/step - loss: 0.9730 - val_loss: 5.2252\b\b\b\b\b\b\b\b\b\b\b\b\b\b\b\b\b\b\b\b\b\b\b\b\b\b\b\b\b\b\b\b\b\b\b\b\b\b\b\b\b\b\b\b\n",
            "Epoch 95/100\n",
            "2441/2441 [==============================] - 3s 1ms/step - loss: 0.9402 - val_loss: 3.7526\b\b\b\b\b\b\b\b\b\b\b\b\b\b\b\b\b\b\b\b\b\b\b\b\b\b\b\b\b\b\b\b\b\b\b\b\b\b\b\b\b\b\b\b\n",
            "Epoch 96/100\n",
            "2441/2441 [==============================] - 3s 1ms/step - loss: 0.9435 - val_loss: 3.6283\b\b\b\b\b\b\b\b\b\b\b\b\b\b\b\b\b\b\b\b\b\b\b\b\b\b\b\b\b\b\b\b\b\b\b\b\b\b\b\b\b\b\b\b\n",
            "Epoch 97/100\n",
            "2441/2441 [==============================] - 3s 1ms/step - loss: 0.9589 - val_loss: 2.8378\b\b\b\b\b\b\b\b\b\b\b\b\b\b\b\b\b\b\b\b\b\b\b\b\b\b\b\b\b\b\b\b\b\b\b\b\b\b\b\b\b\b\b\b\n",
            "Epoch 98/100\n",
            "2441/2441 [==============================] - 3s 1ms/step - loss: 0.9635 - val_loss: 2.9259\b\b\b\b\b\b\b\b\b\b\b\b\b\b\b\b\b\b\b\b\b\b\b\b\b\b\b\b\b\b\b\b\b\b\b\b\b\b\b\b\b\b\b\b\n",
            "Epoch 99/100\n",
            "2441/2441 [==============================] - 3s 1ms/step - loss: 0.9425 - val_loss: 3.9610\b\b\b\b\b\b\b\b\b\b\b\b\b\b\b\b\b\b\b\b\b\b\b\b\b\b\b\b\b\b\b\b\b\b\b\b\b\b\b\b\b\b\b\b\n",
            "Epoch 100/100\n",
            "2441/2441 [==============================] - 3s 1ms/step - loss: 0.9596 - val_loss: 2.7968\b\b\b\b\b\b\b\b\b\b\b\b\b\b\b\b\b\b\b\b\b\b\b\b\b\b\b\b\b\b\b\b\b\b\b\b\b\b\b\b\b\b\b\b\n"
          ]
        },
        {
          "output_type": "execute_result",
          "execution_count": 148,
          "data": {
            "text/plain": "<keras.callbacks.callbacks.History at 0x7feea13afa90>"
          },
          "metadata": {}
        }
      ],
      "execution_count": 148,
      "metadata": {
        "gather": {
          "logged": 1620938037795
        }
      }
    },
    {
      "cell_type": "code",
      "source": [
        "test_loss = model.evaluate(X_test, y_test)\r\n",
        "predicted = model.predict(X_test)\r\n",
        "test_loss"
      ],
      "outputs": [
        {
          "output_type": "stream",
          "name": "stdout",
          "text": [
            "\r32/56 [================>.............] - ETA: 0s\b\b\b\b\b\b\b\b\b\b\b\b\b\b\b\b\b\b\b\b\b\b\b\b\b\b\b\b\b\b\b\b\b\b\b\b\b\b\b\b\b\b\b\b\b\b\b\b\r",
            "56/56 [==============================] - 0s 295us/step\n"
          ]
        },
        {
          "output_type": "execute_result",
          "execution_count": 149,
          "data": {
            "text/plain": "2.88215742792402"
          },
          "metadata": {}
        }
      ],
      "execution_count": 149,
      "metadata": {
        "collapsed": true,
        "jupyter": {
          "source_hidden": false,
          "outputs_hidden": false
        },
        "nteract": {
          "transient": {
            "deleting": false
          }
        },
        "gather": {
          "logged": 1620938043861
        }
      }
    },
    {
      "cell_type": "code",
      "source": [
        "create_plot(y_test, predicted, days, x_ticks, [100, 140])"
      ],
      "outputs": [
        {
          "output_type": "stream",
          "name": "stderr",
          "text": [
            "/anaconda/envs/azureml_py36/lib/python3.6/site-packages/ipykernel_launcher.py:13: UserWarning: You have mixed positional and keyword arguments, some input may be discarded.\n",
            "  del sys.path[0]\n"
          ]
        },
        {
          "output_type": "display_data",
          "data": {
            "text/plain": "<Figure size 864x360 with 1 Axes>",
            "image/png": "[encoded data removed]"
          },
          "metadata": {
            "needs_background": "light"
          }
        }
      ],
      "execution_count": 150,
      "metadata": {
        "collapsed": true,
        "jupyter": {
          "source_hidden": false,
          "outputs_hidden": false
        },
        "nteract": {
          "transient": {
            "deleting": false
          }
        },
        "gather": {
          "logged": 1620938056042
        }
      }
    },
    {
      "cell_type": "markdown",
      "source": [
        "Ok, much better and a tough opponent to beat from now on. We will try and have more complex, a GRU try, and a Convolutional approach\r\n",
        "to clean up things. Let's see how we go."
      ],
      "metadata": {
        "nteract": {
          "transient": {
            "deleting": false
          }
        }
      }
    },
    {
      "cell_type": "code",
      "source": [
        "os.environ['PYTHONHASHSEED'] = str(205)\r\n",
        "np.random.seed(200)\r\n",
        "tfrand.set_seed(175)\r\n",
        "rn.seed(185)\r\n",
        "\r\n",
        "model = Sequential()\r\n",
        "\r\n",
        "model.add(LSTM(units=64, input_shape=(20, 1), return_sequences=True))\r\n",
        "model.add(LSTM(units=64, return_sequences=True))\r\n",
        "model.add(LSTM(units=64, return_sequences=True))\r\n",
        "model.add(LSTM(units=64))\r\n",
        "model.add(Dense(1))\r\n",
        "model.compile(optimizer='rmsprop', loss='mae')\r\n",
        "\r\n",
        "model.fit(X_train, y_train, epochs=120, batch_size=32, validation_data=(X_validation, y_validation))"
      ],
      "outputs": [
        {
          "output_type": "stream",
          "name": "stdout",
          "text": [
            "Train on 2441 samples, validate on 56 samples\n",
            "Epoch 1/120\n",
            "2441/2441 [==============================] - 6s 3ms/step - loss: 26.3575 - val_loss: 114.5558\b\b\b\b\b\b\b\b\b\b\b\b\b\b\b\b\b\b\b\b\b\b\b\b\b\b\b\b\b\b\b\b\b\b\b\b\b\b\b\b\b\b\b\b\b\b\b\n",
            "Epoch 2/120\n",
            "2441/2441 [==============================] - 5s 2ms/step - loss: 21.3595 - val_loss: 109.8397\b\b\b\b\b\b\b\b\b\b\b\b\b\b\b\b\b\b\b\b\b\b\b\b\b\b\b\b\b\b\b\b\b\b\b\b\b\b\b\b\b\b\b\n",
            "Epoch 3/120\n",
            "2441/2441 [==============================] - 5s 2ms/step - loss: 18.7603 - val_loss: 105.2864\b\b\b\b\b\b\b\b\b\b\b\b\b\b\b\b\b\b\b\b\b\b\b\b\b\b\b\b\b\b\b\b\b\b\b\b\b\b\b\b\b\b\b\n",
            "Epoch 4/120\n",
            "2441/2441 [==============================] - 5s 2ms/step - loss: 15.3519 - val_loss: 101.0759\b\b\b\b\b\b\b\b\b\b\b\b\b\b\b\b\b\b\b\b\b\b\b\b\b\b\b\b\b\b\b\b\b\b\b\b\b\b\b\b\b\b\b\n",
            "Epoch 5/120\n",
            "2441/2441 [==============================] - 5s 2ms/step - loss: 13.4559 - val_loss: 97.2649\b\b\b\b\b\b\b\b\b\b\b\b\b\b\b\b\b\b\b\b\b\b\b\b\b\b\b\b\b\b\b\b\b\b\b\b\b\b\b\b\b\b\b\b\n",
            "Epoch 6/120\n",
            "2441/2441 [==============================] - 5s 2ms/step - loss: 11.8641 - val_loss: 93.4793\b\b\b\b\b\b\b\b\b\b\b\b\b\b\b\b\b\b\b\b\b\b\b\b\b\b\b\b\b\b\b\b\b\b\b\b\b\b\b\b\b\b\b\b\n",
            "Epoch 7/120\n",
            "2441/2441 [==============================] - 5s 2ms/step - loss: 10.4638 - val_loss: 90.0258\b\b\b\b\b\b\b\b\b\b\b\b\b\b\b\b\b\b\b\b\b\b\b\b\b\b\b\b\b\b\b\b\b\b\b\b\b\b\b\b\b\b\b\b\n",
            "Epoch 8/120\n",
            "2441/2441 [==============================] - 5s 2ms/step - loss: 9.4809 - val_loss: 86.8283\b\b\b\b\b\b\b\b\b\b\b\b\b\b\b\b\b\b\b\b\b\b\b\b\b\b\b\b\b\b\b\b\b\b\b\b\b\b\b\b\b\b\b\b\b\n",
            "Epoch 9/120\n",
            "2441/2441 [==============================] - 5s 2ms/step - loss: 8.7080 - val_loss: 83.9953\b\b\b\b\b\b\b\b\b\b\b\b\b\b\b\b\b\b\b\b\b\b\b\b\b\b\b\b\b\b\b\b\b\b\b\b\b\b\b\b\b\b\b\b\b\n",
            "Epoch 10/120\n",
            "2441/2441 [==============================] - 5s 2ms/step - loss: 8.1664 - val_loss: 81.6628\b\b\b\b\b\b\b\b\b\b\b\b\b\b\b\b\b\b\b\b\b\b\b\b\b\b\b\b\b\b\b\b\b\b\b\b\b\b\b\b\b\b\b\n",
            "Epoch 11/120\n",
            "2441/2441 [==============================] - 5s 2ms/step - loss: 7.6863 - val_loss: 79.3275\b\b\b\b\b\b\b\b\b\b\b\b\b\b\b\b\b\b\b\b\b\b\b\b\b\b\b\b\b\b\b\b\b\b\b\b\b\b\b\b\b\b\b\b\b\n",
            "Epoch 12/120\n",
            "2441/2441 [==============================] - 5s 2ms/step - loss: 7.3030 - val_loss: 77.1867\b\b\b\b\b\b\b\b\b\b\b\b\b\b\b\b\b\b\b\b\b\b\b\b\b\b\b\b\b\b\b\b\b\b\b\b\b\b\b\b\b\b\b\n",
            "Epoch 13/120\n",
            "2441/2441 [==============================] - 5s 2ms/step - loss: 6.9918 - val_loss: 75.2718\b\b\b\b\b\b\b\b\b\b\b\b\b\b\b\b\b\b\b\b\b\b\b\b\b\b\b\b\b\b\b\b\b\b\b\b\b\b\b\b\b\b\b\n",
            "Epoch 14/120\n",
            "2441/2441 [==============================] - 5s 2ms/step - loss: 6.6617 - val_loss: 73.5121\b\b\b\b\b\b\b\b\b\b\b\b\b\b\b\b\b\b\b\b\b\b\b\b\b\b\b\b\b\b\b\b\b\b\b\b\b\b\b\b\b\b\b\n",
            "Epoch 15/120\n",
            "2441/2441 [==============================] - 5s 2ms/step - loss: 6.3851 - val_loss: 71.7399\b\b\b\b\b\b\b\b\b\b\b\b\b\b\b\b\b\b\b\b\b\b\b\b\b\b\b\b\b\b\b\b\b\b\b\b\b\b\b\b\b\b\b\n",
            "Epoch 16/120\n",
            "2441/2441 [==============================] - 5s 2ms/step - loss: 6.1542 - val_loss: 69.9204\b\b\b\b\b\b\b\b\b\b\b\b\b\b\b\b\b\b\b\b\b\b\b\b\b\b\b\b\b\b\b\b\b\b\b\b\b\b\b\b\b\b\b\n",
            "Epoch 17/120\n",
            "2441/2441 [==============================] - 5s 2ms/step - loss: 5.8340 - val_loss: 68.0805\b\b\b\b\b\b\b\b\b\b\b\b\b\b\b\b\b\b\b\b\b\b\b\b\b\b\b\b\b\b\b\b\b\b\b\b\b\b\b\b\b\b\b\b\b\n",
            "Epoch 18/120\n",
            "2441/2441 [==============================] - 5s 2ms/step - loss: 5.6380 - val_loss: 66.5235\b\b\b\b\b\b\b\b\b\b\b\b\b\b\b\b\b\b\b\b\b\b\b\b\b\b\b\b\b\b\b\b\b\b\b\b\b\b\b\b\b\b\b\n",
            "Epoch 19/120\n",
            "2441/2441 [==============================] - 5s 2ms/step - loss: 5.3900 - val_loss: 64.7623\b\b\b\b\b\b\b\b\b\b\b\b\b\b\b\b\b\b\b\b\b\b\b\b\b\b\b\b\b\b\b\b\b\b\b\b\b\b\b\b\b\b\b\n",
            "Epoch 20/120\n",
            "2441/2441 [==============================] - 5s 2ms/step - loss: 5.1876 - val_loss: 63.2535\b\b\b\b\b\b\b\b\b\b\b\b\b\b\b\b\b\b\b\b\b\b\b\b\b\b\b\b\b\b\b\b\b\b\b\b\b\b\b\b\b\b\b\n",
            "Epoch 21/120\n",
            "2441/2441 [==============================] - 5s 2ms/step - loss: 4.9876 - val_loss: 61.9910\b\b\b\b\b\b\b\b\b\b\b\b\b\b\b\b\b\b\b\b\b\b\b\b\b\b\b\b\b\b\b\b\b\b\b\b\b\b\b\b\b\b\b\n",
            "Epoch 22/120\n",
            "2441/2441 [==============================] - 5s 2ms/step - loss: 4.7890 - val_loss: 60.4446\b\b\b\b\b\b\b\b\b\b\b\b\b\b\b\b\b\b\b\b\b\b\b\b\b\b\b\b\b\b\b\b\b\b\b\b\b\b\b\b\b\b\b\n",
            "Epoch 23/120\n",
            "2441/2441 [==============================] - 5s 2ms/step - loss: 4.6893 - val_loss: 58.9443\b\b\b\b\b\b\b\b\b\b\b\b\b\b\b\b\b\b\b\b\b\b\b\b\b\b\b\b\b\b\b\b\b\b\b\b\b\b\b\b\b\b\b\n",
            "Epoch 24/120\n",
            "2441/2441 [==============================] - 5s 2ms/step - loss: 4.5257 - val_loss: 57.6198\b\b\b\b\b\b\b\b\b\b\b\b\b\b\b\b\b\b\b\b\b\b\b\b\b\b\b\b\b\b\b\b\b\b\b\b\b\b\b\b\b\b\b\n",
            "Epoch 25/120\n",
            "2441/2441 [==============================] - 5s 2ms/step - loss: 4.3407 - val_loss: 56.2874\b\b\b\b\b\b\b\b\b\b\b\b\b\b\b\b\b\b\b\b\b\b\b\b\b\b\b\b\b\b\b\b\b\b\b\b\b\b\b\b\b\b\b\n",
            "Epoch 26/120\n",
            "2441/2441 [==============================] - 5s 2ms/step - loss: 4.2169 - val_loss: 54.9227\b\b\b\b\b\b\b\b\b\b\b\b\b\b\b\b\b\b\b\b\b\b\b\b\b\b\b\b\b\b\b\b\b\b\b\b\b\b\b\b\b\b\b\n",
            "Epoch 27/120\n",
            "2441/2441 [==============================] - 5s 2ms/step - loss: 4.0462 - val_loss: 53.6136\b\b\b\b\b\b\b\b\b\b\b\b\b\b\b\b\b\b\b\b\b\b\b\b\b\b\b\b\b\b\b\b\b\b\b\b\b\b\b\b\b\b\b\n",
            "Epoch 28/120\n",
            "2441/2441 [==============================] - 5s 2ms/step - loss: 3.9907 - val_loss: 52.2625\b\b\b\b\b\b\b\b\b\b\b\b\b\b\b\b\b\b\b\b\b\b\b\b\b\b\b\b\b\b\b\b\b\b\b\b\b\b\b\b\b\b\b\n",
            "Epoch 29/120\n",
            "2441/2441 [==============================] - 5s 2ms/step - loss: 3.8471 - val_loss: 51.1122\b\b\b\b\b\b\b\b\b\b\b\b\b\b\b\b\b\b\b\b\b\b\b\b\b\b\b\b\b\b\b\b\b\b\b\b\b\b\b\b\b\b\b\n",
            "Epoch 30/120\n",
            "2441/2441 [==============================] - 5s 2ms/step - loss: 3.7073 - val_loss: 50.0581\b\b\b\b\b\b\b\b\b\b\b\b\b\b\b\b\b\b\b\b\b\b\b\b\b\b\b\b\b\b\b\b\b\b\b\b\b\b\b\b\b\b\b\n",
            "Epoch 31/120\n",
            "2441/2441 [==============================] - 5s 2ms/step - loss: 3.6542 - val_loss: 49.0707\b\b\b\b\b\b\b\b\b\b\b\b\b\b\b\b\b\b\b\b\b\b\b\b\b\b\b\b\b\b\b\b\b\b\b\b\b\b\b\b\b\b\b\n",
            "Epoch 32/120\n",
            "2441/2441 [==============================] - 5s 2ms/step - loss: 3.5442 - val_loss: 47.9155\b\b\b\b\b\b\b\b\b\b\b\b\b\b\b\b\b\b\b\b\b\b\b\b\b\b\b\b\b\b\b\b\b\b\b\b\b\b\b\b\b\b\b\n",
            "Epoch 33/120\n",
            "2441/2441 [==============================] - 5s 2ms/step - loss: 3.4204 - val_loss: 46.9053\b\b\b\b\b\b\b\b\b\b\b\b\b\b\b\b\b\b\b\b\b\b\b\b\b\b\b\b\b\b\b\b\b\b\b\b\b\b\b\b\b\b\b\n",
            "Epoch 34/120\n",
            "2441/2441 [==============================] - 5s 2ms/step - loss: 3.3552 - val_loss: 45.7874\b\b\b\b\b\b\b\b\b\b\b\b\b\b\b\b\b\b\b\b\b\b\b\b\b\b\b\b\b\b\b\b\b\b\b\b\b\b\b\b\b\b\b\n",
            "Epoch 35/120\n",
            "2441/2441 [==============================] - 5s 2ms/step - loss: 3.2129 - val_loss: 44.6382\b\b\b\b\b\b\b\b\b\b\b\b\b\b\b\b\b\b\b\b\b\b\b\b\b\b\b\b\b\b\b\b\b\b\b\b\b\b\b\b\b\b\b\n",
            "Epoch 36/120\n",
            "2441/2441 [==============================] - 5s 2ms/step - loss: 3.1934 - val_loss: 43.5920\b\b\b\b\b\b\b\b\b\b\b\b\b\b\b\b\b\b\b\b\b\b\b\b\b\b\b\b\b\b\b\b\b\b\b\b\b\b\b\b\b\b\b\n",
            "Epoch 37/120\n",
            "2441/2441 [==============================] - 5s 2ms/step - loss: 3.0961 - val_loss: 42.5097\b\b\b\b\b\b\b\b\b\b\b\b\b\b\b\b\b\b\b\b\b\b\b\b\b\b\b\b\b\b\b\b\b\b\b\b\b\b\b\b\b\b\b\n",
            "Epoch 38/120\n",
            "2441/2441 [==============================] - 5s 2ms/step - loss: 2.9951 - val_loss: 41.4135\b\b\b\b\b\b\b\b\b\b\b\b\b\b\b\b\b\b\b\b\b\b\b\b\b\b\b\b\b\b\b\b\b\b\b\b\b\b\b\b\b\b\b\n",
            "Epoch 39/120\n",
            "2441/2441 [==============================] - 5s 2ms/step - loss: 2.9321 - val_loss: 40.3626\b\b\b\b\b\b\b\b\b\b\b\b\b\b\b\b\b\b\b\b\b\b\b\b\b\b\b\b\b\b\b\b\b\b\b\b\b\b\b\b\b\b\b\n",
            "Epoch 40/120\n",
            "2441/2441 [==============================] - 5s 2ms/step - loss: 2.8195 - val_loss: 39.3158\b\b\b\b\b\b\b\b\b\b\b\b\b\b\b\b\b\b\b\b\b\b\b\b\b\b\b\b\b\b\b\b\b\b\b\b\b\b\b\b\b\b\b\n",
            "Epoch 41/120\n",
            "2441/2441 [==============================] - 5s 2ms/step - loss: 2.7413 - val_loss: 38.1749\b\b\b\b\b\b\b\b\b\b\b\b\b\b\b\b\b\b\b\b\b\b\b\b\b\b\b\b\b\b\b\b\b\b\b\b\b\b\b\b\b\b\b\n",
            "Epoch 42/120\n",
            "2441/2441 [==============================] - 5s 2ms/step - loss: 2.6839 - val_loss: 37.1125\b\b\b\b\b\b\b\b\b\b\b\b\b\b\b\b\b\b\b\b\b\b\b\b\b\b\b\b\b\b\b\b\b\b\b\b\b\b\b\b\b\b\b\n",
            "Epoch 43/120\n",
            "2441/2441 [==============================] - 5s 2ms/step - loss: 2.5859 - val_loss: 36.0703\b\b\b\b\b\b\b\b\b\b\b\b\b\b\b\b\b\b\b\b\b\b\b\b\b\b\b\b\b\b\b\b\b\b\b\b\b\b\b\b\b\b\b\n",
            "Epoch 44/120\n",
            "2441/2441 [==============================] - 5s 2ms/step - loss: 2.5357 - val_loss: 35.0084\b\b\b\b\b\b\b\b\b\b\b\b\b\b\b\b\b\b\b\b\b\b\b\b\b\b\b\b\b\b\b\b\b\b\b\b\b\b\b\b\b\b\b\n",
            "Epoch 45/120\n",
            "2441/2441 [==============================] - 5s 2ms/step - loss: 2.4656 - val_loss: 34.0902\b\b\b\b\b\b\b\b\b\b\b\b\b\b\b\b\b\b\b\b\b\b\b\b\b\b\b\b\b\b\b\b\b\b\b\b\b\b\b\b\b\b\b\n",
            "Epoch 46/120\n",
            "2441/2441 [==============================] - 5s 2ms/step - loss: 2.3983 - val_loss: 33.0662\b\b\b\b\b\b\b\b\b\b\b\b\b\b\b\b\b\b\b\b\b\b\b\b\b\b\b\b\b\b\b\b\b\b\b\b\b\b\b\b\b\b\b\n",
            "Epoch 47/120\n",
            "2441/2441 [==============================] - 5s 2ms/step - loss: 2.3738 - val_loss: 32.1755\b\b\b\b\b\b\b\b\b\b\b\b\b\b\b\b\b\b\b\b\b\b\b\b\b\b\b\b\b\b\b\b\b\b\b\b\b\b\b\b\b\b\b\n",
            "Epoch 48/120\n",
            "2441/2441 [==============================] - 5s 2ms/step - loss: 2.3032 - val_loss: 31.1799\b\b\b\b\b\b\b\b\b\b\b\b\b\b\b\b\b\b\b\b\b\b\b\b\b\b\b\b\b\b\b\b\b\b\b\b\b\b\b\b\b\b\b\n",
            "Epoch 49/120\n",
            "2441/2441 [==============================] - 5s 2ms/step - loss: 2.2684 - val_loss: 30.3143\b\b\b\b\b\b\b\b\b\b\b\b\b\b\b\b\b\b\b\b\b\b\b\b\b\b\b\b\b\b\b\b\b\b\b\b\b\b\b\b\b\b\b\n",
            "Epoch 50/120\n",
            "2441/2441 [==============================] - 5s 2ms/step - loss: 2.1788 - val_loss: 29.2385\b\b\b\b\b\b\b\b\b\b\b\b\b\b\b\b\b\b\b\b\b\b\b\b\b\b\b\b\b\b\b\b\b\b\b\b\b\b\b\b\b\b\b\n",
            "Epoch 51/120\n",
            "2441/2441 [==============================] - 5s 2ms/step - loss: 2.1160 - val_loss: 28.2411\b\b\b\b\b\b\b\b\b\b\b\b\b\b\b\b\b\b\b\b\b\b\b\b\b\b\b\b\b\b\b\b\b\b\b\b\b\b\b\b\b\b\b\n",
            "Epoch 52/120\n",
            "2441/2441 [==============================] - 5s 2ms/step - loss: 2.0684 - val_loss: 27.2516\b\b\b\b\b\b\b\b\b\b\b\b\b\b\b\b\b\b\b\b\b\b\b\b\b\b\b\b\b\b\b\b\b\b\b\b\b\b\b\b\b\b\b\n",
            "Epoch 53/120\n",
            "2441/2441 [==============================] - 5s 2ms/step - loss: 1.9987 - val_loss: 26.1938\b\b\b\b\b\b\b\b\b\b\b\b\b\b\b\b\b\b\b\b\b\b\b\b\b\b\b\b\b\b\b\b\b\b\b\b\b\b\b\b\b\b\b\n",
            "Epoch 54/120\n",
            "2441/2441 [==============================] - 5s 2ms/step - loss: 1.9326 - val_loss: 25.3290\b\b\b\b\b\b\b\b\b\b\b\b\b\b\b\b\b\b\b\b\b\b\b\b\b\b\b\b\b\b\b\b\b\b\b\b\b\b\b\b\b\b\b\n",
            "Epoch 55/120\n",
            "2441/2441 [==============================] - 5s 2ms/step - loss: 1.8692 - val_loss: 24.1808\b\b\b\b\b\b\b\b\b\b\b\b\b\b\b\b\b\b\b\b\b\b\b\b\b\b\b\b\b\b\b\b\b\b\b\b\b\b\b\b\b\b\b\n",
            "Epoch 56/120\n",
            "2441/2441 [==============================] - 5s 2ms/step - loss: 1.8024 - val_loss: 23.0358\b\b\b\b\b\b\b\b\b\b\b\b\b\b\b\b\b\b\b\b\b\b\b\b\b\b\b\b\b\b\b\b\b\b\b\b\b\b\b\b\b\b\b\n",
            "Epoch 57/120\n",
            "2441/2441 [==============================] - 5s 2ms/step - loss: 1.7033 - val_loss: 21.8838\b\b\b\b\b\b\b\b\b\b\b\b\b\b\b\b\b\b\b\b\b\b\b\b\b\b\b\b\b\b\b\b\b\b\b\b\b\b\b\b\b\b\b\n",
            "Epoch 58/120\n",
            "2441/2441 [==============================] - 5s 2ms/step - loss: 1.6947 - val_loss: 20.7988\b\b\b\b\b\b\b\b\b\b\b\b\b\b\b\b\b\b\b\b\b\b\b\b\b\b\b\b\b\b\b\b\b\b\b\b\b\b\b\b\b\b\b\n",
            "Epoch 59/120\n",
            "2441/2441 [==============================] - 5s 2ms/step - loss: 1.6436 - val_loss: 19.8418\b\b\b\b\b\b\b\b\b\b\b\b\b\b\b\b\b\b\b\b\b\b\b\b\b\b\b\b\b\b\b\b\b\b\b\b\b\b\b\b\b\b\b\n",
            "Epoch 60/120\n",
            "2441/2441 [==============================] - 5s 2ms/step - loss: 1.5536 - val_loss: 18.8733\b\b\b\b\b\b\b\b\b\b\b\b\b\b\b\b\b\b\b\b\b\b\b\b\b\b\b\b\b\b\b\b\b\b\b\b\b\b\b\b\b\b\b\n",
            "Epoch 61/120\n",
            "2441/2441 [==============================] - 5s 2ms/step - loss: 1.5060 - val_loss: 17.8545\b\b\b\b\b\b\b\b\b\b\b\b\b\b\b\b\b\b\b\b\b\b\b\b\b\b\b\b\b\b\b\b\b\b\b\b\b\b\b\b\b\b\b\n",
            "Epoch 62/120\n",
            "2441/2441 [==============================] - 5s 2ms/step - loss: 1.4950 - val_loss: 16.9622\b\b\b\b\b\b\b\b\b\b\b\b\b\b\b\b\b\b\b\b\b\b\b\b\b\b\b\b\b\b\b\b\b\b\b\b\b\b\b\b\b\b\b\n",
            "Epoch 63/120\n",
            "2441/2441 [==============================] - 5s 2ms/step - loss: 1.4266 - val_loss: 16.1047\b\b\b\b\b\b\b\b\b\b\b\b\b\b\b\b\b\b\b\b\b\b\b\b\b\b\b\b\b\b\b\b\b\b\b\b\b\b\b\b\b\b\b\n",
            "Epoch 64/120\n",
            "2441/2441 [==============================] - 5s 2ms/step - loss: 1.4287 - val_loss: 15.3514\b\b\b\b\b\b\b\b\b\b\b\b\b\b\b\b\b\b\b\b\b\b\b\b\b\b\b\b\b\b\b\b\b\b\b\b\b\b\b\b\b\b\b\n",
            "Epoch 65/120\n",
            "2441/2441 [==============================] - 5s 2ms/step - loss: 1.3340 - val_loss: 14.6195\b\b\b\b\b\b\b\b\b\b\b\b\b\b\b\b\b\b\b\b\b\b\b\b\b\b\b\b\b\b\b\b\b\b\b\b\b\b\b\b\b\b\b\n",
            "Epoch 66/120\n",
            "2441/2441 [==============================] - 5s 2ms/step - loss: 1.3467 - val_loss: 14.1198\b\b\b\b\b\b\b\b\b\b\b\b\b\b\b\b\b\b\b\b\b\b\b\b\b\b\b\b\b\b\b\b\b\b\b\b\b\b\b\b\b\b\b\n",
            "Epoch 67/120\n",
            "2441/2441 [==============================] - 5s 2ms/step - loss: 1.3525 - val_loss: 13.5444\b\b\b\b\b\b\b\b\b\b\b\b\b\b\b\b\b\b\b\b\b\b\b\b\b\b\b\b\b\b\b\b\b\b\b\b\b\b\b\b\b\b\b\n",
            "Epoch 68/120\n",
            "2441/2441 [==============================] - 5s 2ms/step - loss: 1.3043 - val_loss: 13.1807\b\b\b\b\b\b\b\b\b\b\b\b\b\b\b\b\b\b\b\b\b\b\b\b\b\b\b\b\b\b\b\b\b\b\b\b\b\b\b\b\b\b\b\n",
            "Epoch 69/120\n",
            "2441/2441 [==============================] - 5s 2ms/step - loss: 1.3167 - val_loss: 12.8396\b\b\b\b\b\b\b\b\b\b\b\b\b\b\b\b\b\b\b\b\b\b\b\b\b\b\b\b\b\b\b\b\b\b\b\b\b\b\b\b\b\b\b\n",
            "Epoch 70/120\n",
            "2441/2441 [==============================] - 5s 2ms/step - loss: 1.3309 - val_loss: 12.5710\b\b\b\b\b\b\b\b\b\b\b\b\b\b\b\b\b\b\b\b\b\b\b\b\b\b\b\b\b\b\b\b\b\b\b\b\b\b\b\b\b\b\b\n",
            "Epoch 71/120\n",
            "2441/2441 [==============================] - 5s 2ms/step - loss: 1.2986 - val_loss: 13.4858\b\b\b\b\b\b\b\b\b\b\b\b\b\b\b\b\b\b\b\b\b\b\b\b\b\b\b\b\b\b\b\b\b\b\b\b\b\b\b\b\b\b\b\n",
            "Epoch 72/120\n",
            "2441/2441 [==============================] - 5s 2ms/step - loss: 1.2390 - val_loss: 13.2094\b\b\b\b\b\b\b\b\b\b\b\b\b\b\b\b\b\b\b\b\b\b\b\b\b\b\b\b\b\b\b\b\b\b\b\b\b\b\b\b\b\b\b\n",
            "Epoch 73/120\n",
            "2441/2441 [==============================] - 5s 2ms/step - loss: 1.2653 - val_loss: 13.7700\b\b\b\b\b\b\b\b\b\b\b\b\b\b\b\b\b\b\b\b\b\b\b\b\b\b\b\b\b\b\b\b\b\b\b\b\b\b\b\b\b\b\b\n",
            "Epoch 74/120\n",
            "2441/2441 [==============================] - 5s 2ms/step - loss: 1.2417 - val_loss: 13.4448\b\b\b\b\b\b\b\b\b\b\b\b\b\b\b\b\b\b\b\b\b\b\b\b\b\b\b\b\b\b\b\b\b\b\b\b\b\b\b\b\b\b\b\n",
            "Epoch 75/120\n",
            "2441/2441 [==============================] - 5s 2ms/step - loss: 1.2208 - val_loss: 10.4910\b\b\b\b\b\b\b\b\b\b\b\b\b\b\b\b\b\b\b\b\b\b\b\b\b\b\b\b\b\b\b\b\b\b\b\b\b\b\b\b\b\b\b\n",
            "Epoch 76/120\n",
            "2441/2441 [==============================] - 5s 2ms/step - loss: 1.1888 - val_loss: 13.0648\b\b\b\b\b\b\b\b\b\b\b\b\b\b\b\b\b\b\b\b\b\b\b\b\b\b\b\b\b\b\b\b\b\b\b\b\b\b\b\b\b\b\b\n",
            "Epoch 77/120\n",
            "2441/2441 [==============================] - 5s 2ms/step - loss: 1.2090 - val_loss: 9.7477\b\b\b\b\b\b\b\b\b\b\b\b\b\b\b\b\b\b\b\b\b\b\b\b\b\b\b\b\b\b\b\b\b\b\b\b\b\b\b\b\b\b\b\b\n",
            "Epoch 78/120\n",
            "2441/2441 [==============================] - 5s 2ms/step - loss: 1.1491 - val_loss: 9.4869\b\b\b\b\b\b\b\b\b\b\b\b\b\b\b\b\b\b\b\b\b\b\b\b\b\b\b\b\b\b\b\b\b\b\b\b\b\b\b\b\b\b\b\b\n",
            "Epoch 79/120\n",
            "2441/2441 [==============================] - 5s 2ms/step - loss: 1.1814 - val_loss: 9.0897\b\b\b\b\b\b\b\b\b\b\b\b\b\b\b\b\b\b\b\b\b\b\b\b\b\b\b\b\b\b\b\b\b\b\b\b\b\b\b\b\b\b\b\b\n",
            "Epoch 80/120\n",
            "2441/2441 [==============================] - 5s 2ms/step - loss: 1.1528 - val_loss: 8.6580\b\b\b\b\b\b\b\b\b\b\b\b\b\b\b\b\b\b\b\b\b\b\b\b\b\b\b\b\b\b\b\b\b\b\b\b\b\b\b\b\b\b\b\b\n",
            "Epoch 81/120\n",
            "2441/2441 [==============================] - 5s 2ms/step - loss: 1.1485 - val_loss: 8.7196\b\b\b\b\b\b\b\b\b\b\b\b\b\b\b\b\b\b\b\b\b\b\b\b\b\b\b\b\b\b\b\b\b\b\b\b\b\b\b\b\b\b\b\b\n",
            "Epoch 82/120\n",
            "2441/2441 [==============================] - 5s 2ms/step - loss: 1.1140 - val_loss: 8.5919\b\b\b\b\b\b\b\b\b\b\b\b\b\b\b\b\b\b\b\b\b\b\b\b\b\b\b\b\b\b\b\b\b\b\b\b\b\b\b\b\b\b\b\b\n",
            "Epoch 83/120\n",
            "2441/2441 [==============================] - 5s 2ms/step - loss: 1.1355 - val_loss: 7.6579\b\b\b\b\b\b\b\b\b\b\b\b\b\b\b\b\b\b\b\b\b\b\b\b\b\b\b\b\b\b\b\b\b\b\b\b\b\b\b\b\b\b\b\b\n",
            "Epoch 84/120\n",
            "2441/2441 [==============================] - 5s 2ms/step - loss: 1.1187 - val_loss: 8.9230\b\b\b\b\b\b\b\b\b\b\b\b\b\b\b\b\b\b\b\b\b\b\b\b\b\b\b\b\b\b\b\b\b\b\b\b\b\b\b\b\b\b\b\b\n",
            "Epoch 85/120\n",
            "2441/2441 [==============================] - 5s 2ms/step - loss: 1.1061 - val_loss: 7.0785\b\b\b\b\b\b\b\b\b\b\b\b\b\b\b\b\b\b\b\b\b\b\b\b\b\b\b\b\b\b\b\b\b\b\b\b\b\b\b\b\b\b\b\b\n",
            "Epoch 86/120\n",
            "2441/2441 [==============================] - 5s 2ms/step - loss: 1.0866 - val_loss: 7.1908\b\b\b\b\b\b\b\b\b\b\b\b\b\b\b\b\b\b\b\b\b\b\b\b\b\b\b\b\b\b\b\b\b\b\b\b\b\b\b\b\b\b\b\b\n",
            "Epoch 87/120\n",
            "2441/2441 [==============================] - 5s 2ms/step - loss: 1.0870 - val_loss: 6.9889\b\b\b\b\b\b\b\b\b\b\b\b\b\b\b\b\b\b\b\b\b\b\b\b\b\b\b\b\b\b\b\b\b\b\b\b\b\b\b\b\b\b\b\b\n",
            "Epoch 88/120\n",
            "2441/2441 [==============================] - 5s 2ms/step - loss: 1.0803 - val_loss: 9.9051\b\b\b\b\b\b\b\b\b\b\b\b\b\b\b\b\b\b\b\b\b\b\b\b\b\b\b\b\b\b\b\b\b\b\b\b\b\b\b\b\b\b\b\b\n",
            "Epoch 89/120\n",
            "2441/2441 [==============================] - 5s 2ms/step - loss: 1.1073 - val_loss: 6.7606\b\b\b\b\b\b\b\b\b\b\b\b\b\b\b\b\b\b\b\b\b\b\b\b\b\b\b\b\b\b\b\b\b\b\b\b\b\b\b\b\b\b\b\b\n",
            "Epoch 90/120\n",
            "2441/2441 [==============================] - 5s 2ms/step - loss: 1.0770 - val_loss: 5.9193\b\b\b\b\b\b\b\b\b\b\b\b\b\b\b\b\b\b\b\b\b\b\b\b\b\b\b\b\b\b\b\b\b\b\b\b\b\b\b\b\b\b\b\b\n",
            "Epoch 91/120\n",
            "2441/2441 [==============================] - 5s 2ms/step - loss: 1.0633 - val_loss: 8.3154\b\b\b\b\b\b\b\b\b\b\b\b\b\b\b\b\b\b\b\b\b\b\b\b\b\b\b\b\b\b\b\b\b\b\b\b\b\b\b\b\b\b\b\b\n",
            "Epoch 92/120\n",
            "2441/2441 [==============================] - 5s 2ms/step - loss: 1.0384 - val_loss: 5.4436\b\b\b\b\b\b\b\b\b\b\b\b\b\b\b\b\b\b\b\b\b\b\b\b\b\b\b\b\b\b\b\b\b\b\b\b\b\b\b\b\b\b\b\b\n",
            "Epoch 93/120\n",
            "2441/2441 [==============================] - 5s 2ms/step - loss: 1.0321 - val_loss: 5.1269\b\b\b\b\b\b\b\b\b\b\b\b\b\b\b\b\b\b\b\b\b\b\b\b\b\b\b\b\b\b\b\b\b\b\b\b\b\b\b\b\b\b\b\b\n",
            "Epoch 94/120\n",
            "2441/2441 [==============================] - 5s 2ms/step - loss: 1.0177 - val_loss: 5.0490\b\b\b\b\b\b\b\b\b\b\b\b\b\b\b\b\b\b\b\b\b\b\b\b\b\b\b\b\b\b\b\b\b\b\b\b\b\b\b\b\b\b\b\b\n",
            "Epoch 95/120\n",
            "2441/2441 [==============================] - 5s 2ms/step - loss: 1.0320 - val_loss: 5.7947\b\b\b\b\b\b\b\b\b\b\b\b\b\b\b\b\b\b\b\b\b\b\b\b\b\b\b\b\b\b\b\b\b\b\b\b\b\b\b\b\b\b\b\b\n",
            "Epoch 96/120\n",
            "2441/2441 [==============================] - 5s 2ms/step - loss: 1.0215 - val_loss: 5.0465\b\b\b\b\b\b\b\b\b\b\b\b\b\b\b\b\b\b\b\b\b\b\b\b\b\b\b\b\b\b\b\b\b\b\b\b\b\b\b\b\b\b\b\b\n",
            "Epoch 97/120\n",
            "2441/2441 [==============================] - 5s 2ms/step - loss: 1.0025 - val_loss: 5.3852\b\b\b\b\b\b\b\b\b\b\b\b\b\b\b\b\b\b\b\b\b\b\b\b\b\b\b\b\b\b\b\b\b\b\b\b\b\b\b\b\b\b\b\b\n",
            "Epoch 98/120\n",
            "2441/2441 [==============================] - 5s 2ms/step - loss: 1.0675 - val_loss: 4.3829\b\b\b\b\b\b\b\b\b\b\b\b\b\b\b\b\b\b\b\b\b\b\b\b\b\b\b\b\b\b\b\b\b\b\b\b\b\b\b\b\b\b\b\b\n",
            "Epoch 99/120\n",
            "2441/2441 [==============================] - 5s 2ms/step - loss: 0.9727 - val_loss: 7.3103\b\b\b\b\b\b\b\b\b\b\b\b\b\b\b\b\b\b\b\b\b\b\b\b\b\b\b\b\b\b\b\b\b\b\b\b\b\b\b\b\b\b\b\b\n",
            "Epoch 100/120\n",
            "2441/2441 [==============================] - 5s 2ms/step - loss: 0.9909 - val_loss: 4.3567\b\b\b\b\b\b\b\b\b\b\b\b\b\b\b\b\b\b\b\b\b\b\b\b\b\b\b\b\b\b\b\b\b\b\b\b\b\b\b\b\b\b\b\b\n",
            "Epoch 101/120\n",
            "2441/2441 [==============================] - 5s 2ms/step - loss: 0.9884 - val_loss: 3.8117\b\b\b\b\b\b\b\b\b\b\b\b\b\b\b\b\b\b\b\b\b\b\b\b\b\b\b\b\b\b\b\b\b\b\b\b\b\b\b\b\b\b\b\b\n",
            "Epoch 102/120\n",
            "2441/2441 [==============================] - 5s 2ms/step - loss: 0.9658 - val_loss: 3.8699\b\b\b\b\b\b\b\b\b\b\b\b\b\b\b\b\b\b\b\b\b\b\b\b\b\b\b\b\b\b\b\b\b\b\b\b\b\b\b\b\b\b\b\b\n",
            "Epoch 103/120\n",
            "2441/2441 [==============================] - 5s 2ms/step - loss: 0.9724 - val_loss: 6.9250\b\b\b\b\b\b\b\b\b\b\b\b\b\b\b\b\b\b\b\b\b\b\b\b\b\b\b\b\b\b\b\b\b\b\b\b\b\b\b\b\b\b\b\b\n",
            "Epoch 104/120\n",
            "2441/2441 [==============================] - 5s 2ms/step - loss: 0.9712 - val_loss: 4.6414\b\b\b\b\b\b\b\b\b\b\b\b\b\b\b\b\b\b\b\b\b\b\b\b\b\b\b\b\b\b\b\b\b\b\b\b\b\b\b\b\b\b\b\b\n",
            "Epoch 105/120\n",
            "2441/2441 [==============================] - 5s 2ms/step - loss: 0.9786 - val_loss: 3.7479\b\b\b\b\b\b\b\b\b\b\b\b\b\b\b\b\b\b\b\b\b\b\b\b\b\b\b\b\b\b\b\b\b\b\b\b\b\b\b\b\b\b\b\b\n",
            "Epoch 106/120\n",
            "2441/2441 [==============================] - 5s 2ms/step - loss: 0.9678 - val_loss: 9.6203\b\b\b\b\b\b\b\b\b\b\b\b\b\b\b\b\b\b\b\b\b\b\b\b\b\b\b\b\b\b\b\b\b\b\b\b\b\b\b\b\b\b\b\b\n",
            "Epoch 107/120\n",
            "2441/2441 [==============================] - 5s 2ms/step - loss: 0.9484 - val_loss: 5.0211\b\b\b\b\b\b\b\b\b\b\b\b\b\b\b\b\b\b\b\b\b\b\b\b\b\b\b\b\b\b\b\b\b\b\b\b\b\b\b\b\b\b\b\b\n",
            "Epoch 108/120\n",
            "2441/2441 [==============================] - 5s 2ms/step - loss: 0.9801 - val_loss: 3.6472\b\b\b\b\b\b\b\b\b\b\b\b\b\b\b\b\b\b\b\b\b\b\b\b\b\b\b\b\b\b\b\b\b\b\b\b\b\b\b\b\b\b\b\b\n",
            "Epoch 109/120\n",
            "2441/2441 [==============================] - 5s 2ms/step - loss: 0.9343 - val_loss: 3.3158\b\b\b\b\b\b\b\b\b\b\b\b\b\b\b\b\b\b\b\b\b\b\b\b\b\b\b\b\b\b\b\b\b\b\b\b\b\b\b\b\b\b\b\b\n",
            "Epoch 110/120\n",
            "2441/2441 [==============================] - 5s 2ms/step - loss: 0.9700 - val_loss: 3.3340\b\b\b\b\b\b\b\b\b\b\b\b\b\b\b\b\b\b\b\b\b\b\b\b\b\b\b\b\b\b\b\b\b\b\b\b\b\b\b\b\b\b\b\b\n",
            "Epoch 111/120\n",
            "2441/2441 [==============================] - 5s 2ms/step - loss: 0.9614 - val_loss: 3.7511\b\b\b\b\b\b\b\b\b\b\b\b\b\b\b\b\b\b\b\b\b\b\b\b\b\b\b\b\b\b\b\b\b\b\b\b\b\b\b\b\b\b\b\b\n",
            "Epoch 112/120\n",
            "2441/2441 [==============================] - 5s 2ms/step - loss: 0.9539 - val_loss: 7.3877\b\b\b\b\b\b\b\b\b\b\b\b\b\b\b\b\b\b\b\b\b\b\b\b\b\b\b\b\b\b\b\b\b\b\b\b\b\b\b\b\b\b\b\b\n",
            "Epoch 113/120\n",
            "2441/2441 [==============================] - 5s 2ms/step - loss: 0.9271 - val_loss: 4.0080\b\b\b\b\b\b\b\b\b\b\b\b\b\b\b\b\b\b\b\b\b\b\b\b\b\b\b\b\b\b\b\b\b\b\b\b\b\b\b\b\b\b\b\b\n",
            "Epoch 114/120\n",
            "2441/2441 [==============================] - 5s 2ms/step - loss: 0.9080 - val_loss: 4.4397\b\b\b\b\b\b\b\b\b\b\b\b\b\b\b\b\b\b\b\b\b\b\b\b\b\b\b\b\b\b\b\b\b\b\b\b\b\b\b\b\b\b\b\b\n",
            "Epoch 115/120\n",
            "2441/2441 [==============================] - 5s 2ms/step - loss: 0.9536 - val_loss: 10.9620\b\b\b\b\b\b\b\b\b\b\b\b\b\b\b\b\b\b\b\b\b\b\b\b\b\b\b\b\b\b\b\b\b\b\b\b\b\b\b\b\b\b\b\n",
            "Epoch 116/120\n",
            "2441/2441 [==============================] - 5s 2ms/step - loss: 0.9530 - val_loss: 3.9668\b\b\b\b\b\b\b\b\b\b\b\b\b\b\b\b\b\b\b\b\b\b\b\b\b\b\b\b\b\b\b\b\b\b\b\b\b\b\b\b\b\b\b\b\n",
            "Epoch 117/120\n",
            "2441/2441 [==============================] - 5s 2ms/step - loss: 0.9563 - val_loss: 11.6371\b\b\b\b\b\b\b\b\b\b\b\b\b\b\b\b\b\b\b\b\b\b\b\b\b\b\b\b\b\b\b\b\b\b\b\b\b\b\b\b\b\b\b\n",
            "Epoch 118/120\n",
            "2441/2441 [==============================] - 5s 2ms/step - loss: 0.9238 - val_loss: 4.3662\b\b\b\b\b\b\b\b\b\b\b\b\b\b\b\b\b\b\b\b\b\b\b\b\b\b\b\b\b\b\b\b\b\b\b\b\b\b\b\b\b\b\b\b\n",
            "Epoch 119/120\n",
            "2441/2441 [==============================] - 5s 2ms/step - loss: 0.9682 - val_loss: 3.0581\b\b\b\b\b\b\b\b\b\b\b\b\b\b\b\b\b\b\b\b\b\b\b\b\b\b\b\b\b\b\b\b\b\b\b\b\b\b\b\b\b\b\b\b\n",
            "Epoch 120/120\n",
            "2441/2441 [==============================] - 5s 2ms/step - loss: 0.9422 - val_loss: 2.7735\b\b\b\b\b\b\b\b\b\b\b\b\b\b\b\b\b\b\b\b\b\b\b\b\b\b\b\b\b\b\b\b\b\b\b\b\b\b\b\b\b\b\b\b\n"
          ]
        },
        {
          "output_type": "execute_result",
          "execution_count": 88,
          "data": {
            "text/plain": "<keras.callbacks.callbacks.History at 0x7feeb5486828>"
          },
          "metadata": {}
        }
      ],
      "execution_count": 88,
      "metadata": {
        "collapsed": true,
        "jupyter": {
          "source_hidden": false,
          "outputs_hidden": false
        },
        "nteract": {
          "transient": {
            "deleting": false
          }
        },
        "gather": {
          "logged": 1620926614705
        }
      }
    },
    {
      "cell_type": "code",
      "source": [
        "test_loss = model.evaluate(X_test, y_test)\r\n",
        "predicted = model.predict(X_test)\r\n",
        "test_loss"
      ],
      "outputs": [
        {
          "output_type": "stream",
          "name": "stdout",
          "text": [
            "\r32/56 [================>.............] - ETA: 0s\b\b\b\b\b\b\b\b\b\b\b\b\b\b\b\b\b\b\b\b\b\b\b\b\b\b\b\b\b\b\b\b\b\b\b\b\b\b\b\b\b\b\b\b\b\b\b\b\r",
            "56/56 [==============================] - 0s 535us/step\n"
          ]
        },
        {
          "output_type": "execute_result",
          "execution_count": 89,
          "data": {
            "text/plain": "3.7757787704467773"
          },
          "metadata": {}
        }
      ],
      "execution_count": 89,
      "metadata": {
        "collapsed": true,
        "jupyter": {
          "source_hidden": false,
          "outputs_hidden": false
        },
        "nteract": {
          "transient": {
            "deleting": false
          }
        },
        "gather": {
          "logged": 1620926636796
        }
      }
    },
    {
      "cell_type": "code",
      "source": [
        "create_plot(y_test, predicted, days, x_ticks, [100, 140])"
      ],
      "outputs": [
        {
          "output_type": "stream",
          "name": "stderr",
          "text": [
            "/anaconda/envs/azureml_py36/lib/python3.6/site-packages/ipykernel_launcher.py:13: UserWarning: You have mixed positional and keyword arguments, some input may be discarded.\n",
            "  del sys.path[0]\n"
          ]
        },
        {
          "output_type": "display_data",
          "data": {
            "text/plain": "<Figure size 864x360 with 1 Axes>",
            "image/png": "[encoded data removed]"
          },
          "metadata": {
            "needs_background": "light"
          }
        }
      ],
      "execution_count": 90,
      "metadata": {
        "collapsed": true,
        "jupyter": {
          "source_hidden": false,
          "outputs_hidden": false
        },
        "nteract": {
          "transient": {
            "deleting": false
          }
        },
        "gather": {
          "logged": 1620926735867
        }
      }
    },
    {
      "cell_type": "code",
      "source": [
        "os.environ['PYTHONHASHSEED'] = str(700)\r\n",
        "np.random.seed(900)\r\n",
        "tfrand.set_seed(575)\r\n",
        "rn.seed(666)\r\n",
        "\r\n",
        "model = Sequential()\r\n",
        "\r\n",
        "model.add(GRU(units=64, input_shape=(20, 1), return_sequences=True))\r\n",
        "model.add(GRU(units=64, return_sequences=True))\r\n",
        "model.add(GRU(units=64, return_sequences=True))\r\n",
        "model.add(GRU(units=64))\r\n",
        "model.add(Dense(1))\r\n",
        "model.compile(optimizer='rmsprop', loss='mae')\r\n",
        "# we use the last 20% of training data as validation set\r\n",
        "\r\n",
        "model.fit(X_train, y_train, epochs=200, batch_size=32, validation_data=(X_validation, y_validation))"
      ],
      "outputs": [
        {
          "output_type": "stream",
          "name": "stdout",
          "text": [
            "Train on 2441 samples, validate on 56 samples\n",
            "Epoch 1/200\n",
            "2441/2441 [==============================] - 8s 3ms/step - loss: 26.5539 - val_loss: 115.0162\b\b\b\b\b\b\b\b\b\b\b\b\b\b\b\b\b\b\b\b\b\b\b\b\b\b\b\b\b\b\b\b\b\b\b\b\b\b\b\b\b\b\b\b\b\b\b\n",
            "Epoch 2/200\n",
            "2441/2441 [==============================] - 6s 2ms/step - loss: 21.6592 - val_loss: 110.2905\b\b\b\b\b\b\b\b\b\b\b\b\b\b\b\b\b\b\b\b\b\b\b\b\b\b\b\b\b\b\b\b\b\b\b\b\b\b\b\b\b\b\b\n",
            "Epoch 3/200\n",
            "2441/2441 [==============================] - 6s 2ms/step - loss: 19.0625 - val_loss: 105.8263\b\b\b\b\b\b\b\b\b\b\b\b\b\b\b\b\b\b\b\b\b\b\b\b\b\b\b\b\b\b\b\b\b\b\b\b\b\b\b\b\b\b\b\n",
            "Epoch 4/200\n",
            "2441/2441 [==============================] - 6s 2ms/step - loss: 17.7951 - val_loss: 102.5397\b\b\b\b\b\b\b\b\b\b\b\b\b\b\b\b\b\b\b\b\b\b\b\b\b\b\b\b\b\b\b\b\b\b\b\b\b\b\b\b\b\b\b\n",
            "Epoch 5/200\n",
            "2441/2441 [==============================] - 6s 2ms/step - loss: 17.5670 - val_loss: 101.8107\b\b\b\b\b\b\b\b\b\b\b\b\b\b\b\b\b\b\b\b\b\b\b\b\b\b\b\b\b\b\b\b\b\b\b\b\b\b\b\b\b\b\b\n",
            "Epoch 6/200\n",
            "2441/2441 [==============================] - 6s 2ms/step - loss: 15.3951 - val_loss: 99.0400\b\b\b\b\b\b\b\b\b\b\b\b\b\b\b\b\b\b\b\b\b\b\b\b\b\b\b\b\b\b\b\b\b\b\b\b\b\b\b\b\b\b\b\b\n",
            "Epoch 7/200\n",
            "2441/2441 [==============================] - 6s 2ms/step - loss: 13.0800 - val_loss: 95.5899\b\b\b\b\b\b\b\b\b\b\b\b\b\b\b\b\b\b\b\b\b\b\b\b\b\b\b\b\b\b\b\b\b\b\b\b\b\b\b\b\b\b\b\b\n",
            "Epoch 8/200\n",
            "2441/2441 [==============================] - 6s 2ms/step - loss: 11.6017 - val_loss: 92.5729\b\b\b\b\b\b\b\b\b\b\b\b\b\b\b\b\b\b\b\b\b\b\b\b\b\b\b\b\b\b\b\b\b\b\b\b\b\b\b\b\b\b\b\b\n",
            "Epoch 9/200\n",
            "2441/2441 [==============================] - 6s 2ms/step - loss: 10.4939 - val_loss: 89.7248\b\b\b\b\b\b\b\b\b\b\b\b\b\b\b\b\b\b\b\b\b\b\b\b\b\b\b\b\b\b\b\b\b\b\b\b\b\b\b\b\b\b\b\b\n",
            "Epoch 10/200\n",
            "2441/2441 [==============================] - 6s 2ms/step - loss: 9.5754 - val_loss: 87.0897\b\b\b\b\b\b\b\b\b\b\b\b\b\b\b\b\b\b\b\b\b\b\b\b\b\b\b\b\b\b\b\b\b\b\b\b\b\b\b\b\b\b\b\b\b\n",
            "Epoch 11/200\n",
            "2441/2441 [==============================] - 6s 2ms/step - loss: 8.8539 - val_loss: 84.7910\b\b\b\b\b\b\b\b\b\b\b\b\b\b\b\b\b\b\b\b\b\b\b\b\b\b\b\b\b\b\b\b\b\b\b\b\b\b\b\b\b\b\b\b\b\n",
            "Epoch 12/200\n",
            "2441/2441 [==============================] - 6s 2ms/step - loss: 8.3560 - val_loss: 82.7391\b\b\b\b\b\b\b\b\b\b\b\b\b\b\b\b\b\b\b\b\b\b\b\b\b\b\b\b\b\b\b\b\b\b\b\b\b\b\b\b\b\b\b\n",
            "Epoch 13/200\n",
            "2441/2441 [==============================] - 6s 2ms/step - loss: 7.8915 - val_loss: 80.7044\b\b\b\b\b\b\b\b\b\b\b\b\b\b\b\b\b\b\b\b\b\b\b\b\b\b\b\b\b\b\b\b\b\b\b\b\b\b\b\b\b\b\b\n",
            "Epoch 14/200\n",
            "2441/2441 [==============================] - 6s 2ms/step - loss: 7.5414 - val_loss: 78.8628\b\b\b\b\b\b\b\b\b\b\b\b\b\b\b\b\b\b\b\b\b\b\b\b\b\b\b\b\b\b\b\b\b\b\b\b\b\b\b\b\b\b\b\b\b\n",
            "Epoch 15/200\n",
            "2441/2441 [==============================] - 6s 2ms/step - loss: 7.1499 - val_loss: 77.1109\b\b\b\b\b\b\b\b\b\b\b\b\b\b\b\b\b\b\b\b\b\b\b\b\b\b\b\b\b\b\b\b\b\b\b\b\b\b\b\b\b\b\b\n",
            "Epoch 16/200\n",
            "2441/2441 [==============================] - 6s 2ms/step - loss: 6.8285 - val_loss: 75.5354\b\b\b\b\b\b\b\b\b\b\b\b\b\b\b\b\b\b\b\b\b\b\b\b\b\b\b\b\b\b\b\b\b\b\b\b\b\b\b\b\b\b\b\n",
            "Epoch 17/200\n",
            "2441/2441 [==============================] - 6s 2ms/step - loss: 6.5633 - val_loss: 74.1611\b\b\b\b\b\b\b\b\b\b\b\b\b\b\b\b\b\b\b\b\b\b\b\b\b\b\b\b\b\b\b\b\b\b\b\b\b\b\b\b\b\b\b\n",
            "Epoch 18/200\n",
            "2441/2441 [==============================] - 6s 2ms/step - loss: 6.2882 - val_loss: 72.8710\b\b\b\b\b\b\b\b\b\b\b\b\b\b\b\b\b\b\b\b\b\b\b\b\b\b\b\b\b\b\b\b\b\b\b\b\b\b\b\b\b\b\b\n",
            "Epoch 19/200\n",
            "2441/2441 [==============================] - 6s 2ms/step - loss: 6.1090 - val_loss: 71.5497\b\b\b\b\b\b\b\b\b\b\b\b\b\b\b\b\b\b\b\b\b\b\b\b\b\b\b\b\b\b\b\b\b\b\b\b\b\b\b\b\b\b\b\n",
            "Epoch 20/200\n",
            "2441/2441 [==============================] - 6s 2ms/step - loss: 5.9120 - val_loss: 70.3227\b\b\b\b\b\b\b\b\b\b\b\b\b\b\b\b\b\b\b\b\b\b\b\b\b\b\b\b\b\b\b\b\b\b\b\b\b\b\b\b\b\b\b\n",
            "Epoch 21/200\n",
            "2441/2441 [==============================] - 6s 2ms/step - loss: 5.7513 - val_loss: 69.1773\b\b\b\b\b\b\b\b\b\b\b\b\b\b\b\b\b\b\b\b\b\b\b\b\b\b\b\b\b\b\b\b\b\b\b\b\b\b\b\b\b\b\b\n",
            "Epoch 22/200\n",
            "2441/2441 [==============================] - 6s 2ms/step - loss: 5.5687 - val_loss: 67.9836\b\b\b\b\b\b\b\b\b\b\b\b\b\b\b\b\b\b\b\b\b\b\b\b\b\b\b\b\b\b\b\b\b\b\b\b\b\b\b\b\b\b\b\n",
            "Epoch 23/200\n",
            "2441/2441 [==============================] - 6s 2ms/step - loss: 5.4046 - val_loss: 66.8466\b\b\b\b\b\b\b\b\b\b\b\b\b\b\b\b\b\b\b\b\b\b\b\b\b\b\b\b\b\b\b\b\b\b\b\b\b\b\b\b\b\b\b\n",
            "Epoch 24/200\n",
            "2441/2441 [==============================] - 6s 2ms/step - loss: 5.2225 - val_loss: 65.6380\b\b\b\b\b\b\b\b\b\b\b\b\b\b\b\b\b\b\b\b\b\b\b\b\b\b\b\b\b\b\b\b\b\b\b\b\b\b\b\b\b\b\b\n",
            "Epoch 25/200\n",
            "2441/2441 [==============================] - 6s 2ms/step - loss: 5.0622 - val_loss: 64.4156\b\b\b\b\b\b\b\b\b\b\b\b\b\b\b\b\b\b\b\b\b\b\b\b\b\b\b\b\b\b\b\b\b\b\b\b\b\b\b\b\b\b\b\n",
            "Epoch 26/200\n",
            "2441/2441 [==============================] - 6s 2ms/step - loss: 4.9226 - val_loss: 63.2859\b\b\b\b\b\b\b\b\b\b\b\b\b\b\b\b\b\b\b\b\b\b\b\b\b\b\b\b\b\b\b\b\b\b\b\b\b\b\b\b\b\b\b\n",
            "Epoch 27/200\n",
            "2441/2441 [==============================] - 6s 2ms/step - loss: 4.7772 - val_loss: 62.1772\b\b\b\b\b\b\b\b\b\b\b\b\b\b\b\b\b\b\b\b\b\b\b\b\b\b\b\b\b\b\b\b\b\b\b\b\b\b\b\b\b\b\b\n",
            "Epoch 28/200\n",
            "2441/2441 [==============================] - 6s 2ms/step - loss: 4.6511 - val_loss: 61.2141\b\b\b\b\b\b\b\b\b\b\b\b\b\b\b\b\b\b\b\b\b\b\b\b\b\b\b\b\b\b\b\b\b\b\b\b\b\b\b\b\b\b\b\n",
            "Epoch 29/200\n",
            "2441/2441 [==============================] - 6s 2ms/step - loss: 4.5141 - val_loss: 60.2199\b\b\b\b\b\b\b\b\b\b\b\b\b\b\b\b\b\b\b\b\b\b\b\b\b\b\b\b\b\b\b\b\b\b\b\b\b\b\b\b\b\b\b\n",
            "Epoch 30/200\n",
            "2441/2441 [==============================] - 6s 2ms/step - loss: 4.4254 - val_loss: 59.2143\b\b\b\b\b\b\b\b\b\b\b\b\b\b\b\b\b\b\b\b\b\b\b\b\b\b\b\b\b\b\b\b\b\b\b\b\b\b\b\b\b\b\b\n",
            "Epoch 31/200\n",
            "2441/2441 [==============================] - 6s 2ms/step - loss: 4.3287 - val_loss: 58.2520\b\b\b\b\b\b\b\b\b\b\b\b\b\b\b\b\b\b\b\b\b\b\b\b\b\b\b\b\b\b\b\b\b\b\b\b\b\b\b\b\b\b\b\n",
            "Epoch 32/200\n",
            "2441/2441 [==============================] - 6s 2ms/step - loss: 4.2413 - val_loss: 57.3128\b\b\b\b\b\b\b\b\b\b\b\b\b\b\b\b\b\b\b\b\b\b\b\b\b\b\b\b\b\b\b\b\b\b\b\b\b\b\b\b\b\b\b\n",
            "Epoch 33/200\n",
            "2441/2441 [==============================] - 6s 2ms/step - loss: 4.1227 - val_loss: 56.3814\b\b\b\b\b\b\b\b\b\b\b\b\b\b\b\b\b\b\b\b\b\b\b\b\b\b\b\b\b\b\b\b\b\b\b\b\b\b\b\b\b\b\b\n",
            "Epoch 34/200\n",
            "2441/2441 [==============================] - 6s 2ms/step - loss: 3.9983 - val_loss: 55.4461\b\b\b\b\b\b\b\b\b\b\b\b\b\b\b\b\b\b\b\b\b\b\b\b\b\b\b\b\b\b\b\b\b\b\b\b\b\b\b\b\b\b\b\n",
            "Epoch 35/200\n",
            "2441/2441 [==============================] - 6s 2ms/step - loss: 3.9341 - val_loss: 54.6221\b\b\b\b\b\b\b\b\b\b\b\b\b\b\b\b\b\b\b\b\b\b\b\b\b\b\b\b\b\b\b\b\b\b\b\b\b\b\b\b\b\b\b\n",
            "Epoch 36/200\n",
            "2441/2441 [==============================] - 6s 2ms/step - loss: 3.8309 - val_loss: 53.8072\b\b\b\b\b\b\b\b\b\b\b\b\b\b\b\b\b\b\b\b\b\b\b\b\b\b\b\b\b\b\b\b\b\b\b\b\b\b\b\b\b\b\b\n",
            "Epoch 37/200\n",
            "2441/2441 [==============================] - 6s 2ms/step - loss: 3.7546 - val_loss: 52.8968\b\b\b\b\b\b\b\b\b\b\b\b\b\b\b\b\b\b\b\b\b\b\b\b\b\b\b\b\b\b\b\b\b\b\b\b\b\b\b\b\b\b\b\n",
            "Epoch 38/200\n",
            "2441/2441 [==============================] - 6s 2ms/step - loss: 3.6905 - val_loss: 52.0789\b\b\b\b\b\b\b\b\b\b\b\b\b\b\b\b\b\b\b\b\b\b\b\b\b\b\b\b\b\b\b\b\b\b\b\b\b\b\b\b\b\b\b\n",
            "Epoch 39/200\n",
            "2441/2441 [==============================] - 6s 2ms/step - loss: 3.6126 - val_loss: 51.2579\b\b\b\b\b\b\b\b\b\b\b\b\b\b\b\b\b\b\b\b\b\b\b\b\b\b\b\b\b\b\b\b\b\b\b\b\b\b\b\b\b\b\b\n",
            "Epoch 40/200\n",
            "2441/2441 [==============================] - 6s 2ms/step - loss: 3.5445 - val_loss: 50.5497\b\b\b\b\b\b\b\b\b\b\b\b\b\b\b\b\b\b\b\b\b\b\b\b\b\b\b\b\b\b\b\b\b\b\b\b\b\b\b\b\b\b\b\n",
            "Epoch 41/200\n",
            "2441/2441 [==============================] - 6s 2ms/step - loss: 3.4727 - val_loss: 49.8435\b\b\b\b\b\b\b\b\b\b\b\b\b\b\b\b\b\b\b\b\b\b\b\b\b\b\b\b\b\b\b\b\b\b\b\b\b\b\b\b\b\b\b\n",
            "Epoch 42/200\n",
            "2441/2441 [==============================] - 6s 2ms/step - loss: 3.4239 - val_loss: 49.0871\b\b\b\b\b\b\b\b\b\b\b\b\b\b\b\b\b\b\b\b\b\b\b\b\b\b\b\b\b\b\b\b\b\b\b\b\b\b\b\b\b\b\b\n",
            "Epoch 43/200\n",
            "2441/2441 [==============================] - 6s 2ms/step - loss: 3.3493 - val_loss: 48.3893\b\b\b\b\b\b\b\b\b\b\b\b\b\b\b\b\b\b\b\b\b\b\b\b\b\b\b\b\b\b\b\b\b\b\b\b\b\b\b\b\b\b\b\n",
            "Epoch 44/200\n",
            "2441/2441 [==============================] - 6s 2ms/step - loss: 3.2972 - val_loss: 47.7527\b\b\b\b\b\b\b\b\b\b\b\b\b\b\b\b\b\b\b\b\b\b\b\b\b\b\b\b\b\b\b\b\b\b\b\b\b\b\b\b\b\b\b\n",
            "Epoch 45/200\n",
            "2441/2441 [==============================] - 6s 2ms/step - loss: 3.2495 - val_loss: 47.0279\b\b\b\b\b\b\b\b\b\b\b\b\b\b\b\b\b\b\b\b\b\b\b\b\b\b\b\b\b\b\b\b\b\b\b\b\b\b\b\b\b\b\b\n",
            "Epoch 46/200\n",
            "2441/2441 [==============================] - 6s 2ms/step - loss: 3.1823 - val_loss: 46.3448\b\b\b\b\b\b\b\b\b\b\b\b\b\b\b\b\b\b\b\b\b\b\b\b\b\b\b\b\b\b\b\b\b\b\b\b\b\b\b\b\b\b\b\n",
            "Epoch 47/200\n",
            "2441/2441 [==============================] - 6s 2ms/step - loss: 3.1398 - val_loss: 45.6879\b\b\b\b\b\b\b\b\b\b\b\b\b\b\b\b\b\b\b\b\b\b\b\b\b\b\b\b\b\b\b\b\b\b\b\b\b\b\b\b\b\b\b\n",
            "Epoch 48/200\n",
            "2441/2441 [==============================] - 6s 2ms/step - loss: 3.0959 - val_loss: 44.9462\b\b\b\b\b\b\b\b\b\b\b\b\b\b\b\b\b\b\b\b\b\b\b\b\b\b\b\b\b\b\b\b\b\b\b\b\b\b\b\b\b\b\b\n",
            "Epoch 49/200\n",
            "2441/2441 [==============================] - 6s 2ms/step - loss: 3.0308 - val_loss: 44.1926\b\b\b\b\b\b\b\b\b\b\b\b\b\b\b\b\b\b\b\b\b\b\b\b\b\b\b\b\b\b\b\b\b\b\b\b\b\b\b\b\b\b\b\n",
            "Epoch 50/200\n",
            "2441/2441 [==============================] - 6s 2ms/step - loss: 2.9725 - val_loss: 43.5349\b\b\b\b\b\b\b\b\b\b\b\b\b\b\b\b\b\b\b\b\b\b\b\b\b\b\b\b\b\b\b\b\b\b\b\b\b\b\b\b\b\b\b\n",
            "Epoch 51/200\n",
            "2441/2441 [==============================] - 6s 2ms/step - loss: 2.9399 - val_loss: 42.8652\b\b\b\b\b\b\b\b\b\b\b\b\b\b\b\b\b\b\b\b\b\b\b\b\b\b\b\b\b\b\b\b\b\b\b\b\b\b\b\b\b\b\b\n",
            "Epoch 52/200\n",
            "2441/2441 [==============================] - 6s 2ms/step - loss: 2.8844 - val_loss: 42.1363\b\b\b\b\b\b\b\b\b\b\b\b\b\b\b\b\b\b\b\b\b\b\b\b\b\b\b\b\b\b\b\b\b\b\b\b\b\b\b\b\b\b\b\n",
            "Epoch 53/200\n",
            "2441/2441 [==============================] - 6s 2ms/step - loss: 2.8045 - val_loss: 41.4549\b\b\b\b\b\b\b\b\b\b\b\b\b\b\b\b\b\b\b\b\b\b\b\b\b\b\b\b\b\b\b\b\b\b\b\b\b\b\b\b\b\b\b\n",
            "Epoch 54/200\n",
            "2441/2441 [==============================] - 6s 2ms/step - loss: 2.8332 - val_loss: 40.8030\b\b\b\b\b\b\b\b\b\b\b\b\b\b\b\b\b\b\b\b\b\b\b\b\b\b\b\b\b\b\b\b\b\b\b\b\b\b\b\b\b\b\b\n",
            "Epoch 55/200\n",
            "2441/2441 [==============================] - 6s 2ms/step - loss: 2.7025 - val_loss: 39.9993\b\b\b\b\b\b\b\b\b\b\b\b\b\b\b\b\b\b\b\b\b\b\b\b\b\b\b\b\b\b\b\b\b\b\b\b\b\b\b\b\b\b\b\n",
            "Epoch 56/200\n",
            "2441/2441 [==============================] - 6s 2ms/step - loss: 2.6827 - val_loss: 39.3538\b\b\b\b\b\b\b\b\b\b\b\b\b\b\b\b\b\b\b\b\b\b\b\b\b\b\b\b\b\b\b\b\b\b\b\b\b\b\b\b\b\b\b\n",
            "Epoch 57/200\n",
            "2441/2441 [==============================] - 6s 2ms/step - loss: 2.6475 - val_loss: 38.7364\b\b\b\b\b\b\b\b\b\b\b\b\b\b\b\b\b\b\b\b\b\b\b\b\b\b\b\b\b\b\b\b\b\b\b\b\b\b\b\b\b\b\b\n",
            "Epoch 58/200\n",
            "2441/2441 [==============================] - 6s 2ms/step - loss: 2.5916 - val_loss: 37.9832\b\b\b\b\b\b\b\b\b\b\b\b\b\b\b\b\b\b\b\b\b\b\b\b\b\b\b\b\b\b\b\b\b\b\b\b\b\b\b\b\b\b\b\n",
            "Epoch 59/200\n",
            "2441/2441 [==============================] - 6s 2ms/step - loss: 2.5117 - val_loss: 37.3738\b\b\b\b\b\b\b\b\b\b\b\b\b\b\b\b\b\b\b\b\b\b\b\b\b\b\b\b\b\b\b\b\b\b\b\b\b\b\b\b\b\b\b\n",
            "Epoch 60/200\n",
            "2441/2441 [==============================] - 6s 2ms/step - loss: 2.4812 - val_loss: 36.7218\b\b\b\b\b\b\b\b\b\b\b\b\b\b\b\b\b\b\b\b\b\b\b\b\b\b\b\b\b\b\b\b\b\b\b\b\b\b\b\b\b\b\b\n",
            "Epoch 61/200\n",
            "2441/2441 [==============================] - 6s 2ms/step - loss: 2.4389 - val_loss: 36.1561\b\b\b\b\b\b\b\b\b\b\b\b\b\b\b\b\b\b\b\b\b\b\b\b\b\b\b\b\b\b\b\b\b\b\b\b\b\b\b\b\b\b\b\n",
            "Epoch 62/200\n",
            "2441/2441 [==============================] - 6s 2ms/step - loss: 2.4010 - val_loss: 35.4861\b\b\b\b\b\b\b\b\b\b\b\b\b\b\b\b\b\b\b\b\b\b\b\b\b\b\b\b\b\b\b\b\b\b\b\b\b\b\b\b\b\b\b\n",
            "Epoch 63/200\n",
            "2441/2441 [==============================] - 6s 2ms/step - loss: 2.3638 - val_loss: 34.8557\b\b\b\b\b\b\b\b\b\b\b\b\b\b\b\b\b\b\b\b\b\b\b\b\b\b\b\b\b\b\b\b\b\b\b\b\b\b\b\b\b\b\b\n",
            "Epoch 64/200\n",
            "2441/2441 [==============================] - 6s 2ms/step - loss: 2.3184 - val_loss: 34.2121\b\b\b\b\b\b\b\b\b\b\b\b\b\b\b\b\b\b\b\b\b\b\b\b\b\b\b\b\b\b\b\b\b\b\b\b\b\b\b\b\b\b\b\n",
            "Epoch 65/200\n",
            "2441/2441 [==============================] - 6s 2ms/step - loss: 2.2925 - val_loss: 33.5959\b\b\b\b\b\b\b\b\b\b\b\b\b\b\b\b\b\b\b\b\b\b\b\b\b\b\b\b\b\b\b\b\b\b\b\b\b\b\b\b\b\b\b\n",
            "Epoch 66/200\n",
            "2441/2441 [==============================] - 6s 2ms/step - loss: 2.2404 - val_loss: 33.0158\b\b\b\b\b\b\b\b\b\b\b\b\b\b\b\b\b\b\b\b\b\b\b\b\b\b\b\b\b\b\b\b\b\b\b\b\b\b\b\b\b\b\b\n",
            "Epoch 67/200\n",
            "2441/2441 [==============================] - 6s 2ms/step - loss: 2.2321 - val_loss: 32.4092\b\b\b\b\b\b\b\b\b\b\b\b\b\b\b\b\b\b\b\b\b\b\b\b\b\b\b\b\b\b\b\b\b\b\b\b\b\b\b\b\b\b\b\n",
            "Epoch 68/200\n",
            "2441/2441 [==============================] - 6s 2ms/step - loss: 2.1743 - val_loss: 31.8418\b\b\b\b\b\b\b\b\b\b\b\b\b\b\b\b\b\b\b\b\b\b\b\b\b\b\b\b\b\b\b\b\b\b\b\b\b\b\b\b\b\b\b\n",
            "Epoch 69/200\n",
            "2441/2441 [==============================] - 6s 2ms/step - loss: 2.1347 - val_loss: 31.2229\b\b\b\b\b\b\b\b\b\b\b\b\b\b\b\b\b\b\b\b\b\b\b\b\b\b\b\b\b\b\b\b\b\b\b\b\b\b\b\b\b\b\b\n",
            "Epoch 70/200\n",
            "2441/2441 [==============================] - 6s 2ms/step - loss: 2.1087 - val_loss: 30.6222\b\b\b\b\b\b\b\b\b\b\b\b\b\b\b\b\b\b\b\b\b\b\b\b\b\b\b\b\b\b\b\b\b\b\b\b\b\b\b\b\b\b\b\n",
            "Epoch 71/200\n",
            "2441/2441 [==============================] - 6s 2ms/step - loss: 2.0656 - val_loss: 29.9993\b\b\b\b\b\b\b\b\b\b\b\b\b\b\b\b\b\b\b\b\b\b\b\b\b\b\b\b\b\b\b\b\b\b\b\b\b\b\b\b\b\b\b\n",
            "Epoch 72/200\n",
            "2441/2441 [==============================] - 6s 2ms/step - loss: 2.0193 - val_loss: 29.3841\b\b\b\b\b\b\b\b\b\b\b\b\b\b\b\b\b\b\b\b\b\b\b\b\b\b\b\b\b\b\b\b\b\b\b\b\b\b\b\b\b\b\b\n",
            "Epoch 73/200\n",
            "2441/2441 [==============================] - 6s 2ms/step - loss: 1.9754 - val_loss: 28.7721\b\b\b\b\b\b\b\b\b\b\b\b\b\b\b\b\b\b\b\b\b\b\b\b\b\b\b\b\b\b\b\b\b\b\b\b\b\b\b\b\b\b\b\n",
            "Epoch 74/200\n",
            "2441/2441 [==============================] - 6s 2ms/step - loss: 1.9603 - val_loss: 28.2378\b\b\b\b\b\b\b\b\b\b\b\b\b\b\b\b\b\b\b\b\b\b\b\b\b\b\b\b\b\b\b\b\b\b\b\b\b\b\b\b\b\b\b\n",
            "Epoch 75/200\n",
            "2441/2441 [==============================] - 6s 2ms/step - loss: 1.9153 - val_loss: 27.5352\b\b\b\b\b\b\b\b\b\b\b\b\b\b\b\b\b\b\b\b\b\b\b\b\b\b\b\b\b\b\b\b\b\b\b\b\b\b\b\b\b\b\b\n",
            "Epoch 76/200\n",
            "2441/2441 [==============================] - 6s 2ms/step - loss: 1.8767 - val_loss: 26.9577\b\b\b\b\b\b\b\b\b\b\b\b\b\b\b\b\b\b\b\b\b\b\b\b\b\b\b\b\b\b\b\b\b\b\b\b\b\b\b\b\b\b\b\n",
            "Epoch 77/200\n",
            "2441/2441 [==============================] - 6s 2ms/step - loss: 1.8567 - val_loss: 26.3705\b\b\b\b\b\b\b\b\b\b\b\b\b\b\b\b\b\b\b\b\b\b\b\b\b\b\b\b\b\b\b\b\b\b\b\b\b\b\b\b\b\b\b\n",
            "Epoch 78/200\n",
            "2441/2441 [==============================] - 6s 2ms/step - loss: 1.8338 - val_loss: 25.7903\b\b\b\b\b\b\b\b\b\b\b\b\b\b\b\b\b\b\b\b\b\b\b\b\b\b\b\b\b\b\b\b\b\b\b\b\b\b\b\b\b\b\b\n",
            "Epoch 79/200\n",
            "2441/2441 [==============================] - 6s 2ms/step - loss: 1.7959 - val_loss: 25.2197\b\b\b\b\b\b\b\b\b\b\b\b\b\b\b\b\b\b\b\b\b\b\b\b\b\b\b\b\b\b\b\b\b\b\b\b\b\b\b\b\b\b\b\n",
            "Epoch 80/200\n",
            "2441/2441 [==============================] - 6s 2ms/step - loss: 1.7422 - val_loss: 24.5470\b\b\b\b\b\b\b\b\b\b\b\b\b\b\b\b\b\b\b\b\b\b\b\b\b\b\b\b\b\b\b\b\b\b\b\b\b\b\b\b\b\b\b\n",
            "Epoch 81/200\n",
            "2441/2441 [==============================] - 6s 2ms/step - loss: 1.6986 - val_loss: 23.9789\b\b\b\b\b\b\b\b\b\b\b\b\b\b\b\b\b\b\b\b\b\b\b\b\b\b\b\b\b\b\b\b\b\b\b\b\b\b\b\b\b\b\b\n",
            "Epoch 82/200\n",
            "2441/2441 [==============================] - 6s 2ms/step - loss: 1.6507 - val_loss: 23.3571\b\b\b\b\b\b\b\b\b\b\b\b\b\b\b\b\b\b\b\b\b\b\b\b\b\b\b\b\b\b\b\b\b\b\b\b\b\b\b\b\b\b\b\n",
            "Epoch 83/200\n",
            "2441/2441 [==============================] - 6s 2ms/step - loss: 1.6313 - val_loss: 22.7112\b\b\b\b\b\b\b\b\b\b\b\b\b\b\b\b\b\b\b\b\b\b\b\b\b\b\b\b\b\b\b\b\b\b\b\b\b\b\b\b\b\b\b\n",
            "Epoch 84/200\n",
            "2441/2441 [==============================] - 6s 2ms/step - loss: 1.5940 - val_loss: 22.0779\b\b\b\b\b\b\b\b\b\b\b\b\b\b\b\b\b\b\b\b\b\b\b\b\b\b\b\b\b\b\b\b\b\b\b\b\b\b\b\b\b\b\b\n",
            "Epoch 85/200\n",
            "2441/2441 [==============================] - 6s 2ms/step - loss: 1.5495 - val_loss: 21.4921\b\b\b\b\b\b\b\b\b\b\b\b\b\b\b\b\b\b\b\b\b\b\b\b\b\b\b\b\b\b\b\b\b\b\b\b\b\b\b\b\b\b\b\n",
            "Epoch 86/200\n",
            "2441/2441 [==============================] - 6s 2ms/step - loss: 1.5139 - val_loss: 20.8980\b\b\b\b\b\b\b\b\b\b\b\b\b\b\b\b\b\b\b\b\b\b\b\b\b\b\b\b\b\b\b\b\b\b\b\b\b\b\b\b\b\b\b\n",
            "Epoch 87/200\n",
            "2441/2441 [==============================] - 6s 2ms/step - loss: 1.4840 - val_loss: 20.3973\b\b\b\b\b\b\b\b\b\b\b\b\b\b\b\b\b\b\b\b\b\b\b\b\b\b\b\b\b\b\b\b\b\b\b\b\b\b\b\b\b\b\b\n",
            "Epoch 88/200\n",
            "2441/2441 [==============================] - 6s 2ms/step - loss: 1.4622 - val_loss: 19.8154\b\b\b\b\b\b\b\b\b\b\b\b\b\b\b\b\b\b\b\b\b\b\b\b\b\b\b\b\b\b\b\b\b\b\b\b\b\b\b\b\b\b\b\n",
            "Epoch 89/200\n",
            "2441/2441 [==============================] - 6s 2ms/step - loss: 1.4354 - val_loss: 19.2878\b\b\b\b\b\b\b\b\b\b\b\b\b\b\b\b\b\b\b\b\b\b\b\b\b\b\b\b\b\b\b\b\b\b\b\b\b\b\b\b\b\b\b\n",
            "Epoch 90/200\n",
            "2441/2441 [==============================] - 6s 2ms/step - loss: 1.4301 - val_loss: 18.7779\b\b\b\b\b\b\b\b\b\b\b\b\b\b\b\b\b\b\b\b\b\b\b\b\b\b\b\b\b\b\b\b\b\b\b\b\b\b\b\b\b\b\b\n",
            "Epoch 91/200\n",
            "2441/2441 [==============================] - 6s 2ms/step - loss: 1.3955 - val_loss: 18.2116\b\b\b\b\b\b\b\b\b\b\b\b\b\b\b\b\b\b\b\b\b\b\b\b\b\b\b\b\b\b\b\b\b\b\b\b\b\b\b\b\b\b\b\n",
            "Epoch 92/200\n",
            "2441/2441 [==============================] - 6s 2ms/step - loss: 1.3514 - val_loss: 17.8345\b\b\b\b\b\b\b\b\b\b\b\b\b\b\b\b\b\b\b\b\b\b\b\b\b\b\b\b\b\b\b\b\b\b\b\b\b\b\b\b\b\b\b\n",
            "Epoch 93/200\n",
            "2441/2441 [==============================] - 6s 2ms/step - loss: 1.3492 - val_loss: 17.2948\b\b\b\b\b\b\b\b\b\b\b\b\b\b\b\b\b\b\b\b\b\b\b\b\b\b\b\b\b\b\b\b\b\b\b\b\b\b\b\b\b\b\b\n",
            "Epoch 94/200\n",
            "2441/2441 [==============================] - 6s 2ms/step - loss: 1.3205 - val_loss: 16.8484\b\b\b\b\b\b\b\b\b\b\b\b\b\b\b\b\b\b\b\b\b\b\b\b\b\b\b\b\b\b\b\b\b\b\b\b\b\b\b\b\b\b\b\n",
            "Epoch 95/200\n",
            "2441/2441 [==============================] - 6s 2ms/step - loss: 1.3142 - val_loss: 16.4914\b\b\b\b\b\b\b\b\b\b\b\b\b\b\b\b\b\b\b\b\b\b\b\b\b\b\b\b\b\b\b\b\b\b\b\b\b\b\b\b\b\b\b\n",
            "Epoch 96/200\n",
            "2441/2441 [==============================] - 6s 2ms/step - loss: 1.2960 - val_loss: 16.0495\b\b\b\b\b\b\b\b\b\b\b\b\b\b\b\b\b\b\b\b\b\b\b\b\b\b\b\b\b\b\b\b\b\b\b\b\b\b\b\b\b\b\b\n",
            "Epoch 97/200\n",
            "2441/2441 [==============================] - 6s 2ms/step - loss: 1.2628 - val_loss: 15.6941\b\b\b\b\b\b\b\b\b\b\b\b\b\b\b\b\b\b\b\b\b\b\b\b\b\b\b\b\b\b\b\b\b\b\b\b\b\b\b\b\b\b\b\n",
            "Epoch 98/200\n",
            "2441/2441 [==============================] - 6s 2ms/step - loss: 1.2605 - val_loss: 15.3164\b\b\b\b\b\b\b\b\b\b\b\b\b\b\b\b\b\b\b\b\b\b\b\b\b\b\b\b\b\b\b\b\b\b\b\b\b\b\b\b\b\b\b\n",
            "Epoch 99/200\n",
            "2441/2441 [==============================] - 6s 2ms/step - loss: 1.2431 - val_loss: 15.0458\b\b\b\b\b\b\b\b\b\b\b\b\b\b\b\b\b\b\b\b\b\b\b\b\b\b\b\b\b\b\b\b\b\b\b\b\b\b\b\b\b\b\b\n",
            "Epoch 100/200\n",
            "2441/2441 [==============================] - 6s 2ms/step - loss: 1.2150 - val_loss: 14.7048\b\b\b\b\b\b\b\b\b\b\b\b\b\b\b\b\b\b\b\b\b\b\b\b\b\b\b\b\b\b\b\b\b\b\b\b\b\b\b\b\b\b\b\n",
            "Epoch 101/200\n",
            "2441/2441 [==============================] - 6s 2ms/step - loss: 1.2110 - val_loss: 14.4248\b\b\b\b\b\b\b\b\b\b\b\b\b\b\b\b\b\b\b\b\b\b\b\b\b\b\b\b\b\b\b\b\b\b\b\b\b\b\b\b\b\b\b\n",
            "Epoch 102/200\n",
            "2441/2441 [==============================] - 6s 2ms/step - loss: 1.1984 - val_loss: 14.2252\b\b\b\b\b\b\b\b\b\b\b\b\b\b\b\b\b\b\b\b\b\b\b\b\b\b\b\b\b\b\b\b\b\b\b\b\b\b\b\b\b\b\b\n",
            "Epoch 103/200\n",
            "2441/2441 [==============================] - 6s 2ms/step - loss: 1.2018 - val_loss: 14.2614\b\b\b\b\b\b\b\b\b\b\b\b\b\b\b\b\b\b\b\b\b\b\b\b\b\b\b\b\b\b\b\b\b\b\b\b\b\b\b\b\b\b\b\n",
            "Epoch 104/200\n",
            "2441/2441 [==============================] - 6s 2ms/step - loss: 1.2107 - val_loss: 13.9815\b\b\b\b\b\b\b\b\b\b\b\b\b\b\b\b\b\b\b\b\b\b\b\b\b\b\b\b\b\b\b\b\b\b\b\b\b\b\b\b\b\b\b\n",
            "Epoch 105/200\n",
            "2441/2441 [==============================] - 6s 2ms/step - loss: 1.1772 - val_loss: 13.5235\b\b\b\b\b\b\b\b\b\b\b\b\b\b\b\b\b\b\b\b\b\b\b\b\b\b\b\b\b\b\b\b\b\b\b\b\b\b\b\b\b\b\b\n",
            "Epoch 106/200\n",
            "2441/2441 [==============================] - 6s 2ms/step - loss: 1.1784 - val_loss: 13.2977\b\b\b\b\b\b\b\b\b\b\b\b\b\b\b\b\b\b\b\b\b\b\b\b\b\b\b\b\b\b\b\b\b\b\b\b\b\b\b\b\b\b\b\n",
            "Epoch 107/200\n",
            "2441/2441 [==============================] - 6s 2ms/step - loss: 1.1668 - val_loss: 13.0725\b\b\b\b\b\b\b\b\b\b\b\b\b\b\b\b\b\b\b\b\b\b\b\b\b\b\b\b\b\b\b\b\b\b\b\b\b\b\b\b\b\b\b\n",
            "Epoch 108/200\n",
            "2441/2441 [==============================] - 6s 2ms/step - loss: 1.1258 - val_loss: 12.9373\b\b\b\b\b\b\b\b\b\b\b\b\b\b\b\b\b\b\b\b\b\b\b\b\b\b\b\b\b\b\b\b\b\b\b\b\b\b\b\b\b\b\b\n",
            "Epoch 109/200\n",
            "2441/2441 [==============================] - 6s 2ms/step - loss: 1.1272 - val_loss: 12.7855\b\b\b\b\b\b\b\b\b\b\b\b\b\b\b\b\b\b\b\b\b\b\b\b\b\b\b\b\b\b\b\b\b\b\b\b\b\b\b\b\b\b\b\n",
            "Epoch 110/200\n",
            "2441/2441 [==============================] - 6s 2ms/step - loss: 1.1356 - val_loss: 12.7135\b\b\b\b\b\b\b\b\b\b\b\b\b\b\b\b\b\b\b\b\b\b\b\b\b\b\b\b\b\b\b\b\b\b\b\b\b\b\b\b\b\b\b\n",
            "Epoch 111/200\n",
            "2441/2441 [==============================] - 6s 2ms/step - loss: 1.1315 - val_loss: 12.0894\b\b\b\b\b\b\b\b\b\b\b\b\b\b\b\b\b\b\b\b\b\b\b\b\b\b\b\b\b\b\b\b\b\b\b\b\b\b\b\b\b\b\b\n",
            "Epoch 112/200\n",
            "2441/2441 [==============================] - 6s 2ms/step - loss: 1.1185 - val_loss: 11.9279\b\b\b\b\b\b\b\b\b\b\b\b\b\b\b\b\b\b\b\b\b\b\b\b\b\b\b\b\b\b\b\b\b\b\b\b\b\b\b\b\b\b\b\n",
            "Epoch 113/200\n",
            "2441/2441 [==============================] - 6s 2ms/step - loss: 1.1295 - val_loss: 11.9979\b\b\b\b\b\b\b\b\b\b\b\b\b\b\b\b\b\b\b\b\b\b\b\b\b\b\b\b\b\b\b\b\b\b\b\b\b\b\b\b\b\b\b\n",
            "Epoch 114/200\n",
            "2441/2441 [==============================] - 6s 2ms/step - loss: 1.0960 - val_loss: 11.6043\b\b\b\b\b\b\b\b\b\b\b\b\b\b\b\b\b\b\b\b\b\b\b\b\b\b\b\b\b\b\b\b\b\b\b\b\b\b\b\b\b\b\b\n",
            "Epoch 115/200\n",
            "2441/2441 [==============================] - 6s 2ms/step - loss: 1.0899 - val_loss: 11.3002\b\b\b\b\b\b\b\b\b\b\b\b\b\b\b\b\b\b\b\b\b\b\b\b\b\b\b\b\b\b\b\b\b\b\b\b\b\b\b\b\b\b\b\n",
            "Epoch 116/200\n",
            "2441/2441 [==============================] - 6s 2ms/step - loss: 1.1135 - val_loss: 11.0737\b\b\b\b\b\b\b\b\b\b\b\b\b\b\b\b\b\b\b\b\b\b\b\b\b\b\b\b\b\b\b\b\b\b\b\b\b\b\b\b\b\b\b\n",
            "Epoch 117/200\n",
            "2441/2441 [==============================] - 6s 2ms/step - loss: 1.0739 - val_loss: 11.0548\b\b\b\b\b\b\b\b\b\b\b\b\b\b\b\b\b\b\b\b\b\b\b\b\b\b\b\b\b\b\b\b\b\b\b\b\b\b\b\b\b\b\b\n",
            "Epoch 118/200\n",
            "2441/2441 [==============================] - 6s 2ms/step - loss: 1.0983 - val_loss: 11.6507\b\b\b\b\b\b\b\b\b\b\b\b\b\b\b\b\b\b\b\b\b\b\b\b\b\b\b\b\b\b\b\b\b\b\b\b\b\b\b\b\b\b\b\n",
            "Epoch 119/200\n",
            "2441/2441 [==============================] - 6s 2ms/step - loss: 1.0648 - val_loss: 10.5720\b\b\b\b\b\b\b\b\b\b\b\b\b\b\b\b\b\b\b\b\b\b\b\b\b\b\b\b\b\b\b\b\b\b\b\b\b\b\b\b\b\b\b\n",
            "Epoch 120/200\n",
            "2441/2441 [==============================] - 6s 2ms/step - loss: 1.0686 - val_loss: 11.4091\b\b\b\b\b\b\b\b\b\b\b\b\b\b\b\b\b\b\b\b\b\b\b\b\b\b\b\b\b\b\b\b\b\b\b\b\b\b\b\b\b\b\b\n",
            "Epoch 121/200\n",
            "2441/2441 [==============================] - 6s 2ms/step - loss: 1.0537 - val_loss: 10.3675\b\b\b\b\b\b\b\b\b\b\b\b\b\b\b\b\b\b\b\b\b\b\b\b\b\b\b\b\b\b\b\b\b\b\b\b\b\b\b\b\b\b\b\n",
            "Epoch 122/200\n",
            "2441/2441 [==============================] - 6s 2ms/step - loss: 1.0599 - val_loss: 9.9046\b\b\b\b\b\b\b\b\b\b\b\b\b\b\b\b\b\b\b\b\b\b\b\b\b\b\b\b\b\b\b\b\b\b\b\b\b\b\b\b\b\b\b\b\n",
            "Epoch 123/200\n",
            "2441/2441 [==============================] - 6s 2ms/step - loss: 1.0603 - val_loss: 9.6990\b\b\b\b\b\b\b\b\b\b\b\b\b\b\b\b\b\b\b\b\b\b\b\b\b\b\b\b\b\b\b\b\b\b\b\b\b\b\b\b\b\b\b\b\n",
            "Epoch 124/200\n",
            "2441/2441 [==============================] - 6s 2ms/step - loss: 1.0449 - val_loss: 9.5099\b\b\b\b\b\b\b\b\b\b\b\b\b\b\b\b\b\b\b\b\b\b\b\b\b\b\b\b\b\b\b\b\b\b\b\b\b\b\b\b\b\b\b\b\n",
            "Epoch 125/200\n",
            "2441/2441 [==============================] - 6s 2ms/step - loss: 1.0507 - val_loss: 9.5512\b\b\b\b\b\b\b\b\b\b\b\b\b\b\b\b\b\b\b\b\b\b\b\b\b\b\b\b\b\b\b\b\b\b\b\b\b\b\b\b\b\b\b\b\n",
            "Epoch 126/200\n",
            "2441/2441 [==============================] - 6s 2ms/step - loss: 1.0264 - val_loss: 9.4455\b\b\b\b\b\b\b\b\b\b\b\b\b\b\b\b\b\b\b\b\b\b\b\b\b\b\b\b\b\b\b\b\b\b\b\b\b\b\b\b\b\b\b\b\n",
            "Epoch 127/200\n",
            "2441/2441 [==============================] - 6s 2ms/step - loss: 1.0251 - val_loss: 8.9587\b\b\b\b\b\b\b\b\b\b\b\b\b\b\b\b\b\b\b\b\b\b\b\b\b\b\b\b\b\b\b\b\b\b\b\b\b\b\b\b\b\b\b\b\n",
            "Epoch 128/200\n",
            "2441/2441 [==============================] - 6s 2ms/step - loss: 1.0209 - val_loss: 10.1650\b\b\b\b\b\b\b\b\b\b\b\b\b\b\b\b\b\b\b\b\b\b\b\b\b\b\b\b\b\b\b\b\b\b\b\b\b\b\b\b\b\b\b\n",
            "Epoch 129/200\n",
            "2441/2441 [==============================] - 6s 2ms/step - loss: 1.0075 - val_loss: 10.8539\b\b\b\b\b\b\b\b\b\b\b\b\b\b\b\b\b\b\b\b\b\b\b\b\b\b\b\b\b\b\b\b\b\b\b\b\b\b\b\b\b\b\b\n",
            "Epoch 130/200\n",
            "2441/2441 [==============================] - 6s 2ms/step - loss: 1.0137 - val_loss: 8.4779\b\b\b\b\b\b\b\b\b\b\b\b\b\b\b\b\b\b\b\b\b\b\b\b\b\b\b\b\b\b\b\b\b\b\b\b\b\b\b\b\b\b\b\b\n",
            "Epoch 131/200\n",
            "2441/2441 [==============================] - 6s 2ms/step - loss: 0.9879 - val_loss: 8.2388\b\b\b\b\b\b\b\b\b\b\b\b\b\b\b\b\b\b\b\b\b\b\b\b\b\b\b\b\b\b\b\b\b\b\b\b\b\b\b\b\b\b\b\b\n",
            "Epoch 132/200\n",
            "2441/2441 [==============================] - 6s 2ms/step - loss: 1.0075 - val_loss: 8.2707\b\b\b\b\b\b\b\b\b\b\b\b\b\b\b\b\b\b\b\b\b\b\b\b\b\b\b\b\b\b\b\b\b\b\b\b\b\b\b\b\b\b\b\b\n",
            "Epoch 133/200\n",
            "2441/2441 [==============================] - 6s 2ms/step - loss: 0.9920 - val_loss: 8.1555\b\b\b\b\b\b\b\b\b\b\b\b\b\b\b\b\b\b\b\b\b\b\b\b\b\b\b\b\b\b\b\b\b\b\b\b\b\b\b\b\b\b\b\b\n",
            "Epoch 134/200\n",
            "2441/2441 [==============================] - 6s 2ms/step - loss: 0.9975 - val_loss: 8.0861\b\b\b\b\b\b\b\b\b\b\b\b\b\b\b\b\b\b\b\b\b\b\b\b\b\b\b\b\b\b\b\b\b\b\b\b\b\b\b\b\b\b\b\b\n",
            "Epoch 135/200\n",
            "2441/2441 [==============================] - 6s 2ms/step - loss: 0.9690 - val_loss: 8.7273\b\b\b\b\b\b\b\b\b\b\b\b\b\b\b\b\b\b\b\b\b\b\b\b\b\b\b\b\b\b\b\b\b\b\b\b\b\b\b\b\b\b\b\b\n",
            "Epoch 136/200\n",
            "2441/2441 [==============================] - 6s 2ms/step - loss: 0.9688 - val_loss: 8.0443\b\b\b\b\b\b\b\b\b\b\b\b\b\b\b\b\b\b\b\b\b\b\b\b\b\b\b\b\b\b\b\b\b\b\b\b\b\b\b\b\b\b\b\b\n",
            "Epoch 137/200\n",
            "2441/2441 [==============================] - 6s 2ms/step - loss: 1.0039 - val_loss: 7.5499\b\b\b\b\b\b\b\b\b\b\b\b\b\b\b\b\b\b\b\b\b\b\b\b\b\b\b\b\b\b\b\b\b\b\b\b\b\b\b\b\b\b\b\b\n",
            "Epoch 138/200\n",
            "2441/2441 [==============================] - 6s 2ms/step - loss: 0.9723 - val_loss: 8.1574\b\b\b\b\b\b\b\b\b\b\b\b\b\b\b\b\b\b\b\b\b\b\b\b\b\b\b\b\b\b\b\b\b\b\b\b\b\b\b\b\b\b\b\b\n",
            "Epoch 139/200\n",
            "2441/2441 [==============================] - 6s 2ms/step - loss: 0.9829 - val_loss: 10.4805\b\b\b\b\b\b\b\b\b\b\b\b\b\b\b\b\b\b\b\b\b\b\b\b\b\b\b\b\b\b\b\b\b\b\b\b\b\b\b\b\b\b\b\n",
            "Epoch 140/200\n",
            "2441/2441 [==============================] - 6s 2ms/step - loss: 0.9763 - val_loss: 7.1089\b\b\b\b\b\b\b\b\b\b\b\b\b\b\b\b\b\b\b\b\b\b\b\b\b\b\b\b\b\b\b\b\b\b\b\b\b\b\b\b\b\b\b\b\n",
            "Epoch 141/200\n",
            "2441/2441 [==============================] - 6s 2ms/step - loss: 0.9593 - val_loss: 8.9254\b\b\b\b\b\b\b\b\b\b\b\b\b\b\b\b\b\b\b\b\b\b\b\b\b\b\b\b\b\b\b\b\b\b\b\b\b\b\b\b\b\b\b\b\n",
            "Epoch 142/200\n",
            "2441/2441 [==============================] - 6s 2ms/step - loss: 0.9500 - val_loss: 10.0055\b\b\b\b\b\b\b\b\b\b\b\b\b\b\b\b\b\b\b\b\b\b\b\b\b\b\b\b\b\b\b\b\b\b\b\b\b\b\b\b\b\b\b\n",
            "Epoch 143/200\n",
            "2441/2441 [==============================] - 6s 2ms/step - loss: 0.9219 - val_loss: 6.9163\b\b\b\b\b\b\b\b\b\b\b\b\b\b\b\b\b\b\b\b\b\b\b\b\b\b\b\b\b\b\b\b\b\b\b\b\b\b\b\b\b\b\b\b\n",
            "Epoch 144/200\n",
            "2441/2441 [==============================] - 6s 2ms/step - loss: 0.9511 - val_loss: 8.5457\b\b\b\b\b\b\b\b\b\b\b\b\b\b\b\b\b\b\b\b\b\b\b\b\b\b\b\b\b\b\b\b\b\b\b\b\b\b\b\b\b\b\b\b\n",
            "Epoch 145/200\n",
            "2441/2441 [==============================] - 6s 2ms/step - loss: 0.9314 - val_loss: 7.0132\b\b\b\b\b\b\b\b\b\b\b\b\b\b\b\b\b\b\b\b\b\b\b\b\b\b\b\b\b\b\b\b\b\b\b\b\b\b\b\b\b\b\b\b\n",
            "Epoch 146/200\n",
            "2441/2441 [==============================] - 6s 2ms/step - loss: 0.9358 - val_loss: 7.3252\b\b\b\b\b\b\b\b\b\b\b\b\b\b\b\b\b\b\b\b\b\b\b\b\b\b\b\b\b\b\b\b\b\b\b\b\b\b\b\b\b\b\b\b\n",
            "Epoch 147/200\n",
            "2441/2441 [==============================] - 6s 2ms/step - loss: 0.9388 - val_loss: 6.7880\b\b\b\b\b\b\b\b\b\b\b\b\b\b\b\b\b\b\b\b\b\b\b\b\b\b\b\b\b\b\b\b\b\b\b\b\b\b\b\b\b\b\b\b\n",
            "Epoch 148/200\n",
            "2441/2441 [==============================] - 6s 2ms/step - loss: 0.9017 - val_loss: 7.6558\b\b\b\b\b\b\b\b\b\b\b\b\b\b\b\b\b\b\b\b\b\b\b\b\b\b\b\b\b\b\b\b\b\b\b\b\b\b\b\b\b\b\b\b\n",
            "Epoch 149/200\n",
            "2441/2441 [==============================] - 6s 2ms/step - loss: 0.9144 - val_loss: 6.7839\b\b\b\b\b\b\b\b\b\b\b\b\b\b\b\b\b\b\b\b\b\b\b\b\b\b\b\b\b\b\b\b\b\b\b\b\b\b\b\b\b\b\b\b\n",
            "Epoch 150/200\n",
            "2441/2441 [==============================] - 6s 2ms/step - loss: 0.9250 - val_loss: 6.3648\b\b\b\b\b\b\b\b\b\b\b\b\b\b\b\b\b\b\b\b\b\b\b\b\b\b\b\b\b\b\b\b\b\b\b\b\b\b\b\b\b\b\b\b\n",
            "Epoch 151/200\n",
            "2441/2441 [==============================] - 6s 2ms/step - loss: 0.9216 - val_loss: 6.2248\b\b\b\b\b\b\b\b\b\b\b\b\b\b\b\b\b\b\b\b\b\b\b\b\b\b\b\b\b\b\b\b\b\b\b\b\b\b\b\b\b\b\b\b\n",
            "Epoch 152/200\n",
            "2441/2441 [==============================] - 6s 2ms/step - loss: 0.9374 - val_loss: 5.9692\b\b\b\b\b\b\b\b\b\b\b\b\b\b\b\b\b\b\b\b\b\b\b\b\b\b\b\b\b\b\b\b\b\b\b\b\b\b\b\b\b\b\b\b\n",
            "Epoch 153/200\n",
            "2441/2441 [==============================] - 6s 2ms/step - loss: 0.9091 - val_loss: 6.8010\b\b\b\b\b\b\b\b\b\b\b\b\b\b\b\b\b\b\b\b\b\b\b\b\b\b\b\b\b\b\b\b\b\b\b\b\b\b\b\b\b\b\b\b\n",
            "Epoch 154/200\n",
            "2441/2441 [==============================] - 6s 2ms/step - loss: 0.8965 - val_loss: 6.0991\b\b\b\b\b\b\b\b\b\b\b\b\b\b\b\b\b\b\b\b\b\b\b\b\b\b\b\b\b\b\b\b\b\b\b\b\b\b\b\b\b\b\b\b\n",
            "Epoch 155/200\n",
            "2441/2441 [==============================] - 6s 2ms/step - loss: 0.9053 - val_loss: 5.7061\b\b\b\b\b\b\b\b\b\b\b\b\b\b\b\b\b\b\b\b\b\b\b\b\b\b\b\b\b\b\b\b\b\b\b\b\b\b\b\b\b\b\b\b\n",
            "Epoch 156/200\n",
            "2441/2441 [==============================] - 6s 2ms/step - loss: 0.8946 - val_loss: 6.5311\b\b\b\b\b\b\b\b\b\b\b\b\b\b\b\b\b\b\b\b\b\b\b\b\b\b\b\b\b\b\b\b\b\b\b\b\b\b\b\b\b\b\b\b\n",
            "Epoch 157/200\n",
            "2441/2441 [==============================] - 6s 2ms/step - loss: 0.9001 - val_loss: 5.9073\b\b\b\b\b\b\b\b\b\b\b\b\b\b\b\b\b\b\b\b\b\b\b\b\b\b\b\b\b\b\b\b\b\b\b\b\b\b\b\b\b\b\b\b\n",
            "Epoch 158/200\n",
            "2441/2441 [==============================] - 6s 2ms/step - loss: 0.8921 - val_loss: 5.3714\b\b\b\b\b\b\b\b\b\b\b\b\b\b\b\b\b\b\b\b\b\b\b\b\b\b\b\b\b\b\b\b\b\b\b\b\b\b\b\b\b\b\b\b\n",
            "Epoch 159/200\n",
            "2441/2441 [==============================] - 6s 2ms/step - loss: 0.8837 - val_loss: 5.3343\b\b\b\b\b\b\b\b\b\b\b\b\b\b\b\b\b\b\b\b\b\b\b\b\b\b\b\b\b\b\b\b\b\b\b\b\b\b\b\b\b\b\b\b\n",
            "Epoch 160/200\n",
            "2441/2441 [==============================] - 6s 2ms/step - loss: 0.8774 - val_loss: 5.2546\b\b\b\b\b\b\b\b\b\b\b\b\b\b\b\b\b\b\b\b\b\b\b\b\b\b\b\b\b\b\b\b\b\b\b\b\b\b\b\b\b\b\b\b\n",
            "Epoch 161/200\n",
            "2441/2441 [==============================] - 6s 2ms/step - loss: 0.8785 - val_loss: 5.2215\b\b\b\b\b\b\b\b\b\b\b\b\b\b\b\b\b\b\b\b\b\b\b\b\b\b\b\b\b\b\b\b\b\b\b\b\b\b\b\b\b\b\b\b\n",
            "Epoch 162/200\n",
            "2441/2441 [==============================] - 6s 2ms/step - loss: 0.8660 - val_loss: 5.0292\b\b\b\b\b\b\b\b\b\b\b\b\b\b\b\b\b\b\b\b\b\b\b\b\b\b\b\b\b\b\b\b\b\b\b\b\b\b\b\b\b\b\b\b\n",
            "Epoch 163/200\n",
            "2441/2441 [==============================] - 6s 2ms/step - loss: 0.8697 - val_loss: 4.9374\b\b\b\b\b\b\b\b\b\b\b\b\b\b\b\b\b\b\b\b\b\b\b\b\b\b\b\b\b\b\b\b\b\b\b\b\b\b\b\b\b\b\b\b\n",
            "Epoch 164/200\n",
            "2441/2441 [==============================] - 6s 2ms/step - loss: 0.8516 - val_loss: 4.9715\b\b\b\b\b\b\b\b\b\b\b\b\b\b\b\b\b\b\b\b\b\b\b\b\b\b\b\b\b\b\b\b\b\b\b\b\b\b\b\b\b\b\b\b\n",
            "Epoch 165/200\n",
            "2441/2441 [==============================] - 6s 2ms/step - loss: 0.8699 - val_loss: 4.6966\b\b\b\b\b\b\b\b\b\b\b\b\b\b\b\b\b\b\b\b\b\b\b\b\b\b\b\b\b\b\b\b\b\b\b\b\b\b\b\b\b\b\b\b\n",
            "Epoch 166/200\n",
            "2441/2441 [==============================] - 6s 2ms/step - loss: 0.8455 - val_loss: 4.6653\b\b\b\b\b\b\b\b\b\b\b\b\b\b\b\b\b\b\b\b\b\b\b\b\b\b\b\b\b\b\b\b\b\b\b\b\b\b\b\b\b\b\b\b\n",
            "Epoch 167/200\n",
            "2441/2441 [==============================] - 6s 2ms/step - loss: 0.8619 - val_loss: 4.6780\b\b\b\b\b\b\b\b\b\b\b\b\b\b\b\b\b\b\b\b\b\b\b\b\b\b\b\b\b\b\b\b\b\b\b\b\b\b\b\b\b\b\b\b\n",
            "Epoch 168/200\n",
            "2441/2441 [==============================] - 6s 2ms/step - loss: 0.8525 - val_loss: 4.5637\b\b\b\b\b\b\b\b\b\b\b\b\b\b\b\b\b\b\b\b\b\b\b\b\b\b\b\b\b\b\b\b\b\b\b\b\b\b\b\b\b\b\b\b\n",
            "Epoch 169/200\n",
            "2441/2441 [==============================] - 6s 2ms/step - loss: 0.8376 - val_loss: 4.5991\b\b\b\b\b\b\b\b\b\b\b\b\b\b\b\b\b\b\b\b\b\b\b\b\b\b\b\b\b\b\b\b\b\b\b\b\b\b\b\b\b\b\b\b\n",
            "Epoch 170/200\n",
            "2441/2441 [==============================] - 6s 2ms/step - loss: 0.8536 - val_loss: 4.5874\b\b\b\b\b\b\b\b\b\b\b\b\b\b\b\b\b\b\b\b\b\b\b\b\b\b\b\b\b\b\b\b\b\b\b\b\b\b\b\b\b\b\b\b\n",
            "Epoch 171/200\n",
            "2441/2441 [==============================] - 6s 2ms/step - loss: 0.8516 - val_loss: 5.3416\b\b\b\b\b\b\b\b\b\b\b\b\b\b\b\b\b\b\b\b\b\b\b\b\b\b\b\b\b\b\b\b\b\b\b\b\b\b\b\b\b\b\b\b\n",
            "Epoch 172/200\n",
            "2441/2441 [==============================] - 6s 2ms/step - loss: 0.8329 - val_loss: 9.2553\b\b\b\b\b\b\b\b\b\b\b\b\b\b\b\b\b\b\b\b\b\b\b\b\b\b\b\b\b\b\b\b\b\b\b\b\b\b\b\b\b\b\b\b\n",
            "Epoch 173/200\n",
            "2441/2441 [==============================] - 6s 2ms/step - loss: 0.8667 - val_loss: 6.0687\b\b\b\b\b\b\b\b\b\b\b\b\b\b\b\b\b\b\b\b\b\b\b\b\b\b\b\b\b\b\b\b\b\b\b\b\b\b\b\b\b\b\b\b\n",
            "Epoch 174/200\n",
            "2441/2441 [==============================] - 6s 2ms/step - loss: 0.8035 - val_loss: 5.0921\b\b\b\b\b\b\b\b\b\b\b\b\b\b\b\b\b\b\b\b\b\b\b\b\b\b\b\b\b\b\b\b\b\b\b\b\b\b\b\b\b\b\b\b\n",
            "Epoch 175/200\n",
            "2441/2441 [==============================] - 6s 2ms/step - loss: 0.8378 - val_loss: 4.4532\b\b\b\b\b\b\b\b\b\b\b\b\b\b\b\b\b\b\b\b\b\b\b\b\b\b\b\b\b\b\b\b\b\b\b\b\b\b\b\b\b\b\b\b\n",
            "Epoch 176/200\n",
            "2441/2441 [==============================] - 6s 2ms/step - loss: 0.8125 - val_loss: 5.7939\b\b\b\b\b\b\b\b\b\b\b\b\b\b\b\b\b\b\b\b\b\b\b\b\b\b\b\b\b\b\b\b\b\b\b\b\b\b\b\b\b\b\b\b\n",
            "Epoch 177/200\n",
            "2441/2441 [==============================] - 6s 2ms/step - loss: 0.8259 - val_loss: 3.9775\b\b\b\b\b\b\b\b\b\b\b\b\b\b\b\b\b\b\b\b\b\b\b\b\b\b\b\b\b\b\b\b\b\b\b\b\b\b\b\b\b\b\b\b\n",
            "Epoch 178/200\n",
            "2441/2441 [==============================] - 6s 2ms/step - loss: 0.8297 - val_loss: 4.8490\b\b\b\b\b\b\b\b\b\b\b\b\b\b\b\b\b\b\b\b\b\b\b\b\b\b\b\b\b\b\b\b\b\b\b\b\b\b\b\b\b\b\b\b\n",
            "Epoch 179/200\n",
            "2441/2441 [==============================] - 6s 2ms/step - loss: 0.8380 - val_loss: 5.3594\b\b\b\b\b\b\b\b\b\b\b\b\b\b\b\b\b\b\b\b\b\b\b\b\b\b\b\b\b\b\b\b\b\b\b\b\b\b\b\b\b\b\b\b\n",
            "Epoch 180/200\n",
            "2441/2441 [==============================] - 6s 2ms/step - loss: 0.8540 - val_loss: 4.3605\b\b\b\b\b\b\b\b\b\b\b\b\b\b\b\b\b\b\b\b\b\b\b\b\b\b\b\b\b\b\b\b\b\b\b\b\b\b\b\b\b\b\b\b\n",
            "Epoch 181/200\n",
            "2441/2441 [==============================] - 6s 2ms/step - loss: 0.8093 - val_loss: 4.1642\b\b\b\b\b\b\b\b\b\b\b\b\b\b\b\b\b\b\b\b\b\b\b\b\b\b\b\b\b\b\b\b\b\b\b\b\b\b\b\b\b\b\b\b\n",
            "Epoch 182/200\n",
            "2441/2441 [==============================] - 6s 2ms/step - loss: 0.8360 - val_loss: 3.9708\b\b\b\b\b\b\b\b\b\b\b\b\b\b\b\b\b\b\b\b\b\b\b\b\b\b\b\b\b\b\b\b\b\b\b\b\b\b\b\b\b\b\b\b\n",
            "Epoch 183/200\n",
            "2441/2441 [==============================] - 6s 2ms/step - loss: 0.8335 - val_loss: 4.2459\b\b\b\b\b\b\b\b\b\b\b\b\b\b\b\b\b\b\b\b\b\b\b\b\b\b\b\b\b\b\b\b\b\b\b\b\b\b\b\b\b\b\b\b\n",
            "Epoch 184/200\n",
            "2441/2441 [==============================] - 6s 2ms/step - loss: 0.8114 - val_loss: 4.0272\b\b\b\b\b\b\b\b\b\b\b\b\b\b\b\b\b\b\b\b\b\b\b\b\b\b\b\b\b\b\b\b\b\b\b\b\b\b\b\b\b\b\b\b\n",
            "Epoch 185/200\n",
            "2441/2441 [==============================] - 6s 2ms/step - loss: 0.8261 - val_loss: 4.5110\b\b\b\b\b\b\b\b\b\b\b\b\b\b\b\b\b\b\b\b\b\b\b\b\b\b\b\b\b\b\b\b\b\b\b\b\b\b\b\b\b\b\b\b\n",
            "Epoch 186/200\n",
            "2441/2441 [==============================] - 6s 2ms/step - loss: 0.8346 - val_loss: 3.6687\b\b\b\b\b\b\b\b\b\b\b\b\b\b\b\b\b\b\b\b\b\b\b\b\b\b\b\b\b\b\b\b\b\b\b\b\b\b\b\b\b\b\b\b\n",
            "Epoch 187/200\n",
            "2441/2441 [==============================] - 6s 2ms/step - loss: 0.8372 - val_loss: 3.5280\b\b\b\b\b\b\b\b\b\b\b\b\b\b\b\b\b\b\b\b\b\b\b\b\b\b\b\b\b\b\b\b\b\b\b\b\b\b\b\b\b\b\b\b\n",
            "Epoch 188/200\n",
            "2441/2441 [==============================] - 6s 2ms/step - loss: 0.8084 - val_loss: 3.7615\b\b\b\b\b\b\b\b\b\b\b\b\b\b\b\b\b\b\b\b\b\b\b\b\b\b\b\b\b\b\b\b\b\b\b\b\b\b\b\b\b\b\b\b\n",
            "Epoch 189/200\n",
            "2441/2441 [==============================] - 6s 2ms/step - loss: 0.8086 - val_loss: 3.6470\b\b\b\b\b\b\b\b\b\b\b\b\b\b\b\b\b\b\b\b\b\b\b\b\b\b\b\b\b\b\b\b\b\b\b\b\b\b\b\b\b\b\b\b\n",
            "Epoch 190/200\n",
            "2441/2441 [==============================] - 6s 2ms/step - loss: 0.8279 - val_loss: 3.6938\b\b\b\b\b\b\b\b\b\b\b\b\b\b\b\b\b\b\b\b\b\b\b\b\b\b\b\b\b\b\b\b\b\b\b\b\b\b\b\b\b\b\b\b\n",
            "Epoch 191/200\n",
            "2441/2441 [==============================] - 6s 2ms/step - loss: 0.7812 - val_loss: 3.5092\b\b\b\b\b\b\b\b\b\b\b\b\b\b\b\b\b\b\b\b\b\b\b\b\b\b\b\b\b\b\b\b\b\b\b\b\b\b\b\b\b\b\b\b\n",
            "Epoch 192/200\n",
            "2441/2441 [==============================] - 6s 2ms/step - loss: 0.8095 - val_loss: 3.4051\b\b\b\b\b\b\b\b\b\b\b\b\b\b\b\b\b\b\b\b\b\b\b\b\b\b\b\b\b\b\b\b\b\b\b\b\b\b\b\b\b\b\b\b\n",
            "Epoch 193/200\n",
            "2441/2441 [==============================] - 6s 2ms/step - loss: 0.8019 - val_loss: 3.5672\b\b\b\b\b\b\b\b\b\b\b\b\b\b\b\b\b\b\b\b\b\b\b\b\b\b\b\b\b\b\b\b\b\b\b\b\b\b\b\b\b\b\b\b\n",
            "Epoch 194/200\n",
            "2441/2441 [==============================] - 6s 2ms/step - loss: 0.8008 - val_loss: 3.6905\b\b\b\b\b\b\b\b\b\b\b\b\b\b\b\b\b\b\b\b\b\b\b\b\b\b\b\b\b\b\b\b\b\b\b\b\b\b\b\b\b\b\b\b\n",
            "Epoch 195/200\n",
            "2441/2441 [==============================] - 6s 2ms/step - loss: 0.7909 - val_loss: 4.3450\b\b\b\b\b\b\b\b\b\b\b\b\b\b\b\b\b\b\b\b\b\b\b\b\b\b\b\b\b\b\b\b\b\b\b\b\b\b\b\b\b\b\b\b\n",
            "Epoch 196/200\n",
            "2441/2441 [==============================] - 6s 2ms/step - loss: 0.7856 - val_loss: 3.8536\b\b\b\b\b\b\b\b\b\b\b\b\b\b\b\b\b\b\b\b\b\b\b\b\b\b\b\b\b\b\b\b\b\b\b\b\b\b\b\b\b\b\b\b\n",
            "Epoch 197/200\n",
            "2441/2441 [==============================] - 6s 2ms/step - loss: 0.8160 - val_loss: 3.2193\b\b\b\b\b\b\b\b\b\b\b\b\b\b\b\b\b\b\b\b\b\b\b\b\b\b\b\b\b\b\b\b\b\b\b\b\b\b\b\b\b\b\b\b\n",
            "Epoch 198/200\n",
            "2441/2441 [==============================] - 6s 2ms/step - loss: 0.7779 - val_loss: 4.5756\b\b\b\b\b\b\b\b\b\b\b\b\b\b\b\b\b\b\b\b\b\b\b\b\b\b\b\b\b\b\b\b\b\b\b\b\b\b\b\b\b\b\b\b\n",
            "Epoch 199/200\n",
            "2441/2441 [==============================] - 6s 2ms/step - loss: 0.7987 - val_loss: 3.5581\b\b\b\b\b\b\b\b\b\b\b\b\b\b\b\b\b\b\b\b\b\b\b\b\b\b\b\b\b\b\b\b\b\b\b\b\b\b\b\b\b\b\b\b\n",
            "Epoch 200/200\n",
            "2441/2441 [==============================] - 6s 2ms/step - loss: 0.7954 - val_loss: 3.4298\b\b\b\b\b\b\b\b\b\b\b\b\b\b\b\b\b\b\b\b\b\b\b\b\b\b\b\b\b\b\b\b\b\b\b\b\b\b\b\b\b\b\b\b\n"
          ]
        },
        {
          "output_type": "execute_result",
          "execution_count": 94,
          "data": {
            "text/plain": "<keras.callbacks.callbacks.History at 0x7feeb3411e80>"
          },
          "metadata": {}
        }
      ],
      "execution_count": 94,
      "metadata": {
        "collapsed": true,
        "jupyter": {
          "source_hidden": false,
          "outputs_hidden": false
        },
        "nteract": {
          "transient": {
            "deleting": false
          }
        },
        "gather": {
          "logged": 1620929031984
        }
      }
    },
    {
      "cell_type": "code",
      "source": [
        "test_loss = model.evaluate(X_test, y_test)\r\n",
        "predicted = model.predict(X_test)\r\n",
        "test_loss"
      ],
      "outputs": [
        {
          "output_type": "stream",
          "name": "stdout",
          "text": [
            "\r32/56 [================>.............] - ETA: 0s\b\b\b\b\b\b\b\b\b\b\b\b\b\b\b\b\b\b\b\b\b\b\b\b\b\b\b\b\b\b\b\b\b\b\b\b\b\b\b\b\b\b\b\b\b\b\b\b\r",
            "56/56 [==============================] - 0s 677us/step\n"
          ]
        },
        {
          "output_type": "execute_result",
          "execution_count": 95,
          "data": {
            "text/plain": "3.6802665506090437"
          },
          "metadata": {}
        }
      ],
      "execution_count": 95,
      "metadata": {
        "collapsed": true,
        "jupyter": {
          "source_hidden": false,
          "outputs_hidden": false
        },
        "nteract": {
          "transient": {
            "deleting": false
          }
        },
        "gather": {
          "logged": 1620929094002
        }
      }
    },
    {
      "cell_type": "code",
      "source": [
        "create_plot(y_test, predicted, days, x_ticks, [100, 140])"
      ],
      "outputs": [
        {
          "output_type": "stream",
          "name": "stderr",
          "text": [
            "/anaconda/envs/azureml_py36/lib/python3.6/site-packages/ipykernel_launcher.py:13: UserWarning: You have mixed positional and keyword arguments, some input may be discarded.\n",
            "  del sys.path[0]\n"
          ]
        },
        {
          "output_type": "display_data",
          "data": {
            "text/plain": "<Figure size 864x360 with 1 Axes>",
            "image/png": "[encoded data removed]"
          },
          "metadata": {
            "needs_background": "light"
          }
        }
      ],
      "execution_count": 96,
      "metadata": {
        "collapsed": true,
        "jupyter": {
          "source_hidden": false,
          "outputs_hidden": false
        },
        "nteract": {
          "transient": {
            "deleting": false
          }
        },
        "gather": {
          "logged": 1620929102641
        }
      }
    },
    {
      "cell_type": "code",
      "source": [
        "os.environ['PYTHONHASHSEED'] = str(21)\r\n",
        "np.random.seed(22)\r\n",
        "tfrand.set_seed(25)\r\n",
        "rn.seed(28)\r\n",
        "\r\n",
        "model = Sequential()\r\n",
        "\r\n",
        "model.add(Conv1D(64, 5, activation='relu', input_shape=(20, 1)))\r\n",
        "model.add(MaxPooling1D(3))\r\n",
        "model.add(Conv1D(64, 5, activation='relu'))\r\n",
        "model.add(LSTM(units=96, input_shape=(20, 1), recurrent_dropout=0.05, return_sequences=True))\r\n",
        "model.add(LSTM(units=64, recurrent_dropout=0.05))\r\n",
        "model.add(Dense(1))\r\n",
        "model.compile(optimizer='rmsprop', loss='mae')\r\n",
        "\r\n",
        "model.fit(X_train, y_train, epochs=200, batch_size=32, validation_data=(X_validation, y_validation))"
      ],
      "outputs": [
        {
          "output_type": "stream",
          "name": "stdout",
          "text": [
            "Train on 2441 samples, validate on 56 samples\n",
            "Epoch 1/200\n",
            "2441/2441 [==============================] - 1s 590us/step - loss: 30.5123 - val_loss: 117.9015\b\b\b\b\b\b\b\b\b\b\b\b\b\b\b\b\b\b\b\b\b\b\b\b\b\b\b\b\b\b\b\b\b\b\b\b\b\b\b\b\b\b\b\b\b\n",
            "Epoch 2/200\n",
            "2441/2441 [==============================] - 0s 183us/step - loss: 24.3375 - val_loss: 114.1178\b\b\b\b\b\b\b\b\b\b\b\b\b\b\b\b\b\b\b\b\b\b\b\b\b\b\b\b\b\b\b\b\b\b\b\b\b\b\b\b\b\n",
            "Epoch 3/200\n",
            "2441/2441 [==============================] - 0s 181us/step - loss: 21.4168 - val_loss: 110.4900\b\b\b\b\b\b\b\b\b\b\b\b\b\b\b\b\b\b\b\b\b\b\b\b\b\b\b\b\b\b\b\b\b\b\b\b\b\b\b\b\b\n",
            "Epoch 4/200\n",
            "2441/2441 [==============================] - 0s 182us/step - loss: 18.4638 - val_loss: 106.7669\b\b\b\b\b\b\b\b\b\b\b\b\b\b\b\b\b\b\b\b\b\b\b\b\b\b\b\b\b\b\b\b\b\b\b\b\b\b\b\b\b\n",
            "Epoch 5/200\n",
            "2441/2441 [==============================] - 0s 186us/step - loss: 16.2102 - val_loss: 103.2676\b\b\b\b\b\b\b\b\b\b\b\b\b\b\b\b\b\b\b\b\b\b\b\b\b\b\b\b\b\b\b\b\b\b\b\b\b\b\b\b\b\n",
            "Epoch 6/200\n",
            "2441/2441 [==============================] - 0s 184us/step - loss: 14.4526 - val_loss: 99.7949\b\b\b\b\b\b\b\b\b\b\b\b\b\b\b\b\b\b\b\b\b\b\b\b\b\b\b\b\b\b\b\b\b\b\b\b\b\b\b\b\b\b\n",
            "Epoch 7/200\n",
            "2441/2441 [==============================] - 0s 182us/step - loss: 13.0358 - val_loss: 96.5681\b\b\b\b\b\b\b\b\b\b\b\b\b\b\b\b\b\b\b\b\b\b\b\b\b\b\b\b\b\b\b\b\b\b\b\b\b\b\b\b\b\b\n",
            "Epoch 8/200\n",
            "2441/2441 [==============================] - 0s 185us/step - loss: 11.8690 - val_loss: 93.4939\b\b\b\b\b\b\b\b\b\b\b\b\b\b\b\b\b\b\b\b\b\b\b\b\b\b\b\b\b\b\b\b\b\b\b\b\b\b\b\b\b\b\n",
            "Epoch 9/200\n",
            "2441/2441 [==============================] - 0s 184us/step - loss: 10.8918 - val_loss: 90.6143\b\b\b\b\b\b\b\b\b\b\b\b\b\b\b\b\b\b\b\b\b\b\b\b\b\b\b\b\b\b\b\b\b\b\b\b\b\b\b\b\b\b\n",
            "Epoch 10/200\n",
            "2441/2441 [==============================] - 0s 191us/step - loss: 10.0323 - val_loss: 87.8118\b\b\b\b\b\b\b\b\b\b\b\b\b\b\b\b\b\b\b\b\b\b\b\b\b\b\b\b\b\b\b\b\b\b\b\b\b\b\b\b\b\b\n",
            "Epoch 11/200\n",
            "2441/2441 [==============================] - 0s 183us/step - loss: 9.3402 - val_loss: 85.1920\b\b\b\b\b\b\b\b\b\b\b\b\b\b\b\b\b\b\b\b\b\b\b\b\b\b\b\b\b\b\b\b\b\b\b\b\b\b\b\b\b\b\b\n",
            "Epoch 12/200\n",
            "2441/2441 [==============================] - 0s 184us/step - loss: 8.6628 - val_loss: 82.6917\b\b\b\b\b\b\b\b\b\b\b\b\b\b\b\b\b\b\b\b\b\b\b\b\b\b\b\b\b\b\b\b\b\b\b\b\b\b\b\b\b\n",
            "Epoch 13/200\n",
            "2441/2441 [==============================] - 0s 181us/step - loss: 8.1571 - val_loss: 80.6159\b\b\b\b\b\b\b\b\b\b\b\b\b\b\b\b\b\b\b\b\b\b\b\b\b\b\b\b\b\b\b\b\b\b\b\b\b\b\b\b\b\n",
            "Epoch 14/200\n",
            "2441/2441 [==============================] - 0s 182us/step - loss: 7.7340 - val_loss: 78.6499\b\b\b\b\b\b\b\b\b\b\b\b\b\b\b\b\b\b\b\b\b\b\b\b\b\b\b\b\b\b\b\b\b\b\b\b\b\b\b\b\b\n",
            "Epoch 15/200\n",
            "2441/2441 [==============================] - 0s 183us/step - loss: 7.3291 - val_loss: 77.0354\b\b\b\b\b\b\b\b\b\b\b\b\b\b\b\b\b\b\b\b\b\b\b\b\b\b\b\b\b\b\b\b\b\b\b\b\b\b\b\b\b\n",
            "Epoch 16/200\n",
            "2441/2441 [==============================] - 0s 184us/step - loss: 6.9980 - val_loss: 75.3924\b\b\b\b\b\b\b\b\b\b\b\b\b\b\b\b\b\b\b\b\b\b\b\b\b\b\b\b\b\b\b\b\b\b\b\b\b\b\b\b\b\b\b\n",
            "Epoch 17/200\n",
            "2441/2441 [==============================] - 0s 184us/step - loss: 6.7382 - val_loss: 73.7506\b\b\b\b\b\b\b\b\b\b\b\b\b\b\b\b\b\b\b\b\b\b\b\b\b\b\b\b\b\b\b\b\b\b\b\b\b\b\b\b\b\n",
            "Epoch 18/200\n",
            "2441/2441 [==============================] - 0s 183us/step - loss: 6.4705 - val_loss: 72.3097\b\b\b\b\b\b\b\b\b\b\b\b\b\b\b\b\b\b\b\b\b\b\b\b\b\b\b\b\b\b\b\b\b\b\b\b\b\b\b\b\b\n",
            "Epoch 19/200\n",
            "2441/2441 [==============================] - 0s 185us/step - loss: 6.2726 - val_loss: 70.9442\b\b\b\b\b\b\b\b\b\b\b\b\b\b\b\b\b\b\b\b\b\b\b\b\b\b\b\b\b\b\b\b\b\b\b\b\b\b\b\b\b\n",
            "Epoch 20/200\n",
            "2441/2441 [==============================] - 0s 182us/step - loss: 6.0497 - val_loss: 69.6127\b\b\b\b\b\b\b\b\b\b\b\b\b\b\b\b\b\b\b\b\b\b\b\b\b\b\b\b\b\b\b\b\b\b\b\b\b\b\b\b\b\n",
            "Epoch 21/200\n",
            "2441/2441 [==============================] - 0s 183us/step - loss: 5.8955 - val_loss: 68.2259\b\b\b\b\b\b\b\b\b\b\b\b\b\b\b\b\b\b\b\b\b\b\b\b\b\b\b\b\b\b\b\b\b\b\b\b\b\b\b\b\b\n",
            "Epoch 22/200\n",
            "2441/2441 [==============================] - 0s 183us/step - loss: 5.7243 - val_loss: 66.9148\b\b\b\b\b\b\b\b\b\b\b\b\b\b\b\b\b\b\b\b\b\b\b\b\b\b\b\b\b\b\b\b\b\b\b\b\b\b\b\b\b\b\b\n",
            "Epoch 23/200\n",
            "2441/2441 [==============================] - 0s 184us/step - loss: 5.5363 - val_loss: 65.7553\b\b\b\b\b\b\b\b\b\b\b\b\b\b\b\b\b\b\b\b\b\b\b\b\b\b\b\b\b\b\b\b\b\b\b\b\b\b\b\b\b\n",
            "Epoch 24/200\n",
            "2441/2441 [==============================] - 0s 182us/step - loss: 5.3813 - val_loss: 64.3429\b\b\b\b\b\b\b\b\b\b\b\b\b\b\b\b\b\b\b\b\b\b\b\b\b\b\b\b\b\b\b\b\b\b\b\b\b\b\b\b\b\n",
            "Epoch 25/200\n",
            "2441/2441 [==============================] - 0s 182us/step - loss: 5.1989 - val_loss: 62.9898\b\b\b\b\b\b\b\b\b\b\b\b\b\b\b\b\b\b\b\b\b\b\b\b\b\b\b\b\b\b\b\b\b\b\b\b\b\b\b\b\b\n",
            "Epoch 26/200\n",
            "2441/2441 [==============================] - 0s 184us/step - loss: 5.0559 - val_loss: 61.6806\b\b\b\b\b\b\b\b\b\b\b\b\b\b\b\b\b\b\b\b\b\b\b\b\b\b\b\b\b\b\b\b\b\b\b\b\b\b\b\b\b\n",
            "Epoch 27/200\n",
            "2441/2441 [==============================] - 0s 185us/step - loss: 4.9209 - val_loss: 60.5016\b\b\b\b\b\b\b\b\b\b\b\b\b\b\b\b\b\b\b\b\b\b\b\b\b\b\b\b\b\b\b\b\b\b\b\b\b\b\b\b\b\n",
            "Epoch 28/200\n",
            "2441/2441 [==============================] - 0s 181us/step - loss: 4.7607 - val_loss: 59.4315\b\b\b\b\b\b\b\b\b\b\b\b\b\b\b\b\b\b\b\b\b\b\b\b\b\b\b\b\b\b\b\b\b\b\b\b\b\b\b\b\b\n",
            "Epoch 29/200\n",
            "2441/2441 [==============================] - 0s 183us/step - loss: 4.6501 - val_loss: 58.2269\b\b\b\b\b\b\b\b\b\b\b\b\b\b\b\b\b\b\b\b\b\b\b\b\b\b\b\b\b\b\b\b\b\b\b\b\b\b\b\b\b\n",
            "Epoch 30/200\n",
            "2441/2441 [==============================] - 0s 185us/step - loss: 4.4956 - val_loss: 57.0785\b\b\b\b\b\b\b\b\b\b\b\b\b\b\b\b\b\b\b\b\b\b\b\b\b\b\b\b\b\b\b\b\b\b\b\b\b\b\b\b\b\n",
            "Epoch 31/200\n",
            "2441/2441 [==============================] - 0s 182us/step - loss: 4.3995 - val_loss: 55.9494\b\b\b\b\b\b\b\b\b\b\b\b\b\b\b\b\b\b\b\b\b\b\b\b\b\b\b\b\b\b\b\b\b\b\b\b\b\b\b\b\b\n",
            "Epoch 32/200\n",
            "2441/2441 [==============================] - 0s 182us/step - loss: 4.2690 - val_loss: 54.8029\b\b\b\b\b\b\b\b\b\b\b\b\b\b\b\b\b\b\b\b\b\b\b\b\b\b\b\b\b\b\b\b\b\b\b\b\b\b\b\b\b\n",
            "Epoch 33/200\n",
            "2441/2441 [==============================] - 0s 182us/step - loss: 4.1412 - val_loss: 53.6781\b\b\b\b\b\b\b\b\b\b\b\b\b\b\b\b\b\b\b\b\b\b\b\b\b\b\b\b\b\b\b\b\b\b\b\b\b\b\b\b\b\b\b\n",
            "Epoch 34/200\n",
            "2441/2441 [==============================] - 0s 182us/step - loss: 4.0581 - val_loss: 52.4299\b\b\b\b\b\b\b\b\b\b\b\b\b\b\b\b\b\b\b\b\b\b\b\b\b\b\b\b\b\b\b\b\b\b\b\b\b\b\b\b\b\n",
            "Epoch 35/200\n",
            "2441/2441 [==============================] - 0s 183us/step - loss: 3.9618 - val_loss: 51.3260\b\b\b\b\b\b\b\b\b\b\b\b\b\b\b\b\b\b\b\b\b\b\b\b\b\b\b\b\b\b\b\b\b\b\b\b\b\b\b\b\b\n",
            "Epoch 36/200\n",
            "2441/2441 [==============================] - 0s 182us/step - loss: 3.8650 - val_loss: 50.2625\b\b\b\b\b\b\b\b\b\b\b\b\b\b\b\b\b\b\b\b\b\b\b\b\b\b\b\b\b\b\b\b\b\b\b\b\b\b\b\b\b\n",
            "Epoch 37/200\n",
            "2441/2441 [==============================] - 0s 181us/step - loss: 3.7686 - val_loss: 49.1463\b\b\b\b\b\b\b\b\b\b\b\b\b\b\b\b\b\b\b\b\b\b\b\b\b\b\b\b\b\b\b\b\b\b\b\b\b\b\b\b\b\n",
            "Epoch 38/200\n",
            "2441/2441 [==============================] - 0s 183us/step - loss: 3.6244 - val_loss: 48.0225\b\b\b\b\b\b\b\b\b\b\b\b\b\b\b\b\b\b\b\b\b\b\b\b\b\b\b\b\b\b\b\b\b\b\b\b\b\b\b\b\b\n",
            "Epoch 39/200\n",
            "2441/2441 [==============================] - 0s 182us/step - loss: 3.5363 - val_loss: 47.0556\b\b\b\b\b\b\b\b\b\b\b\b\b\b\b\b\b\b\b\b\b\b\b\b\b\b\b\b\b\b\b\b\b\b\b\b\b\b\b\b\b\n",
            "Epoch 40/200\n",
            "2441/2441 [==============================] - 0s 182us/step - loss: 3.4209 - val_loss: 45.9235\b\b\b\b\b\b\b\b\b\b\b\b\b\b\b\b\b\b\b\b\b\b\b\b\b\b\b\b\b\b\b\b\b\b\b\b\b\b\b\b\b\n",
            "Epoch 41/200\n",
            "2441/2441 [==============================] - 0s 184us/step - loss: 3.4448 - val_loss: 44.9356\b\b\b\b\b\b\b\b\b\b\b\b\b\b\b\b\b\b\b\b\b\b\b\b\b\b\b\b\b\b\b\b\b\b\b\b\b\b\b\b\b\n",
            "Epoch 42/200\n",
            "2441/2441 [==============================] - 0s 183us/step - loss: 3.3469 - val_loss: 44.0142\b\b\b\b\b\b\b\b\b\b\b\b\b\b\b\b\b\b\b\b\b\b\b\b\b\b\b\b\b\b\b\b\b\b\b\b\b\b\b\b\b\n",
            "Epoch 43/200\n",
            "2441/2441 [==============================] - 0s 184us/step - loss: 3.2596 - val_loss: 42.9966\b\b\b\b\b\b\b\b\b\b\b\b\b\b\b\b\b\b\b\b\b\b\b\b\b\b\b\b\b\b\b\b\b\b\b\b\b\b\b\b\b\n",
            "Epoch 44/200\n",
            "2441/2441 [==============================] - 0s 185us/step - loss: 3.1979 - val_loss: 42.0092\b\b\b\b\b\b\b\b\b\b\b\b\b\b\b\b\b\b\b\b\b\b\b\b\b\b\b\b\b\b\b\b\b\b\b\b\b\b\b\b\b\n",
            "Epoch 45/200\n",
            "2441/2441 [==============================] - 0s 181us/step - loss: 3.1276 - val_loss: 41.1302\b\b\b\b\b\b\b\b\b\b\b\b\b\b\b\b\b\b\b\b\b\b\b\b\b\b\b\b\b\b\b\b\b\b\b\b\b\b\b\b\b\n",
            "Epoch 46/200\n",
            "2441/2441 [==============================] - 0s 196us/step - loss: 3.0552 - val_loss: 40.1273\b\b\b\b\b\b\b\b\b\b\b\b\b\b\b\b\b\b\b\b\b\b\b\b\b\b\b\b\b\b\b\b\b\b\b\b\b\b\b\b\b\n",
            "Epoch 47/200\n",
            "2441/2441 [==============================] - 0s 185us/step - loss: 2.9670 - val_loss: 39.0560\b\b\b\b\b\b\b\b\b\b\b\b\b\b\b\b\b\b\b\b\b\b\b\b\b\b\b\b\b\b\b\b\b\b\b\b\b\b\b\b\b\n",
            "Epoch 48/200\n",
            "2441/2441 [==============================] - 0s 183us/step - loss: 2.8736 - val_loss: 38.1262\b\b\b\b\b\b\b\b\b\b\b\b\b\b\b\b\b\b\b\b\b\b\b\b\b\b\b\b\b\b\b\b\b\b\b\b\b\b\b\b\b\n",
            "Epoch 49/200\n",
            "2441/2441 [==============================] - 0s 185us/step - loss: 2.8288 - val_loss: 37.1629\b\b\b\b\b\b\b\b\b\b\b\b\b\b\b\b\b\b\b\b\b\b\b\b\b\b\b\b\b\b\b\b\b\b\b\b\b\b\b\b\b\n",
            "Epoch 50/200\n",
            "2441/2441 [==============================] - 0s 183us/step - loss: 2.7784 - val_loss: 36.1976\b\b\b\b\b\b\b\b\b\b\b\b\b\b\b\b\b\b\b\b\b\b\b\b\b\b\b\b\b\b\b\b\b\b\b\b\b\b\b\b\b\n",
            "Epoch 51/200\n",
            "2441/2441 [==============================] - 0s 183us/step - loss: 2.6927 - val_loss: 35.2788\b\b\b\b\b\b\b\b\b\b\b\b\b\b\b\b\b\b\b\b\b\b\b\b\b\b\b\b\b\b\b\b\b\b\b\b\b\b\b\b\b\n",
            "Epoch 52/200\n",
            "2441/2441 [==============================] - 0s 185us/step - loss: 2.5840 - val_loss: 34.2056\b\b\b\b\b\b\b\b\b\b\b\b\b\b\b\b\b\b\b\b\b\b\b\b\b\b\b\b\b\b\b\b\b\b\b\b\b\b\b\b\b\n",
            "Epoch 53/200\n",
            "2441/2441 [==============================] - 0s 183us/step - loss: 2.5922 - val_loss: 33.2042\b\b\b\b\b\b\b\b\b\b\b\b\b\b\b\b\b\b\b\b\b\b\b\b\b\b\b\b\b\b\b\b\b\b\b\b\b\b\b\b\b\n",
            "Epoch 54/200\n",
            "2441/2441 [==============================] - 0s 187us/step - loss: 2.4913 - val_loss: 32.2665\b\b\b\b\b\b\b\b\b\b\b\b\b\b\b\b\b\b\b\b\b\b\b\b\b\b\b\b\b\b\b\b\b\b\b\b\b\b\b\b\b\n",
            "Epoch 55/200\n",
            "2441/2441 [==============================] - 0s 184us/step - loss: 2.5002 - val_loss: 31.4043\b\b\b\b\b\b\b\b\b\b\b\b\b\b\b\b\b\b\b\b\b\b\b\b\b\b\b\b\b\b\b\b\b\b\b\b\b\b\b\b\b\n",
            "Epoch 56/200\n",
            "2441/2441 [==============================] - 0s 182us/step - loss: 2.3831 - val_loss: 30.4528\b\b\b\b\b\b\b\b\b\b\b\b\b\b\b\b\b\b\b\b\b\b\b\b\b\b\b\b\b\b\b\b\b\b\b\b\b\b\b\b\b\n",
            "Epoch 57/200\n",
            "2441/2441 [==============================] - 0s 183us/step - loss: 2.3693 - val_loss: 29.7284\b\b\b\b\b\b\b\b\b\b\b\b\b\b\b\b\b\b\b\b\b\b\b\b\b\b\b\b\b\b\b\b\b\b\b\b\b\b\b\b\b\n",
            "Epoch 58/200\n",
            "2441/2441 [==============================] - 0s 182us/step - loss: 2.2984 - val_loss: 28.7230\b\b\b\b\b\b\b\b\b\b\b\b\b\b\b\b\b\b\b\b\b\b\b\b\b\b\b\b\b\b\b\b\b\b\b\b\b\b\b\b\b\n",
            "Epoch 59/200\n",
            "2441/2441 [==============================] - 0s 183us/step - loss: 2.2749 - val_loss: 27.9603\b\b\b\b\b\b\b\b\b\b\b\b\b\b\b\b\b\b\b\b\b\b\b\b\b\b\b\b\b\b\b\b\b\b\b\b\b\b\b\b\b\n",
            "Epoch 60/200\n",
            "2441/2441 [==============================] - 0s 181us/step - loss: 2.1901 - val_loss: 26.9431\b\b\b\b\b\b\b\b\b\b\b\b\b\b\b\b\b\b\b\b\b\b\b\b\b\b\b\b\b\b\b\b\b\b\b\b\b\b\b\b\b\n",
            "Epoch 61/200\n",
            "2441/2441 [==============================] - 0s 182us/step - loss: 2.1148 - val_loss: 25.8001\b\b\b\b\b\b\b\b\b\b\b\b\b\b\b\b\b\b\b\b\b\b\b\b\b\b\b\b\b\b\b\b\b\b\b\b\b\b\b\b\b\n",
            "Epoch 62/200\n",
            "2441/2441 [==============================] - 0s 182us/step - loss: 2.0840 - val_loss: 24.9643\b\b\b\b\b\b\b\b\b\b\b\b\b\b\b\b\b\b\b\b\b\b\b\b\b\b\b\b\b\b\b\b\b\b\b\b\b\b\b\b\b\n",
            "Epoch 63/200\n",
            "2441/2441 [==============================] - 0s 186us/step - loss: 2.0286 - val_loss: 23.9377\b\b\b\b\b\b\b\b\b\b\b\b\b\b\b\b\b\b\b\b\b\b\b\b\b\b\b\b\b\b\b\b\b\b\b\b\b\b\b\b\b\n",
            "Epoch 64/200\n",
            "2441/2441 [==============================] - 0s 183us/step - loss: 1.9448 - val_loss: 23.0642\b\b\b\b\b\b\b\b\b\b\b\b\b\b\b\b\b\b\b\b\b\b\b\b\b\b\b\b\b\b\b\b\b\b\b\b\b\b\b\b\b\n",
            "Epoch 65/200\n",
            "2441/2441 [==============================] - 0s 185us/step - loss: 1.8957 - val_loss: 21.9859\b\b\b\b\b\b\b\b\b\b\b\b\b\b\b\b\b\b\b\b\b\b\b\b\b\b\b\b\b\b\b\b\b\b\b\b\b\b\b\b\b\n",
            "Epoch 66/200\n",
            "2441/2441 [==============================] - 0s 183us/step - loss: 1.8967 - val_loss: 21.0285\b\b\b\b\b\b\b\b\b\b\b\b\b\b\b\b\b\b\b\b\b\b\b\b\b\b\b\b\b\b\b\b\b\b\b\b\b\b\b\b\b\n",
            "Epoch 67/200\n",
            "2441/2441 [==============================] - 0s 182us/step - loss: 1.8275 - val_loss: 20.0690\b\b\b\b\b\b\b\b\b\b\b\b\b\b\b\b\b\b\b\b\b\b\b\b\b\b\b\b\b\b\b\b\b\b\b\b\b\b\b\b\b\n",
            "Epoch 68/200\n",
            "2441/2441 [==============================] - 0s 182us/step - loss: 1.7811 - val_loss: 19.2395\b\b\b\b\b\b\b\b\b\b\b\b\b\b\b\b\b\b\b\b\b\b\b\b\b\b\b\b\b\b\b\b\b\b\b\b\b\b\b\b\b\n",
            "Epoch 69/200\n",
            "2441/2441 [==============================] - 0s 182us/step - loss: 1.7074 - val_loss: 18.2382\b\b\b\b\b\b\b\b\b\b\b\b\b\b\b\b\b\b\b\b\b\b\b\b\b\b\b\b\b\b\b\b\b\b\b\b\b\b\b\b\b\n",
            "Epoch 70/200\n",
            "2441/2441 [==============================] - 0s 181us/step - loss: 1.6866 - val_loss: 17.5727\b\b\b\b\b\b\b\b\b\b\b\b\b\b\b\b\b\b\b\b\b\b\b\b\b\b\b\b\b\b\b\b\b\b\b\b\b\b\b\b\b\n",
            "Epoch 71/200\n",
            "2441/2441 [==============================] - 0s 183us/step - loss: 1.6387 - val_loss: 16.6818\b\b\b\b\b\b\b\b\b\b\b\b\b\b\b\b\b\b\b\b\b\b\b\b\b\b\b\b\b\b\b\b\b\b\b\b\b\b\b\b\b\n",
            "Epoch 72/200\n",
            "2441/2441 [==============================] - 0s 182us/step - loss: 1.5744 - val_loss: 15.9755\b\b\b\b\b\b\b\b\b\b\b\b\b\b\b\b\b\b\b\b\b\b\b\b\b\b\b\b\b\b\b\b\b\b\b\b\b\b\b\b\b\n",
            "Epoch 73/200\n",
            "2441/2441 [==============================] - 0s 184us/step - loss: 1.6105 - val_loss: 15.2998\b\b\b\b\b\b\b\b\b\b\b\b\b\b\b\b\b\b\b\b\b\b\b\b\b\b\b\b\b\b\b\b\b\b\b\b\b\b\b\b\b\n",
            "Epoch 74/200\n",
            "2441/2441 [==============================] - 0s 184us/step - loss: 1.5226 - val_loss: 14.6600\b\b\b\b\b\b\b\b\b\b\b\b\b\b\b\b\b\b\b\b\b\b\b\b\b\b\b\b\b\b\b\b\b\b\b\b\b\b\b\b\b\n",
            "Epoch 75/200\n",
            "2441/2441 [==============================] - 0s 183us/step - loss: 1.5429 - val_loss: 14.3547\b\b\b\b\b\b\b\b\b\b\b\b\b\b\b\b\b\b\b\b\b\b\b\b\b\b\b\b\b\b\b\b\b\b\b\b\b\b\b\b\b\n",
            "Epoch 76/200\n",
            "2441/2441 [==============================] - 0s 182us/step - loss: 1.4926 - val_loss: 13.7397\b\b\b\b\b\b\b\b\b\b\b\b\b\b\b\b\b\b\b\b\b\b\b\b\b\b\b\b\b\b\b\b\b\b\b\b\b\b\b\b\b\n",
            "Epoch 77/200\n",
            "2441/2441 [==============================] - 0s 183us/step - loss: 1.5138 - val_loss: 13.3864\b\b\b\b\b\b\b\b\b\b\b\b\b\b\b\b\b\b\b\b\b\b\b\b\b\b\b\b\b\b\b\b\b\b\b\b\b\b\b\b\b\n",
            "Epoch 78/200\n",
            "2441/2441 [==============================] - 0s 182us/step - loss: 1.4597 - val_loss: 13.0227\b\b\b\b\b\b\b\b\b\b\b\b\b\b\b\b\b\b\b\b\b\b\b\b\b\b\b\b\b\b\b\b\b\b\b\b\b\b\b\b\b\n",
            "Epoch 79/200\n",
            "2441/2441 [==============================] - 0s 182us/step - loss: 1.4620 - val_loss: 12.7206\b\b\b\b\b\b\b\b\b\b\b\b\b\b\b\b\b\b\b\b\b\b\b\b\b\b\b\b\b\b\b\b\b\b\b\b\b\b\b\b\b\n",
            "Epoch 80/200\n",
            "2441/2441 [==============================] - 0s 182us/step - loss: 1.4586 - val_loss: 12.3815\b\b\b\b\b\b\b\b\b\b\b\b\b\b\b\b\b\b\b\b\b\b\b\b\b\b\b\b\b\b\b\b\b\b\b\b\b\b\b\b\b\n",
            "Epoch 81/200\n",
            "2441/2441 [==============================] - 0s 184us/step - loss: 1.4704 - val_loss: 12.2403\b\b\b\b\b\b\b\b\b\b\b\b\b\b\b\b\b\b\b\b\b\b\b\b\b\b\b\b\b\b\b\b\b\b\b\b\b\b\b\b\b\n",
            "Epoch 82/200\n",
            "2441/2441 [==============================] - 0s 181us/step - loss: 1.4530 - val_loss: 12.1594\b\b\b\b\b\b\b\b\b\b\b\b\b\b\b\b\b\b\b\b\b\b\b\b\b\b\b\b\b\b\b\b\b\b\b\b\b\b\b\b\b\n",
            "Epoch 83/200\n",
            "2441/2441 [==============================] - 0s 184us/step - loss: 1.4389 - val_loss: 11.6900\b\b\b\b\b\b\b\b\b\b\b\b\b\b\b\b\b\b\b\b\b\b\b\b\b\b\b\b\b\b\b\b\b\b\b\b\b\b\b\b\b\n",
            "Epoch 84/200\n",
            "2441/2441 [==============================] - 0s 182us/step - loss: 1.4647 - val_loss: 11.5824\b\b\b\b\b\b\b\b\b\b\b\b\b\b\b\b\b\b\b\b\b\b\b\b\b\b\b\b\b\b\b\b\b\b\b\b\b\b\b\b\b\n",
            "Epoch 85/200\n",
            "2441/2441 [==============================] - 0s 181us/step - loss: 1.4671 - val_loss: 11.1811\b\b\b\b\b\b\b\b\b\b\b\b\b\b\b\b\b\b\b\b\b\b\b\b\b\b\b\b\b\b\b\b\b\b\b\b\b\b\b\b\b\n",
            "Epoch 86/200\n",
            "2441/2441 [==============================] - 0s 182us/step - loss: 1.4257 - val_loss: 11.0371\b\b\b\b\b\b\b\b\b\b\b\b\b\b\b\b\b\b\b\b\b\b\b\b\b\b\b\b\b\b\b\b\b\b\b\b\b\b\b\b\b\n",
            "Epoch 87/200\n",
            "2441/2441 [==============================] - 0s 182us/step - loss: 1.4312 - val_loss: 10.8517\b\b\b\b\b\b\b\b\b\b\b\b\b\b\b\b\b\b\b\b\b\b\b\b\b\b\b\b\b\b\b\b\b\b\b\b\b\b\b\b\b\n",
            "Epoch 88/200\n",
            "2441/2441 [==============================] - 0s 182us/step - loss: 1.4033 - val_loss: 11.0715\b\b\b\b\b\b\b\b\b\b\b\b\b\b\b\b\b\b\b\b\b\b\b\b\b\b\b\b\b\b\b\b\b\b\b\b\b\b\b\b\b\n",
            "Epoch 89/200\n",
            "2441/2441 [==============================] - 0s 181us/step - loss: 1.3934 - val_loss: 10.4850\b\b\b\b\b\b\b\b\b\b\b\b\b\b\b\b\b\b\b\b\b\b\b\b\b\b\b\b\b\b\b\b\b\b\b\b\b\b\b\b\b\n",
            "Epoch 90/200\n",
            "2441/2441 [==============================] - 0s 183us/step - loss: 1.4340 - val_loss: 10.2677\b\b\b\b\b\b\b\b\b\b\b\b\b\b\b\b\b\b\b\b\b\b\b\b\b\b\b\b\b\b\b\b\b\b\b\b\b\b\b\b\b\n",
            "Epoch 91/200\n",
            "2441/2441 [==============================] - 0s 182us/step - loss: 1.4053 - val_loss: 10.3863\b\b\b\b\b\b\b\b\b\b\b\b\b\b\b\b\b\b\b\b\b\b\b\b\b\b\b\b\b\b\b\b\b\b\b\b\b\b\b\b\b\n",
            "Epoch 92/200\n",
            "2441/2441 [==============================] - 0s 183us/step - loss: 1.3878 - val_loss: 9.9127\b\b\b\b\b\b\b\b\b\b\b\b\b\b\b\b\b\b\b\b\b\b\b\b\b\b\b\b\b\b\b\b\b\b\b\b\b\b\b\b\b\b\n",
            "Epoch 93/200\n",
            "2441/2441 [==============================] - 0s 184us/step - loss: 1.4136 - val_loss: 9.5554\b\b\b\b\b\b\b\b\b\b\b\b\b\b\b\b\b\b\b\b\b\b\b\b\b\b\b\b\b\b\b\b\b\b\b\b\b\b\b\b\b\b\n",
            "Epoch 94/200\n",
            "2441/2441 [==============================] - 0s 182us/step - loss: 1.3568 - val_loss: 9.2980\b\b\b\b\b\b\b\b\b\b\b\b\b\b\b\b\b\b\b\b\b\b\b\b\b\b\b\b\b\b\b\b\b\b\b\b\b\b\b\b\b\b\n",
            "Epoch 95/200\n",
            "2441/2441 [==============================] - 0s 184us/step - loss: 1.3439 - val_loss: 9.1184\b\b\b\b\b\b\b\b\b\b\b\b\b\b\b\b\b\b\b\b\b\b\b\b\b\b\b\b\b\b\b\b\b\b\b\b\b\b\b\b\b\b\n",
            "Epoch 96/200\n",
            "2441/2441 [==============================] - 0s 185us/step - loss: 1.3299 - val_loss: 9.0062\b\b\b\b\b\b\b\b\b\b\b\b\b\b\b\b\b\b\b\b\b\b\b\b\b\b\b\b\b\b\b\b\b\b\b\b\b\b\b\b\b\b\n",
            "Epoch 97/200\n",
            "2441/2441 [==============================] - 0s 182us/step - loss: 1.3680 - val_loss: 8.5401\b\b\b\b\b\b\b\b\b\b\b\b\b\b\b\b\b\b\b\b\b\b\b\b\b\b\b\b\b\b\b\b\b\b\b\b\b\b\b\b\b\b\n",
            "Epoch 98/200\n",
            "2441/2441 [==============================] - 0s 183us/step - loss: 1.3495 - val_loss: 9.5148\b\b\b\b\b\b\b\b\b\b\b\b\b\b\b\b\b\b\b\b\b\b\b\b\b\b\b\b\b\b\b\b\b\b\b\b\b\b\b\b\b\b\n",
            "Epoch 99/200\n",
            "2441/2441 [==============================] - 0s 185us/step - loss: 1.3630 - val_loss: 8.5175\b\b\b\b\b\b\b\b\b\b\b\b\b\b\b\b\b\b\b\b\b\b\b\b\b\b\b\b\b\b\b\b\b\b\b\b\b\b\b\b\b\b\n",
            "Epoch 100/200\n",
            "2441/2441 [==============================] - 0s 184us/step - loss: 1.3372 - val_loss: 8.6085\b\b\b\b\b\b\b\b\b\b\b\b\b\b\b\b\b\b\b\b\b\b\b\b\b\b\b\b\b\b\b\b\b\b\b\b\b\b\b\b\b\b\n",
            "Epoch 101/200\n",
            "2441/2441 [==============================] - 0s 181us/step - loss: 1.3233 - val_loss: 8.0807\b\b\b\b\b\b\b\b\b\b\b\b\b\b\b\b\b\b\b\b\b\b\b\b\b\b\b\b\b\b\b\b\b\b\b\b\b\b\b\b\b\b\n",
            "Epoch 102/200\n",
            "2441/2441 [==============================] - 0s 193us/step - loss: 1.2999 - val_loss: 7.7857\b\b\b\b\b\b\b\b\b\b\b\b\b\b\b\b\b\b\b\b\b\b\b\b\b\b\b\b\b\b\b\b\b\b\b\b\b\b\b\b\b\b\n",
            "Epoch 103/200\n",
            "2441/2441 [==============================] - 0s 181us/step - loss: 1.3401 - val_loss: 8.0709\b\b\b\b\b\b\b\b\b\b\b\b\b\b\b\b\b\b\b\b\b\b\b\b\b\b\b\b\b\b\b\b\b\b\b\b\b\b\b\b\b\b\n",
            "Epoch 104/200\n",
            "2441/2441 [==============================] - 0s 183us/step - loss: 1.3185 - val_loss: 7.5256\b\b\b\b\b\b\b\b\b\b\b\b\b\b\b\b\b\b\b\b\b\b\b\b\b\b\b\b\b\b\b\b\b\b\b\b\b\b\b\b\b\b\n",
            "Epoch 105/200\n",
            "2441/2441 [==============================] - 0s 181us/step - loss: 1.2838 - val_loss: 7.3964\b\b\b\b\b\b\b\b\b\b\b\b\b\b\b\b\b\b\b\b\b\b\b\b\b\b\b\b\b\b\b\b\b\b\b\b\b\b\b\b\b\b\n",
            "Epoch 106/200\n",
            "2441/2441 [==============================] - 0s 182us/step - loss: 1.2964 - val_loss: 7.2361\b\b\b\b\b\b\b\b\b\b\b\b\b\b\b\b\b\b\b\b\b\b\b\b\b\b\b\b\b\b\b\b\b\b\b\b\b\b\b\b\b\b\n",
            "Epoch 107/200\n",
            "2441/2441 [==============================] - 0s 182us/step - loss: 1.2994 - val_loss: 7.1150\b\b\b\b\b\b\b\b\b\b\b\b\b\b\b\b\b\b\b\b\b\b\b\b\b\b\b\b\b\b\b\b\b\b\b\b\b\b\b\b\b\b\n",
            "Epoch 108/200\n",
            "2441/2441 [==============================] - 0s 183us/step - loss: 1.3000 - val_loss: 10.4436\b\b\b\b\b\b\b\b\b\b\b\b\b\b\b\b\b\b\b\b\b\b\b\b\b\b\b\b\b\b\b\b\b\b\b\b\b\b\b\b\b\n",
            "Epoch 109/200\n",
            "2441/2441 [==============================] - 0s 183us/step - loss: 1.2821 - val_loss: 10.9547\b\b\b\b\b\b\b\b\b\b\b\b\b\b\b\b\b\b\b\b\b\b\b\b\b\b\b\b\b\b\b\b\b\b\b\b\b\b\b\b\b\n",
            "Epoch 110/200\n",
            "2441/2441 [==============================] - 0s 181us/step - loss: 1.2882 - val_loss: 6.7879\b\b\b\b\b\b\b\b\b\b\b\b\b\b\b\b\b\b\b\b\b\b\b\b\b\b\b\b\b\b\b\b\b\b\b\b\b\b\b\b\b\b\n",
            "Epoch 111/200\n",
            "2441/2441 [==============================] - 0s 182us/step - loss: 1.3106 - val_loss: 8.6232\b\b\b\b\b\b\b\b\b\b\b\b\b\b\b\b\b\b\b\b\b\b\b\b\b\b\b\b\b\b\b\b\b\b\b\b\b\b\b\b\b\b\n",
            "Epoch 112/200\n",
            "2441/2441 [==============================] - 0s 182us/step - loss: 1.2617 - val_loss: 6.5665\b\b\b\b\b\b\b\b\b\b\b\b\b\b\b\b\b\b\b\b\b\b\b\b\b\b\b\b\b\b\b\b\b\b\b\b\b\b\b\b\b\b\n",
            "Epoch 113/200\n",
            "2441/2441 [==============================] - 0s 182us/step - loss: 1.2667 - val_loss: 9.1547\b\b\b\b\b\b\b\b\b\b\b\b\b\b\b\b\b\b\b\b\b\b\b\b\b\b\b\b\b\b\b\b\b\b\b\b\b\b\b\b\b\b\n",
            "Epoch 114/200\n",
            "2441/2441 [==============================] - 0s 183us/step - loss: 1.2637 - val_loss: 6.0973\b\b\b\b\b\b\b\b\b\b\b\b\b\b\b\b\b\b\b\b\b\b\b\b\b\b\b\b\b\b\b\b\b\b\b\b\b\b\b\b\b\b\n",
            "Epoch 115/200\n",
            "2441/2441 [==============================] - 0s 184us/step - loss: 1.2646 - val_loss: 5.8860\b\b\b\b\b\b\b\b\b\b\b\b\b\b\b\b\b\b\b\b\b\b\b\b\b\b\b\b\b\b\b\b\b\b\b\b\b\b\b\b\b\b\n",
            "Epoch 116/200\n",
            "2441/2441 [==============================] - 0s 183us/step - loss: 1.2341 - val_loss: 5.8724\b\b\b\b\b\b\b\b\b\b\b\b\b\b\b\b\b\b\b\b\b\b\b\b\b\b\b\b\b\b\b\b\b\b\b\b\b\b\b\b\b\b\n",
            "Epoch 117/200\n",
            "2441/2441 [==============================] - 0s 183us/step - loss: 1.2576 - val_loss: 5.6070\b\b\b\b\b\b\b\b\b\b\b\b\b\b\b\b\b\b\b\b\b\b\b\b\b\b\b\b\b\b\b\b\b\b\b\b\b\b\b\b\b\b\n",
            "Epoch 118/200\n",
            "2441/2441 [==============================] - 0s 183us/step - loss: 1.2482 - val_loss: 6.7267\b\b\b\b\b\b\b\b\b\b\b\b\b\b\b\b\b\b\b\b\b\b\b\b\b\b\b\b\b\b\b\b\b\b\b\b\b\b\b\b\b\b\n",
            "Epoch 119/200\n",
            "2441/2441 [==============================] - 0s 185us/step - loss: 1.2048 - val_loss: 6.4189\b\b\b\b\b\b\b\b\b\b\b\b\b\b\b\b\b\b\b\b\b\b\b\b\b\b\b\b\b\b\b\b\b\b\b\b\b\b\b\b\b\b\n",
            "Epoch 120/200\n",
            "2441/2441 [==============================] - 0s 183us/step - loss: 1.2275 - val_loss: 7.0575\b\b\b\b\b\b\b\b\b\b\b\b\b\b\b\b\b\b\b\b\b\b\b\b\b\b\b\b\b\b\b\b\b\b\b\b\b\b\b\b\b\b\n",
            "Epoch 121/200\n",
            "2441/2441 [==============================] - 0s 182us/step - loss: 1.2186 - val_loss: 5.1321\b\b\b\b\b\b\b\b\b\b\b\b\b\b\b\b\b\b\b\b\b\b\b\b\b\b\b\b\b\b\b\b\b\b\b\b\b\b\b\b\b\b\n",
            "Epoch 122/200\n",
            "2441/2441 [==============================] - 0s 184us/step - loss: 1.2256 - val_loss: 5.1771\b\b\b\b\b\b\b\b\b\b\b\b\b\b\b\b\b\b\b\b\b\b\b\b\b\b\b\b\b\b\b\b\b\b\b\b\b\b\b\b\b\b\n",
            "Epoch 123/200\n",
            "2441/2441 [==============================] - 0s 186us/step - loss: 1.1711 - val_loss: 4.8147\b\b\b\b\b\b\b\b\b\b\b\b\b\b\b\b\b\b\b\b\b\b\b\b\b\b\b\b\b\b\b\b\b\b\b\b\b\b\b\b\b\b\n",
            "Epoch 124/200\n",
            "2441/2441 [==============================] - 0s 185us/step - loss: 1.2089 - val_loss: 5.0973\b\b\b\b\b\b\b\b\b\b\b\b\b\b\b\b\b\b\b\b\b\b\b\b\b\b\b\b\b\b\b\b\b\b\b\b\b\b\b\b\b\b\n",
            "Epoch 125/200\n",
            "2441/2441 [==============================] - 0s 184us/step - loss: 1.1870 - val_loss: 4.9628\b\b\b\b\b\b\b\b\b\b\b\b\b\b\b\b\b\b\b\b\b\b\b\b\b\b\b\b\b\b\b\b\b\b\b\b\b\b\b\b\b\b\n",
            "Epoch 126/200\n",
            "2441/2441 [==============================] - 0s 183us/step - loss: 1.1766 - val_loss: 4.6456\b\b\b\b\b\b\b\b\b\b\b\b\b\b\b\b\b\b\b\b\b\b\b\b\b\b\b\b\b\b\b\b\b\b\b\b\b\b\b\b\b\b\n",
            "Epoch 127/200\n",
            "2441/2441 [==============================] - 0s 183us/step - loss: 1.2083 - val_loss: 6.0364\b\b\b\b\b\b\b\b\b\b\b\b\b\b\b\b\b\b\b\b\b\b\b\b\b\b\b\b\b\b\b\b\b\b\b\b\b\b\b\b\b\b\n",
            "Epoch 128/200\n",
            "2441/2441 [==============================] - 0s 183us/step - loss: 1.2021 - val_loss: 9.1935\b\b\b\b\b\b\b\b\b\b\b\b\b\b\b\b\b\b\b\b\b\b\b\b\b\b\b\b\b\b\b\b\b\b\b\b\b\b\b\b\b\b\n",
            "Epoch 129/200\n",
            "2441/2441 [==============================] - 0s 182us/step - loss: 1.1669 - val_loss: 5.3898\b\b\b\b\b\b\b\b\b\b\b\b\b\b\b\b\b\b\b\b\b\b\b\b\b\b\b\b\b\b\b\b\b\b\b\b\b\b\b\b\b\b\n",
            "Epoch 130/200\n",
            "2441/2441 [==============================] - 0s 182us/step - loss: 1.1928 - val_loss: 5.2768\b\b\b\b\b\b\b\b\b\b\b\b\b\b\b\b\b\b\b\b\b\b\b\b\b\b\b\b\b\b\b\b\b\b\b\b\b\b\b\b\b\b\n",
            "Epoch 131/200\n",
            "2441/2441 [==============================] - 0s 183us/step - loss: 1.2009 - val_loss: 5.9705\b\b\b\b\b\b\b\b\b\b\b\b\b\b\b\b\b\b\b\b\b\b\b\b\b\b\b\b\b\b\b\b\b\b\b\b\b\b\b\b\b\b\n",
            "Epoch 132/200\n",
            "2441/2441 [==============================] - 0s 183us/step - loss: 1.1632 - val_loss: 4.6640\b\b\b\b\b\b\b\b\b\b\b\b\b\b\b\b\b\b\b\b\b\b\b\b\b\b\b\b\b\b\b\b\b\b\b\b\b\b\b\b\b\b\n",
            "Epoch 133/200\n",
            "2441/2441 [==============================] - 0s 183us/step - loss: 1.1741 - val_loss: 4.0672\b\b\b\b\b\b\b\b\b\b\b\b\b\b\b\b\b\b\b\b\b\b\b\b\b\b\b\b\b\b\b\b\b\b\b\b\b\b\b\b\b\b\n",
            "Epoch 134/200\n",
            "2441/2441 [==============================] - 0s 183us/step - loss: 1.1475 - val_loss: 4.2798\b\b\b\b\b\b\b\b\b\b\b\b\b\b\b\b\b\b\b\b\b\b\b\b\b\b\b\b\b\b\b\b\b\b\b\b\b\b\b\b\b\b\n",
            "Epoch 135/200\n",
            "2441/2441 [==============================] - 0s 184us/step - loss: 1.1862 - val_loss: 4.4364\b\b\b\b\b\b\b\b\b\b\b\b\b\b\b\b\b\b\b\b\b\b\b\b\b\b\b\b\b\b\b\b\b\b\b\b\b\b\b\b\b\b\n",
            "Epoch 136/200\n",
            "2441/2441 [==============================] - 0s 182us/step - loss: 1.1665 - val_loss: 4.0120\b\b\b\b\b\b\b\b\b\b\b\b\b\b\b\b\b\b\b\b\b\b\b\b\b\b\b\b\b\b\b\b\b\b\b\b\b\b\b\b\b\b\n",
            "Epoch 137/200\n",
            "2441/2441 [==============================] - 0s 182us/step - loss: 1.1235 - val_loss: 4.4615\b\b\b\b\b\b\b\b\b\b\b\b\b\b\b\b\b\b\b\b\b\b\b\b\b\b\b\b\b\b\b\b\b\b\b\b\b\b\b\b\b\b\n",
            "Epoch 138/200\n",
            "2441/2441 [==============================] - 0s 181us/step - loss: 1.1599 - val_loss: 6.1882\b\b\b\b\b\b\b\b\b\b\b\b\b\b\b\b\b\b\b\b\b\b\b\b\b\b\b\b\b\b\b\b\b\b\b\b\b\b\b\b\b\b\n",
            "Epoch 139/200\n",
            "2441/2441 [==============================] - 0s 183us/step - loss: 1.1363 - val_loss: 5.2517\b\b\b\b\b\b\b\b\b\b\b\b\b\b\b\b\b\b\b\b\b\b\b\b\b\b\b\b\b\b\b\b\b\b\b\b\b\b\b\b\b\b\n",
            "Epoch 140/200\n",
            "2441/2441 [==============================] - 0s 182us/step - loss: 1.1286 - val_loss: 4.0568\b\b\b\b\b\b\b\b\b\b\b\b\b\b\b\b\b\b\b\b\b\b\b\b\b\b\b\b\b\b\b\b\b\b\b\b\b\b\b\b\b\b\n",
            "Epoch 141/200\n",
            "2441/2441 [==============================] - 0s 185us/step - loss: 1.1653 - val_loss: 3.9698\b\b\b\b\b\b\b\b\b\b\b\b\b\b\b\b\b\b\b\b\b\b\b\b\b\b\b\b\b\b\b\b\b\b\b\b\b\b\b\b\b\b\n",
            "Epoch 142/200\n",
            "2441/2441 [==============================] - 0s 186us/step - loss: 1.1126 - val_loss: 4.7278\b\b\b\b\b\b\b\b\b\b\b\b\b\b\b\b\b\b\b\b\b\b\b\b\b\b\b\b\b\b\b\b\b\b\b\b\b\b\b\b\b\b\n",
            "Epoch 143/200\n",
            "2441/2441 [==============================] - 0s 184us/step - loss: 1.1715 - val_loss: 5.1604\b\b\b\b\b\b\b\b\b\b\b\b\b\b\b\b\b\b\b\b\b\b\b\b\b\b\b\b\b\b\b\b\b\b\b\b\b\b\b\b\b\b\n",
            "Epoch 144/200\n",
            "2441/2441 [==============================] - 0s 182us/step - loss: 1.1414 - val_loss: 3.5207\b\b\b\b\b\b\b\b\b\b\b\b\b\b\b\b\b\b\b\b\b\b\b\b\b\b\b\b\b\b\b\b\b\b\b\b\b\b\b\b\b\b\n",
            "Epoch 145/200\n",
            "2441/2441 [==============================] - 0s 185us/step - loss: 1.0988 - val_loss: 4.4048\b\b\b\b\b\b\b\b\b\b\b\b\b\b\b\b\b\b\b\b\b\b\b\b\b\b\b\b\b\b\b\b\b\b\b\b\b\b\b\b\b\b\n",
            "Epoch 146/200\n",
            "2441/2441 [==============================] - 0s 183us/step - loss: 1.1244 - val_loss: 3.6496\b\b\b\b\b\b\b\b\b\b\b\b\b\b\b\b\b\b\b\b\b\b\b\b\b\b\b\b\b\b\b\b\b\b\b\b\b\b\b\b\b\b\n",
            "Epoch 147/200\n",
            "2441/2441 [==============================] - 0s 182us/step - loss: 1.1459 - val_loss: 5.6196\b\b\b\b\b\b\b\b\b\b\b\b\b\b\b\b\b\b\b\b\b\b\b\b\b\b\b\b\b\b\b\b\b\b\b\b\b\b\b\b\b\b\n",
            "Epoch 148/200\n",
            "2441/2441 [==============================] - 0s 182us/step - loss: 1.1504 - val_loss: 4.1251\b\b\b\b\b\b\b\b\b\b\b\b\b\b\b\b\b\b\b\b\b\b\b\b\b\b\b\b\b\b\b\b\b\b\b\b\b\b\b\b\b\b\n",
            "Epoch 149/200\n",
            "2441/2441 [==============================] - 0s 181us/step - loss: 1.1274 - val_loss: 3.4028\b\b\b\b\b\b\b\b\b\b\b\b\b\b\b\b\b\b\b\b\b\b\b\b\b\b\b\b\b\b\b\b\b\b\b\b\b\b\b\b\b\b\n",
            "Epoch 150/200\n",
            "2441/2441 [==============================] - 0s 184us/step - loss: 1.1302 - val_loss: 3.2696\b\b\b\b\b\b\b\b\b\b\b\b\b\b\b\b\b\b\b\b\b\b\b\b\b\b\b\b\b\b\b\b\b\b\b\b\b\b\b\b\b\b\n",
            "Epoch 151/200\n",
            "2441/2441 [==============================] - 0s 183us/step - loss: 1.1135 - val_loss: 3.3146\b\b\b\b\b\b\b\b\b\b\b\b\b\b\b\b\b\b\b\b\b\b\b\b\b\b\b\b\b\b\b\b\b\b\b\b\b\b\b\b\b\b\n",
            "Epoch 152/200\n",
            "2441/2441 [==============================] - 0s 182us/step - loss: 1.1113 - val_loss: 4.7091\b\b\b\b\b\b\b\b\b\b\b\b\b\b\b\b\b\b\b\b\b\b\b\b\b\b\b\b\b\b\b\b\b\b\b\b\b\b\b\b\b\b\n",
            "Epoch 153/200\n",
            "2441/2441 [==============================] - 0s 183us/step - loss: 1.1031 - val_loss: 3.3905\b\b\b\b\b\b\b\b\b\b\b\b\b\b\b\b\b\b\b\b\b\b\b\b\b\b\b\b\b\b\b\b\b\b\b\b\b\b\b\b\b\b\n",
            "Epoch 154/200\n",
            "2441/2441 [==============================] - 0s 181us/step - loss: 1.1114 - val_loss: 3.9694\b\b\b\b\b\b\b\b\b\b\b\b\b\b\b\b\b\b\b\b\b\b\b\b\b\b\b\b\b\b\b\b\b\b\b\b\b\b\b\b\b\b\n",
            "Epoch 155/200\n",
            "2441/2441 [==============================] - 0s 182us/step - loss: 1.1063 - val_loss: 5.2552\b\b\b\b\b\b\b\b\b\b\b\b\b\b\b\b\b\b\b\b\b\b\b\b\b\b\b\b\b\b\b\b\b\b\b\b\b\b\b\b\b\b\n",
            "Epoch 156/200\n",
            "2441/2441 [==============================] - 0s 181us/step - loss: 1.0956 - val_loss: 3.4622\b\b\b\b\b\b\b\b\b\b\b\b\b\b\b\b\b\b\b\b\b\b\b\b\b\b\b\b\b\b\b\b\b\b\b\b\b\b\b\b\b\b\n",
            "Epoch 157/200\n",
            "2441/2441 [==============================] - 0s 183us/step - loss: 1.1160 - val_loss: 6.6717\b\b\b\b\b\b\b\b\b\b\b\b\b\b\b\b\b\b\b\b\b\b\b\b\b\b\b\b\b\b\b\b\b\b\b\b\b\b\b\b\b\b\n",
            "Epoch 158/200\n",
            "2441/2441 [==============================] - 0s 182us/step - loss: 1.1096 - val_loss: 3.2451\b\b\b\b\b\b\b\b\b\b\b\b\b\b\b\b\b\b\b\b\b\b\b\b\b\b\b\b\b\b\b\b\b\b\b\b\b\b\b\b\b\b\n",
            "Epoch 159/200\n",
            "2441/2441 [==============================] - 0s 181us/step - loss: 1.0797 - val_loss: 3.3901\b\b\b\b\b\b\b\b\b\b\b\b\b\b\b\b\b\b\b\b\b\b\b\b\b\b\b\b\b\b\b\b\b\b\b\b\b\b\b\b\b\b\n",
            "Epoch 160/200\n",
            "2441/2441 [==============================] - 0s 182us/step - loss: 1.1356 - val_loss: 7.0419\b\b\b\b\b\b\b\b\b\b\b\b\b\b\b\b\b\b\b\b\b\b\b\b\b\b\b\b\b\b\b\b\b\b\b\b\b\b\b\b\b\b\n",
            "Epoch 161/200\n",
            "2441/2441 [==============================] - 0s 182us/step - loss: 1.0917 - val_loss: 9.6830\b\b\b\b\b\b\b\b\b\b\b\b\b\b\b\b\b\b\b\b\b\b\b\b\b\b\b\b\b\b\b\b\b\b\b\b\b\b\b\b\b\b\n",
            "Epoch 162/200\n",
            "2441/2441 [==============================] - 0s 182us/step - loss: 1.0901 - val_loss: 6.0740\b\b\b\b\b\b\b\b\b\b\b\b\b\b\b\b\b\b\b\b\b\b\b\b\b\b\b\b\b\b\b\b\b\b\b\b\b\b\b\b\b\b\n",
            "Epoch 163/200\n",
            "2441/2441 [==============================] - 0s 181us/step - loss: 1.1025 - val_loss: 4.5148\b\b\b\b\b\b\b\b\b\b\b\b\b\b\b\b\b\b\b\b\b\b\b\b\b\b\b\b\b\b\b\b\b\b\b\b\b\b\b\b\b\b\n",
            "Epoch 164/200\n",
            "2441/2441 [==============================] - 0s 182us/step - loss: 1.0665 - val_loss: 3.6371\b\b\b\b\b\b\b\b\b\b\b\b\b\b\b\b\b\b\b\b\b\b\b\b\b\b\b\b\b\b\b\b\b\b\b\b\b\b\b\b\b\b\n",
            "Epoch 165/200\n",
            "2441/2441 [==============================] - 0s 182us/step - loss: 1.0641 - val_loss: 3.2199\b\b\b\b\b\b\b\b\b\b\b\b\b\b\b\b\b\b\b\b\b\b\b\b\b\b\b\b\b\b\b\b\b\b\b\b\b\b\b\b\b\b\n",
            "Epoch 166/200\n",
            "2441/2441 [==============================] - 0s 182us/step - loss: 1.0998 - val_loss: 3.1774\b\b\b\b\b\b\b\b\b\b\b\b\b\b\b\b\b\b\b\b\b\b\b\b\b\b\b\b\b\b\b\b\b\b\b\b\b\b\b\b\b\b\n",
            "Epoch 167/200\n",
            "2441/2441 [==============================] - 0s 183us/step - loss: 1.0942 - val_loss: 3.2374\b\b\b\b\b\b\b\b\b\b\b\b\b\b\b\b\b\b\b\b\b\b\b\b\b\b\b\b\b\b\b\b\b\b\b\b\b\b\b\b\b\b\n",
            "Epoch 168/200\n",
            "2441/2441 [==============================] - 0s 183us/step - loss: 1.1294 - val_loss: 3.3198\b\b\b\b\b\b\b\b\b\b\b\b\b\b\b\b\b\b\b\b\b\b\b\b\b\b\b\b\b\b\b\b\b\b\b\b\b\b\b\b\b\b\n",
            "Epoch 169/200\n",
            "2441/2441 [==============================] - 0s 182us/step - loss: 1.0791 - val_loss: 3.0567\b\b\b\b\b\b\b\b\b\b\b\b\b\b\b\b\b\b\b\b\b\b\b\b\b\b\b\b\b\b\b\b\b\b\b\b\b\b\b\b\b\b\n",
            "Epoch 170/200\n",
            "2441/2441 [==============================] - 0s 182us/step - loss: 1.0787 - val_loss: 4.7423\b\b\b\b\b\b\b\b\b\b\b\b\b\b\b\b\b\b\b\b\b\b\b\b\b\b\b\b\b\b\b\b\b\b\b\b\b\b\b\b\b\b\n",
            "Epoch 171/200\n",
            "2441/2441 [==============================] - 0s 182us/step - loss: 1.0760 - val_loss: 7.7909\b\b\b\b\b\b\b\b\b\b\b\b\b\b\b\b\b\b\b\b\b\b\b\b\b\b\b\b\b\b\b\b\b\b\b\b\b\b\b\b\b\b\n",
            "Epoch 172/200\n",
            "2441/2441 [==============================] - 0s 183us/step - loss: 1.0651 - val_loss: 4.7643\b\b\b\b\b\b\b\b\b\b\b\b\b\b\b\b\b\b\b\b\b\b\b\b\b\b\b\b\b\b\b\b\b\b\b\b\b\b\b\b\b\b\n",
            "Epoch 173/200\n",
            "2441/2441 [==============================] - 0s 182us/step - loss: 1.0763 - val_loss: 3.0347\b\b\b\b\b\b\b\b\b\b\b\b\b\b\b\b\b\b\b\b\b\b\b\b\b\b\b\b\b\b\b\b\b\b\b\b\b\b\b\b\b\b\n",
            "Epoch 174/200\n",
            "2441/2441 [==============================] - 0s 181us/step - loss: 1.0726 - val_loss: 2.9049\b\b\b\b\b\b\b\b\b\b\b\b\b\b\b\b\b\b\b\b\b\b\b\b\b\b\b\b\b\b\b\b\b\b\b\b\b\b\b\b\b\b\n",
            "Epoch 175/200\n",
            "2441/2441 [==============================] - 0s 185us/step - loss: 1.0776 - val_loss: 3.1097\b\b\b\b\b\b\b\b\b\b\b\b\b\b\b\b\b\b\b\b\b\b\b\b\b\b\b\b\b\b\b\b\b\b\b\b\b\b\b\b\b\b\n",
            "Epoch 176/200\n",
            "2441/2441 [==============================] - 0s 182us/step - loss: 1.0790 - val_loss: 5.2906\b\b\b\b\b\b\b\b\b\b\b\b\b\b\b\b\b\b\b\b\b\b\b\b\b\b\b\b\b\b\b\b\b\b\b\b\b\b\b\b\b\b\n",
            "Epoch 177/200\n",
            "2441/2441 [==============================] - 0s 181us/step - loss: 1.0508 - val_loss: 4.2075\b\b\b\b\b\b\b\b\b\b\b\b\b\b\b\b\b\b\b\b\b\b\b\b\b\b\b\b\b\b\b\b\b\b\b\b\b\b\b\b\b\b\n",
            "Epoch 178/200\n",
            "2441/2441 [==============================] - 0s 184us/step - loss: 1.0773 - val_loss: 2.8356\b\b\b\b\b\b\b\b\b\b\b\b\b\b\b\b\b\b\b\b\b\b\b\b\b\b\b\b\b\b\b\b\b\b\b\b\b\b\b\b\b\b\n",
            "Epoch 179/200\n",
            "2441/2441 [==============================] - 0s 182us/step - loss: 1.0379 - val_loss: 3.4073\b\b\b\b\b\b\b\b\b\b\b\b\b\b\b\b\b\b\b\b\b\b\b\b\b\b\b\b\b\b\b\b\b\b\b\b\b\b\b\b\b\b\n",
            "Epoch 180/200\n",
            "2441/2441 [==============================] - 0s 183us/step - loss: 1.0819 - val_loss: 3.6039\b\b\b\b\b\b\b\b\b\b\b\b\b\b\b\b\b\b\b\b\b\b\b\b\b\b\b\b\b\b\b\b\b\b\b\b\b\b\b\b\b\b\n",
            "Epoch 181/200\n",
            "2441/2441 [==============================] - 0s 181us/step - loss: 1.0516 - val_loss: 2.9782\b\b\b\b\b\b\b\b\b\b\b\b\b\b\b\b\b\b\b\b\b\b\b\b\b\b\b\b\b\b\b\b\b\b\b\b\b\b\b\b\b\b\n",
            "Epoch 182/200\n",
            "2441/2441 [==============================] - 0s 189us/step - loss: 1.1013 - val_loss: 3.0795\b\b\b\b\b\b\b\b\b\b\b\b\b\b\b\b\b\b\b\b\b\b\b\b\b\b\b\b\b\b\b\b\b\b\b\b\b\b\b\b\b\b\n",
            "Epoch 183/200\n",
            "2441/2441 [==============================] - 0s 181us/step - loss: 1.0751 - val_loss: 3.2518\b\b\b\b\b\b\b\b\b\b\b\b\b\b\b\b\b\b\b\b\b\b\b\b\b\b\b\b\b\b\b\b\b\b\b\b\b\b\b\b\b\b\n",
            "Epoch 184/200\n",
            "2441/2441 [==============================] - 0s 186us/step - loss: 1.0609 - val_loss: 3.0282\b\b\b\b\b\b\b\b\b\b\b\b\b\b\b\b\b\b\b\b\b\b\b\b\b\b\b\b\b\b\b\b\b\b\b\b\b\b\b\b\b\b\n",
            "Epoch 185/200\n",
            "2441/2441 [==============================] - 0s 181us/step - loss: 1.0590 - val_loss: 3.4265\b\b\b\b\b\b\b\b\b\b\b\b\b\b\b\b\b\b\b\b\b\b\b\b\b\b\b\b\b\b\b\b\b\b\b\b\b\b\b\b\b\b\n",
            "Epoch 186/200\n",
            "2441/2441 [==============================] - 0s 182us/step - loss: 1.0470 - val_loss: 3.3810\b\b\b\b\b\b\b\b\b\b\b\b\b\b\b\b\b\b\b\b\b\b\b\b\b\b\b\b\b\b\b\b\b\b\b\b\b\b\b\b\b\b\n",
            "Epoch 187/200\n",
            "2441/2441 [==============================] - 0s 187us/step - loss: 1.0601 - val_loss: 4.0494\b\b\b\b\b\b\b\b\b\b\b\b\b\b\b\b\b\b\b\b\b\b\b\b\b\b\b\b\b\b\b\b\b\b\b\b\b\b\b\b\b\b\n",
            "Epoch 188/200\n",
            "2441/2441 [==============================] - 0s 183us/step - loss: 1.0410 - val_loss: 4.0352\b\b\b\b\b\b\b\b\b\b\b\b\b\b\b\b\b\b\b\b\b\b\b\b\b\b\b\b\b\b\b\b\b\b\b\b\b\b\b\b\b\b\n",
            "Epoch 189/200\n",
            "2441/2441 [==============================] - 0s 186us/step - loss: 1.0515 - val_loss: 6.6444\b\b\b\b\b\b\b\b\b\b\b\b\b\b\b\b\b\b\b\b\b\b\b\b\b\b\b\b\b\b\b\b\b\b\b\b\b\b\b\b\b\b\n",
            "Epoch 190/200\n",
            "2441/2441 [==============================] - 0s 182us/step - loss: 1.0822 - val_loss: 4.5656\b\b\b\b\b\b\b\b\b\b\b\b\b\b\b\b\b\b\b\b\b\b\b\b\b\b\b\b\b\b\b\b\b\b\b\b\b\b\b\b\b\b\n",
            "Epoch 191/200\n",
            "2441/2441 [==============================] - 0s 186us/step - loss: 1.0513 - val_loss: 3.1763\b\b\b\b\b\b\b\b\b\b\b\b\b\b\b\b\b\b\b\b\b\b\b\b\b\b\b\b\b\b\b\b\b\b\b\b\b\b\b\b\b\b\n",
            "Epoch 192/200\n",
            "2441/2441 [==============================] - 0s 181us/step - loss: 1.0231 - val_loss: 5.4402\b\b\b\b\b\b\b\b\b\b\b\b\b\b\b\b\b\b\b\b\b\b\b\b\b\b\b\b\b\b\b\b\b\b\b\b\b\b\b\b\b\b\n",
            "Epoch 193/200\n",
            "2441/2441 [==============================] - 0s 183us/step - loss: 1.0337 - val_loss: 3.3635\b\b\b\b\b\b\b\b\b\b\b\b\b\b\b\b\b\b\b\b\b\b\b\b\b\b\b\b\b\b\b\b\b\b\b\b\b\b\b\b\b\b\n",
            "Epoch 194/200\n",
            "2441/2441 [==============================] - 0s 182us/step - loss: 1.0693 - val_loss: 3.2518\b\b\b\b\b\b\b\b\b\b\b\b\b\b\b\b\b\b\b\b\b\b\b\b\b\b\b\b\b\b\b\b\b\b\b\b\b\b\b\b\b\b\n",
            "Epoch 195/200\n",
            "2441/2441 [==============================] - 0s 182us/step - loss: 1.0144 - val_loss: 4.5882\b\b\b\b\b\b\b\b\b\b\b\b\b\b\b\b\b\b\b\b\b\b\b\b\b\b\b\b\b\b\b\b\b\b\b\b\b\b\b\b\b\b\n",
            "Epoch 196/200\n",
            "2441/2441 [==============================] - 0s 181us/step - loss: 1.0581 - val_loss: 2.8805\b\b\b\b\b\b\b\b\b\b\b\b\b\b\b\b\b\b\b\b\b\b\b\b\b\b\b\b\b\b\b\b\b\b\b\b\b\b\b\b\b\b\n",
            "Epoch 197/200\n",
            "2441/2441 [==============================] - 0s 181us/step - loss: 1.0553 - val_loss: 3.1523\b\b\b\b\b\b\b\b\b\b\b\b\b\b\b\b\b\b\b\b\b\b\b\b\b\b\b\b\b\b\b\b\b\b\b\b\b\b\b\b\b\b\n",
            "Epoch 198/200\n",
            "2441/2441 [==============================] - 0s 182us/step - loss: 1.0447 - val_loss: 3.7518\b\b\b\b\b\b\b\b\b\b\b\b\b\b\b\b\b\b\b\b\b\b\b\b\b\b\b\b\b\b\b\b\b\b\b\b\b\b\b\b\b\b\n",
            "Epoch 199/200\n",
            "2441/2441 [==============================] - 0s 183us/step - loss: 1.0461 - val_loss: 2.9583\b\b\b\b\b\b\b\b\b\b\b\b\b\b\b\b\b\b\b\b\b\b\b\b\b\b\b\b\b\b\b\b\b\b\b\b\b\b\b\b\b\b\n",
            "Epoch 200/200\n",
            "2441/2441 [==============================] - 0s 182us/step - loss: 1.0729 - val_loss: 5.2178\b\b\b\b\b\b\b\b\b\b\b\b\b\b\b\b\b\b\b\b\b\b\b\b\b\b\b\b\b\b\b\b\b\b\b\b\b\b\b\b\b\b\n"
          ]
        },
        {
          "output_type": "execute_result",
          "execution_count": 99,
          "data": {
            "text/plain": "<keras.callbacks.callbacks.History at 0x7feee6f5ea90>"
          },
          "metadata": {}
        }
      ],
      "execution_count": 99,
      "metadata": {
        "collapsed": true,
        "jupyter": {
          "source_hidden": false,
          "outputs_hidden": false
        },
        "nteract": {
          "transient": {
            "deleting": false
          }
        },
        "gather": {
          "logged": 1620930031726
        }
      }
    },
    {
      "cell_type": "code",
      "source": [
        "test_loss = model.evaluate(X_test, y_test)\r\n",
        "predicted = model.predict(X_test)\r\n",
        "test_loss"
      ],
      "outputs": [
        {
          "output_type": "stream",
          "name": "stdout",
          "text": [
            "\r32/56 [================>.............] - ETA: 0s\b\b\b\b\b\b\b\b\b\b\b\b\b\b\b\b\b\b\b\b\b\b\b\b\b\b\b\b\b\b\b\b\b\b\b\b\b\b\b\b\b\b\b\b\b\b\b\b\r",
            "56/56 [==============================] - 0s 113us/step\n"
          ]
        },
        {
          "output_type": "execute_result",
          "execution_count": 100,
          "data": {
            "text/plain": "6.0367240224565775"
          },
          "metadata": {}
        }
      ],
      "execution_count": 100,
      "metadata": {
        "collapsed": true,
        "jupyter": {
          "source_hidden": false,
          "outputs_hidden": false
        },
        "nteract": {
          "transient": {
            "deleting": false
          }
        },
        "gather": {
          "logged": 1620930233098
        }
      }
    },
    {
      "cell_type": "markdown",
      "source": [
        "### Final Note on CNN\r\n",
        "\r\n",
        "So maybe it's only one run, but it didn't seem to help by filtering out and pooling some data, to reduce the error.\r\n",
        "It's also very small margin of error, and to improve it below the level of 2$ should be a daunting task anyway.\r\n",
        "\r\n",
        "### Generic Notes\r\n",
        "\r\n",
        "After data filtering and pruning to more relevant days, most of the models generalized and got the trends well, but the double LSTM layer\r\n",
        "with the small recurrent dropout really came as close as it gets. Hence is our winner for this assignment."
      ],
      "metadata": {
        "nteract": {
          "transient": {
            "deleting": false
          }
        }
      }
    }
  ],
  "metadata": {
    "kernelspec": {
      "name": "python3",
      "language": "python",
      "display_name": "Python 3"
    },
    "language_info": {
      "name": "python",
      "version": "3.6.9",
      "mimetype": "text/x-python",
      "codemirror_mode": {
        "name": "ipython",
        "version": 3
      },
      "pygments_lexer": "ipython3",
      "nbconvert_exporter": "python",
      "file_extension": ".py"
    },
    "kernel_info": {
      "name": "python3"
    },
    "nteract": {
      "version": "nteract-front-end@1.0.0"
    },
    "microsoft": {
      "host": {
        "AzureML": {
          "notebookHasBeenCompleted": true
        }
      }
    }
  },
  "nbformat": 4,
  "nbformat_minor": 2
}